{
 "cells": [
  {
   "cell_type": "markdown",
   "metadata": {},
   "source": [
    "# Exercises: Modify the dataset"
   ]
  },
  {
   "cell_type": "code",
   "execution_count": 122,
   "metadata": {},
   "outputs": [],
   "source": [
    "import pandas as pd"
   ]
  },
  {
   "cell_type": "code",
   "execution_count": 123,
   "metadata": {},
   "outputs": [],
   "source": [
    "employees = pd.read_json(\"../Data/employees.json\")"
   ]
  },
  {
   "cell_type": "markdown",
   "metadata": {},
   "source": [
    "**Current state of the \"employees\" dataset**\n",
    "\n",
    "Rerun the code block below after each modification you do, to see its current state"
   ]
  },
  {
   "cell_type": "code",
   "execution_count": 138,
   "metadata": {},
   "outputs": [
    {
     "data": {
      "text/html": [
       "<div>\n",
       "<style scoped>\n",
       "    .dataframe tbody tr th:only-of-type {\n",
       "        vertical-align: middle;\n",
       "    }\n",
       "\n",
       "    .dataframe tbody tr th {\n",
       "        vertical-align: top;\n",
       "    }\n",
       "\n",
       "    .dataframe thead th {\n",
       "        text-align: right;\n",
       "    }\n",
       "</style>\n",
       "<table border=\"1\" class=\"dataframe\">\n",
       "  <thead>\n",
       "    <tr style=\"text-align: right;\">\n",
       "      <th></th>\n",
       "      <th>Name</th>\n",
       "      <th>Email</th>\n",
       "      <th>Job title</th>\n",
       "      <th>Salary</th>\n",
       "      <th>Department</th>\n",
       "    </tr>\n",
       "  </thead>\n",
       "  <tbody>\n",
       "    <tr>\n",
       "      <th>0</th>\n",
       "      <td>John Doe</td>\n",
       "      <td>john.doe@mockcompany.com</td>\n",
       "      <td>Sales Director</td>\n",
       "      <td>132000.0</td>\n",
       "      <td>Sales</td>\n",
       "    </tr>\n",
       "    <tr>\n",
       "      <th>1</th>\n",
       "      <td>Jane Smith</td>\n",
       "      <td>jane.smith@mockcompany.com</td>\n",
       "      <td>HR Coordinator</td>\n",
       "      <td>60000.0</td>\n",
       "      <td>Human Resources</td>\n",
       "    </tr>\n",
       "    <tr>\n",
       "      <th>2</th>\n",
       "      <td>Michael Johnson</td>\n",
       "      <td>michael.johnson@mockcompany.com</td>\n",
       "      <td>Software Engineer</td>\n",
       "      <td>110000.0</td>\n",
       "      <td>IT</td>\n",
       "    </tr>\n",
       "    <tr>\n",
       "      <th>3</th>\n",
       "      <td>Sarah Williams</td>\n",
       "      <td>sarah.williams@mockcompany.com</td>\n",
       "      <td>Marketing Specialist</td>\n",
       "      <td>82500.0</td>\n",
       "      <td>Sales</td>\n",
       "    </tr>\n",
       "    <tr>\n",
       "      <th>4</th>\n",
       "      <td>David Brown</td>\n",
       "      <td>david.brown@mockcompany.com</td>\n",
       "      <td>HR Manager</td>\n",
       "      <td>90000.0</td>\n",
       "      <td>Human Resources</td>\n",
       "    </tr>\n",
       "    <tr>\n",
       "      <th>5</th>\n",
       "      <td>Emily Davis</td>\n",
       "      <td>emily.davis@mockcompany.com</td>\n",
       "      <td>IT Support Specialist</td>\n",
       "      <td>55000.0</td>\n",
       "      <td>IT</td>\n",
       "    </tr>\n",
       "    <tr>\n",
       "      <th>6</th>\n",
       "      <td>Jacob Wilson</td>\n",
       "      <td>jacob.wilson@mockcompany.com</td>\n",
       "      <td>Sales Representative</td>\n",
       "      <td>88000.0</td>\n",
       "      <td>Sales</td>\n",
       "    </tr>\n",
       "    <tr>\n",
       "      <th>7</th>\n",
       "      <td>Olivia Moore</td>\n",
       "      <td>olivia.moore@mockcompany.com</td>\n",
       "      <td>Marketing Manager</td>\n",
       "      <td>110000.0</td>\n",
       "      <td>Sales</td>\n",
       "    </tr>\n",
       "    <tr>\n",
       "      <th>8</th>\n",
       "      <td>Ethan Lee</td>\n",
       "      <td>ethan.lee@mockcompany.com</td>\n",
       "      <td>Financial Analyst</td>\n",
       "      <td>93500.0</td>\n",
       "      <td>Sales</td>\n",
       "    </tr>\n",
       "    <tr>\n",
       "      <th>9</th>\n",
       "      <td>Sophia Taylor</td>\n",
       "      <td>sophia.taylor@mockcompany.com</td>\n",
       "      <td>HR Assistant</td>\n",
       "      <td>50000.0</td>\n",
       "      <td>Human Resources</td>\n",
       "    </tr>\n",
       "    <tr>\n",
       "      <th>10</th>\n",
       "      <td>Jennifer Lee</td>\n",
       "      <td>jennifer.lee@mockcompany.com</td>\n",
       "      <td>Software Engineer</td>\n",
       "      <td>100000.0</td>\n",
       "      <td>IT</td>\n",
       "    </tr>\n",
       "    <tr>\n",
       "      <th>11</th>\n",
       "      <td>Anders Svensson</td>\n",
       "      <td>anders.svensson@mockcompany.com</td>\n",
       "      <td>Software Engineer</td>\n",
       "      <td>55000.0</td>\n",
       "      <td>IT</td>\n",
       "    </tr>\n",
       "  </tbody>\n",
       "</table>\n",
       "</div>"
      ],
      "text/plain": [
       "               Name                            Email              Job title  \\\n",
       "0          John Doe         john.doe@mockcompany.com         Sales Director   \n",
       "1        Jane Smith       jane.smith@mockcompany.com         HR Coordinator   \n",
       "2   Michael Johnson  michael.johnson@mockcompany.com      Software Engineer   \n",
       "3    Sarah Williams   sarah.williams@mockcompany.com   Marketing Specialist   \n",
       "4       David Brown      david.brown@mockcompany.com             HR Manager   \n",
       "5       Emily Davis      emily.davis@mockcompany.com  IT Support Specialist   \n",
       "6      Jacob Wilson     jacob.wilson@mockcompany.com   Sales Representative   \n",
       "7      Olivia Moore     olivia.moore@mockcompany.com      Marketing Manager   \n",
       "8         Ethan Lee        ethan.lee@mockcompany.com      Financial Analyst   \n",
       "9     Sophia Taylor    sophia.taylor@mockcompany.com           HR Assistant   \n",
       "10     Jennifer Lee     jennifer.lee@mockcompany.com      Software Engineer   \n",
       "11  Anders Svensson  anders.svensson@mockcompany.com      Software Engineer   \n",
       "\n",
       "      Salary       Department  \n",
       "0   132000.0            Sales  \n",
       "1    60000.0  Human Resources  \n",
       "2   110000.0               IT  \n",
       "3    82500.0            Sales  \n",
       "4    90000.0  Human Resources  \n",
       "5    55000.0               IT  \n",
       "6    88000.0            Sales  \n",
       "7   110000.0            Sales  \n",
       "8    93500.0            Sales  \n",
       "9    50000.0  Human Resources  \n",
       "10  100000.0               IT  \n",
       "11   55000.0               IT  "
      ]
     },
     "execution_count": 138,
     "metadata": {},
     "output_type": "execute_result"
    }
   ],
   "source": [
    "employees"
   ]
  },
  {
   "cell_type": "markdown",
   "metadata": {},
   "source": [
    "**Do the following operations on the \"employees\" dataset:**\n",
    "\n",
    "**OP1:** Create a new column \"name\" which contains the full name (eg. \"John Doe\") for each employee.\n",
    "\n",
    "Result\n",
    "- name\n",
    "- John Doe\n",
    "- Jane Smith\n",
    "- Michael Johnson"
   ]
  },
  {
   "cell_type": "code",
   "execution_count": 125,
   "metadata": {},
   "outputs": [],
   "source": [
    "employees['name'] = employees['first_name'] + \" \" + employees['last_name']"
   ]
  },
  {
   "cell_type": "markdown",
   "metadata": {},
   "source": [
    "**OP2:** Create a new column \"email\" with the following format: firstname.lastname@mockcompany.com\n",
    "Note: email addresses should be all lower case.\n",
    "\n",
    "Result\n",
    "\n",
    "   email\n",
    "\n",
    "   - john.doe@mockcompany.com\n",
    "   - jane.smith@mockcompany.com\n",
    "   - michael.johnson@mockcompany.com"
   ]
  },
  {
   "cell_type": "code",
   "execution_count": 126,
   "metadata": {},
   "outputs": [],
   "source": [
    "employees['email'] = (employees['first_name'] + \".\" + employees['last_name'] + \"@mockcompany.com\").str.lower()"
   ]
  },
  {
   "cell_type": "markdown",
   "metadata": {},
   "source": [
    "**OP3:** Remove the columns \"first_name\" and \"last_name\", and put the columns \"name\" and \"email\" first.\n",
    "\n",
    "Result\n",
    "\n",
    "name |  email |  job_title |  salary |  department |"
   ]
  },
  {
   "cell_type": "code",
   "execution_count": 127,
   "metadata": {},
   "outputs": [],
   "source": [
    "employees.drop(columns=['first_name', 'last_name'], inplace=True)"
   ]
  },
  {
   "cell_type": "code",
   "execution_count": 128,
   "metadata": {},
   "outputs": [],
   "source": [
    "employees = employees[[\"name\",\"email\",\"job_title\",\"salary\",\"department\"]]"
   ]
  },
  {
   "cell_type": "markdown",
   "metadata": {},
   "source": [
    "**OP4:** Update column titles to make the first letter in each title upper case. Also replace the underscore character in \"job_title\" with a space.\n",
    "\n",
    "Result\n",
    "\n",
    "   **Name**   **Email**   **Job title**   **Salary**   **Department**"
   ]
  },
  {
   "cell_type": "code",
   "execution_count": 129,
   "metadata": {},
   "outputs": [],
   "source": [
    "employees.columns = employees.columns.str.replace('_', ' ').str.capitalize()"
   ]
  },
  {
   "cell_type": "markdown",
   "metadata": {},
   "source": [
    "**OP5:** Change the data type of column \"Salary\" to float64."
   ]
  },
  {
   "cell_type": "code",
   "execution_count": 130,
   "metadata": {},
   "outputs": [],
   "source": [
    "employees['Salary'] = employees['Salary'].astype(\"float64\")\n"
   ]
  },
  {
   "cell_type": "code",
   "execution_count": 131,
   "metadata": {},
   "outputs": [
    {
     "name": "stdout",
     "output_type": "stream",
     "text": [
      "<class 'pandas.core.frame.DataFrame'>\n",
      "RangeIndex: 10 entries, 0 to 9\n",
      "Data columns (total 5 columns):\n",
      " #   Column      Non-Null Count  Dtype  \n",
      "---  ------      --------------  -----  \n",
      " 0   Name        10 non-null     object \n",
      " 1   Email       10 non-null     object \n",
      " 2   Job title   10 non-null     object \n",
      " 3   Salary      10 non-null     float64\n",
      " 4   Department  10 non-null     object \n",
      "dtypes: float64(1), object(4)\n",
      "memory usage: 532.0+ bytes\n"
     ]
    }
   ],
   "source": [
    "employees.info()"
   ]
  },
  {
   "cell_type": "markdown",
   "metadata": {},
   "source": [
    "**OP6:** The company decided to give everyone in sales a 10% salary increase. Update the dataset accordingly."
   ]
  },
  {
   "cell_type": "code",
   "execution_count": 132,
   "metadata": {},
   "outputs": [],
   "source": [
    "sales_department = employees.query('Department == \"Sales\"')\n",
    "new_salary_sales_department = sales_department['Salary'] * 1.10\n",
    "employees.loc[employees['Department'] == 'Sales', 'Salary'] = new_salary_sales_department"
   ]
  },
  {
   "cell_type": "markdown",
   "metadata": {},
   "source": [
    "**OP7:** The company hired a new software engineer. Add a new row with appropriate values to the dataset."
   ]
  },
  {
   "cell_type": "code",
   "execution_count": 133,
   "metadata": {},
   "outputs": [],
   "source": [
    "employees.loc[\"10\"] = [\"Jennifer Lee\",\"jennifer.lee@mockcompany.com\",\"Software Engineer\",100000,\"IT\"]"
   ]
  },
  {
   "cell_type": "code",
   "execution_count": 137,
   "metadata": {},
   "outputs": [],
   "source": [
    "employee_name = input(\"Name of new employee: \").title()\n",
    "employee_salary = float(input(\"Salary of new employee: \"))\n",
    "new_employee = [employee_name, employee_name.lower().replace( \" \", \".\") + \"@mockcompany.com\", \"Software Engineer\", employee_salary, \"IT\"]\n",
    "employees.loc[len(employees)] = new_employee"
   ]
  }
 ],
 "metadata": {
  "kernelspec": {
   "display_name": "Data-Processing-Julia-Sjoholm-gqItj4S_",
   "language": "python",
   "name": "python3"
  },
  "language_info": {
   "codemirror_mode": {
    "name": "ipython",
    "version": 3
   },
   "file_extension": ".py",
   "mimetype": "text/x-python",
   "name": "python",
   "nbconvert_exporter": "python",
   "pygments_lexer": "ipython3",
   "version": "3.11.5"
  },
  "orig_nbformat": 4
 },
 "nbformat": 4,
 "nbformat_minor": 2
}
