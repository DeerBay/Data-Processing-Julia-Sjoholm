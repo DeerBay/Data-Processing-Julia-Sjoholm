{
 "cells": [
  {
   "cell_type": "markdown",
   "metadata": {},
   "source": [
    "# Exercises: Filter and query data"
   ]
  },
  {
   "cell_type": "code",
   "execution_count": 1,
   "metadata": {},
   "outputs": [],
   "source": [
    "import pandas as pd\n",
    "autos = pd.read_json(\"../Data/autos.json\")"
   ]
  },
  {
   "cell_type": "markdown",
   "metadata": {},
   "source": [
    "**Q1:** How many cars from Jaguar are in the dataset, and what is the price of the most expensive one?\n",
    "\n",
    "Answer\n",
    "   count=3    price=36000.0"
   ]
  },
  {
   "cell_type": "code",
   "execution_count": 74,
   "metadata": {},
   "outputs": [
    {
     "data": {
      "text/html": [
       "<div>\n",
       "<style scoped>\n",
       "    .dataframe tbody tr th:only-of-type {\n",
       "        vertical-align: middle;\n",
       "    }\n",
       "\n",
       "    .dataframe tbody tr th {\n",
       "        vertical-align: top;\n",
       "    }\n",
       "\n",
       "    .dataframe thead th {\n",
       "        text-align: right;\n",
       "    }\n",
       "</style>\n",
       "<table border=\"1\" class=\"dataframe\">\n",
       "  <thead>\n",
       "    <tr style=\"text-align: right;\">\n",
       "      <th></th>\n",
       "      <th>aspiration</th>\n",
       "      <th>body-style</th>\n",
       "      <th>bore</th>\n",
       "      <th>city-mpg</th>\n",
       "      <th>compression-ratio</th>\n",
       "      <th>curb-weight</th>\n",
       "      <th>drive-wheels</th>\n",
       "      <th>engine-location</th>\n",
       "      <th>engine-size</th>\n",
       "      <th>engine-type</th>\n",
       "      <th>...</th>\n",
       "      <th>make</th>\n",
       "      <th>normalized-losses</th>\n",
       "      <th>num-of-cylinders</th>\n",
       "      <th>num-of-doors</th>\n",
       "      <th>peak-rpm</th>\n",
       "      <th>price</th>\n",
       "      <th>stroke</th>\n",
       "      <th>symboling</th>\n",
       "      <th>wheel-base</th>\n",
       "      <th>width</th>\n",
       "    </tr>\n",
       "  </thead>\n",
       "  <tbody>\n",
       "    <tr>\n",
       "      <th>0</th>\n",
       "      <td>std</td>\n",
       "      <td>convertible</td>\n",
       "      <td>3.47</td>\n",
       "      <td>21</td>\n",
       "      <td>9.0</td>\n",
       "      <td>2548</td>\n",
       "      <td>rwd</td>\n",
       "      <td>front</td>\n",
       "      <td>130</td>\n",
       "      <td>dohc</td>\n",
       "      <td>...</td>\n",
       "      <td>alfa-romero</td>\n",
       "      <td>NaN</td>\n",
       "      <td>four</td>\n",
       "      <td>two</td>\n",
       "      <td>5000.0</td>\n",
       "      <td>13495.0</td>\n",
       "      <td>2.68</td>\n",
       "      <td>3</td>\n",
       "      <td>88.6</td>\n",
       "      <td>64.1</td>\n",
       "    </tr>\n",
       "    <tr>\n",
       "      <th>1</th>\n",
       "      <td>std</td>\n",
       "      <td>convertible</td>\n",
       "      <td>3.47</td>\n",
       "      <td>21</td>\n",
       "      <td>9.0</td>\n",
       "      <td>2548</td>\n",
       "      <td>rwd</td>\n",
       "      <td>front</td>\n",
       "      <td>130</td>\n",
       "      <td>dohc</td>\n",
       "      <td>...</td>\n",
       "      <td>alfa-romero</td>\n",
       "      <td>NaN</td>\n",
       "      <td>four</td>\n",
       "      <td>two</td>\n",
       "      <td>5000.0</td>\n",
       "      <td>16500.0</td>\n",
       "      <td>2.68</td>\n",
       "      <td>3</td>\n",
       "      <td>88.6</td>\n",
       "      <td>64.1</td>\n",
       "    </tr>\n",
       "    <tr>\n",
       "      <th>2</th>\n",
       "      <td>std</td>\n",
       "      <td>hatchback</td>\n",
       "      <td>2.68</td>\n",
       "      <td>19</td>\n",
       "      <td>9.0</td>\n",
       "      <td>2823</td>\n",
       "      <td>rwd</td>\n",
       "      <td>front</td>\n",
       "      <td>152</td>\n",
       "      <td>ohcv</td>\n",
       "      <td>...</td>\n",
       "      <td>alfa-romero</td>\n",
       "      <td>NaN</td>\n",
       "      <td>six</td>\n",
       "      <td>two</td>\n",
       "      <td>5000.0</td>\n",
       "      <td>16500.0</td>\n",
       "      <td>3.47</td>\n",
       "      <td>1</td>\n",
       "      <td>94.5</td>\n",
       "      <td>65.5</td>\n",
       "    </tr>\n",
       "  </tbody>\n",
       "</table>\n",
       "<p>3 rows × 26 columns</p>\n",
       "</div>"
      ],
      "text/plain": [
       "  aspiration   body-style  bore  city-mpg  compression-ratio  curb-weight  \\\n",
       "0        std  convertible  3.47        21                9.0         2548   \n",
       "1        std  convertible  3.47        21                9.0         2548   \n",
       "2        std    hatchback  2.68        19                9.0         2823   \n",
       "\n",
       "  drive-wheels engine-location  engine-size engine-type  ...         make  \\\n",
       "0          rwd           front          130        dohc  ...  alfa-romero   \n",
       "1          rwd           front          130        dohc  ...  alfa-romero   \n",
       "2          rwd           front          152        ohcv  ...  alfa-romero   \n",
       "\n",
       "  normalized-losses  num-of-cylinders  num-of-doors  peak-rpm    price stroke  \\\n",
       "0               NaN              four           two    5000.0  13495.0   2.68   \n",
       "1               NaN              four           two    5000.0  16500.0   2.68   \n",
       "2               NaN               six           two    5000.0  16500.0   3.47   \n",
       "\n",
       "   symboling wheel-base width  \n",
       "0          3       88.6  64.1  \n",
       "1          3       88.6  64.1  \n",
       "2          1       94.5  65.5  \n",
       "\n",
       "[3 rows x 26 columns]"
      ]
     },
     "execution_count": 74,
     "metadata": {},
     "output_type": "execute_result"
    }
   ],
   "source": [
    "autos.head(3)"
   ]
  },
  {
   "cell_type": "code",
   "execution_count": 75,
   "metadata": {},
   "outputs": [
    {
     "name": "stdout",
     "output_type": "stream",
     "text": [
      "<class 'pandas.core.frame.DataFrame'>\n",
      "RangeIndex: 205 entries, 0 to 204\n",
      "Data columns (total 26 columns):\n",
      " #   Column             Non-Null Count  Dtype  \n",
      "---  ------             --------------  -----  \n",
      " 0   aspiration         205 non-null    object \n",
      " 1   body-style         205 non-null    object \n",
      " 2   bore               201 non-null    float64\n",
      " 3   city-mpg           205 non-null    int64  \n",
      " 4   compression-ratio  205 non-null    float64\n",
      " 5   curb-weight        205 non-null    int64  \n",
      " 6   drive-wheels       205 non-null    object \n",
      " 7   engine-location    205 non-null    object \n",
      " 8   engine-size        205 non-null    int64  \n",
      " 9   engine-type        205 non-null    object \n",
      " 10  fuel-system        205 non-null    object \n",
      " 11  fuel-type          205 non-null    object \n",
      " 12  height             205 non-null    float64\n",
      " 13  highway-mpg        205 non-null    int64  \n",
      " 14  horsepower         203 non-null    float64\n",
      " 15  length             205 non-null    float64\n",
      " 16  make               205 non-null    object \n",
      " 17  normalized-losses  164 non-null    float64\n",
      " 18  num-of-cylinders   205 non-null    object \n",
      " 19  num-of-doors       203 non-null    object \n",
      " 20  peak-rpm           203 non-null    float64\n",
      " 21  price              201 non-null    float64\n",
      " 22  stroke             201 non-null    float64\n",
      " 23  symboling          205 non-null    int64  \n",
      " 24  wheel-base         205 non-null    float64\n",
      " 25  width              205 non-null    float64\n",
      "dtypes: float64(11), int64(5), object(10)\n",
      "memory usage: 41.8+ KB\n"
     ]
    }
   ],
   "source": [
    "autos.info()"
   ]
  },
  {
   "cell_type": "code",
   "execution_count": 39,
   "metadata": {},
   "outputs": [
    {
     "name": "stdout",
     "output_type": "stream",
     "text": [
      "Answer count= 3 Price = 36000.0\n"
     ]
    }
   ],
   "source": [
    "jaguars = autos.query(\"make == 'jaguar'\")\n",
    "number_of_jaguars = len(jaguars)\n",
    "max_price_jaguar = jaguars['price'].max()\n",
    "most_expensive_jaguar = autos.query(\"make == 'jaguar'\").sort_values('price', ascending=False).head(1)['price']\n",
    "print(f\"Answer count= {number_of_jaguars} Price = {max_price_jaguar}\")"
   ]
  },
  {
   "cell_type": "markdown",
   "metadata": {},
   "source": [
    "**Q2:** How many cars from Toyota are in the dataset, and what is the price of the most expensive one?"
   ]
  },
  {
   "cell_type": "code",
   "execution_count": 49,
   "metadata": {},
   "outputs": [
    {
     "name": "stdout",
     "output_type": "stream",
     "text": [
      "Answer count= 32 Price = 17669.0\n"
     ]
    }
   ],
   "source": [
    "toyotas = autos.query(\"make == 'toyota'\")\n",
    "number_of_toyotas = len(toyotas)\n",
    "max_price_toyotas = toyotas['price'].max()\n",
    "print(f\"Answer count= {number_of_toyotas} Price = {max_price_toyotas}\")"
   ]
  },
  {
   "cell_type": "markdown",
   "metadata": {},
   "source": [
    "**Q3:** What is the length, width and height of the most expensive car in the entire dataset?"
   ]
  },
  {
   "cell_type": "code",
   "execution_count": 73,
   "metadata": {},
   "outputs": [
    {
     "name": "stdout",
     "output_type": "stream",
     "text": [
      "Length=199.2\twidth=72.0\theight=55.4 \n"
     ]
    }
   ],
   "source": [
    "sorted_by_value = autos.sort_values(by='price', ascending=False)\n",
    "most_expensive_car = sorted_by_value.iloc[0]\n",
    "print(f\"Length={most_expensive_car['length']}\\twidth={most_expensive_car['width']}\\theight={most_expensive_car['height']} \")"
   ]
  },
  {
   "cell_type": "markdown",
   "metadata": {},
   "source": [
    "**Q4:** What is the lowest price per horsepower in the dataset, and what brand (\"make\") is that car?"
   ]
  },
  {
   "cell_type": "code",
   "execution_count": 85,
   "metadata": {},
   "outputs": [
    {
     "name": "stdout",
     "output_type": "stream",
     "text": [
      "The brand with the lowest price per horsepower is toyota with a price per horsepower of 72.84.\n"
     ]
    }
   ],
   "source": [
    "# Assuming 'autos' is your DataFrame containing the data\n",
    "\n",
    "# Calculate price per horsepower and find the row with the lowest price per horsepower\n",
    "lowest_price_per_hp_row = autos.loc[(autos['price'] / autos['horsepower']).idxmin()]\n",
    "\n",
    "# Extract brand and price per horsepower value\n",
    "brand = lowest_price_per_hp_row['make']\n",
    "lowest_price_per_horsepower = lowest_price_per_hp_row['price'] / lowest_price_per_hp_row['horsepower']\n",
    "\n",
    "print(f\"The brand with the lowest price per horsepower is {brand} price per horsepower={lowest_price_per_horsepower:.2f}.\")\n"
   ]
  },
  {
   "cell_type": "markdown",
   "metadata": {},
   "source": [
    "**Q5:** How many of the cars in the dataset has as many cylinders as they have doors?\n"
   ]
  },
  {
   "cell_type": "code",
   "execution_count": 118,
   "metadata": {},
   "outputs": [
    {
     "name": "stdout",
     "output_type": "stream",
     "text": [
      "car=95\n",
      "['four' 'two']\n",
      "['four' 'two']\n"
     ]
    },
    {
     "data": {
      "text/html": [
       "<div>\n",
       "<style scoped>\n",
       "    .dataframe tbody tr th:only-of-type {\n",
       "        vertical-align: middle;\n",
       "    }\n",
       "\n",
       "    .dataframe tbody tr th {\n",
       "        vertical-align: top;\n",
       "    }\n",
       "\n",
       "    .dataframe thead th {\n",
       "        text-align: right;\n",
       "    }\n",
       "</style>\n",
       "<table border=\"1\" class=\"dataframe\">\n",
       "  <thead>\n",
       "    <tr style=\"text-align: right;\">\n",
       "      <th></th>\n",
       "      <th>aspiration</th>\n",
       "      <th>body-style</th>\n",
       "      <th>bore</th>\n",
       "      <th>city-mpg</th>\n",
       "      <th>compression-ratio</th>\n",
       "      <th>curb-weight</th>\n",
       "      <th>drive-wheels</th>\n",
       "      <th>engine-location</th>\n",
       "      <th>engine-size</th>\n",
       "      <th>engine-type</th>\n",
       "      <th>...</th>\n",
       "      <th>make</th>\n",
       "      <th>normalized-losses</th>\n",
       "      <th>num-of-cylinders</th>\n",
       "      <th>num-of-doors</th>\n",
       "      <th>peak-rpm</th>\n",
       "      <th>price</th>\n",
       "      <th>stroke</th>\n",
       "      <th>symboling</th>\n",
       "      <th>wheel-base</th>\n",
       "      <th>width</th>\n",
       "    </tr>\n",
       "  </thead>\n",
       "  <tbody>\n",
       "    <tr>\n",
       "      <th>55</th>\n",
       "      <td>std</td>\n",
       "      <td>hatchback</td>\n",
       "      <td>NaN</td>\n",
       "      <td>17</td>\n",
       "      <td>9.4</td>\n",
       "      <td>2380</td>\n",
       "      <td>rwd</td>\n",
       "      <td>front</td>\n",
       "      <td>70</td>\n",
       "      <td>rotor</td>\n",
       "      <td>...</td>\n",
       "      <td>mazda</td>\n",
       "      <td>150.0</td>\n",
       "      <td>two</td>\n",
       "      <td>two</td>\n",
       "      <td>6000.0</td>\n",
       "      <td>10945.0</td>\n",
       "      <td>NaN</td>\n",
       "      <td>3</td>\n",
       "      <td>95.3</td>\n",
       "      <td>65.7</td>\n",
       "    </tr>\n",
       "    <tr>\n",
       "      <th>56</th>\n",
       "      <td>std</td>\n",
       "      <td>hatchback</td>\n",
       "      <td>NaN</td>\n",
       "      <td>17</td>\n",
       "      <td>9.4</td>\n",
       "      <td>2380</td>\n",
       "      <td>rwd</td>\n",
       "      <td>front</td>\n",
       "      <td>70</td>\n",
       "      <td>rotor</td>\n",
       "      <td>...</td>\n",
       "      <td>mazda</td>\n",
       "      <td>150.0</td>\n",
       "      <td>two</td>\n",
       "      <td>two</td>\n",
       "      <td>6000.0</td>\n",
       "      <td>11845.0</td>\n",
       "      <td>NaN</td>\n",
       "      <td>3</td>\n",
       "      <td>95.3</td>\n",
       "      <td>65.7</td>\n",
       "    </tr>\n",
       "    <tr>\n",
       "      <th>57</th>\n",
       "      <td>std</td>\n",
       "      <td>hatchback</td>\n",
       "      <td>NaN</td>\n",
       "      <td>17</td>\n",
       "      <td>9.4</td>\n",
       "      <td>2385</td>\n",
       "      <td>rwd</td>\n",
       "      <td>front</td>\n",
       "      <td>70</td>\n",
       "      <td>rotor</td>\n",
       "      <td>...</td>\n",
       "      <td>mazda</td>\n",
       "      <td>150.0</td>\n",
       "      <td>two</td>\n",
       "      <td>two</td>\n",
       "      <td>6000.0</td>\n",
       "      <td>13645.0</td>\n",
       "      <td>NaN</td>\n",
       "      <td>3</td>\n",
       "      <td>95.3</td>\n",
       "      <td>65.7</td>\n",
       "    </tr>\n",
       "    <tr>\n",
       "      <th>58</th>\n",
       "      <td>std</td>\n",
       "      <td>hatchback</td>\n",
       "      <td>NaN</td>\n",
       "      <td>16</td>\n",
       "      <td>9.4</td>\n",
       "      <td>2500</td>\n",
       "      <td>rwd</td>\n",
       "      <td>front</td>\n",
       "      <td>80</td>\n",
       "      <td>rotor</td>\n",
       "      <td>...</td>\n",
       "      <td>mazda</td>\n",
       "      <td>150.0</td>\n",
       "      <td>two</td>\n",
       "      <td>two</td>\n",
       "      <td>6000.0</td>\n",
       "      <td>15645.0</td>\n",
       "      <td>NaN</td>\n",
       "      <td>3</td>\n",
       "      <td>95.3</td>\n",
       "      <td>65.7</td>\n",
       "    </tr>\n",
       "  </tbody>\n",
       "</table>\n",
       "<p>4 rows × 26 columns</p>\n",
       "</div>"
      ],
      "text/plain": [
       "   aspiration body-style  bore  city-mpg  compression-ratio  curb-weight  \\\n",
       "55        std  hatchback   NaN        17                9.4         2380   \n",
       "56        std  hatchback   NaN        17                9.4         2380   \n",
       "57        std  hatchback   NaN        17                9.4         2385   \n",
       "58        std  hatchback   NaN        16                9.4         2500   \n",
       "\n",
       "   drive-wheels engine-location  engine-size engine-type  ...   make  \\\n",
       "55          rwd           front           70       rotor  ...  mazda   \n",
       "56          rwd           front           70       rotor  ...  mazda   \n",
       "57          rwd           front           70       rotor  ...  mazda   \n",
       "58          rwd           front           80       rotor  ...  mazda   \n",
       "\n",
       "   normalized-losses  num-of-cylinders  num-of-doors  peak-rpm    price  \\\n",
       "55             150.0               two           two    6000.0  10945.0   \n",
       "56             150.0               two           two    6000.0  11845.0   \n",
       "57             150.0               two           two    6000.0  13645.0   \n",
       "58             150.0               two           two    6000.0  15645.0   \n",
       "\n",
       "   stroke  symboling wheel-base width  \n",
       "55    NaN          3       95.3  65.7  \n",
       "56    NaN          3       95.3  65.7  \n",
       "57    NaN          3       95.3  65.7  \n",
       "58    NaN          3       95.3  65.7  \n",
       "\n",
       "[4 rows x 26 columns]"
      ]
     },
     "execution_count": 118,
     "metadata": {},
     "output_type": "execute_result"
    }
   ],
   "source": [
    "cylinder_equal_doors = autos.query(\"`num-of-cylinders` == @autos['num-of-doors']\")\n",
    "print(f\"car={len(cylinder_equal_doors)}\")\n",
    "\n",
    "print(cylinder_equal_doors['num-of-cylinders'].unique())\n",
    "print(cylinder_equal_doors['num-of-doors'].unique())"
   ]
  }
 ],
 "metadata": {
  "kernelspec": {
   "display_name": "Data-Processing-Julia-Sjoholm-gqItj4S_",
   "language": "python",
   "name": "python3"
  },
  "language_info": {
   "codemirror_mode": {
    "name": "ipython",
    "version": 3
   },
   "file_extension": ".py",
   "mimetype": "text/x-python",
   "name": "python",
   "nbconvert_exporter": "python",
   "pygments_lexer": "ipython3",
   "version": "3.11.5"
  },
  "orig_nbformat": 4
 },
 "nbformat": 4,
 "nbformat_minor": 2
}
