{
 "cells": [
  {
   "cell_type": "markdown",
   "metadata": {},
   "source": [
    "# Working with date and time in Python"
   ]
  },
  {
   "cell_type": "markdown",
   "metadata": {},
   "source": [
    "### Datetime"
   ]
  },
  {
   "cell_type": "code",
   "execution_count": 1,
   "metadata": {},
   "outputs": [],
   "source": [
    "from datetime import datetime, timedelta, date, time"
   ]
  },
  {
   "cell_type": "code",
   "execution_count": 2,
   "metadata": {},
   "outputs": [
    {
     "data": {
      "text/plain": [
       "datetime.datetime"
      ]
     },
     "execution_count": 2,
     "metadata": {},
     "output_type": "execute_result"
    }
   ],
   "source": [
    "now = datetime.now()\n",
    "type(now)"
   ]
  },
  {
   "cell_type": "code",
   "execution_count": 5,
   "metadata": {},
   "outputs": [
    {
     "name": "stdout",
     "output_type": "stream",
     "text": [
      "Now is: 2023-11-10 09:07:15.499407\n",
      "now = datetime.datetime(2023, 11, 10, 9, 7, 15, 499407)\n"
     ]
    }
   ],
   "source": [
    "print(f\"Now is: {now}\")\n",
    "print(f\"{now = }\")"
   ]
  },
  {
   "cell_type": "code",
   "execution_count": 25,
   "metadata": {},
   "outputs": [
    {
     "name": "stdout",
     "output_type": "stream",
     "text": [
      "now.year = 2023\n",
      "now.month = 11\n",
      "now.day = 10\n",
      "now.hour = 9\n",
      "now.minute = 7\n",
      "now.second = 15\n",
      "now.microsecond = 499407\n",
      "now.isocalendar().week = 45\n",
      "now.isocalendar().weekday = 5\n"
     ]
    }
   ],
   "source": [
    "print(f\"{now.year = }\")\n",
    "print(f\"{now.month = }\")\n",
    "print(f\"{now.day = }\")\n",
    "print(f\"{now.hour = }\")\n",
    "print(f\"{now.minute = }\")\n",
    "print(f\"{now.second = }\")\n",
    "print(f\"{now.microsecond = }\")\n",
    "print(f\"{now.isocalendar().week = }\")\n",
    "print(f\"{now.isocalendar().weekday = }\")"
   ]
  },
  {
   "cell_type": "code",
   "execution_count": 15,
   "metadata": {},
   "outputs": [
    {
     "name": "stdout",
     "output_type": "stream",
     "text": [
      "now.strftime('%Y-%M-%d') ='2023-07-10'\n",
      "now.strftime('Today is a %A in %B') ='Today is a Friday in November'\n"
     ]
    }
   ],
   "source": [
    "#print(f\"{now.year}-{now.month}-{now.day}\")\n",
    "print(f\"{now.strftime('%Y-%M-%d') =}\")\n",
    "print(f\"{now.strftime('Today is a %A in %B') =}\")"
   ]
  },
  {
   "cell_type": "code",
   "execution_count": 23,
   "metadata": {},
   "outputs": [
    {
     "name": "stdout",
     "output_type": "stream",
     "text": [
      "2023-12-24 00:00:00\n"
     ]
    }
   ],
   "source": [
    "christmas = datetime(2023, 12, 24)\n",
    "print(christmas)"
   ]
  },
  {
   "cell_type": "code",
   "execution_count": 24,
   "metadata": {},
   "outputs": [
    {
     "name": "stdout",
     "output_type": "stream",
     "text": [
      "2024-01-01 00:00:00\n"
     ]
    }
   ],
   "source": [
    "new_year = \"2024-01-01\"\n",
    "next_year = datetime.strptime(new_year, \"%Y-%m-%d\")\n",
    "print(next_year)"
   ]
  },
  {
   "cell_type": "code",
   "execution_count": 26,
   "metadata": {},
   "outputs": [
    {
     "name": "stdout",
     "output_type": "stream",
     "text": [
      "2023-11-10\n",
      "09:07:15.499407\n"
     ]
    }
   ],
   "source": [
    "print(now.date())\n",
    "print(now.time())"
   ]
  },
  {
   "cell_type": "markdown",
   "metadata": {},
   "source": [
    "### Timedelta"
   ]
  },
  {
   "cell_type": "code",
   "execution_count": 30,
   "metadata": {},
   "outputs": [
    {
     "data": {
      "text/plain": [
       "datetime.timedelta"
      ]
     },
     "execution_count": 30,
     "metadata": {},
     "output_type": "execute_result"
    }
   ],
   "source": [
    "# Calculating the diff between two datetimes gives us a timedelta object\n",
    "time_until_next_year = next_year - now\n",
    "type(time_until_next_year)"
   ]
  },
  {
   "cell_type": "code",
   "execution_count": 34,
   "metadata": {},
   "outputs": [
    {
     "name": "stdout",
     "output_type": "stream",
     "text": [
      "str(time_until_next_year) = '51 days, 14:52:44.500593'\n",
      "repr(time_until_next_year) = 'datetime.timedelta(days=51, seconds=53564, microseconds=500593)'\n"
     ]
    }
   ],
   "source": [
    "print(f\"{str(time_until_next_year) = }\")\n",
    "print(f\"{repr(time_until_next_year) = }\")"
   ]
  },
  {
   "cell_type": "code",
   "execution_count": 35,
   "metadata": {},
   "outputs": [
    {
     "name": "stdout",
     "output_type": "stream",
     "text": [
      "51 days, 14:25:31.742253\n"
     ]
    }
   ],
   "source": [
    "print(next_year-datetime.now())"
   ]
  },
  {
   "cell_type": "code",
   "execution_count": 39,
   "metadata": {},
   "outputs": [
    {
     "name": "stdout",
     "output_type": "stream",
     "text": [
      "time_until_next_year.days = 51\n",
      "time_until_next_year.seconds = 53564\n",
      "time_until_next_year.microseconds = 500593\n",
      "time_until_next_year.total_seconds()= 4459964.500593\n"
     ]
    }
   ],
   "source": [
    "# Timedelta parts:\n",
    "print(f\"{time_until_next_year.days = }\")\n",
    "print(f\"{time_until_next_year.seconds = }\")\n",
    "print(f\"{time_until_next_year.microseconds = }\")\n",
    "print(f\"{time_until_next_year.total_seconds()= }\")"
   ]
  },
  {
   "cell_type": "code",
   "execution_count": 40,
   "metadata": {},
   "outputs": [
    {
     "data": {
      "text/plain": [
       "datetime.timedelta(days=103, seconds=20729, microseconds=1186)"
      ]
     },
     "execution_count": 40,
     "metadata": {},
     "output_type": "execute_result"
    }
   ],
   "source": [
    "# Arithmetics can be applied on timedelta\n",
    "time_until_next_year * 2"
   ]
  },
  {
   "cell_type": "code",
   "execution_count": 41,
   "metadata": {},
   "outputs": [
    {
     "data": {
      "text/plain": [
       "datetime.datetime(2024, 2, 21, 14, 52, 44, 500593)"
      ]
     },
     "execution_count": 41,
     "metadata": {},
     "output_type": "execute_result"
    }
   ],
   "source": [
    "# Adding (or subtracting) a timedelta to a datetime gives us a new datetime\n",
    "next_year + time_until_next_year"
   ]
  },
  {
   "cell_type": "code",
   "execution_count": 43,
   "metadata": {},
   "outputs": [
    {
     "name": "stdout",
     "output_type": "stream",
     "text": [
      "2023-11-15 09:43:38.704699\n"
     ]
    }
   ],
   "source": [
    "print(datetime.now() + timedelta(5))"
   ]
  },
  {
   "cell_type": "code",
   "execution_count": 44,
   "metadata": {},
   "outputs": [],
   "source": [
    "from dateutil.relativedelta import relativedelta"
   ]
  },
  {
   "cell_type": "code",
   "execution_count": 46,
   "metadata": {},
   "outputs": [
    {
     "name": "stdout",
     "output_type": "stream",
     "text": [
      "2024-04-10 09:47:00.891053\n"
     ]
    }
   ],
   "source": [
    "print(datetime.now() + relativedelta(months=5))"
   ]
  }
 ],
 "metadata": {
  "kernelspec": {
   "display_name": "Data-Processing-Julia-Sjoholm-gqItj4S_",
   "language": "python",
   "name": "python3"
  },
  "language_info": {
   "codemirror_mode": {
    "name": "ipython",
    "version": 3
   },
   "file_extension": ".py",
   "mimetype": "text/x-python",
   "name": "python",
   "nbconvert_exporter": "python",
   "pygments_lexer": "ipython3",
   "version": "3.11.5"
  },
  "orig_nbformat": 4
 },
 "nbformat": 4,
 "nbformat_minor": 2
}
