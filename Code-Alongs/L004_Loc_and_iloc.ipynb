{
 "cells": [
  {
   "cell_type": "markdown",
   "metadata": {},
   "source": [
    "# Loc, iloc and []\n",
    "Pandas supports three types of multi-axis indexing for object selection. Is mostly used for uppdate, add and delete.\n",
    "\n",
    "-**loc** is a methos for label based indexing\n",
    "\n",
    "-**iloc** is a method for integer position based indexing\n",
    "\n",
    "-[columnname] returns the column as a pandas Series object.\n",
    "\n",
    "**Important note:** When slicing, the upper bound is *included* for loc, while *excluded* for iloc."
   ]
  },
  {
   "cell_type": "code",
   "execution_count": 1,
   "metadata": {},
   "outputs": [],
   "source": [
    "import pandas as pd"
   ]
  },
  {
   "cell_type": "code",
   "execution_count": 2,
   "metadata": {},
   "outputs": [
    {
     "data": {
      "text/html": [
       "<div>\n",
       "<style scoped>\n",
       "    .dataframe tbody tr th:only-of-type {\n",
       "        vertical-align: middle;\n",
       "    }\n",
       "\n",
       "    .dataframe tbody tr th {\n",
       "        vertical-align: top;\n",
       "    }\n",
       "\n",
       "    .dataframe thead th {\n",
       "        text-align: right;\n",
       "    }\n",
       "</style>\n",
       "<table border=\"1\" class=\"dataframe\">\n",
       "  <thead>\n",
       "    <tr style=\"text-align: right;\">\n",
       "      <th></th>\n",
       "      <th>Column1</th>\n",
       "      <th>Column2</th>\n",
       "      <th>Column3</th>\n",
       "      <th>Column4</th>\n",
       "    </tr>\n",
       "  </thead>\n",
       "  <tbody>\n",
       "    <tr>\n",
       "      <th>A</th>\n",
       "      <td>A1</td>\n",
       "      <td>A2</td>\n",
       "      <td>A3</td>\n",
       "      <td>A4</td>\n",
       "    </tr>\n",
       "    <tr>\n",
       "      <th>B</th>\n",
       "      <td>B1</td>\n",
       "      <td>B2</td>\n",
       "      <td>B3</td>\n",
       "      <td>B4</td>\n",
       "    </tr>\n",
       "    <tr>\n",
       "      <th>C</th>\n",
       "      <td>C1</td>\n",
       "      <td>C2</td>\n",
       "      <td>C3</td>\n",
       "      <td>C4</td>\n",
       "    </tr>\n",
       "    <tr>\n",
       "      <th>D</th>\n",
       "      <td>D1</td>\n",
       "      <td>D2</td>\n",
       "      <td>D3</td>\n",
       "      <td>D4</td>\n",
       "    </tr>\n",
       "    <tr>\n",
       "      <th>E</th>\n",
       "      <td>E1</td>\n",
       "      <td>E2</td>\n",
       "      <td>E3</td>\n",
       "      <td>E4</td>\n",
       "    </tr>\n",
       "    <tr>\n",
       "      <th>F</th>\n",
       "      <td>F1</td>\n",
       "      <td>F2</td>\n",
       "      <td>F3</td>\n",
       "      <td>F4</td>\n",
       "    </tr>\n",
       "    <tr>\n",
       "      <th>G</th>\n",
       "      <td>G1</td>\n",
       "      <td>G2</td>\n",
       "      <td>G3</td>\n",
       "      <td>G4</td>\n",
       "    </tr>\n",
       "  </tbody>\n",
       "</table>\n",
       "</div>"
      ],
      "text/plain": [
       "  Column1 Column2 Column3 Column4\n",
       "A      A1      A2      A3      A4\n",
       "B      B1      B2      B3      B4\n",
       "C      C1      C2      C3      C4\n",
       "D      D1      D2      D3      D4\n",
       "E      E1      E2      E3      E4\n",
       "F      F1      F2      F3      F4\n",
       "G      G1      G2      G3      G4"
      ]
     },
     "execution_count": 2,
     "metadata": {},
     "output_type": "execute_result"
    }
   ],
   "source": [
    "colummn_values = [f\"Column{i}\" for i in range(1, 5)]\n",
    "index_values = [chr(i) for i in range(65, 72)]\n",
    "\n",
    "df = pd.DataFrame([[f\"{ind}{col}\" for col in range(1, 5)] for ind in index_values],\n",
    "                  index=index_values, columns=colummn_values)\n",
    "\n",
    "df"
   ]
  },
  {
   "cell_type": "code",
   "execution_count": 3,
   "metadata": {},
   "outputs": [
    {
     "data": {
      "text/html": [
       "<div>\n",
       "<style scoped>\n",
       "    .dataframe tbody tr th:only-of-type {\n",
       "        vertical-align: middle;\n",
       "    }\n",
       "\n",
       "    .dataframe tbody tr th {\n",
       "        vertical-align: top;\n",
       "    }\n",
       "\n",
       "    .dataframe thead th {\n",
       "        text-align: right;\n",
       "    }\n",
       "</style>\n",
       "<table border=\"1\" class=\"dataframe\">\n",
       "  <thead>\n",
       "    <tr style=\"text-align: right;\">\n",
       "      <th></th>\n",
       "      <th>Column2</th>\n",
       "      <th>Column4</th>\n",
       "    </tr>\n",
       "  </thead>\n",
       "  <tbody>\n",
       "    <tr>\n",
       "      <th>A</th>\n",
       "      <td>A2</td>\n",
       "      <td>A4</td>\n",
       "    </tr>\n",
       "    <tr>\n",
       "      <th>D</th>\n",
       "      <td>D2</td>\n",
       "      <td>D4</td>\n",
       "    </tr>\n",
       "    <tr>\n",
       "      <th>F</th>\n",
       "      <td>F2</td>\n",
       "      <td>F4</td>\n",
       "    </tr>\n",
       "  </tbody>\n",
       "</table>\n",
       "</div>"
      ],
      "text/plain": [
       "  Column2 Column4\n",
       "A      A2      A4\n",
       "D      D2      D4\n",
       "F      F2      F4"
      ]
     },
     "execution_count": 3,
     "metadata": {},
     "output_type": "execute_result"
    }
   ],
   "source": [
    "# Using no slices, returns the value of single cell\n",
    "df.iloc[1, 0] # Works with negative index\n",
    "\n",
    "# Using slice one one axis returns a pandas Series object\n",
    "df.iloc[1, :] # Full row 1 (\"B\")\n",
    "df.iloc[:, 0] # Full column 0 (\"Column1\")\n",
    "df.iloc[:3, 1] # Only 3 first rows, column 1 (\"Column2\") \n",
    "\n",
    "# Using slice on both axis returns a pandas DataFrame object\n",
    "df.iloc[:2,:2] # return the four cells in the upper left corner\n",
    "df.iloc[2:6, 1:3] # returns col2 and 3, and rows c-f\n",
    "df.iloc[:] # returns a copy of DataFrame\n",
    "\n",
    "# List can be used of slices for either axis\n",
    "df.iloc[[0, 3, 5], [1, 3]]"
   ]
  },
  {
   "cell_type": "code",
   "execution_count": 4,
   "metadata": {},
   "outputs": [
    {
     "data": {
      "text/html": [
       "<div>\n",
       "<style scoped>\n",
       "    .dataframe tbody tr th:only-of-type {\n",
       "        vertical-align: middle;\n",
       "    }\n",
       "\n",
       "    .dataframe tbody tr th {\n",
       "        vertical-align: top;\n",
       "    }\n",
       "\n",
       "    .dataframe thead th {\n",
       "        text-align: right;\n",
       "    }\n",
       "</style>\n",
       "<table border=\"1\" class=\"dataframe\">\n",
       "  <thead>\n",
       "    <tr style=\"text-align: right;\">\n",
       "      <th></th>\n",
       "      <th>Column2</th>\n",
       "      <th>Column4</th>\n",
       "    </tr>\n",
       "  </thead>\n",
       "  <tbody>\n",
       "    <tr>\n",
       "      <th>A</th>\n",
       "      <td>A2</td>\n",
       "      <td>A4</td>\n",
       "    </tr>\n",
       "    <tr>\n",
       "      <th>D</th>\n",
       "      <td>D2</td>\n",
       "      <td>D4</td>\n",
       "    </tr>\n",
       "    <tr>\n",
       "      <th>F</th>\n",
       "      <td>F2</td>\n",
       "      <td>F4</td>\n",
       "    </tr>\n",
       "  </tbody>\n",
       "</table>\n",
       "</div>"
      ],
      "text/plain": [
       "  Column2 Column4\n",
       "A      A2      A4\n",
       "D      D2      D4\n",
       "F      F2      F4"
      ]
     },
     "execution_count": 4,
     "metadata": {},
     "output_type": "execute_result"
    }
   ],
   "source": [
    "# Using no slices, returns the value of single cell\n",
    "df.loc[\"B\", \"Column1\"]\n",
    "\n",
    "\n",
    "# Using slice one one axis returns a pandas Series object\n",
    "df.loc[\"B\", :] # Full row 1 (\"B\")\n",
    "df.loc[:, \"Column1\"] # Full column 0 (\"Column1\")\n",
    "df.loc[:\"C\", \"Column2\"] # Only 3 first rows, column 1 (\"Column2\"), stop value is uncluded in loc \n",
    "\n",
    "# Using slice on both axis returns a pandas DataFrame object\n",
    "df.loc[:\"C\",:\"Column3\"]\n",
    "\n",
    "# Using slice on both axis returns a pandas DataFrame object\n",
    "df.loc[:\"B\",:\"Column2\"] # return the four cells in the upper left corner\n",
    "df.loc[\"C\":\"F\", \"Column2\":\"Column3\"] # returns col2 and 3, and rows c-f\n",
    "df.loc[:, :] # returns a copy of DataFrame\n",
    "\n",
    "\n",
    "# List can be used of slices for either axis\n",
    "df.loc[[\"A\", \"D\", \"F\"], [\"Column2\", \"Column4\"]]"
   ]
  },
  {
   "cell_type": "code",
   "execution_count": 5,
   "metadata": {},
   "outputs": [
    {
     "data": {
      "text/plain": [
       "'D2'"
      ]
     },
     "execution_count": 5,
     "metadata": {},
     "output_type": "execute_result"
    }
   ],
   "source": [
    "# df[colname] returns a column as a pandas Series object\n",
    "df[\"Column2\"]\n",
    "\n",
    "# df[[list of colnames]] returns a new dataframe with the given columns\n",
    "df[[\"Column1\", \"Column4\", \"Column3\", \"Column1\"]]\n",
    "\n",
    "# Series[index] returns a scalar value\n",
    "df[\"Column2\"][\"D\"]\n",
    "\n",
    "# Indexing a dataframe with a list (of columns) returns a dataframe,\n",
    "# so indexing again would be on the new dataframe (Dont do this!).\n",
    "#df[[\"Column1\", \"Column4\", \"Column3\", \"Column1\"]][\"Column3\"]\n"
   ]
  }
 ],
 "metadata": {
  "kernelspec": {
   "display_name": "Data-Processing-Julia-Sjoholm-gqItj4S_",
   "language": "python",
   "name": "python3"
  },
  "language_info": {
   "codemirror_mode": {
    "name": "ipython",
    "version": 3
   },
   "file_extension": ".py",
   "mimetype": "text/x-python",
   "name": "python",
   "nbconvert_exporter": "python",
   "pygments_lexer": "ipython3",
   "version": "3.11.5"
  },
  "orig_nbformat": 4
 },
 "nbformat": 4,
 "nbformat_minor": 2
}
