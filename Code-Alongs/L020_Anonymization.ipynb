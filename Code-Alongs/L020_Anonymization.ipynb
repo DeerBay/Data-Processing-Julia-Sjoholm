{
 "cells": [
  {
   "cell_type": "markdown",
   "metadata": {},
   "source": [
    "- **Pseudonymization:** Replacing identifying *information in such a way that the process can be reversed (with extra information)\n",
    "\n",
    "- **Anonymization:** Replacing identifying information with the *intent* to be fully none-reverseble.\n",
    "\n",
    "### Techniques for anonymization\n",
    "- **Hashing / Crypto:** Fredrik Johansson => fnnwkk4rhn8439u4p39rj3niw54\n",
    "- **Data masking:** fredrik@everyloop.com => f******@******.com\n",
    "- **Generalization:** Age: 34 => Age: 30-40\n",
    "- **Aggregation:** Group and aggregate\n",
    "- **Removing data:** Remove column/columns from dataset."
   ]
  },
  {
   "cell_type": "markdown",
   "metadata": {},
   "source": [
    "# Anonymization with hash\n",
    "\n",
    "- There are many types of hashfunctions (algorithms) example MD5, SHA-128, SHA256.\n",
    "- Used to map data of arbitrary size  to fixed-sized values\n",
    "- The same input always results in the same output (given it's using the same algorithm)\n",
    "- (even) a small change in the input yields a totally fifferent output string.\n",
    "- It's not possible to reverse the process (i.e, given the output hash we can not get the original string back)"
   ]
  },
  {
   "cell_type": "code",
   "execution_count": 10,
   "metadata": {},
   "outputs": [
    {
     "data": {
      "text/plain": [
       "'d22b947784e2fb59e57d66264dce9bb431373687cc19f6e5d8d53d787331f90a'"
      ]
     },
     "execution_count": 10,
     "metadata": {},
     "output_type": "execute_result"
    }
   ],
   "source": [
    "import hashlib as hl\n",
    "\n",
    "text = \"top secret information\".encode('utf-8')\n",
    "\n",
    "hl.sha256(text).hexdigest()"
   ]
  },
  {
   "cell_type": "code",
   "execution_count": 12,
   "metadata": {},
   "outputs": [
    {
     "name": "stdout",
     "output_type": "stream",
     "text": [
      "hl.sha256('Hello world'.encode()).hexdigest() = '64ec88ca00b268e5ba1a35678a1b5316d212f4f366b2477232534a8aeca37f3c'\n",
      "hl.sha256('hello world'.encode()).hexdigest() = 'b94d27b9934d3e08a52e52d7da7dabfac484efe37a5380ee9088f7ace2efcde9'\n"
     ]
    }
   ],
   "source": [
    "print(f\"{hl.sha256('Hello world'.encode()).hexdigest() = }\")\n",
    "print(f\"{hl.sha256('hello world'.encode()).hexdigest() = }\")"
   ]
  },
  {
   "cell_type": "code",
   "execution_count": 13,
   "metadata": {},
   "outputs": [],
   "source": [
    "import pandas as pd"
   ]
  },
  {
   "cell_type": "code",
   "execution_count": 14,
   "metadata": {},
   "outputs": [
    {
     "data": {
      "text/html": [
       "<div>\n",
       "<style scoped>\n",
       "    .dataframe tbody tr th:only-of-type {\n",
       "        vertical-align: middle;\n",
       "    }\n",
       "\n",
       "    .dataframe tbody tr th {\n",
       "        vertical-align: top;\n",
       "    }\n",
       "\n",
       "    .dataframe thead th {\n",
       "        text-align: right;\n",
       "    }\n",
       "</style>\n",
       "<table border=\"1\" class=\"dataframe\">\n",
       "  <thead>\n",
       "    <tr style=\"text-align: right;\">\n",
       "      <th></th>\n",
       "      <th>first_name</th>\n",
       "      <th>last_name</th>\n",
       "      <th>job_title</th>\n",
       "      <th>salary</th>\n",
       "      <th>department</th>\n",
       "    </tr>\n",
       "  </thead>\n",
       "  <tbody>\n",
       "    <tr>\n",
       "      <th>0</th>\n",
       "      <td>John</td>\n",
       "      <td>Doe</td>\n",
       "      <td>Sales Director</td>\n",
       "      <td>120000</td>\n",
       "      <td>Sales</td>\n",
       "    </tr>\n",
       "    <tr>\n",
       "      <th>1</th>\n",
       "      <td>Jane</td>\n",
       "      <td>Smith</td>\n",
       "      <td>HR Coordinator</td>\n",
       "      <td>60000</td>\n",
       "      <td>Human Resources</td>\n",
       "    </tr>\n",
       "    <tr>\n",
       "      <th>2</th>\n",
       "      <td>Michael</td>\n",
       "      <td>Johnson</td>\n",
       "      <td>Software Engineer</td>\n",
       "      <td>110000</td>\n",
       "      <td>IT</td>\n",
       "    </tr>\n",
       "    <tr>\n",
       "      <th>3</th>\n",
       "      <td>Sarah</td>\n",
       "      <td>Williams</td>\n",
       "      <td>Marketing Specialist</td>\n",
       "      <td>75000</td>\n",
       "      <td>Sales</td>\n",
       "    </tr>\n",
       "    <tr>\n",
       "      <th>4</th>\n",
       "      <td>David</td>\n",
       "      <td>Brown</td>\n",
       "      <td>HR Manager</td>\n",
       "      <td>90000</td>\n",
       "      <td>Human Resources</td>\n",
       "    </tr>\n",
       "  </tbody>\n",
       "</table>\n",
       "</div>"
      ],
      "text/plain": [
       "  first_name last_name             job_title  salary       department\n",
       "0       John       Doe        Sales Director  120000            Sales\n",
       "1       Jane     Smith        HR Coordinator   60000  Human Resources\n",
       "2    Michael   Johnson     Software Engineer  110000               IT\n",
       "3      Sarah  Williams  Marketing Specialist   75000            Sales\n",
       "4      David     Brown            HR Manager   90000  Human Resources"
      ]
     },
     "execution_count": 14,
     "metadata": {},
     "output_type": "execute_result"
    }
   ],
   "source": [
    "employees = pd.read_json(\"../Data/employees.json\")\n",
    "employees.head()"
   ]
  },
  {
   "cell_type": "code",
   "execution_count": 16,
   "metadata": {},
   "outputs": [],
   "source": [
    "employees[\"first_name\"] = employees['first_name'].apply(lambda name: hl.sha256(name.encode()).hexdigest())"
   ]
  },
  {
   "cell_type": "code",
   "execution_count": 19,
   "metadata": {},
   "outputs": [
    {
     "name": "stdout",
     "output_type": "stream",
     "text": [
      "a8cfcd74832004951b4408cdb0a5dbcd8c7e52d43f7fe244bf720582e05241da\n"
     ]
    },
    {
     "data": {
      "text/html": [
       "<div>\n",
       "<style scoped>\n",
       "    .dataframe tbody tr th:only-of-type {\n",
       "        vertical-align: middle;\n",
       "    }\n",
       "\n",
       "    .dataframe tbody tr th {\n",
       "        vertical-align: top;\n",
       "    }\n",
       "\n",
       "    .dataframe thead th {\n",
       "        text-align: right;\n",
       "    }\n",
       "</style>\n",
       "<table border=\"1\" class=\"dataframe\">\n",
       "  <thead>\n",
       "    <tr style=\"text-align: right;\">\n",
       "      <th></th>\n",
       "      <th>first_name</th>\n",
       "      <th>last_name</th>\n",
       "      <th>job_title</th>\n",
       "      <th>salary</th>\n",
       "      <th>department</th>\n",
       "    </tr>\n",
       "  </thead>\n",
       "  <tbody>\n",
       "    <tr>\n",
       "      <th>0</th>\n",
       "      <td>a8cfcd74832004951b4408cdb0a5dbcd8c7e52d43f7fe2...</td>\n",
       "      <td>Doe</td>\n",
       "      <td>Sales Director</td>\n",
       "      <td>120000</td>\n",
       "      <td>Sales</td>\n",
       "    </tr>\n",
       "  </tbody>\n",
       "</table>\n",
       "</div>"
      ],
      "text/plain": [
       "                                          first_name last_name  \\\n",
       "0  a8cfcd74832004951b4408cdb0a5dbcd8c7e52d43f7fe2...       Doe   \n",
       "\n",
       "        job_title  salary department  \n",
       "0  Sales Director  120000      Sales  "
      ]
     },
     "execution_count": 19,
     "metadata": {},
     "output_type": "execute_result"
    }
   ],
   "source": [
    "name = input(\"Enter a name: \")\n",
    "name_hash = hl.sha256(name.encode()).hexdigest()\n",
    "print(name_hash)\n",
    "employees.query(\"first_name == @name_hash\")"
   ]
  }
 ],
 "metadata": {
  "kernelspec": {
   "display_name": "Data-Processing-Julia-Sjoholm-gqItj4S_",
   "language": "python",
   "name": "python3"
  },
  "language_info": {
   "codemirror_mode": {
    "name": "ipython",
    "version": 3
   },
   "file_extension": ".py",
   "mimetype": "text/x-python",
   "name": "python",
   "nbconvert_exporter": "python",
   "pygments_lexer": "ipython3",
   "version": "3.11.5"
  },
  "orig_nbformat": 4
 },
 "nbformat": 4,
 "nbformat_minor": 2
}
