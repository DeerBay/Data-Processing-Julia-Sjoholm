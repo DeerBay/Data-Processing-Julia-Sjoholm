{
 "cells": [
  {
   "cell_type": "code",
   "execution_count": 1,
   "metadata": {},
   "outputs": [
    {
     "ename": "OSError",
     "evalue": "Address 'http://127.0.0.1:8050' already in use.\n    Try passing a different port to run_server.",
     "output_type": "error",
     "traceback": [
      "\u001b[1;31m---------------------------------------------------------------------------\u001b[0m",
      "\u001b[1;31mOSError\u001b[0m                                   Traceback (most recent call last)",
      "Cell \u001b[1;32mIn[1], line 40\u001b[0m\n\u001b[0;32m     32\u001b[0m \u001b[39m@callback\u001b[39m(\n\u001b[0;32m     33\u001b[0m     Output(\u001b[39m\"\u001b[39m\u001b[39mmy_H1\u001b[39m\u001b[39m\"\u001b[39m, \u001b[39m\"\u001b[39m\u001b[39mchildren\u001b[39m\u001b[39m\"\u001b[39m),\n\u001b[0;32m     34\u001b[0m     Input(\u001b[39m\"\u001b[39m\u001b[39mmy_button\u001b[39m\u001b[39m\"\u001b[39m, \u001b[39m\"\u001b[39m\u001b[39mn_clicks\u001b[39m\u001b[39m\"\u001b[39m)\n\u001b[0;32m     35\u001b[0m )\n\u001b[0;32m     36\u001b[0m \n\u001b[0;32m     37\u001b[0m \u001b[39mdef\u001b[39;00m \u001b[39mbutton_clicked\u001b[39m(n):\n\u001b[0;32m     38\u001b[0m     \u001b[39mreturn\u001b[39;00m \u001b[39mf\u001b[39m\u001b[39m\"\u001b[39m\u001b[39mButton clicked \u001b[39m\u001b[39m{\u001b[39;00mn\u001b[39m}\u001b[39;00m\u001b[39m times.\u001b[39m\u001b[39m\"\u001b[39m\n\u001b[1;32m---> 40\u001b[0m app\u001b[39m.\u001b[39;49mrun(debug\u001b[39m=\u001b[39;49m\u001b[39mTrue\u001b[39;49;00m)\n",
      "File \u001b[1;32mc:\\Users\\glajusj\\.virtualenvs\\Data-Processing-Julia-Sjoholm-gqItj4S_\\Lib\\site-packages\\dash\\dash.py:2066\u001b[0m, in \u001b[0;36mDash.run\u001b[1;34m(self, host, port, proxy, debug, jupyter_mode, jupyter_width, jupyter_height, jupyter_server_url, dev_tools_ui, dev_tools_props_check, dev_tools_serve_dev_bundles, dev_tools_hot_reload, dev_tools_hot_reload_interval, dev_tools_hot_reload_watch_interval, dev_tools_hot_reload_max_retry, dev_tools_silence_routes_logging, dev_tools_prune_errors, **flask_run_options)\u001b[0m\n\u001b[0;32m   2063\u001b[0m             extra_files\u001b[39m.\u001b[39mappend(path)\n\u001b[0;32m   2065\u001b[0m \u001b[39mif\u001b[39;00m jupyter_dash\u001b[39m.\u001b[39mactive:\n\u001b[1;32m-> 2066\u001b[0m     jupyter_dash\u001b[39m.\u001b[39;49mrun_app(\n\u001b[0;32m   2067\u001b[0m         \u001b[39mself\u001b[39;49m,\n\u001b[0;32m   2068\u001b[0m         mode\u001b[39m=\u001b[39;49mjupyter_mode,\n\u001b[0;32m   2069\u001b[0m         width\u001b[39m=\u001b[39;49mjupyter_width,\n\u001b[0;32m   2070\u001b[0m         height\u001b[39m=\u001b[39;49mjupyter_height,\n\u001b[0;32m   2071\u001b[0m         host\u001b[39m=\u001b[39;49mhost,\n\u001b[0;32m   2072\u001b[0m         port\u001b[39m=\u001b[39;49mport,\n\u001b[0;32m   2073\u001b[0m         server_url\u001b[39m=\u001b[39;49mjupyter_server_url,\n\u001b[0;32m   2074\u001b[0m     )\n\u001b[0;32m   2075\u001b[0m \u001b[39melse\u001b[39;00m:\n\u001b[0;32m   2076\u001b[0m     \u001b[39mself\u001b[39m\u001b[39m.\u001b[39mserver\u001b[39m.\u001b[39mrun(host\u001b[39m=\u001b[39mhost, port\u001b[39m=\u001b[39mport, debug\u001b[39m=\u001b[39mdebug, \u001b[39m*\u001b[39m\u001b[39m*\u001b[39mflask_run_options)\n",
      "File \u001b[1;32mc:\\Users\\glajusj\\.virtualenvs\\Data-Processing-Julia-Sjoholm-gqItj4S_\\Lib\\site-packages\\dash\\_jupyter.py:401\u001b[0m, in \u001b[0;36mJupyterDash.run_app\u001b[1;34m(self, app, mode, width, height, host, port, server_url)\u001b[0m\n\u001b[0;32m    399\u001b[0m     display(HTML(msg))\n\u001b[0;32m    400\u001b[0m \u001b[39melse\u001b[39;00m:\n\u001b[1;32m--> 401\u001b[0m     \u001b[39mraise\u001b[39;00m final_error\n",
      "File \u001b[1;32mc:\\Users\\glajusj\\.virtualenvs\\Data-Processing-Julia-Sjoholm-gqItj4S_\\Lib\\site-packages\\dash\\_jupyter.py:388\u001b[0m, in \u001b[0;36mJupyterDash.run_app\u001b[1;34m(self, app, mode, width, height, host, port, server_url)\u001b[0m\n\u001b[0;32m    385\u001b[0m         \u001b[39mraise\u001b[39;00m err\n\u001b[0;32m    387\u001b[0m \u001b[39mtry\u001b[39;00m:\n\u001b[1;32m--> 388\u001b[0m     wait_for_app()\n\u001b[0;32m    390\u001b[0m     \u001b[39mif\u001b[39;00m \u001b[39mself\u001b[39m\u001b[39m.\u001b[39min_colab:\n\u001b[0;32m    391\u001b[0m         JupyterDash\u001b[39m.\u001b[39m_display_in_colab(dashboard_url, port, mode, width, height)\n",
      "File \u001b[1;32mc:\\Users\\glajusj\\.virtualenvs\\Data-Processing-Julia-Sjoholm-gqItj4S_\\Lib\\site-packages\\retrying.py:56\u001b[0m, in \u001b[0;36mretry.<locals>.wrap.<locals>.wrapped_f\u001b[1;34m(*args, **kw)\u001b[0m\n\u001b[0;32m     54\u001b[0m \u001b[39m@six\u001b[39m\u001b[39m.\u001b[39mwraps(f)\n\u001b[0;32m     55\u001b[0m \u001b[39mdef\u001b[39;00m \u001b[39mwrapped_f\u001b[39m(\u001b[39m*\u001b[39margs, \u001b[39m*\u001b[39m\u001b[39m*\u001b[39mkw):\n\u001b[1;32m---> 56\u001b[0m     \u001b[39mreturn\u001b[39;00m Retrying(\u001b[39m*\u001b[39;49mdargs, \u001b[39m*\u001b[39;49m\u001b[39m*\u001b[39;49mdkw)\u001b[39m.\u001b[39;49mcall(f, \u001b[39m*\u001b[39;49margs, \u001b[39m*\u001b[39;49m\u001b[39m*\u001b[39;49mkw)\n",
      "File \u001b[1;32mc:\\Users\\glajusj\\.virtualenvs\\Data-Processing-Julia-Sjoholm-gqItj4S_\\Lib\\site-packages\\retrying.py:266\u001b[0m, in \u001b[0;36mRetrying.call\u001b[1;34m(self, fn, *args, **kwargs)\u001b[0m\n\u001b[0;32m    263\u001b[0m \u001b[39mif\u001b[39;00m \u001b[39mself\u001b[39m\u001b[39m.\u001b[39mstop(attempt_number, delay_since_first_attempt_ms):\n\u001b[0;32m    264\u001b[0m     \u001b[39mif\u001b[39;00m \u001b[39mnot\u001b[39;00m \u001b[39mself\u001b[39m\u001b[39m.\u001b[39m_wrap_exception \u001b[39mand\u001b[39;00m attempt\u001b[39m.\u001b[39mhas_exception:\n\u001b[0;32m    265\u001b[0m         \u001b[39m# get() on an attempt with an exception should cause it to be raised, but raise just in case\u001b[39;00m\n\u001b[1;32m--> 266\u001b[0m         \u001b[39mraise\u001b[39;00m attempt\u001b[39m.\u001b[39;49mget()\n\u001b[0;32m    267\u001b[0m     \u001b[39melse\u001b[39;00m:\n\u001b[0;32m    268\u001b[0m         \u001b[39mraise\u001b[39;00m RetryError(attempt)\n",
      "File \u001b[1;32mc:\\Users\\glajusj\\.virtualenvs\\Data-Processing-Julia-Sjoholm-gqItj4S_\\Lib\\site-packages\\retrying.py:301\u001b[0m, in \u001b[0;36mAttempt.get\u001b[1;34m(self, wrap_exception)\u001b[0m\n\u001b[0;32m    299\u001b[0m         \u001b[39mraise\u001b[39;00m RetryError(\u001b[39mself\u001b[39m)\n\u001b[0;32m    300\u001b[0m     \u001b[39melse\u001b[39;00m:\n\u001b[1;32m--> 301\u001b[0m         six\u001b[39m.\u001b[39;49mreraise(\u001b[39mself\u001b[39;49m\u001b[39m.\u001b[39;49mvalue[\u001b[39m0\u001b[39;49m], \u001b[39mself\u001b[39;49m\u001b[39m.\u001b[39;49mvalue[\u001b[39m1\u001b[39;49m], \u001b[39mself\u001b[39;49m\u001b[39m.\u001b[39;49mvalue[\u001b[39m2\u001b[39;49m])\n\u001b[0;32m    302\u001b[0m \u001b[39melse\u001b[39;00m:\n\u001b[0;32m    303\u001b[0m     \u001b[39mreturn\u001b[39;00m \u001b[39mself\u001b[39m\u001b[39m.\u001b[39mvalue\n",
      "File \u001b[1;32mc:\\Users\\glajusj\\.virtualenvs\\Data-Processing-Julia-Sjoholm-gqItj4S_\\Lib\\site-packages\\six.py:719\u001b[0m, in \u001b[0;36mreraise\u001b[1;34m(tp, value, tb)\u001b[0m\n\u001b[0;32m    717\u001b[0m     \u001b[39mif\u001b[39;00m value\u001b[39m.\u001b[39m__traceback__ \u001b[39mis\u001b[39;00m \u001b[39mnot\u001b[39;00m tb:\n\u001b[0;32m    718\u001b[0m         \u001b[39mraise\u001b[39;00m value\u001b[39m.\u001b[39mwith_traceback(tb)\n\u001b[1;32m--> 719\u001b[0m     \u001b[39mraise\u001b[39;00m value\n\u001b[0;32m    720\u001b[0m \u001b[39mfinally\u001b[39;00m:\n\u001b[0;32m    721\u001b[0m     value \u001b[39m=\u001b[39m \u001b[39mNone\u001b[39;00m\n",
      "File \u001b[1;32mc:\\Users\\glajusj\\.virtualenvs\\Data-Processing-Julia-Sjoholm-gqItj4S_\\Lib\\site-packages\\retrying.py:251\u001b[0m, in \u001b[0;36mRetrying.call\u001b[1;34m(self, fn, *args, **kwargs)\u001b[0m\n\u001b[0;32m    248\u001b[0m     \u001b[39mself\u001b[39m\u001b[39m.\u001b[39m_before_attempts(attempt_number)\n\u001b[0;32m    250\u001b[0m \u001b[39mtry\u001b[39;00m:\n\u001b[1;32m--> 251\u001b[0m     attempt \u001b[39m=\u001b[39m Attempt(fn(\u001b[39m*\u001b[39;49margs, \u001b[39m*\u001b[39;49m\u001b[39m*\u001b[39;49mkwargs), attempt_number, \u001b[39mFalse\u001b[39;00m)\n\u001b[0;32m    252\u001b[0m \u001b[39mexcept\u001b[39;00m:\n\u001b[0;32m    253\u001b[0m     tb \u001b[39m=\u001b[39m sys\u001b[39m.\u001b[39mexc_info()\n",
      "File \u001b[1;32mc:\\Users\\glajusj\\.virtualenvs\\Data-Processing-Julia-Sjoholm-gqItj4S_\\Lib\\site-packages\\dash\\_jupyter.py:379\u001b[0m, in \u001b[0;36mJupyterDash.run_app.<locals>.wait_for_app\u001b[1;34m()\u001b[0m\n\u001b[0;32m    377\u001b[0m     \u001b[39mif\u001b[39;00m res \u001b[39m!=\u001b[39m \u001b[39m\"\u001b[39m\u001b[39mAlive\u001b[39m\u001b[39m\"\u001b[39m:\n\u001b[0;32m    378\u001b[0m         url \u001b[39m=\u001b[39m \u001b[39mf\u001b[39m\u001b[39m\"\u001b[39m\u001b[39mhttp://\u001b[39m\u001b[39m{\u001b[39;00mhost\u001b[39m}\u001b[39;00m\u001b[39m:\u001b[39m\u001b[39m{\u001b[39;00mport\u001b[39m}\u001b[39;00m\u001b[39m\"\u001b[39m\n\u001b[1;32m--> 379\u001b[0m         \u001b[39mraise\u001b[39;00m \u001b[39mOSError\u001b[39;00m(\n\u001b[0;32m    380\u001b[0m             \u001b[39mf\u001b[39m\u001b[39m\"\u001b[39m\u001b[39mAddress \u001b[39m\u001b[39m'\u001b[39m\u001b[39m{\u001b[39;00murl\u001b[39m}\u001b[39;00m\u001b[39m'\u001b[39m\u001b[39m already in use.\u001b[39m\u001b[39m\\n\u001b[39;00m\u001b[39m\"\u001b[39m\n\u001b[0;32m    381\u001b[0m             \u001b[39m\"\u001b[39m\u001b[39m    Try passing a different port to run_server.\u001b[39m\u001b[39m\"\u001b[39m\n\u001b[0;32m    382\u001b[0m         )\n\u001b[0;32m    383\u001b[0m \u001b[39mexcept\u001b[39;00m requests\u001b[39m.\u001b[39mConnectionError \u001b[39mas\u001b[39;00m err:\n\u001b[0;32m    384\u001b[0m     _get_error()\n",
      "\u001b[1;31mOSError\u001b[0m: Address 'http://127.0.0.1:8050' already in use.\n    Try passing a different port to run_server."
     ]
    }
   ],
   "source": [
    "from dash import Dash, html, dcc, callback, Output, Input\n",
    "import plotly.express as px\n",
    "import pandas as pd\n",
    "\n",
    "df = px.data.gapminder()\n",
    "app = Dash(name=__name__)\n",
    "\n",
    "# my_H1=html.H1(children=\"My Dash App\", style={\"font-family\": 'cursive'}) #\n",
    "# my_H2=html.H2(id=\"my-H2\",children=\"More info ...\") #\n",
    "# my_dropdown = dcc.Dropdown(id=\"my-dropdown\", options=df[\"year\"].unique(), value=2007, style={\"width\":\"300px\"})\n",
    "# my_graph = dcc.Graph(id=\"my-graph\",figure={})\n",
    "# my_button = html.Button(children=\"Click here!\")\n",
    "\n",
    "app.layout = html.Div([\n",
    "    html.H1(id=\"my_H1\", children=\"My Dash App\", style={\"font-family\": 'cursive'}), \n",
    "    html.H2(id=\"my-H2\", children=\"More info ...\"), \n",
    "    dcc.Dropdown(id=\"my-dropdown\", options=df[\"year\"].unique(), value=2007, style={\"width\":\"300px\"}), \n",
    "    dcc.Graph(id=\"my-graph\",figure={}), \n",
    "    html.Button(id=\"my_button\", children=\"Click here!\", n_clicks=0)\n",
    "])\n",
    "\n",
    "@callback(\n",
    "        Output(\"my-H2\", component_property=\"children\"),\n",
    "        Output(\"my-graph\", component_property=\"figure\"),\n",
    "        Input(\"my-dropdown\", component_property=\"value\")\n",
    ")\n",
    "def select_year(year):\n",
    "    text = f\"Life expectancy for: {year}\", \n",
    "    figure = px.strip(df.query('year == @year'), x='lifeExp', y='continent', color='continent')\n",
    "    return text, figure\n",
    "\n",
    "@callback(\n",
    "    Output(\"my_H1\", \"children\"),\n",
    "    Input(\"my_button\", \"n_clicks\")\n",
    ")\n",
    "\n",
    "def button_clicked(n):\n",
    "    return f\"Button clicked {n} times.\"\n",
    "\n",
    "app.run(debug=True)"
   ]
  }
 ],
 "metadata": {
  "kernelspec": {
   "display_name": "Data-Processing-Julia-Sjoholm-gqItj4S_",
   "language": "python",
   "name": "python3"
  },
  "language_info": {
   "codemirror_mode": {
    "name": "ipython",
    "version": 3
   },
   "file_extension": ".py",
   "mimetype": "text/x-python",
   "name": "python",
   "nbconvert_exporter": "python",
   "pygments_lexer": "ipython3",
   "version": "3.11.5"
  },
  "orig_nbformat": 4
 },
 "nbformat": 4,
 "nbformat_minor": 2
}
