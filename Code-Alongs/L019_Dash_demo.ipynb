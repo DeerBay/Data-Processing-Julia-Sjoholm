{
 "cells": [
  {
   "cell_type": "code",
   "execution_count": 25,
   "metadata": {},
   "outputs": [
    {
     "data": {
      "text/html": [
       "\n",
       "        <iframe\n",
       "            width=\"100%\"\n",
       "            height=\"650\"\n",
       "            src=\"http://127.0.0.1:8050/\"\n",
       "            frameborder=\"0\"\n",
       "            allowfullscreen\n",
       "            \n",
       "        ></iframe>\n",
       "        "
      ],
      "text/plain": [
       "<IPython.lib.display.IFrame at 0x1c6c353ca50>"
      ]
     },
     "metadata": {},
     "output_type": "display_data"
    }
   ],
   "source": [
    "from dash import Dash, html, dcc, callback, Output, Input\n",
    "import plotly.express as px\n",
    "import pandas as pd\n",
    "\n",
    "df = px.data.gapminder()\n",
    "app = Dash(name=__name__)\n",
    "\n",
    "# my_H1=html.H1(children=\"My Dash App\", style={\"font-family\": 'cursive'}) #\n",
    "# my_H2=html.H2(id=\"my-H2\",children=\"More info ...\") #\n",
    "# my_dropdown = dcc.Dropdown(id=\"my-dropdown\", options=df[\"year\"].unique(), value=2007, style={\"width\":\"300px\"})\n",
    "# my_graph = dcc.Graph(id=\"my-graph\",figure={})\n",
    "# my_button = html.Button(children=\"Click here!\")\n",
    "\n",
    "app.layout = html.Div([\n",
    "    html.H1(id=\"my_H1\", children=\"My Dash App\", style={\"font-family\": 'cursive'}), \n",
    "    html.H2(id=\"my-H2\", children=\"More info ...\"), \n",
    "    dcc.Dropdown(id=\"my-dropdown\", options=df[\"year\"].unique(), value=2007, style={\"width\":\"300px\"}), \n",
    "    dcc.Graph(id=\"my-graph\",figure={}), \n",
    "    html.Button(id=\"my_button\", children=\"Click here!\", n_clicks=0)\n",
    "])\n",
    "\n",
    "@callback(\n",
    "        Output(\"my-H2\", component_property=\"children\"),\n",
    "        Output(\"my-graph\", component_property=\"figure\"),\n",
    "        Input(\"my-dropdown\", component_property=\"value\")\n",
    ")\n",
    "def select_year(year):\n",
    "    text = f\"Life expectancy for: {year}\", \n",
    "    figure = px.strip(df.query('year == @year'), x='lifeExp', y='continent', color='continent')\n",
    "    return text, figure\n",
    "\n",
    "@callback(\n",
    "    Output(\"my_H1\", \"children\"),\n",
    "    Input(\"my_button\", \"n_clicks\")\n",
    ")\n",
    "\n",
    "def button_clicked(n):\n",
    "    return f\"Button clicked {n} times.\"\n",
    "\n",
    "app.run(debug=True)"
   ]
  }
 ],
 "metadata": {
  "kernelspec": {
   "display_name": "Data-Processing-Julia-Sjoholm-gqItj4S_",
   "language": "python",
   "name": "python3"
  },
  "language_info": {
   "codemirror_mode": {
    "name": "ipython",
    "version": 3
   },
   "file_extension": ".py",
   "mimetype": "text/x-python",
   "name": "python",
   "nbconvert_exporter": "python",
   "pygments_lexer": "ipython3",
   "version": "3.11.5"
  },
  "orig_nbformat": 4
 },
 "nbformat": 4,
 "nbformat_minor": 2
}
