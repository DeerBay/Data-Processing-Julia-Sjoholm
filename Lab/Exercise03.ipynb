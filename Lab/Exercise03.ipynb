{
 "cells": [
  {
   "cell_type": "markdown",
   "metadata": {},
   "source": [
    "# **Task 3 - KPIs & Exploratory Data Analysis**\n",
    "\n",
    "Define 3-6 Key Performance Indicators (KPIs) in addition to those used in the previous tasks and perform exploratory data analysis on multiple sheets in both Excel files. Make sure to document what you are investigating using a combination of markdown and code in the Jupyter notebook. If you are using Python scripts, write markdown alongside the code. Also, document your findings and save all visualizations."
   ]
  },
  {
   "cell_type": "markdown",
   "metadata": {},
   "source": [
    "**1. For Vaccination Data:**\n",
    "\n",
    "1.1 **Vaccination Coverage Rate Municipalities:** The percentage of the population in municipalities that has received at least one dose of the COVID-19 vaccine. Formula: (Number of people vaccinated municipality)."
   ]
  },
  {
   "cell_type": "markdown",
   "metadata": {},
   "source": [
    "**2. For COVID-19 Cases Data:**\n",
    "\n",
    "2.1 **Incidence Rate:** The number of new COVID-19 cases reported in a specific period per 100,000 population.\n",
    "\n",
    "2.2 **Hospitalization Rate:** The percentage of COVID-19 cases that required intensive care. \n",
    "\n",
    "2.3 **Case Fatality Rate (CFR):** The percentage of confirmed COVID-19 cases that resulted in death."
   ]
  },
  {
   "cell_type": "markdown",
   "metadata": {},
   "source": [
    "### Import of libraries needed for exploration"
   ]
  },
  {
   "cell_type": "code",
   "execution_count": 252,
   "metadata": {},
   "outputs": [],
   "source": [
    "import pandas as pd\n",
    "import seaborn as sns\n",
    "import plotly.express as px"
   ]
  },
  {
   "cell_type": "markdown",
   "metadata": {},
   "source": [
    "### **Vaccination Data:**"
   ]
  },
  {
   "cell_type": "markdown",
   "metadata": {},
   "source": [
    "#### 1. **Vaccination Coverage Rate Municipalities:** The percentage of the population in municipalities that has received at least one dose of the COVID-19 vaccine. Formula: (Number of people vaccinated municipality)."
   ]
  },
  {
   "cell_type": "markdown",
   "metadata": {},
   "source": [
    "We start with uploading the sheet with data about vaccinated split on municipalities. Then we sort the dataframe in descending order based on the share of the total population that received dose one."
   ]
  },
  {
   "cell_type": "code",
   "execution_count": 253,
   "metadata": {},
   "outputs": [
    {
     "data": {
      "text/html": [
       "<div>\n",
       "<style scoped>\n",
       "    .dataframe tbody tr th:only-of-type {\n",
       "        vertical-align: middle;\n",
       "    }\n",
       "\n",
       "    .dataframe tbody tr th {\n",
       "        vertical-align: top;\n",
       "    }\n",
       "\n",
       "    .dataframe thead th {\n",
       "        text-align: right;\n",
       "    }\n",
       "</style>\n",
       "<table border=\"1\" class=\"dataframe\">\n",
       "  <thead>\n",
       "    <tr style=\"text-align: right;\">\n",
       "      <th></th>\n",
       "      <th>KnKod</th>\n",
       "      <th>KnNamn</th>\n",
       "      <th>Antal_dos1</th>\n",
       "      <th>Antal_dos2</th>\n",
       "      <th>Andel_dos1</th>\n",
       "      <th>Andel_dos2</th>\n",
       "    </tr>\n",
       "  </thead>\n",
       "  <tbody>\n",
       "    <tr>\n",
       "      <th>187</th>\n",
       "      <td>1761</td>\n",
       "      <td>Hammarö</td>\n",
       "      <td>13046</td>\n",
       "      <td>12916</td>\n",
       "      <td>0.931591</td>\n",
       "      <td>0.922308</td>\n",
       "    </tr>\n",
       "    <tr>\n",
       "      <th>273</th>\n",
       "      <td>2480</td>\n",
       "      <td>Umeå</td>\n",
       "      <td>105536</td>\n",
       "      <td>103798</td>\n",
       "      <td>0.928744</td>\n",
       "      <td>0.913449</td>\n",
       "    </tr>\n",
       "    <tr>\n",
       "      <th>193</th>\n",
       "      <td>1780</td>\n",
       "      <td>Karlstad</td>\n",
       "      <td>77359</td>\n",
       "      <td>76392</td>\n",
       "      <td>0.922324</td>\n",
       "      <td>0.910795</td>\n",
       "    </tr>\n",
       "    <tr>\n",
       "      <th>103</th>\n",
       "      <td>1262</td>\n",
       "      <td>Lomma</td>\n",
       "      <td>19247</td>\n",
       "      <td>18986</td>\n",
       "      <td>0.921218</td>\n",
       "      <td>0.908725</td>\n",
       "    </tr>\n",
       "    <tr>\n",
       "      <th>54</th>\n",
       "      <td>584</td>\n",
       "      <td>Vadstena</td>\n",
       "      <td>6204</td>\n",
       "      <td>6160</td>\n",
       "      <td>0.919929</td>\n",
       "      <td>0.913405</td>\n",
       "    </tr>\n",
       "    <tr>\n",
       "      <th>...</th>\n",
       "      <td>...</td>\n",
       "      <td>...</td>\n",
       "      <td>...</td>\n",
       "      <td>...</td>\n",
       "      <td>...</td>\n",
       "      <td>...</td>\n",
       "    </tr>\n",
       "    <tr>\n",
       "      <th>101</th>\n",
       "      <td>1260</td>\n",
       "      <td>Bjuv</td>\n",
       "      <td>10379</td>\n",
       "      <td>10106</td>\n",
       "      <td>0.764511</td>\n",
       "      <td>0.744402</td>\n",
       "    </tr>\n",
       "    <tr>\n",
       "      <th>97</th>\n",
       "      <td>1231</td>\n",
       "      <td>Burlöv</td>\n",
       "      <td>12720</td>\n",
       "      <td>12388</td>\n",
       "      <td>0.763231</td>\n",
       "      <td>0.743310</td>\n",
       "    </tr>\n",
       "    <tr>\n",
       "      <th>114</th>\n",
       "      <td>1277</td>\n",
       "      <td>Åstorp</td>\n",
       "      <td>10562</td>\n",
       "      <td>10269</td>\n",
       "      <td>0.762985</td>\n",
       "      <td>0.741819</td>\n",
       "    </tr>\n",
       "    <tr>\n",
       "      <th>17</th>\n",
       "      <td>181</td>\n",
       "      <td>Södertälje</td>\n",
       "      <td>62933</td>\n",
       "      <td>59877</td>\n",
       "      <td>0.716744</td>\n",
       "      <td>0.681939</td>\n",
       "    </tr>\n",
       "    <tr>\n",
       "      <th>7</th>\n",
       "      <td>127</td>\n",
       "      <td>Botkyrka</td>\n",
       "      <td>57202</td>\n",
       "      <td>54129</td>\n",
       "      <td>0.705344</td>\n",
       "      <td>0.667452</td>\n",
       "    </tr>\n",
       "  </tbody>\n",
       "</table>\n",
       "<p>290 rows × 6 columns</p>\n",
       "</div>"
      ],
      "text/plain": [
       "     KnKod      KnNamn  Antal_dos1  Antal_dos2  Andel_dos1  Andel_dos2\n",
       "187   1761     Hammarö       13046       12916    0.931591    0.922308\n",
       "273   2480        Umeå      105536      103798    0.928744    0.913449\n",
       "193   1780    Karlstad       77359       76392    0.922324    0.910795\n",
       "103   1262       Lomma       19247       18986    0.921218    0.908725\n",
       "54     584    Vadstena        6204        6160    0.919929    0.913405\n",
       "..     ...         ...         ...         ...         ...         ...\n",
       "101   1260        Bjuv       10379       10106    0.764511    0.744402\n",
       "97    1231      Burlöv       12720       12388    0.763231    0.743310\n",
       "114   1277      Åstorp       10562       10269    0.762985    0.741819\n",
       "17     181  Södertälje       62933       59877    0.716744    0.681939\n",
       "7      127    Botkyrka       57202       54129    0.705344    0.667452\n",
       "\n",
       "[290 rows x 6 columns]"
      ]
     },
     "execution_count": 253,
     "metadata": {},
     "output_type": "execute_result"
    }
   ],
   "source": [
    "# Vaccinated with at least one and at least two doses per municipality\n",
    "vaccinated_municipality = pd.read_excel(\"Data/Folkhalsomyndigheten_Covid19_Vaccine.xlsx\", sheet_name=\"Vaccinerade kommun\")\n",
    "vaccinated_municipality.sort_values(by='Andel_dos1', ascending=False)"
   ]
  },
  {
   "cell_type": "markdown",
   "metadata": {},
   "source": [
    "The code above shows the share of the citizens that received dose one split on municipalities and sorted on 'Andel_dos1' (Share dose one). The first five are the ones with the highest share of vaccinated with dose one and last five rows are the ones with the lowest share of vaccinated with dose one.\n",
    "\n",
    "From what we can see Botkyrka has the lowest numbers of citizens that received dose one with just 70% of the total population in the municipality. On the other hand we have Hammarö that vaccinated 93% of their population with at lest one dose.\n",
    "\n",
    "In the graph below we can se all municipalities shares of vaccination one in the country."
   ]
  },
  {
   "cell_type": "code",
   "execution_count": 292,
   "metadata": {},
   "outputs": [
    {
     "data": {
      "application/vnd.plotly.v1+json": {
       "config": {
        "plotlyServerURL": "https://plot.ly"
       },
       "data": [
        {
         "alignmentgroup": "True",
         "boxpoints": "all",
         "fillcolor": "rgba(255,255,255,0)",
         "hoveron": "points",
         "hovertemplate": "<b>%{hovertext}</b><br><br>Municipality=Upplands Väsby<br>x=%{x}<extra></extra>",
         "hovertext": [
          "Upplands Väsby"
         ],
         "legendgroup": "Upplands Väsby",
         "line": {
          "color": "rgba(255,255,255,0)"
         },
         "marker": {
          "color": "#636efa"
         },
         "name": "Upplands Väsby",
         "offsetgroup": "Upplands Väsby",
         "orientation": "h",
         "pointpos": 0,
         "showlegend": true,
         "type": "box",
         "x": [
          80.86769780180006
         ],
         "x0": " ",
         "xaxis": "x",
         "y0": " ",
         "yaxis": "y"
        },
        {
         "alignmentgroup": "True",
         "boxpoints": "all",
         "fillcolor": "rgba(255,255,255,0)",
         "hoveron": "points",
         "hovertemplate": "<b>%{hovertext}</b><br><br>Municipality=Vallentuna<br>x=%{x}<extra></extra>",
         "hovertext": [
          "Vallentuna"
         ],
         "legendgroup": "Vallentuna",
         "line": {
          "color": "rgba(255,255,255,0)"
         },
         "marker": {
          "color": "#EF553B"
         },
         "name": "Vallentuna",
         "offsetgroup": "Vallentuna",
         "orientation": "h",
         "pointpos": 0,
         "showlegend": true,
         "type": "box",
         "x": [
          86.44430844553244
         ],
         "x0": " ",
         "xaxis": "x",
         "y0": " ",
         "yaxis": "y"
        },
        {
         "alignmentgroup": "True",
         "boxpoints": "all",
         "fillcolor": "rgba(255,255,255,0)",
         "hoveron": "points",
         "hovertemplate": "<b>%{hovertext}</b><br><br>Municipality=Österåker<br>x=%{x}<extra></extra>",
         "hovertext": [
          "Österåker"
         ],
         "legendgroup": "Österåker",
         "line": {
          "color": "rgba(255,255,255,0)"
         },
         "marker": {
          "color": "#00cc96"
         },
         "name": "Österåker",
         "offsetgroup": "Österåker",
         "orientation": "h",
         "pointpos": 0,
         "showlegend": true,
         "type": "box",
         "x": [
          87.07656111204474
         ],
         "x0": " ",
         "xaxis": "x",
         "y0": " ",
         "yaxis": "y"
        },
        {
         "alignmentgroup": "True",
         "boxpoints": "all",
         "fillcolor": "rgba(255,255,255,0)",
         "hoveron": "points",
         "hovertemplate": "<b>%{hovertext}</b><br><br>Municipality=Värmdö<br>x=%{x}<extra></extra>",
         "hovertext": [
          "Värmdö"
         ],
         "legendgroup": "Värmdö",
         "line": {
          "color": "rgba(255,255,255,0)"
         },
         "marker": {
          "color": "#ab63fa"
         },
         "name": "Värmdö",
         "offsetgroup": "Värmdö",
         "orientation": "h",
         "pointpos": 0,
         "showlegend": true,
         "type": "box",
         "x": [
          87.06877028761228
         ],
         "x0": " ",
         "xaxis": "x",
         "y0": " ",
         "yaxis": "y"
        },
        {
         "alignmentgroup": "True",
         "boxpoints": "all",
         "fillcolor": "rgba(255,255,255,0)",
         "hoveron": "points",
         "hovertemplate": "<b>%{hovertext}</b><br><br>Municipality=Järfälla<br>x=%{x}<extra></extra>",
         "hovertext": [
          "Järfälla"
         ],
         "legendgroup": "Järfälla",
         "line": {
          "color": "rgba(255,255,255,0)"
         },
         "marker": {
          "color": "#FFA15A"
         },
         "name": "Järfälla",
         "offsetgroup": "Järfälla",
         "orientation": "h",
         "pointpos": 0,
         "showlegend": true,
         "type": "box",
         "x": [
          80.60725870445907
         ],
         "x0": " ",
         "xaxis": "x",
         "y0": " ",
         "yaxis": "y"
        },
        {
         "alignmentgroup": "True",
         "boxpoints": "all",
         "fillcolor": "rgba(255,255,255,0)",
         "hoveron": "points",
         "hovertemplate": "<b>%{hovertext}</b><br><br>Municipality=Ekerö<br>x=%{x}<extra></extra>",
         "hovertext": [
          "Ekerö"
         ],
         "legendgroup": "Ekerö",
         "line": {
          "color": "rgba(255,255,255,0)"
         },
         "marker": {
          "color": "#19d3f3"
         },
         "name": "Ekerö",
         "offsetgroup": "Ekerö",
         "orientation": "h",
         "pointpos": 0,
         "showlegend": true,
         "type": "box",
         "x": [
          85.29996349328682
         ],
         "x0": " ",
         "xaxis": "x",
         "y0": " ",
         "yaxis": "y"
        },
        {
         "alignmentgroup": "True",
         "boxpoints": "all",
         "fillcolor": "rgba(255,255,255,0)",
         "hoveron": "points",
         "hovertemplate": "<b>%{hovertext}</b><br><br>Municipality=Huddinge<br>x=%{x}<extra></extra>",
         "hovertext": [
          "Huddinge"
         ],
         "legendgroup": "Huddinge",
         "line": {
          "color": "rgba(255,255,255,0)"
         },
         "marker": {
          "color": "#FF6692"
         },
         "name": "Huddinge",
         "offsetgroup": "Huddinge",
         "orientation": "h",
         "pointpos": 0,
         "showlegend": true,
         "type": "box",
         "x": [
          79.20820660858807
         ],
         "x0": " ",
         "xaxis": "x",
         "y0": " ",
         "yaxis": "y"
        },
        {
         "alignmentgroup": "True",
         "boxpoints": "all",
         "fillcolor": "rgba(255,255,255,0)",
         "hoveron": "points",
         "hovertemplate": "<b>%{hovertext}</b><br><br>Municipality=Botkyrka<br>x=%{x}<extra></extra>",
         "hovertext": [
          "Botkyrka"
         ],
         "legendgroup": "Botkyrka",
         "line": {
          "color": "rgba(255,255,255,0)"
         },
         "marker": {
          "color": "#B6E880"
         },
         "name": "Botkyrka",
         "offsetgroup": "Botkyrka",
         "orientation": "h",
         "pointpos": 0,
         "showlegend": true,
         "type": "box",
         "x": [
          70.53441515203828
         ],
         "x0": " ",
         "xaxis": "x",
         "y0": " ",
         "yaxis": "y"
        },
        {
         "alignmentgroup": "True",
         "boxpoints": "all",
         "fillcolor": "rgba(255,255,255,0)",
         "hoveron": "points",
         "hovertemplate": "<b>%{hovertext}</b><br><br>Municipality=Salem<br>x=%{x}<extra></extra>",
         "hovertext": [
          "Salem"
         ],
         "legendgroup": "Salem",
         "line": {
          "color": "rgba(255,255,255,0)"
         },
         "marker": {
          "color": "#FF97FF"
         },
         "name": "Salem",
         "offsetgroup": "Salem",
         "orientation": "h",
         "pointpos": 0,
         "showlegend": true,
         "type": "box",
         "x": [
          82.05584451136052
         ],
         "x0": " ",
         "xaxis": "x",
         "y0": " ",
         "yaxis": "y"
        },
        {
         "alignmentgroup": "True",
         "boxpoints": "all",
         "fillcolor": "rgba(255,255,255,0)",
         "hoveron": "points",
         "hovertemplate": "<b>%{hovertext}</b><br><br>Municipality=Haninge<br>x=%{x}<extra></extra>",
         "hovertext": [
          "Haninge"
         ],
         "legendgroup": "Haninge",
         "line": {
          "color": "rgba(255,255,255,0)"
         },
         "marker": {
          "color": "#FECB52"
         },
         "name": "Haninge",
         "offsetgroup": "Haninge",
         "orientation": "h",
         "pointpos": 0,
         "showlegend": true,
         "type": "box",
         "x": [
          78.00090501057883
         ],
         "x0": " ",
         "xaxis": "x",
         "y0": " ",
         "yaxis": "y"
        },
        {
         "alignmentgroup": "True",
         "boxpoints": "all",
         "fillcolor": "rgba(255,255,255,0)",
         "hoveron": "points",
         "hovertemplate": "<b>%{hovertext}</b><br><br>Municipality=Tyresö<br>x=%{x}<extra></extra>",
         "hovertext": [
          "Tyresö"
         ],
         "legendgroup": "Tyresö",
         "line": {
          "color": "rgba(255,255,255,0)"
         },
         "marker": {
          "color": "#636efa"
         },
         "name": "Tyresö",
         "offsetgroup": "Tyresö",
         "orientation": "h",
         "pointpos": 0,
         "showlegend": true,
         "type": "box",
         "x": [
          84.65286812536961
         ],
         "x0": " ",
         "xaxis": "x",
         "y0": " ",
         "yaxis": "y"
        },
        {
         "alignmentgroup": "True",
         "boxpoints": "all",
         "fillcolor": "rgba(255,255,255,0)",
         "hoveron": "points",
         "hovertemplate": "<b>%{hovertext}</b><br><br>Municipality=Upplands-Bro<br>x=%{x}<extra></extra>",
         "hovertext": [
          "Upplands-Bro"
         ],
         "legendgroup": "Upplands-Bro",
         "line": {
          "color": "rgba(255,255,255,0)"
         },
         "marker": {
          "color": "#EF553B"
         },
         "name": "Upplands-Bro",
         "offsetgroup": "Upplands-Bro",
         "orientation": "h",
         "pointpos": 0,
         "showlegend": true,
         "type": "box",
         "x": [
          79.53500740797021
         ],
         "x0": " ",
         "xaxis": "x",
         "y0": " ",
         "yaxis": "y"
        },
        {
         "alignmentgroup": "True",
         "boxpoints": "all",
         "fillcolor": "rgba(255,255,255,0)",
         "hoveron": "points",
         "hovertemplate": "<b>%{hovertext}</b><br><br>Municipality=Nykvarn<br>x=%{x}<extra></extra>",
         "hovertext": [
          "Nykvarn"
         ],
         "legendgroup": "Nykvarn",
         "line": {
          "color": "rgba(255,255,255,0)"
         },
         "marker": {
          "color": "#00cc96"
         },
         "name": "Nykvarn",
         "offsetgroup": "Nykvarn",
         "orientation": "h",
         "pointpos": 0,
         "showlegend": true,
         "type": "box",
         "x": [
          86.59940894731479
         ],
         "x0": " ",
         "xaxis": "x",
         "y0": " ",
         "yaxis": "y"
        },
        {
         "alignmentgroup": "True",
         "boxpoints": "all",
         "fillcolor": "rgba(255,255,255,0)",
         "hoveron": "points",
         "hovertemplate": "<b>%{hovertext}</b><br><br>Municipality=Täby<br>x=%{x}<extra></extra>",
         "hovertext": [
          "Täby"
         ],
         "legendgroup": "Täby",
         "line": {
          "color": "rgba(255,255,255,0)"
         },
         "marker": {
          "color": "#ab63fa"
         },
         "name": "Täby",
         "offsetgroup": "Täby",
         "orientation": "h",
         "pointpos": 0,
         "showlegend": true,
         "type": "box",
         "x": [
          89.86556037306217
         ],
         "x0": " ",
         "xaxis": "x",
         "y0": " ",
         "yaxis": "y"
        },
        {
         "alignmentgroup": "True",
         "boxpoints": "all",
         "fillcolor": "rgba(255,255,255,0)",
         "hoveron": "points",
         "hovertemplate": "<b>%{hovertext}</b><br><br>Municipality=Danderyd<br>x=%{x}<extra></extra>",
         "hovertext": [
          "Danderyd"
         ],
         "legendgroup": "Danderyd",
         "line": {
          "color": "rgba(255,255,255,0)"
         },
         "marker": {
          "color": "#FFA15A"
         },
         "name": "Danderyd",
         "offsetgroup": "Danderyd",
         "orientation": "h",
         "pointpos": 0,
         "showlegend": true,
         "type": "box",
         "x": [
          89.67101571268238
         ],
         "x0": " ",
         "xaxis": "x",
         "y0": " ",
         "yaxis": "y"
        },
        {
         "alignmentgroup": "True",
         "boxpoints": "all",
         "fillcolor": "rgba(255,255,255,0)",
         "hoveron": "points",
         "hovertemplate": "<b>%{hovertext}</b><br><br>Municipality=Sollentuna<br>x=%{x}<extra></extra>",
         "hovertext": [
          "Sollentuna"
         ],
         "legendgroup": "Sollentuna",
         "line": {
          "color": "rgba(255,255,255,0)"
         },
         "marker": {
          "color": "#19d3f3"
         },
         "name": "Sollentuna",
         "offsetgroup": "Sollentuna",
         "orientation": "h",
         "pointpos": 0,
         "showlegend": true,
         "type": "box",
         "x": [
          84.89044805514526
         ],
         "x0": " ",
         "xaxis": "x",
         "y0": " ",
         "yaxis": "y"
        },
        {
         "alignmentgroup": "True",
         "boxpoints": "all",
         "fillcolor": "rgba(255,255,255,0)",
         "hoveron": "points",
         "hovertemplate": "<b>%{hovertext}</b><br><br>Municipality=Stockholm<br>x=%{x}<extra></extra>",
         "hovertext": [
          "Stockholm"
         ],
         "legendgroup": "Stockholm",
         "line": {
          "color": "rgba(255,255,255,0)"
         },
         "marker": {
          "color": "#FF6692"
         },
         "name": "Stockholm",
         "offsetgroup": "Stockholm",
         "orientation": "h",
         "pointpos": 0,
         "showlegend": true,
         "type": "box",
         "x": [
          84.49312167580777
         ],
         "x0": " ",
         "xaxis": "x",
         "y0": " ",
         "yaxis": "y"
        },
        {
         "alignmentgroup": "True",
         "boxpoints": "all",
         "fillcolor": "rgba(255,255,255,0)",
         "hoveron": "points",
         "hovertemplate": "<b>%{hovertext}</b><br><br>Municipality=Södertälje<br>x=%{x}<extra></extra>",
         "hovertext": [
          "Södertälje"
         ],
         "legendgroup": "Södertälje",
         "line": {
          "color": "rgba(255,255,255,0)"
         },
         "marker": {
          "color": "#B6E880"
         },
         "name": "Södertälje",
         "offsetgroup": "Södertälje",
         "orientation": "h",
         "pointpos": 0,
         "showlegend": true,
         "type": "box",
         "x": [
          71.67441118855633
         ],
         "x0": " ",
         "xaxis": "x",
         "y0": " ",
         "yaxis": "y"
        },
        {
         "alignmentgroup": "True",
         "boxpoints": "all",
         "fillcolor": "rgba(255,255,255,0)",
         "hoveron": "points",
         "hovertemplate": "<b>%{hovertext}</b><br><br>Municipality=Nacka<br>x=%{x}<extra></extra>",
         "hovertext": [
          "Nacka"
         ],
         "legendgroup": "Nacka",
         "line": {
          "color": "rgba(255,255,255,0)"
         },
         "marker": {
          "color": "#FF97FF"
         },
         "name": "Nacka",
         "offsetgroup": "Nacka",
         "orientation": "h",
         "pointpos": 0,
         "showlegend": true,
         "type": "box",
         "x": [
          87.51979177963345
         ],
         "x0": " ",
         "xaxis": "x",
         "y0": " ",
         "yaxis": "y"
        },
        {
         "alignmentgroup": "True",
         "boxpoints": "all",
         "fillcolor": "rgba(255,255,255,0)",
         "hoveron": "points",
         "hovertemplate": "<b>%{hovertext}</b><br><br>Municipality=Sundbyberg<br>x=%{x}<extra></extra>",
         "hovertext": [
          "Sundbyberg"
         ],
         "legendgroup": "Sundbyberg",
         "line": {
          "color": "rgba(255,255,255,0)"
         },
         "marker": {
          "color": "#FECB52"
         },
         "name": "Sundbyberg",
         "offsetgroup": "Sundbyberg",
         "orientation": "h",
         "pointpos": 0,
         "showlegend": true,
         "type": "box",
         "x": [
          81.00244603699095
         ],
         "x0": " ",
         "xaxis": "x",
         "y0": " ",
         "yaxis": "y"
        },
        {
         "alignmentgroup": "True",
         "boxpoints": "all",
         "fillcolor": "rgba(255,255,255,0)",
         "hoveron": "points",
         "hovertemplate": "<b>%{hovertext}</b><br><br>Municipality=Solna<br>x=%{x}<extra></extra>",
         "hovertext": [
          "Solna"
         ],
         "legendgroup": "Solna",
         "line": {
          "color": "rgba(255,255,255,0)"
         },
         "marker": {
          "color": "#636efa"
         },
         "name": "Solna",
         "offsetgroup": "Solna",
         "orientation": "h",
         "pointpos": 0,
         "showlegend": true,
         "type": "box",
         "x": [
          84.2321478915784
         ],
         "x0": " ",
         "xaxis": "x",
         "y0": " ",
         "yaxis": "y"
        },
        {
         "alignmentgroup": "True",
         "boxpoints": "all",
         "fillcolor": "rgba(255,255,255,0)",
         "hoveron": "points",
         "hovertemplate": "<b>%{hovertext}</b><br><br>Municipality=Lidingö<br>x=%{x}<extra></extra>",
         "hovertext": [
          "Lidingö"
         ],
         "legendgroup": "Lidingö",
         "line": {
          "color": "rgba(255,255,255,0)"
         },
         "marker": {
          "color": "#EF553B"
         },
         "name": "Lidingö",
         "offsetgroup": "Lidingö",
         "orientation": "h",
         "pointpos": 0,
         "showlegend": true,
         "type": "box",
         "x": [
          88.65406273213044
         ],
         "x0": " ",
         "xaxis": "x",
         "y0": " ",
         "yaxis": "y"
        },
        {
         "alignmentgroup": "True",
         "boxpoints": "all",
         "fillcolor": "rgba(255,255,255,0)",
         "hoveron": "points",
         "hovertemplate": "<b>%{hovertext}</b><br><br>Municipality=Vaxholm<br>x=%{x}<extra></extra>",
         "hovertext": [
          "Vaxholm"
         ],
         "legendgroup": "Vaxholm",
         "line": {
          "color": "rgba(255,255,255,0)"
         },
         "marker": {
          "color": "#00cc96"
         },
         "name": "Vaxholm",
         "offsetgroup": "Vaxholm",
         "orientation": "h",
         "pointpos": 0,
         "showlegend": true,
         "type": "box",
         "x": [
          89.13167938931298
         ],
         "x0": " ",
         "xaxis": "x",
         "y0": " ",
         "yaxis": "y"
        },
        {
         "alignmentgroup": "True",
         "boxpoints": "all",
         "fillcolor": "rgba(255,255,255,0)",
         "hoveron": "points",
         "hovertemplate": "<b>%{hovertext}</b><br><br>Municipality=Norrtälje<br>x=%{x}<extra></extra>",
         "hovertext": [
          "Norrtälje"
         ],
         "legendgroup": "Norrtälje",
         "line": {
          "color": "rgba(255,255,255,0)"
         },
         "marker": {
          "color": "#ab63fa"
         },
         "name": "Norrtälje",
         "offsetgroup": "Norrtälje",
         "orientation": "h",
         "pointpos": 0,
         "showlegend": true,
         "type": "box",
         "x": [
          88.11220332518506
         ],
         "x0": " ",
         "xaxis": "x",
         "y0": " ",
         "yaxis": "y"
        },
        {
         "alignmentgroup": "True",
         "boxpoints": "all",
         "fillcolor": "rgba(255,255,255,0)",
         "hoveron": "points",
         "hovertemplate": "<b>%{hovertext}</b><br><br>Municipality=Sigtuna<br>x=%{x}<extra></extra>",
         "hovertext": [
          "Sigtuna"
         ],
         "legendgroup": "Sigtuna",
         "line": {
          "color": "rgba(255,255,255,0)"
         },
         "marker": {
          "color": "#FFA15A"
         },
         "name": "Sigtuna",
         "offsetgroup": "Sigtuna",
         "orientation": "h",
         "pointpos": 0,
         "showlegend": true,
         "type": "box",
         "x": [
          77.6923434305891
         ],
         "x0": " ",
         "xaxis": "x",
         "y0": " ",
         "yaxis": "y"
        },
        {
         "alignmentgroup": "True",
         "boxpoints": "all",
         "fillcolor": "rgba(255,255,255,0)",
         "hoveron": "points",
         "hovertemplate": "<b>%{hovertext}</b><br><br>Municipality=Nynäshamn<br>x=%{x}<extra></extra>",
         "hovertext": [
          "Nynäshamn"
         ],
         "legendgroup": "Nynäshamn",
         "line": {
          "color": "rgba(255,255,255,0)"
         },
         "marker": {
          "color": "#19d3f3"
         },
         "name": "Nynäshamn",
         "offsetgroup": "Nynäshamn",
         "orientation": "h",
         "pointpos": 0,
         "showlegend": true,
         "type": "box",
         "x": [
          82.63821532492726
         ],
         "x0": " ",
         "xaxis": "x",
         "y0": " ",
         "yaxis": "y"
        },
        {
         "alignmentgroup": "True",
         "boxpoints": "all",
         "fillcolor": "rgba(255,255,255,0)",
         "hoveron": "points",
         "hovertemplate": "<b>%{hovertext}</b><br><br>Municipality=Håbo<br>x=%{x}<extra></extra>",
         "hovertext": [
          "Håbo"
         ],
         "legendgroup": "Håbo",
         "line": {
          "color": "rgba(255,255,255,0)"
         },
         "marker": {
          "color": "#FF6692"
         },
         "name": "Håbo",
         "offsetgroup": "Håbo",
         "orientation": "h",
         "pointpos": 0,
         "showlegend": true,
         "type": "box",
         "x": [
          86.62977138719354
         ],
         "x0": " ",
         "xaxis": "x",
         "y0": " ",
         "yaxis": "y"
        },
        {
         "alignmentgroup": "True",
         "boxpoints": "all",
         "fillcolor": "rgba(255,255,255,0)",
         "hoveron": "points",
         "hovertemplate": "<b>%{hovertext}</b><br><br>Municipality=Älvkarleby<br>x=%{x}<extra></extra>",
         "hovertext": [
          "Älvkarleby"
         ],
         "legendgroup": "Älvkarleby",
         "line": {
          "color": "rgba(255,255,255,0)"
         },
         "marker": {
          "color": "#B6E880"
         },
         "name": "Älvkarleby",
         "offsetgroup": "Älvkarleby",
         "orientation": "h",
         "pointpos": 0,
         "showlegend": true,
         "type": "box",
         "x": [
          88.70641437581817
         ],
         "x0": " ",
         "xaxis": "x",
         "y0": " ",
         "yaxis": "y"
        },
        {
         "alignmentgroup": "True",
         "boxpoints": "all",
         "fillcolor": "rgba(255,255,255,0)",
         "hoveron": "points",
         "hovertemplate": "<b>%{hovertext}</b><br><br>Municipality=Knivsta<br>x=%{x}<extra></extra>",
         "hovertext": [
          "Knivsta"
         ],
         "legendgroup": "Knivsta",
         "line": {
          "color": "rgba(255,255,255,0)"
         },
         "marker": {
          "color": "#FF97FF"
         },
         "name": "Knivsta",
         "offsetgroup": "Knivsta",
         "orientation": "h",
         "pointpos": 0,
         "showlegend": true,
         "type": "box",
         "x": [
          89.77796651298229
         ],
         "x0": " ",
         "xaxis": "x",
         "y0": " ",
         "yaxis": "y"
        },
        {
         "alignmentgroup": "True",
         "boxpoints": "all",
         "fillcolor": "rgba(255,255,255,0)",
         "hoveron": "points",
         "hovertemplate": "<b>%{hovertext}</b><br><br>Municipality=Heby<br>x=%{x}<extra></extra>",
         "hovertext": [
          "Heby"
         ],
         "legendgroup": "Heby",
         "line": {
          "color": "rgba(255,255,255,0)"
         },
         "marker": {
          "color": "#FECB52"
         },
         "name": "Heby",
         "offsetgroup": "Heby",
         "orientation": "h",
         "pointpos": 0,
         "showlegend": true,
         "type": "box",
         "x": [
          87.87660256410257
         ],
         "x0": " ",
         "xaxis": "x",
         "y0": " ",
         "yaxis": "y"
        },
        {
         "alignmentgroup": "True",
         "boxpoints": "all",
         "fillcolor": "rgba(255,255,255,0)",
         "hoveron": "points",
         "hovertemplate": "<b>%{hovertext}</b><br><br>Municipality=Tierp<br>x=%{x}<extra></extra>",
         "hovertext": [
          "Tierp"
         ],
         "legendgroup": "Tierp",
         "line": {
          "color": "rgba(255,255,255,0)"
         },
         "marker": {
          "color": "#636efa"
         },
         "name": "Tierp",
         "offsetgroup": "Tierp",
         "orientation": "h",
         "pointpos": 0,
         "showlegend": true,
         "type": "box",
         "x": [
          88.75337290879655
         ],
         "x0": " ",
         "xaxis": "x",
         "y0": " ",
         "yaxis": "y"
        },
        {
         "alignmentgroup": "True",
         "boxpoints": "all",
         "fillcolor": "rgba(255,255,255,0)",
         "hoveron": "points",
         "hovertemplate": "<b>%{hovertext}</b><br><br>Municipality=Uppsala<br>x=%{x}<extra></extra>",
         "hovertext": [
          "Uppsala"
         ],
         "legendgroup": "Uppsala",
         "line": {
          "color": "rgba(255,255,255,0)"
         },
         "marker": {
          "color": "#EF553B"
         },
         "name": "Uppsala",
         "offsetgroup": "Uppsala",
         "orientation": "h",
         "pointpos": 0,
         "showlegend": true,
         "type": "box",
         "x": [
          90.16653754914084
         ],
         "x0": " ",
         "xaxis": "x",
         "y0": " ",
         "yaxis": "y"
        },
        {
         "alignmentgroup": "True",
         "boxpoints": "all",
         "fillcolor": "rgba(255,255,255,0)",
         "hoveron": "points",
         "hovertemplate": "<b>%{hovertext}</b><br><br>Municipality=Enköping<br>x=%{x}<extra></extra>",
         "hovertext": [
          "Enköping"
         ],
         "legendgroup": "Enköping",
         "line": {
          "color": "rgba(255,255,255,0)"
         },
         "marker": {
          "color": "#00cc96"
         },
         "name": "Enköping",
         "offsetgroup": "Enköping",
         "orientation": "h",
         "pointpos": 0,
         "showlegend": true,
         "type": "box",
         "x": [
          88.07517028470623
         ],
         "x0": " ",
         "xaxis": "x",
         "y0": " ",
         "yaxis": "y"
        },
        {
         "alignmentgroup": "True",
         "boxpoints": "all",
         "fillcolor": "rgba(255,255,255,0)",
         "hoveron": "points",
         "hovertemplate": "<b>%{hovertext}</b><br><br>Municipality=Östhammar<br>x=%{x}<extra></extra>",
         "hovertext": [
          "Östhammar"
         ],
         "legendgroup": "Östhammar",
         "line": {
          "color": "rgba(255,255,255,0)"
         },
         "marker": {
          "color": "#ab63fa"
         },
         "name": "Östhammar",
         "offsetgroup": "Östhammar",
         "orientation": "h",
         "pointpos": 0,
         "showlegend": true,
         "type": "box",
         "x": [
          90.74036304303488
         ],
         "x0": " ",
         "xaxis": "x",
         "y0": " ",
         "yaxis": "y"
        },
        {
         "alignmentgroup": "True",
         "boxpoints": "all",
         "fillcolor": "rgba(255,255,255,0)",
         "hoveron": "points",
         "hovertemplate": "<b>%{hovertext}</b><br><br>Municipality=Vingåker<br>x=%{x}<extra></extra>",
         "hovertext": [
          "Vingåker"
         ],
         "legendgroup": "Vingåker",
         "line": {
          "color": "rgba(255,255,255,0)"
         },
         "marker": {
          "color": "#FFA15A"
         },
         "name": "Vingåker",
         "offsetgroup": "Vingåker",
         "orientation": "h",
         "pointpos": 0,
         "showlegend": true,
         "type": "box",
         "x": [
          89.0409223362473
         ],
         "x0": " ",
         "xaxis": "x",
         "y0": " ",
         "yaxis": "y"
        },
        {
         "alignmentgroup": "True",
         "boxpoints": "all",
         "fillcolor": "rgba(255,255,255,0)",
         "hoveron": "points",
         "hovertemplate": "<b>%{hovertext}</b><br><br>Municipality=Gnesta<br>x=%{x}<extra></extra>",
         "hovertext": [
          "Gnesta"
         ],
         "legendgroup": "Gnesta",
         "line": {
          "color": "rgba(255,255,255,0)"
         },
         "marker": {
          "color": "#19d3f3"
         },
         "name": "Gnesta",
         "offsetgroup": "Gnesta",
         "orientation": "h",
         "pointpos": 0,
         "showlegend": true,
         "type": "box",
         "x": [
          85.02410606669345
         ],
         "x0": " ",
         "xaxis": "x",
         "y0": " ",
         "yaxis": "y"
        },
        {
         "alignmentgroup": "True",
         "boxpoints": "all",
         "fillcolor": "rgba(255,255,255,0)",
         "hoveron": "points",
         "hovertemplate": "<b>%{hovertext}</b><br><br>Municipality=Nyköping<br>x=%{x}<extra></extra>",
         "hovertext": [
          "Nyköping"
         ],
         "legendgroup": "Nyköping",
         "line": {
          "color": "rgba(255,255,255,0)"
         },
         "marker": {
          "color": "#FF6692"
         },
         "name": "Nyköping",
         "offsetgroup": "Nyköping",
         "orientation": "h",
         "pointpos": 0,
         "showlegend": true,
         "type": "box",
         "x": [
          88.29852885553322
         ],
         "x0": " ",
         "xaxis": "x",
         "y0": " ",
         "yaxis": "y"
        },
        {
         "alignmentgroup": "True",
         "boxpoints": "all",
         "fillcolor": "rgba(255,255,255,0)",
         "hoveron": "points",
         "hovertemplate": "<b>%{hovertext}</b><br><br>Municipality=Oxelösund<br>x=%{x}<extra></extra>",
         "hovertext": [
          "Oxelösund"
         ],
         "legendgroup": "Oxelösund",
         "line": {
          "color": "rgba(255,255,255,0)"
         },
         "marker": {
          "color": "#B6E880"
         },
         "name": "Oxelösund",
         "offsetgroup": "Oxelösund",
         "orientation": "h",
         "pointpos": 0,
         "showlegend": true,
         "type": "box",
         "x": [
          88.17021276595744
         ],
         "x0": " ",
         "xaxis": "x",
         "y0": " ",
         "yaxis": "y"
        },
        {
         "alignmentgroup": "True",
         "boxpoints": "all",
         "fillcolor": "rgba(255,255,255,0)",
         "hoveron": "points",
         "hovertemplate": "<b>%{hovertext}</b><br><br>Municipality=Flen<br>x=%{x}<extra></extra>",
         "hovertext": [
          "Flen"
         ],
         "legendgroup": "Flen",
         "line": {
          "color": "rgba(255,255,255,0)"
         },
         "marker": {
          "color": "#FF97FF"
         },
         "name": "Flen",
         "offsetgroup": "Flen",
         "orientation": "h",
         "pointpos": 0,
         "showlegend": true,
         "type": "box",
         "x": [
          84.96869944432721
         ],
         "x0": " ",
         "xaxis": "x",
         "y0": " ",
         "yaxis": "y"
        },
        {
         "alignmentgroup": "True",
         "boxpoints": "all",
         "fillcolor": "rgba(255,255,255,0)",
         "hoveron": "points",
         "hovertemplate": "<b>%{hovertext}</b><br><br>Municipality=Katrineholm<br>x=%{x}<extra></extra>",
         "hovertext": [
          "Katrineholm"
         ],
         "legendgroup": "Katrineholm",
         "line": {
          "color": "rgba(255,255,255,0)"
         },
         "marker": {
          "color": "#FECB52"
         },
         "name": "Katrineholm",
         "offsetgroup": "Katrineholm",
         "orientation": "h",
         "pointpos": 0,
         "showlegend": true,
         "type": "box",
         "x": [
          88.35156014849002
         ],
         "x0": " ",
         "xaxis": "x",
         "y0": " ",
         "yaxis": "y"
        },
        {
         "alignmentgroup": "True",
         "boxpoints": "all",
         "fillcolor": "rgba(255,255,255,0)",
         "hoveron": "points",
         "hovertemplate": "<b>%{hovertext}</b><br><br>Municipality=Eskilstuna<br>x=%{x}<extra></extra>",
         "hovertext": [
          "Eskilstuna"
         ],
         "legendgroup": "Eskilstuna",
         "line": {
          "color": "rgba(255,255,255,0)"
         },
         "marker": {
          "color": "#636efa"
         },
         "name": "Eskilstuna",
         "offsetgroup": "Eskilstuna",
         "orientation": "h",
         "pointpos": 0,
         "showlegend": true,
         "type": "box",
         "x": [
          85.4946711163742
         ],
         "x0": " ",
         "xaxis": "x",
         "y0": " ",
         "yaxis": "y"
        },
        {
         "alignmentgroup": "True",
         "boxpoints": "all",
         "fillcolor": "rgba(255,255,255,0)",
         "hoveron": "points",
         "hovertemplate": "<b>%{hovertext}</b><br><br>Municipality=Strängnäs<br>x=%{x}<extra></extra>",
         "hovertext": [
          "Strängnäs"
         ],
         "legendgroup": "Strängnäs",
         "line": {
          "color": "rgba(255,255,255,0)"
         },
         "marker": {
          "color": "#EF553B"
         },
         "name": "Strängnäs",
         "offsetgroup": "Strängnäs",
         "orientation": "h",
         "pointpos": 0,
         "showlegend": true,
         "type": "box",
         "x": [
          87.24289764159478
         ],
         "x0": " ",
         "xaxis": "x",
         "y0": " ",
         "yaxis": "y"
        },
        {
         "alignmentgroup": "True",
         "boxpoints": "all",
         "fillcolor": "rgba(255,255,255,0)",
         "hoveron": "points",
         "hovertemplate": "<b>%{hovertext}</b><br><br>Municipality=Trosa<br>x=%{x}<extra></extra>",
         "hovertext": [
          "Trosa"
         ],
         "legendgroup": "Trosa",
         "line": {
          "color": "rgba(255,255,255,0)"
         },
         "marker": {
          "color": "#00cc96"
         },
         "name": "Trosa",
         "offsetgroup": "Trosa",
         "orientation": "h",
         "pointpos": 0,
         "showlegend": true,
         "type": "box",
         "x": [
          87.1682455178893
         ],
         "x0": " ",
         "xaxis": "x",
         "y0": " ",
         "yaxis": "y"
        },
        {
         "alignmentgroup": "True",
         "boxpoints": "all",
         "fillcolor": "rgba(255,255,255,0)",
         "hoveron": "points",
         "hovertemplate": "<b>%{hovertext}</b><br><br>Municipality=Ödeshög<br>x=%{x}<extra></extra>",
         "hovertext": [
          "Ödeshög"
         ],
         "legendgroup": "Ödeshög",
         "line": {
          "color": "rgba(255,255,255,0)"
         },
         "marker": {
          "color": "#ab63fa"
         },
         "name": "Ödeshög",
         "offsetgroup": "Ödeshög",
         "orientation": "h",
         "pointpos": 0,
         "showlegend": true,
         "type": "box",
         "x": [
          87.48928877463582
         ],
         "x0": " ",
         "xaxis": "x",
         "y0": " ",
         "yaxis": "y"
        },
        {
         "alignmentgroup": "True",
         "boxpoints": "all",
         "fillcolor": "rgba(255,255,255,0)",
         "hoveron": "points",
         "hovertemplate": "<b>%{hovertext}</b><br><br>Municipality=Ydre<br>x=%{x}<extra></extra>",
         "hovertext": [
          "Ydre"
         ],
         "legendgroup": "Ydre",
         "line": {
          "color": "rgba(255,255,255,0)"
         },
         "marker": {
          "color": "#FFA15A"
         },
         "name": "Ydre",
         "offsetgroup": "Ydre",
         "orientation": "h",
         "pointpos": 0,
         "showlegend": true,
         "type": "box",
         "x": [
          89.23218109513613
         ],
         "x0": " ",
         "xaxis": "x",
         "y0": " ",
         "yaxis": "y"
        },
        {
         "alignmentgroup": "True",
         "boxpoints": "all",
         "fillcolor": "rgba(255,255,255,0)",
         "hoveron": "points",
         "hovertemplate": "<b>%{hovertext}</b><br><br>Municipality=Kinda<br>x=%{x}<extra></extra>",
         "hovertext": [
          "Kinda"
         ],
         "legendgroup": "Kinda",
         "line": {
          "color": "rgba(255,255,255,0)"
         },
         "marker": {
          "color": "#19d3f3"
         },
         "name": "Kinda",
         "offsetgroup": "Kinda",
         "orientation": "h",
         "pointpos": 0,
         "showlegend": true,
         "type": "box",
         "x": [
          91.25483944431792
         ],
         "x0": " ",
         "xaxis": "x",
         "y0": " ",
         "yaxis": "y"
        },
        {
         "alignmentgroup": "True",
         "boxpoints": "all",
         "fillcolor": "rgba(255,255,255,0)",
         "hoveron": "points",
         "hovertemplate": "<b>%{hovertext}</b><br><br>Municipality=Boxholm<br>x=%{x}<extra></extra>",
         "hovertext": [
          "Boxholm"
         ],
         "legendgroup": "Boxholm",
         "line": {
          "color": "rgba(255,255,255,0)"
         },
         "marker": {
          "color": "#FF6692"
         },
         "name": "Boxholm",
         "offsetgroup": "Boxholm",
         "orientation": "h",
         "pointpos": 0,
         "showlegend": true,
         "type": "box",
         "x": [
          90.16766714965846
         ],
         "x0": " ",
         "xaxis": "x",
         "y0": " ",
         "yaxis": "y"
        },
        {
         "alignmentgroup": "True",
         "boxpoints": "all",
         "fillcolor": "rgba(255,255,255,0)",
         "hoveron": "points",
         "hovertemplate": "<b>%{hovertext}</b><br><br>Municipality=Åtvidaberg<br>x=%{x}<extra></extra>",
         "hovertext": [
          "Åtvidaberg"
         ],
         "legendgroup": "Åtvidaberg",
         "line": {
          "color": "rgba(255,255,255,0)"
         },
         "marker": {
          "color": "#B6E880"
         },
         "name": "Åtvidaberg",
         "offsetgroup": "Åtvidaberg",
         "orientation": "h",
         "pointpos": 0,
         "showlegend": true,
         "type": "box",
         "x": [
          91.40361326186222
         ],
         "x0": " ",
         "xaxis": "x",
         "y0": " ",
         "yaxis": "y"
        },
        {
         "alignmentgroup": "True",
         "boxpoints": "all",
         "fillcolor": "rgba(255,255,255,0)",
         "hoveron": "points",
         "hovertemplate": "<b>%{hovertext}</b><br><br>Municipality=Finspång<br>x=%{x}<extra></extra>",
         "hovertext": [
          "Finspång"
         ],
         "legendgroup": "Finspång",
         "line": {
          "color": "rgba(255,255,255,0)"
         },
         "marker": {
          "color": "#FF97FF"
         },
         "name": "Finspång",
         "offsetgroup": "Finspång",
         "orientation": "h",
         "pointpos": 0,
         "showlegend": true,
         "type": "box",
         "x": [
          87.45874587458746
         ],
         "x0": " ",
         "xaxis": "x",
         "y0": " ",
         "yaxis": "y"
        },
        {
         "alignmentgroup": "True",
         "boxpoints": "all",
         "fillcolor": "rgba(255,255,255,0)",
         "hoveron": "points",
         "hovertemplate": "<b>%{hovertext}</b><br><br>Municipality=Valdemarsvik<br>x=%{x}<extra></extra>",
         "hovertext": [
          "Valdemarsvik"
         ],
         "legendgroup": "Valdemarsvik",
         "line": {
          "color": "rgba(255,255,255,0)"
         },
         "marker": {
          "color": "#FECB52"
         },
         "name": "Valdemarsvik",
         "offsetgroup": "Valdemarsvik",
         "orientation": "h",
         "pointpos": 0,
         "showlegend": true,
         "type": "box",
         "x": [
          88.85471587580551
         ],
         "x0": " ",
         "xaxis": "x",
         "y0": " ",
         "yaxis": "y"
        },
        {
         "alignmentgroup": "True",
         "boxpoints": "all",
         "fillcolor": "rgba(255,255,255,0)",
         "hoveron": "points",
         "hovertemplate": "<b>%{hovertext}</b><br><br>Municipality=Linköping<br>x=%{x}<extra></extra>",
         "hovertext": [
          "Linköping"
         ],
         "legendgroup": "Linköping",
         "line": {
          "color": "rgba(255,255,255,0)"
         },
         "marker": {
          "color": "#636efa"
         },
         "name": "Linköping",
         "offsetgroup": "Linköping",
         "orientation": "h",
         "pointpos": 0,
         "showlegend": true,
         "type": "box",
         "x": [
          90.03418958157802
         ],
         "x0": " ",
         "xaxis": "x",
         "y0": " ",
         "yaxis": "y"
        },
        {
         "alignmentgroup": "True",
         "boxpoints": "all",
         "fillcolor": "rgba(255,255,255,0)",
         "hoveron": "points",
         "hovertemplate": "<b>%{hovertext}</b><br><br>Municipality=Norrköping<br>x=%{x}<extra></extra>",
         "hovertext": [
          "Norrköping"
         ],
         "legendgroup": "Norrköping",
         "line": {
          "color": "rgba(255,255,255,0)"
         },
         "marker": {
          "color": "#EF553B"
         },
         "name": "Norrköping",
         "offsetgroup": "Norrköping",
         "orientation": "h",
         "pointpos": 0,
         "showlegend": true,
         "type": "box",
         "x": [
          85.10599225517986
         ],
         "x0": " ",
         "xaxis": "x",
         "y0": " ",
         "yaxis": "y"
        },
        {
         "alignmentgroup": "True",
         "boxpoints": "all",
         "fillcolor": "rgba(255,255,255,0)",
         "hoveron": "points",
         "hovertemplate": "<b>%{hovertext}</b><br><br>Municipality=Söderköping<br>x=%{x}<extra></extra>",
         "hovertext": [
          "Söderköping"
         ],
         "legendgroup": "Söderköping",
         "line": {
          "color": "rgba(255,255,255,0)"
         },
         "marker": {
          "color": "#00cc96"
         },
         "name": "Söderköping",
         "offsetgroup": "Söderköping",
         "orientation": "h",
         "pointpos": 0,
         "showlegend": true,
         "type": "box",
         "x": [
          90.5849233656553
         ],
         "x0": " ",
         "xaxis": "x",
         "y0": " ",
         "yaxis": "y"
        },
        {
         "alignmentgroup": "True",
         "boxpoints": "all",
         "fillcolor": "rgba(255,255,255,0)",
         "hoveron": "points",
         "hovertemplate": "<b>%{hovertext}</b><br><br>Municipality=Motala<br>x=%{x}<extra></extra>",
         "hovertext": [
          "Motala"
         ],
         "legendgroup": "Motala",
         "line": {
          "color": "rgba(255,255,255,0)"
         },
         "marker": {
          "color": "#ab63fa"
         },
         "name": "Motala",
         "offsetgroup": "Motala",
         "orientation": "h",
         "pointpos": 0,
         "showlegend": true,
         "type": "box",
         "x": [
          88.70022500130814
         ],
         "x0": " ",
         "xaxis": "x",
         "y0": " ",
         "yaxis": "y"
        },
        {
         "alignmentgroup": "True",
         "boxpoints": "all",
         "fillcolor": "rgba(255,255,255,0)",
         "hoveron": "points",
         "hovertemplate": "<b>%{hovertext}</b><br><br>Municipality=Vadstena<br>x=%{x}<extra></extra>",
         "hovertext": [
          "Vadstena"
         ],
         "legendgroup": "Vadstena",
         "line": {
          "color": "rgba(255,255,255,0)"
         },
         "marker": {
          "color": "#FFA15A"
         },
         "name": "Vadstena",
         "offsetgroup": "Vadstena",
         "orientation": "h",
         "pointpos": 0,
         "showlegend": true,
         "type": "box",
         "x": [
          91.99288256227757
         ],
         "x0": " ",
         "xaxis": "x",
         "y0": " ",
         "yaxis": "y"
        },
        {
         "alignmentgroup": "True",
         "boxpoints": "all",
         "fillcolor": "rgba(255,255,255,0)",
         "hoveron": "points",
         "hovertemplate": "<b>%{hovertext}</b><br><br>Municipality=Mjölby<br>x=%{x}<extra></extra>",
         "hovertext": [
          "Mjölby"
         ],
         "legendgroup": "Mjölby",
         "line": {
          "color": "rgba(255,255,255,0)"
         },
         "marker": {
          "color": "#19d3f3"
         },
         "name": "Mjölby",
         "offsetgroup": "Mjölby",
         "orientation": "h",
         "pointpos": 0,
         "showlegend": true,
         "type": "box",
         "x": [
          90.06617106445552
         ],
         "x0": " ",
         "xaxis": "x",
         "y0": " ",
         "yaxis": "y"
        },
        {
         "alignmentgroup": "True",
         "boxpoints": "all",
         "fillcolor": "rgba(255,255,255,0)",
         "hoveron": "points",
         "hovertemplate": "<b>%{hovertext}</b><br><br>Municipality=Aneby<br>x=%{x}<extra></extra>",
         "hovertext": [
          "Aneby"
         ],
         "legendgroup": "Aneby",
         "line": {
          "color": "rgba(255,255,255,0)"
         },
         "marker": {
          "color": "#FF6692"
         },
         "name": "Aneby",
         "offsetgroup": "Aneby",
         "orientation": "h",
         "pointpos": 0,
         "showlegend": true,
         "type": "box",
         "x": [
          87.82356948228883
         ],
         "x0": " ",
         "xaxis": "x",
         "y0": " ",
         "yaxis": "y"
        },
        {
         "alignmentgroup": "True",
         "boxpoints": "all",
         "fillcolor": "rgba(255,255,255,0)",
         "hoveron": "points",
         "hovertemplate": "<b>%{hovertext}</b><br><br>Municipality=Gnosjö<br>x=%{x}<extra></extra>",
         "hovertext": [
          "Gnosjö"
         ],
         "legendgroup": "Gnosjö",
         "line": {
          "color": "rgba(255,255,255,0)"
         },
         "marker": {
          "color": "#B6E880"
         },
         "name": "Gnosjö",
         "offsetgroup": "Gnosjö",
         "orientation": "h",
         "pointpos": 0,
         "showlegend": true,
         "type": "box",
         "x": [
          84.55018767405255
         ],
         "x0": " ",
         "xaxis": "x",
         "y0": " ",
         "yaxis": "y"
        },
        {
         "alignmentgroup": "True",
         "boxpoints": "all",
         "fillcolor": "rgba(255,255,255,0)",
         "hoveron": "points",
         "hovertemplate": "<b>%{hovertext}</b><br><br>Municipality=Mullsjö<br>x=%{x}<extra></extra>",
         "hovertext": [
          "Mullsjö"
         ],
         "legendgroup": "Mullsjö",
         "line": {
          "color": "rgba(255,255,255,0)"
         },
         "marker": {
          "color": "#FF97FF"
         },
         "name": "Mullsjö",
         "offsetgroup": "Mullsjö",
         "orientation": "h",
         "pointpos": 0,
         "showlegend": true,
         "type": "box",
         "x": [
          86.72868217054264
         ],
         "x0": " ",
         "xaxis": "x",
         "y0": " ",
         "yaxis": "y"
        },
        {
         "alignmentgroup": "True",
         "boxpoints": "all",
         "fillcolor": "rgba(255,255,255,0)",
         "hoveron": "points",
         "hovertemplate": "<b>%{hovertext}</b><br><br>Municipality=Habo<br>x=%{x}<extra></extra>",
         "hovertext": [
          "Habo"
         ],
         "legendgroup": "Habo",
         "line": {
          "color": "rgba(255,255,255,0)"
         },
         "marker": {
          "color": "#FECB52"
         },
         "name": "Habo",
         "offsetgroup": "Habo",
         "orientation": "h",
         "pointpos": 0,
         "showlegend": true,
         "type": "box",
         "x": [
          89.45092139902219
         ],
         "x0": " ",
         "xaxis": "x",
         "y0": " ",
         "yaxis": "y"
        },
        {
         "alignmentgroup": "True",
         "boxpoints": "all",
         "fillcolor": "rgba(255,255,255,0)",
         "hoveron": "points",
         "hovertemplate": "<b>%{hovertext}</b><br><br>Municipality=Gislaved<br>x=%{x}<extra></extra>",
         "hovertext": [
          "Gislaved"
         ],
         "legendgroup": "Gislaved",
         "line": {
          "color": "rgba(255,255,255,0)"
         },
         "marker": {
          "color": "#636efa"
         },
         "name": "Gislaved",
         "offsetgroup": "Gislaved",
         "orientation": "h",
         "pointpos": 0,
         "showlegend": true,
         "type": "box",
         "x": [
          84.98749609252891
         ],
         "x0": " ",
         "xaxis": "x",
         "y0": " ",
         "yaxis": "y"
        },
        {
         "alignmentgroup": "True",
         "boxpoints": "all",
         "fillcolor": "rgba(255,255,255,0)",
         "hoveron": "points",
         "hovertemplate": "<b>%{hovertext}</b><br><br>Municipality=Vaggeryd<br>x=%{x}<extra></extra>",
         "hovertext": [
          "Vaggeryd"
         ],
         "legendgroup": "Vaggeryd",
         "line": {
          "color": "rgba(255,255,255,0)"
         },
         "marker": {
          "color": "#EF553B"
         },
         "name": "Vaggeryd",
         "offsetgroup": "Vaggeryd",
         "orientation": "h",
         "pointpos": 0,
         "showlegend": true,
         "type": "box",
         "x": [
          84.26778907242694
         ],
         "x0": " ",
         "xaxis": "x",
         "y0": " ",
         "yaxis": "y"
        },
        {
         "alignmentgroup": "True",
         "boxpoints": "all",
         "fillcolor": "rgba(255,255,255,0)",
         "hoveron": "points",
         "hovertemplate": "<b>%{hovertext}</b><br><br>Municipality=Jönköping<br>x=%{x}<extra></extra>",
         "hovertext": [
          "Jönköping"
         ],
         "legendgroup": "Jönköping",
         "line": {
          "color": "rgba(255,255,255,0)"
         },
         "marker": {
          "color": "#00cc96"
         },
         "name": "Jönköping",
         "offsetgroup": "Jönköping",
         "orientation": "h",
         "pointpos": 0,
         "showlegend": true,
         "type": "box",
         "x": [
          86.65617826010178
         ],
         "x0": " ",
         "xaxis": "x",
         "y0": " ",
         "yaxis": "y"
        },
        {
         "alignmentgroup": "True",
         "boxpoints": "all",
         "fillcolor": "rgba(255,255,255,0)",
         "hoveron": "points",
         "hovertemplate": "<b>%{hovertext}</b><br><br>Municipality=Nässjö<br>x=%{x}<extra></extra>",
         "hovertext": [
          "Nässjö"
         ],
         "legendgroup": "Nässjö",
         "line": {
          "color": "rgba(255,255,255,0)"
         },
         "marker": {
          "color": "#ab63fa"
         },
         "name": "Nässjö",
         "offsetgroup": "Nässjö",
         "orientation": "h",
         "pointpos": 0,
         "showlegend": true,
         "type": "box",
         "x": [
          86.14919652071355
         ],
         "x0": " ",
         "xaxis": "x",
         "y0": " ",
         "yaxis": "y"
        },
        {
         "alignmentgroup": "True",
         "boxpoints": "all",
         "fillcolor": "rgba(255,255,255,0)",
         "hoveron": "points",
         "hovertemplate": "<b>%{hovertext}</b><br><br>Municipality=Värnamo<br>x=%{x}<extra></extra>",
         "hovertext": [
          "Värnamo"
         ],
         "legendgroup": "Värnamo",
         "line": {
          "color": "rgba(255,255,255,0)"
         },
         "marker": {
          "color": "#FFA15A"
         },
         "name": "Värnamo",
         "offsetgroup": "Värnamo",
         "orientation": "h",
         "pointpos": 0,
         "showlegend": true,
         "type": "box",
         "x": [
          87.00245049341015
         ],
         "x0": " ",
         "xaxis": "x",
         "y0": " ",
         "yaxis": "y"
        },
        {
         "alignmentgroup": "True",
         "boxpoints": "all",
         "fillcolor": "rgba(255,255,255,0)",
         "hoveron": "points",
         "hovertemplate": "<b>%{hovertext}</b><br><br>Municipality=Sävsjö<br>x=%{x}<extra></extra>",
         "hovertext": [
          "Sävsjö"
         ],
         "legendgroup": "Sävsjö",
         "line": {
          "color": "rgba(255,255,255,0)"
         },
         "marker": {
          "color": "#19d3f3"
         },
         "name": "Sävsjö",
         "offsetgroup": "Sävsjö",
         "orientation": "h",
         "pointpos": 0,
         "showlegend": true,
         "type": "box",
         "x": [
          83.62607919023519
         ],
         "x0": " ",
         "xaxis": "x",
         "y0": " ",
         "yaxis": "y"
        },
        {
         "alignmentgroup": "True",
         "boxpoints": "all",
         "fillcolor": "rgba(255,255,255,0)",
         "hoveron": "points",
         "hovertemplate": "<b>%{hovertext}</b><br><br>Municipality=Vetlanda<br>x=%{x}<extra></extra>",
         "hovertext": [
          "Vetlanda"
         ],
         "legendgroup": "Vetlanda",
         "line": {
          "color": "rgba(255,255,255,0)"
         },
         "marker": {
          "color": "#FF6692"
         },
         "name": "Vetlanda",
         "offsetgroup": "Vetlanda",
         "orientation": "h",
         "pointpos": 0,
         "showlegend": true,
         "type": "box",
         "x": [
          87.25854228378323
         ],
         "x0": " ",
         "xaxis": "x",
         "y0": " ",
         "yaxis": "y"
        },
        {
         "alignmentgroup": "True",
         "boxpoints": "all",
         "fillcolor": "rgba(255,255,255,0)",
         "hoveron": "points",
         "hovertemplate": "<b>%{hovertext}</b><br><br>Municipality=Eksjö<br>x=%{x}<extra></extra>",
         "hovertext": [
          "Eksjö"
         ],
         "legendgroup": "Eksjö",
         "line": {
          "color": "rgba(255,255,255,0)"
         },
         "marker": {
          "color": "#B6E880"
         },
         "name": "Eksjö",
         "offsetgroup": "Eksjö",
         "orientation": "h",
         "pointpos": 0,
         "showlegend": true,
         "type": "box",
         "x": [
          88.45485552480855
         ],
         "x0": " ",
         "xaxis": "x",
         "y0": " ",
         "yaxis": "y"
        },
        {
         "alignmentgroup": "True",
         "boxpoints": "all",
         "fillcolor": "rgba(255,255,255,0)",
         "hoveron": "points",
         "hovertemplate": "<b>%{hovertext}</b><br><br>Municipality=Tranås<br>x=%{x}<extra></extra>",
         "hovertext": [
          "Tranås"
         ],
         "legendgroup": "Tranås",
         "line": {
          "color": "rgba(255,255,255,0)"
         },
         "marker": {
          "color": "#FF97FF"
         },
         "name": "Tranås",
         "offsetgroup": "Tranås",
         "orientation": "h",
         "pointpos": 0,
         "showlegend": true,
         "type": "box",
         "x": [
          89.074557938871
         ],
         "x0": " ",
         "xaxis": "x",
         "y0": " ",
         "yaxis": "y"
        },
        {
         "alignmentgroup": "True",
         "boxpoints": "all",
         "fillcolor": "rgba(255,255,255,0)",
         "hoveron": "points",
         "hovertemplate": "<b>%{hovertext}</b><br><br>Municipality=Uppvidinge<br>x=%{x}<extra></extra>",
         "hovertext": [
          "Uppvidinge"
         ],
         "legendgroup": "Uppvidinge",
         "line": {
          "color": "rgba(255,255,255,0)"
         },
         "marker": {
          "color": "#FECB52"
         },
         "name": "Uppvidinge",
         "offsetgroup": "Uppvidinge",
         "orientation": "h",
         "pointpos": 0,
         "showlegend": true,
         "type": "box",
         "x": [
          83.3782459578638
         ],
         "x0": " ",
         "xaxis": "x",
         "y0": " ",
         "yaxis": "y"
        },
        {
         "alignmentgroup": "True",
         "boxpoints": "all",
         "fillcolor": "rgba(255,255,255,0)",
         "hoveron": "points",
         "hovertemplate": "<b>%{hovertext}</b><br><br>Municipality=Lessebo<br>x=%{x}<extra></extra>",
         "hovertext": [
          "Lessebo"
         ],
         "legendgroup": "Lessebo",
         "line": {
          "color": "rgba(255,255,255,0)"
         },
         "marker": {
          "color": "#636efa"
         },
         "name": "Lessebo",
         "offsetgroup": "Lessebo",
         "orientation": "h",
         "pointpos": 0,
         "showlegend": true,
         "type": "box",
         "x": [
          84.71806047398529
         ],
         "x0": " ",
         "xaxis": "x",
         "y0": " ",
         "yaxis": "y"
        },
        {
         "alignmentgroup": "True",
         "boxpoints": "all",
         "fillcolor": "rgba(255,255,255,0)",
         "hoveron": "points",
         "hovertemplate": "<b>%{hovertext}</b><br><br>Municipality=Tingsryd<br>x=%{x}<extra></extra>",
         "hovertext": [
          "Tingsryd"
         ],
         "legendgroup": "Tingsryd",
         "line": {
          "color": "rgba(255,255,255,0)"
         },
         "marker": {
          "color": "#EF553B"
         },
         "name": "Tingsryd",
         "offsetgroup": "Tingsryd",
         "orientation": "h",
         "pointpos": 0,
         "showlegend": true,
         "type": "box",
         "x": [
          84.43975793141391
         ],
         "x0": " ",
         "xaxis": "x",
         "y0": " ",
         "yaxis": "y"
        },
        {
         "alignmentgroup": "True",
         "boxpoints": "all",
         "fillcolor": "rgba(255,255,255,0)",
         "hoveron": "points",
         "hovertemplate": "<b>%{hovertext}</b><br><br>Municipality=Alvesta<br>x=%{x}<extra></extra>",
         "hovertext": [
          "Alvesta"
         ],
         "legendgroup": "Alvesta",
         "line": {
          "color": "rgba(255,255,255,0)"
         },
         "marker": {
          "color": "#00cc96"
         },
         "name": "Alvesta",
         "offsetgroup": "Alvesta",
         "orientation": "h",
         "pointpos": 0,
         "showlegend": true,
         "type": "box",
         "x": [
          83.14645705698763
         ],
         "x0": " ",
         "xaxis": "x",
         "y0": " ",
         "yaxis": "y"
        },
        {
         "alignmentgroup": "True",
         "boxpoints": "all",
         "fillcolor": "rgba(255,255,255,0)",
         "hoveron": "points",
         "hovertemplate": "<b>%{hovertext}</b><br><br>Municipality=Älmhult<br>x=%{x}<extra></extra>",
         "hovertext": [
          "Älmhult"
         ],
         "legendgroup": "Älmhult",
         "line": {
          "color": "rgba(255,255,255,0)"
         },
         "marker": {
          "color": "#ab63fa"
         },
         "name": "Älmhult",
         "offsetgroup": "Älmhult",
         "orientation": "h",
         "pointpos": 0,
         "showlegend": true,
         "type": "box",
         "x": [
          84.12157736145683
         ],
         "x0": " ",
         "xaxis": "x",
         "y0": " ",
         "yaxis": "y"
        },
        {
         "alignmentgroup": "True",
         "boxpoints": "all",
         "fillcolor": "rgba(255,255,255,0)",
         "hoveron": "points",
         "hovertemplate": "<b>%{hovertext}</b><br><br>Municipality=Markaryd<br>x=%{x}<extra></extra>",
         "hovertext": [
          "Markaryd"
         ],
         "legendgroup": "Markaryd",
         "line": {
          "color": "rgba(255,255,255,0)"
         },
         "marker": {
          "color": "#FFA15A"
         },
         "name": "Markaryd",
         "offsetgroup": "Markaryd",
         "orientation": "h",
         "pointpos": 0,
         "showlegend": true,
         "type": "box",
         "x": [
          81.23531386371266
         ],
         "x0": " ",
         "xaxis": "x",
         "y0": " ",
         "yaxis": "y"
        },
        {
         "alignmentgroup": "True",
         "boxpoints": "all",
         "fillcolor": "rgba(255,255,255,0)",
         "hoveron": "points",
         "hovertemplate": "<b>%{hovertext}</b><br><br>Municipality=Växjö<br>x=%{x}<extra></extra>",
         "hovertext": [
          "Växjö"
         ],
         "legendgroup": "Växjö",
         "line": {
          "color": "rgba(255,255,255,0)"
         },
         "marker": {
          "color": "#19d3f3"
         },
         "name": "Växjö",
         "offsetgroup": "Växjö",
         "orientation": "h",
         "pointpos": 0,
         "showlegend": true,
         "type": "box",
         "x": [
          86.8204761962403
         ],
         "x0": " ",
         "xaxis": "x",
         "y0": " ",
         "yaxis": "y"
        },
        {
         "alignmentgroup": "True",
         "boxpoints": "all",
         "fillcolor": "rgba(255,255,255,0)",
         "hoveron": "points",
         "hovertemplate": "<b>%{hovertext}</b><br><br>Municipality=Ljungby<br>x=%{x}<extra></extra>",
         "hovertext": [
          "Ljungby"
         ],
         "legendgroup": "Ljungby",
         "line": {
          "color": "rgba(255,255,255,0)"
         },
         "marker": {
          "color": "#FF6692"
         },
         "name": "Ljungby",
         "offsetgroup": "Ljungby",
         "orientation": "h",
         "pointpos": 0,
         "showlegend": true,
         "type": "box",
         "x": [
          82.85748608497177
         ],
         "x0": " ",
         "xaxis": "x",
         "y0": " ",
         "yaxis": "y"
        },
        {
         "alignmentgroup": "True",
         "boxpoints": "all",
         "fillcolor": "rgba(255,255,255,0)",
         "hoveron": "points",
         "hovertemplate": "<b>%{hovertext}</b><br><br>Municipality=Högsby<br>x=%{x}<extra></extra>",
         "hovertext": [
          "Högsby"
         ],
         "legendgroup": "Högsby",
         "line": {
          "color": "rgba(255,255,255,0)"
         },
         "marker": {
          "color": "#B6E880"
         },
         "name": "Högsby",
         "offsetgroup": "Högsby",
         "orientation": "h",
         "pointpos": 0,
         "showlegend": true,
         "type": "box",
         "x": [
          80.75126903553299
         ],
         "x0": " ",
         "xaxis": "x",
         "y0": " ",
         "yaxis": "y"
        },
        {
         "alignmentgroup": "True",
         "boxpoints": "all",
         "fillcolor": "rgba(255,255,255,0)",
         "hoveron": "points",
         "hovertemplate": "<b>%{hovertext}</b><br><br>Municipality=Torsås<br>x=%{x}<extra></extra>",
         "hovertext": [
          "Torsås"
         ],
         "legendgroup": "Torsås",
         "line": {
          "color": "rgba(255,255,255,0)"
         },
         "marker": {
          "color": "#FF97FF"
         },
         "name": "Torsås",
         "offsetgroup": "Torsås",
         "orientation": "h",
         "pointpos": 0,
         "showlegend": true,
         "type": "box",
         "x": [
          85.79373907516288
         ],
         "x0": " ",
         "xaxis": "x",
         "y0": " ",
         "yaxis": "y"
        },
        {
         "alignmentgroup": "True",
         "boxpoints": "all",
         "fillcolor": "rgba(255,255,255,0)",
         "hoveron": "points",
         "hovertemplate": "<b>%{hovertext}</b><br><br>Municipality=Mörbylånga<br>x=%{x}<extra></extra>",
         "hovertext": [
          "Mörbylånga"
         ],
         "legendgroup": "Mörbylånga",
         "line": {
          "color": "rgba(255,255,255,0)"
         },
         "marker": {
          "color": "#FECB52"
         },
         "name": "Mörbylånga",
         "offsetgroup": "Mörbylånga",
         "orientation": "h",
         "pointpos": 0,
         "showlegend": true,
         "type": "box",
         "x": [
          91.66970603253337
         ],
         "x0": " ",
         "xaxis": "x",
         "y0": " ",
         "yaxis": "y"
        },
        {
         "alignmentgroup": "True",
         "boxpoints": "all",
         "fillcolor": "rgba(255,255,255,0)",
         "hoveron": "points",
         "hovertemplate": "<b>%{hovertext}</b><br><br>Municipality=Hultsfred<br>x=%{x}<extra></extra>",
         "hovertext": [
          "Hultsfred"
         ],
         "legendgroup": "Hultsfred",
         "line": {
          "color": "rgba(255,255,255,0)"
         },
         "marker": {
          "color": "#636efa"
         },
         "name": "Hultsfred",
         "offsetgroup": "Hultsfred",
         "orientation": "h",
         "pointpos": 0,
         "showlegend": true,
         "type": "box",
         "x": [
          84.03306856864971
         ],
         "x0": " ",
         "xaxis": "x",
         "y0": " ",
         "yaxis": "y"
        },
        {
         "alignmentgroup": "True",
         "boxpoints": "all",
         "fillcolor": "rgba(255,255,255,0)",
         "hoveron": "points",
         "hovertemplate": "<b>%{hovertext}</b><br><br>Municipality=Mönsterås<br>x=%{x}<extra></extra>",
         "hovertext": [
          "Mönsterås"
         ],
         "legendgroup": "Mönsterås",
         "line": {
          "color": "rgba(255,255,255,0)"
         },
         "marker": {
          "color": "#EF553B"
         },
         "name": "Mönsterås",
         "offsetgroup": "Mönsterås",
         "orientation": "h",
         "pointpos": 0,
         "showlegend": true,
         "type": "box",
         "x": [
          86.0027614773904
         ],
         "x0": " ",
         "xaxis": "x",
         "y0": " ",
         "yaxis": "y"
        },
        {
         "alignmentgroup": "True",
         "boxpoints": "all",
         "fillcolor": "rgba(255,255,255,0)",
         "hoveron": "points",
         "hovertemplate": "<b>%{hovertext}</b><br><br>Municipality=Emmaboda<br>x=%{x}<extra></extra>",
         "hovertext": [
          "Emmaboda"
         ],
         "legendgroup": "Emmaboda",
         "line": {
          "color": "rgba(255,255,255,0)"
         },
         "marker": {
          "color": "#00cc96"
         },
         "name": "Emmaboda",
         "offsetgroup": "Emmaboda",
         "orientation": "h",
         "pointpos": 0,
         "showlegend": true,
         "type": "box",
         "x": [
          84.95885769603098
         ],
         "x0": " ",
         "xaxis": "x",
         "y0": " ",
         "yaxis": "y"
        },
        {
         "alignmentgroup": "True",
         "boxpoints": "all",
         "fillcolor": "rgba(255,255,255,0)",
         "hoveron": "points",
         "hovertemplate": "<b>%{hovertext}</b><br><br>Municipality=Kalmar<br>x=%{x}<extra></extra>",
         "hovertext": [
          "Kalmar"
         ],
         "legendgroup": "Kalmar",
         "line": {
          "color": "rgba(255,255,255,0)"
         },
         "marker": {
          "color": "#ab63fa"
         },
         "name": "Kalmar",
         "offsetgroup": "Kalmar",
         "orientation": "h",
         "pointpos": 0,
         "showlegend": true,
         "type": "box",
         "x": [
          89.61189605451821
         ],
         "x0": " ",
         "xaxis": "x",
         "y0": " ",
         "yaxis": "y"
        },
        {
         "alignmentgroup": "True",
         "boxpoints": "all",
         "fillcolor": "rgba(255,255,255,0)",
         "hoveron": "points",
         "hovertemplate": "<b>%{hovertext}</b><br><br>Municipality=Nybro<br>x=%{x}<extra></extra>",
         "hovertext": [
          "Nybro"
         ],
         "legendgroup": "Nybro",
         "line": {
          "color": "rgba(255,255,255,0)"
         },
         "marker": {
          "color": "#FFA15A"
         },
         "name": "Nybro",
         "offsetgroup": "Nybro",
         "orientation": "h",
         "pointpos": 0,
         "showlegend": true,
         "type": "box",
         "x": [
          86.51914893617021
         ],
         "x0": " ",
         "xaxis": "x",
         "y0": " ",
         "yaxis": "y"
        },
        {
         "alignmentgroup": "True",
         "boxpoints": "all",
         "fillcolor": "rgba(255,255,255,0)",
         "hoveron": "points",
         "hovertemplate": "<b>%{hovertext}</b><br><br>Municipality=Oskarshamn<br>x=%{x}<extra></extra>",
         "hovertext": [
          "Oskarshamn"
         ],
         "legendgroup": "Oskarshamn",
         "line": {
          "color": "rgba(255,255,255,0)"
         },
         "marker": {
          "color": "#19d3f3"
         },
         "name": "Oskarshamn",
         "offsetgroup": "Oskarshamn",
         "orientation": "h",
         "pointpos": 0,
         "showlegend": true,
         "type": "box",
         "x": [
          86.56339451086042
         ],
         "x0": " ",
         "xaxis": "x",
         "y0": " ",
         "yaxis": "y"
        },
        {
         "alignmentgroup": "True",
         "boxpoints": "all",
         "fillcolor": "rgba(255,255,255,0)",
         "hoveron": "points",
         "hovertemplate": "<b>%{hovertext}</b><br><br>Municipality=Västervik<br>x=%{x}<extra></extra>",
         "hovertext": [
          "Västervik"
         ],
         "legendgroup": "Västervik",
         "line": {
          "color": "rgba(255,255,255,0)"
         },
         "marker": {
          "color": "#FF6692"
         },
         "name": "Västervik",
         "offsetgroup": "Västervik",
         "orientation": "h",
         "pointpos": 0,
         "showlegend": true,
         "type": "box",
         "x": [
          89.73085647722397
         ],
         "x0": " ",
         "xaxis": "x",
         "y0": " ",
         "yaxis": "y"
        },
        {
         "alignmentgroup": "True",
         "boxpoints": "all",
         "fillcolor": "rgba(255,255,255,0)",
         "hoveron": "points",
         "hovertemplate": "<b>%{hovertext}</b><br><br>Municipality=Vimmerby<br>x=%{x}<extra></extra>",
         "hovertext": [
          "Vimmerby"
         ],
         "legendgroup": "Vimmerby",
         "line": {
          "color": "rgba(255,255,255,0)"
         },
         "marker": {
          "color": "#B6E880"
         },
         "name": "Vimmerby",
         "offsetgroup": "Vimmerby",
         "orientation": "h",
         "pointpos": 0,
         "showlegend": true,
         "type": "box",
         "x": [
          87.78754578754578
         ],
         "x0": " ",
         "xaxis": "x",
         "y0": " ",
         "yaxis": "y"
        },
        {
         "alignmentgroup": "True",
         "boxpoints": "all",
         "fillcolor": "rgba(255,255,255,0)",
         "hoveron": "points",
         "hovertemplate": "<b>%{hovertext}</b><br><br>Municipality=Borgholm<br>x=%{x}<extra></extra>",
         "hovertext": [
          "Borgholm"
         ],
         "legendgroup": "Borgholm",
         "line": {
          "color": "rgba(255,255,255,0)"
         },
         "marker": {
          "color": "#FF97FF"
         },
         "name": "Borgholm",
         "offsetgroup": "Borgholm",
         "orientation": "h",
         "pointpos": 0,
         "showlegend": true,
         "type": "box",
         "x": [
          90.12295908083048
         ],
         "x0": " ",
         "xaxis": "x",
         "y0": " ",
         "yaxis": "y"
        },
        {
         "alignmentgroup": "True",
         "boxpoints": "all",
         "fillcolor": "rgba(255,255,255,0)",
         "hoveron": "points",
         "hovertemplate": "<b>%{hovertext}</b><br><br>Municipality=Gotland<br>x=%{x}<extra></extra>",
         "hovertext": [
          "Gotland"
         ],
         "legendgroup": "Gotland",
         "line": {
          "color": "rgba(255,255,255,0)"
         },
         "marker": {
          "color": "#FECB52"
         },
         "name": "Gotland",
         "offsetgroup": "Gotland",
         "orientation": "h",
         "pointpos": 0,
         "showlegend": true,
         "type": "box",
         "x": [
          90.46992062903345
         ],
         "x0": " ",
         "xaxis": "x",
         "y0": " ",
         "yaxis": "y"
        },
        {
         "alignmentgroup": "True",
         "boxpoints": "all",
         "fillcolor": "rgba(255,255,255,0)",
         "hoveron": "points",
         "hovertemplate": "<b>%{hovertext}</b><br><br>Municipality=Olofström<br>x=%{x}<extra></extra>",
         "hovertext": [
          "Olofström"
         ],
         "legendgroup": "Olofström",
         "line": {
          "color": "rgba(255,255,255,0)"
         },
         "marker": {
          "color": "#636efa"
         },
         "name": "Olofström",
         "offsetgroup": "Olofström",
         "orientation": "h",
         "pointpos": 0,
         "showlegend": true,
         "type": "box",
         "x": [
          84.6271575546297
         ],
         "x0": " ",
         "xaxis": "x",
         "y0": " ",
         "yaxis": "y"
        },
        {
         "alignmentgroup": "True",
         "boxpoints": "all",
         "fillcolor": "rgba(255,255,255,0)",
         "hoveron": "points",
         "hovertemplate": "<b>%{hovertext}</b><br><br>Municipality=Karlskrona<br>x=%{x}<extra></extra>",
         "hovertext": [
          "Karlskrona"
         ],
         "legendgroup": "Karlskrona",
         "line": {
          "color": "rgba(255,255,255,0)"
         },
         "marker": {
          "color": "#EF553B"
         },
         "name": "Karlskrona",
         "offsetgroup": "Karlskrona",
         "orientation": "h",
         "pointpos": 0,
         "showlegend": true,
         "type": "box",
         "x": [
          89.62453474211421
         ],
         "x0": " ",
         "xaxis": "x",
         "y0": " ",
         "yaxis": "y"
        },
        {
         "alignmentgroup": "True",
         "boxpoints": "all",
         "fillcolor": "rgba(255,255,255,0)",
         "hoveron": "points",
         "hovertemplate": "<b>%{hovertext}</b><br><br>Municipality=Ronneby<br>x=%{x}<extra></extra>",
         "hovertext": [
          "Ronneby"
         ],
         "legendgroup": "Ronneby",
         "line": {
          "color": "rgba(255,255,255,0)"
         },
         "marker": {
          "color": "#00cc96"
         },
         "name": "Ronneby",
         "offsetgroup": "Ronneby",
         "orientation": "h",
         "pointpos": 0,
         "showlegend": true,
         "type": "box",
         "x": [
          86.67560744714422
         ],
         "x0": " ",
         "xaxis": "x",
         "y0": " ",
         "yaxis": "y"
        },
        {
         "alignmentgroup": "True",
         "boxpoints": "all",
         "fillcolor": "rgba(255,255,255,0)",
         "hoveron": "points",
         "hovertemplate": "<b>%{hovertext}</b><br><br>Municipality=Karlshamn<br>x=%{x}<extra></extra>",
         "hovertext": [
          "Karlshamn"
         ],
         "legendgroup": "Karlshamn",
         "line": {
          "color": "rgba(255,255,255,0)"
         },
         "marker": {
          "color": "#ab63fa"
         },
         "name": "Karlshamn",
         "offsetgroup": "Karlshamn",
         "orientation": "h",
         "pointpos": 0,
         "showlegend": true,
         "type": "box",
         "x": [
          87.54673062001834
         ],
         "x0": " ",
         "xaxis": "x",
         "y0": " ",
         "yaxis": "y"
        },
        {
         "alignmentgroup": "True",
         "boxpoints": "all",
         "fillcolor": "rgba(255,255,255,0)",
         "hoveron": "points",
         "hovertemplate": "<b>%{hovertext}</b><br><br>Municipality=Sölvesborg<br>x=%{x}<extra></extra>",
         "hovertext": [
          "Sölvesborg"
         ],
         "legendgroup": "Sölvesborg",
         "line": {
          "color": "rgba(255,255,255,0)"
         },
         "marker": {
          "color": "#FFA15A"
         },
         "name": "Sölvesborg",
         "offsetgroup": "Sölvesborg",
         "orientation": "h",
         "pointpos": 0,
         "showlegend": true,
         "type": "box",
         "x": [
          86.75364740664567
         ],
         "x0": " ",
         "xaxis": "x",
         "y0": " ",
         "yaxis": "y"
        },
        {
         "alignmentgroup": "True",
         "boxpoints": "all",
         "fillcolor": "rgba(255,255,255,0)",
         "hoveron": "points",
         "hovertemplate": "<b>%{hovertext}</b><br><br>Municipality=Svalöv<br>x=%{x}<extra></extra>",
         "hovertext": [
          "Svalöv"
         ],
         "legendgroup": "Svalöv",
         "line": {
          "color": "rgba(255,255,255,0)"
         },
         "marker": {
          "color": "#19d3f3"
         },
         "name": "Svalöv",
         "offsetgroup": "Svalöv",
         "orientation": "h",
         "pointpos": 0,
         "showlegend": true,
         "type": "box",
         "x": [
          81.74168777060697
         ],
         "x0": " ",
         "xaxis": "x",
         "y0": " ",
         "yaxis": "y"
        },
        {
         "alignmentgroup": "True",
         "boxpoints": "all",
         "fillcolor": "rgba(255,255,255,0)",
         "hoveron": "points",
         "hovertemplate": "<b>%{hovertext}</b><br><br>Municipality=Staffanstorp<br>x=%{x}<extra></extra>",
         "hovertext": [
          "Staffanstorp"
         ],
         "legendgroup": "Staffanstorp",
         "line": {
          "color": "rgba(255,255,255,0)"
         },
         "marker": {
          "color": "#FF6692"
         },
         "name": "Staffanstorp",
         "offsetgroup": "Staffanstorp",
         "orientation": "h",
         "pointpos": 0,
         "showlegend": true,
         "type": "box",
         "x": [
          88.46537345902829
         ],
         "x0": " ",
         "xaxis": "x",
         "y0": " ",
         "yaxis": "y"
        },
        {
         "alignmentgroup": "True",
         "boxpoints": "all",
         "fillcolor": "rgba(255,255,255,0)",
         "hoveron": "points",
         "hovertemplate": "<b>%{hovertext}</b><br><br>Municipality=Burlöv<br>x=%{x}<extra></extra>",
         "hovertext": [
          "Burlöv"
         ],
         "legendgroup": "Burlöv",
         "line": {
          "color": "rgba(255,255,255,0)"
         },
         "marker": {
          "color": "#B6E880"
         },
         "name": "Burlöv",
         "offsetgroup": "Burlöv",
         "orientation": "h",
         "pointpos": 0,
         "showlegend": true,
         "type": "box",
         "x": [
          76.32305292211689
         ],
         "x0": " ",
         "xaxis": "x",
         "y0": " ",
         "yaxis": "y"
        },
        {
         "alignmentgroup": "True",
         "boxpoints": "all",
         "fillcolor": "rgba(255,255,255,0)",
         "hoveron": "points",
         "hovertemplate": "<b>%{hovertext}</b><br><br>Municipality=Vellinge<br>x=%{x}<extra></extra>",
         "hovertext": [
          "Vellinge"
         ],
         "legendgroup": "Vellinge",
         "line": {
          "color": "rgba(255,255,255,0)"
         },
         "marker": {
          "color": "#FF97FF"
         },
         "name": "Vellinge",
         "offsetgroup": "Vellinge",
         "orientation": "h",
         "pointpos": 0,
         "showlegend": true,
         "type": "box",
         "x": [
          90.22929659623321
         ],
         "x0": " ",
         "xaxis": "x",
         "y0": " ",
         "yaxis": "y"
        },
        {
         "alignmentgroup": "True",
         "boxpoints": "all",
         "fillcolor": "rgba(255,255,255,0)",
         "hoveron": "points",
         "hovertemplate": "<b>%{hovertext}</b><br><br>Municipality=Östra Göinge<br>x=%{x}<extra></extra>",
         "hovertext": [
          "Östra Göinge"
         ],
         "legendgroup": "Östra Göinge",
         "line": {
          "color": "rgba(255,255,255,0)"
         },
         "marker": {
          "color": "#FECB52"
         },
         "name": "Östra Göinge",
         "offsetgroup": "Östra Göinge",
         "orientation": "h",
         "pointpos": 0,
         "showlegend": true,
         "type": "box",
         "x": [
          84.35352657767949
         ],
         "x0": " ",
         "xaxis": "x",
         "y0": " ",
         "yaxis": "y"
        },
        {
         "alignmentgroup": "True",
         "boxpoints": "all",
         "fillcolor": "rgba(255,255,255,0)",
         "hoveron": "points",
         "hovertemplate": "<b>%{hovertext}</b><br><br>Municipality=Örkelljunga<br>x=%{x}<extra></extra>",
         "hovertext": [
          "Örkelljunga"
         ],
         "legendgroup": "Örkelljunga",
         "line": {
          "color": "rgba(255,255,255,0)"
         },
         "marker": {
          "color": "#636efa"
         },
         "name": "Örkelljunga",
         "offsetgroup": "Örkelljunga",
         "orientation": "h",
         "pointpos": 0,
         "showlegend": true,
         "type": "box",
         "x": [
          78.84257739853408
         ],
         "x0": " ",
         "xaxis": "x",
         "y0": " ",
         "yaxis": "y"
        },
        {
         "alignmentgroup": "True",
         "boxpoints": "all",
         "fillcolor": "rgba(255,255,255,0)",
         "hoveron": "points",
         "hovertemplate": "<b>%{hovertext}</b><br><br>Municipality=Bjuv<br>x=%{x}<extra></extra>",
         "hovertext": [
          "Bjuv"
         ],
         "legendgroup": "Bjuv",
         "line": {
          "color": "rgba(255,255,255,0)"
         },
         "marker": {
          "color": "#EF553B"
         },
         "name": "Bjuv",
         "offsetgroup": "Bjuv",
         "orientation": "h",
         "pointpos": 0,
         "showlegend": true,
         "type": "box",
         "x": [
          76.45109015910431
         ],
         "x0": " ",
         "xaxis": "x",
         "y0": " ",
         "yaxis": "y"
        },
        {
         "alignmentgroup": "True",
         "boxpoints": "all",
         "fillcolor": "rgba(255,255,255,0)",
         "hoveron": "points",
         "hovertemplate": "<b>%{hovertext}</b><br><br>Municipality=Kävlinge<br>x=%{x}<extra></extra>",
         "hovertext": [
          "Kävlinge"
         ],
         "legendgroup": "Kävlinge",
         "line": {
          "color": "rgba(255,255,255,0)"
         },
         "marker": {
          "color": "#00cc96"
         },
         "name": "Kävlinge",
         "offsetgroup": "Kävlinge",
         "orientation": "h",
         "pointpos": 0,
         "showlegend": true,
         "type": "box",
         "x": [
          90
         ],
         "x0": " ",
         "xaxis": "x",
         "y0": " ",
         "yaxis": "y"
        },
        {
         "alignmentgroup": "True",
         "boxpoints": "all",
         "fillcolor": "rgba(255,255,255,0)",
         "hoveron": "points",
         "hovertemplate": "<b>%{hovertext}</b><br><br>Municipality=Lomma<br>x=%{x}<extra></extra>",
         "hovertext": [
          "Lomma"
         ],
         "legendgroup": "Lomma",
         "line": {
          "color": "rgba(255,255,255,0)"
         },
         "marker": {
          "color": "#ab63fa"
         },
         "name": "Lomma",
         "offsetgroup": "Lomma",
         "orientation": "h",
         "pointpos": 0,
         "showlegend": true,
         "type": "box",
         "x": [
          92.12176326999474
         ],
         "x0": " ",
         "xaxis": "x",
         "y0": " ",
         "yaxis": "y"
        },
        {
         "alignmentgroup": "True",
         "boxpoints": "all",
         "fillcolor": "rgba(255,255,255,0)",
         "hoveron": "points",
         "hovertemplate": "<b>%{hovertext}</b><br><br>Municipality=Svedala<br>x=%{x}<extra></extra>",
         "hovertext": [
          "Svedala"
         ],
         "legendgroup": "Svedala",
         "line": {
          "color": "rgba(255,255,255,0)"
         },
         "marker": {
          "color": "#FFA15A"
         },
         "name": "Svedala",
         "offsetgroup": "Svedala",
         "orientation": "h",
         "pointpos": 0,
         "showlegend": true,
         "type": "box",
         "x": [
          85.85165549144966
         ],
         "x0": " ",
         "xaxis": "x",
         "y0": " ",
         "yaxis": "y"
        },
        {
         "alignmentgroup": "True",
         "boxpoints": "all",
         "fillcolor": "rgba(255,255,255,0)",
         "hoveron": "points",
         "hovertemplate": "<b>%{hovertext}</b><br><br>Municipality=Skurup<br>x=%{x}<extra></extra>",
         "hovertext": [
          "Skurup"
         ],
         "legendgroup": "Skurup",
         "line": {
          "color": "rgba(255,255,255,0)"
         },
         "marker": {
          "color": "#19d3f3"
         },
         "name": "Skurup",
         "offsetgroup": "Skurup",
         "orientation": "h",
         "pointpos": 0,
         "showlegend": true,
         "type": "box",
         "x": [
          83.29459821114163
         ],
         "x0": " ",
         "xaxis": "x",
         "y0": " ",
         "yaxis": "y"
        },
        {
         "alignmentgroup": "True",
         "boxpoints": "all",
         "fillcolor": "rgba(255,255,255,0)",
         "hoveron": "points",
         "hovertemplate": "<b>%{hovertext}</b><br><br>Municipality=Sjöbo<br>x=%{x}<extra></extra>",
         "hovertext": [
          "Sjöbo"
         ],
         "legendgroup": "Sjöbo",
         "line": {
          "color": "rgba(255,255,255,0)"
         },
         "marker": {
          "color": "#FF6692"
         },
         "name": "Sjöbo",
         "offsetgroup": "Sjöbo",
         "orientation": "h",
         "pointpos": 0,
         "showlegend": true,
         "type": "box",
         "x": [
          82.75882352941176
         ],
         "x0": " ",
         "xaxis": "x",
         "y0": " ",
         "yaxis": "y"
        },
        {
         "alignmentgroup": "True",
         "boxpoints": "all",
         "fillcolor": "rgba(255,255,255,0)",
         "hoveron": "points",
         "hovertemplate": "<b>%{hovertext}</b><br><br>Municipality=Hörby<br>x=%{x}<extra></extra>",
         "hovertext": [
          "Hörby"
         ],
         "legendgroup": "Hörby",
         "line": {
          "color": "rgba(255,255,255,0)"
         },
         "marker": {
          "color": "#B6E880"
         },
         "name": "Hörby",
         "offsetgroup": "Hörby",
         "orientation": "h",
         "pointpos": 0,
         "showlegend": true,
         "type": "box",
         "x": [
          82.80552914503035
         ],
         "x0": " ",
         "xaxis": "x",
         "y0": " ",
         "yaxis": "y"
        },
        {
         "alignmentgroup": "True",
         "boxpoints": "all",
         "fillcolor": "rgba(255,255,255,0)",
         "hoveron": "points",
         "hovertemplate": "<b>%{hovertext}</b><br><br>Municipality=Höör<br>x=%{x}<extra></extra>",
         "hovertext": [
          "Höör"
         ],
         "legendgroup": "Höör",
         "line": {
          "color": "rgba(255,255,255,0)"
         },
         "marker": {
          "color": "#FF97FF"
         },
         "name": "Höör",
         "offsetgroup": "Höör",
         "orientation": "h",
         "pointpos": 0,
         "showlegend": true,
         "type": "box",
         "x": [
          86.4818734211784
         ],
         "x0": " ",
         "xaxis": "x",
         "y0": " ",
         "yaxis": "y"
        },
        {
         "alignmentgroup": "True",
         "boxpoints": "all",
         "fillcolor": "rgba(255,255,255,0)",
         "hoveron": "points",
         "hovertemplate": "<b>%{hovertext}</b><br><br>Municipality=Tomelilla<br>x=%{x}<extra></extra>",
         "hovertext": [
          "Tomelilla"
         ],
         "legendgroup": "Tomelilla",
         "line": {
          "color": "rgba(255,255,255,0)"
         },
         "marker": {
          "color": "#FECB52"
         },
         "name": "Tomelilla",
         "offsetgroup": "Tomelilla",
         "orientation": "h",
         "pointpos": 0,
         "showlegend": true,
         "type": "box",
         "x": [
          83.99035262807718
         ],
         "x0": " ",
         "xaxis": "x",
         "y0": " ",
         "yaxis": "y"
        },
        {
         "alignmentgroup": "True",
         "boxpoints": "all",
         "fillcolor": "rgba(255,255,255,0)",
         "hoveron": "points",
         "hovertemplate": "<b>%{hovertext}</b><br><br>Municipality=Bromölla<br>x=%{x}<extra></extra>",
         "hovertext": [
          "Bromölla"
         ],
         "legendgroup": "Bromölla",
         "line": {
          "color": "rgba(255,255,255,0)"
         },
         "marker": {
          "color": "#636efa"
         },
         "name": "Bromölla",
         "offsetgroup": "Bromölla",
         "orientation": "h",
         "pointpos": 0,
         "showlegend": true,
         "type": "box",
         "x": [
          85.1205469593379
         ],
         "x0": " ",
         "xaxis": "x",
         "y0": " ",
         "yaxis": "y"
        },
        {
         "alignmentgroup": "True",
         "boxpoints": "all",
         "fillcolor": "rgba(255,255,255,0)",
         "hoveron": "points",
         "hovertemplate": "<b>%{hovertext}</b><br><br>Municipality=Osby<br>x=%{x}<extra></extra>",
         "hovertext": [
          "Osby"
         ],
         "legendgroup": "Osby",
         "line": {
          "color": "rgba(255,255,255,0)"
         },
         "marker": {
          "color": "#EF553B"
         },
         "name": "Osby",
         "offsetgroup": "Osby",
         "orientation": "h",
         "pointpos": 0,
         "showlegend": true,
         "type": "box",
         "x": [
          85.62369701181376
         ],
         "x0": " ",
         "xaxis": "x",
         "y0": " ",
         "yaxis": "y"
        },
        {
         "alignmentgroup": "True",
         "boxpoints": "all",
         "fillcolor": "rgba(255,255,255,0)",
         "hoveron": "points",
         "hovertemplate": "<b>%{hovertext}</b><br><br>Municipality=Perstorp<br>x=%{x}<extra></extra>",
         "hovertext": [
          "Perstorp"
         ],
         "legendgroup": "Perstorp",
         "line": {
          "color": "rgba(255,255,255,0)"
         },
         "marker": {
          "color": "#00cc96"
         },
         "name": "Perstorp",
         "offsetgroup": "Perstorp",
         "orientation": "h",
         "pointpos": 0,
         "showlegend": true,
         "type": "box",
         "x": [
          77.91401521030575
         ],
         "x0": " ",
         "xaxis": "x",
         "y0": " ",
         "yaxis": "y"
        },
        {
         "alignmentgroup": "True",
         "boxpoints": "all",
         "fillcolor": "rgba(255,255,255,0)",
         "hoveron": "points",
         "hovertemplate": "<b>%{hovertext}</b><br><br>Municipality=Klippan<br>x=%{x}<extra></extra>",
         "hovertext": [
          "Klippan"
         ],
         "legendgroup": "Klippan",
         "line": {
          "color": "rgba(255,255,255,0)"
         },
         "marker": {
          "color": "#ab63fa"
         },
         "name": "Klippan",
         "offsetgroup": "Klippan",
         "orientation": "h",
         "pointpos": 0,
         "showlegend": true,
         "type": "box",
         "x": [
          79.3072308585435
         ],
         "x0": " ",
         "xaxis": "x",
         "y0": " ",
         "yaxis": "y"
        },
        {
         "alignmentgroup": "True",
         "boxpoints": "all",
         "fillcolor": "rgba(255,255,255,0)",
         "hoveron": "points",
         "hovertemplate": "<b>%{hovertext}</b><br><br>Municipality=Åstorp<br>x=%{x}<extra></extra>",
         "hovertext": [
          "Åstorp"
         ],
         "legendgroup": "Åstorp",
         "line": {
          "color": "rgba(255,255,255,0)"
         },
         "marker": {
          "color": "#FFA15A"
         },
         "name": "Åstorp",
         "offsetgroup": "Åstorp",
         "orientation": "h",
         "pointpos": 0,
         "showlegend": true,
         "type": "box",
         "x": [
          76.29849021165931
         ],
         "x0": " ",
         "xaxis": "x",
         "y0": " ",
         "yaxis": "y"
        },
        {
         "alignmentgroup": "True",
         "boxpoints": "all",
         "fillcolor": "rgba(255,255,255,0)",
         "hoveron": "points",
         "hovertemplate": "<b>%{hovertext}</b><br><br>Municipality=Båstad<br>x=%{x}<extra></extra>",
         "hovertext": [
          "Båstad"
         ],
         "legendgroup": "Båstad",
         "line": {
          "color": "rgba(255,255,255,0)"
         },
         "marker": {
          "color": "#19d3f3"
         },
         "name": "Båstad",
         "offsetgroup": "Båstad",
         "orientation": "h",
         "pointpos": 0,
         "showlegend": true,
         "type": "box",
         "x": [
          88.47847705640007
         ],
         "x0": " ",
         "xaxis": "x",
         "y0": " ",
         "yaxis": "y"
        },
        {
         "alignmentgroup": "True",
         "boxpoints": "all",
         "fillcolor": "rgba(255,255,255,0)",
         "hoveron": "points",
         "hovertemplate": "<b>%{hovertext}</b><br><br>Municipality=Malmö<br>x=%{x}<extra></extra>",
         "hovertext": [
          "Malmö"
         ],
         "legendgroup": "Malmö",
         "line": {
          "color": "rgba(255,255,255,0)"
         },
         "marker": {
          "color": "#FF6692"
         },
         "name": "Malmö",
         "offsetgroup": "Malmö",
         "orientation": "h",
         "pointpos": 0,
         "showlegend": true,
         "type": "box",
         "x": [
          77.5474649673138
         ],
         "x0": " ",
         "xaxis": "x",
         "y0": " ",
         "yaxis": "y"
        },
        {
         "alignmentgroup": "True",
         "boxpoints": "all",
         "fillcolor": "rgba(255,255,255,0)",
         "hoveron": "points",
         "hovertemplate": "<b>%{hovertext}</b><br><br>Municipality=Lund<br>x=%{x}<extra></extra>",
         "hovertext": [
          "Lund"
         ],
         "legendgroup": "Lund",
         "line": {
          "color": "rgba(255,255,255,0)"
         },
         "marker": {
          "color": "#B6E880"
         },
         "name": "Lund",
         "offsetgroup": "Lund",
         "orientation": "h",
         "pointpos": 0,
         "showlegend": true,
         "type": "box",
         "x": [
          88.64411177823312
         ],
         "x0": " ",
         "xaxis": "x",
         "y0": " ",
         "yaxis": "y"
        },
        {
         "alignmentgroup": "True",
         "boxpoints": "all",
         "fillcolor": "rgba(255,255,255,0)",
         "hoveron": "points",
         "hovertemplate": "<b>%{hovertext}</b><br><br>Municipality=Landskrona<br>x=%{x}<extra></extra>",
         "hovertext": [
          "Landskrona"
         ],
         "legendgroup": "Landskrona",
         "line": {
          "color": "rgba(255,255,255,0)"
         },
         "marker": {
          "color": "#FF97FF"
         },
         "name": "Landskrona",
         "offsetgroup": "Landskrona",
         "orientation": "h",
         "pointpos": 0,
         "showlegend": true,
         "type": "box",
         "x": [
          80.05225830533782
         ],
         "x0": " ",
         "xaxis": "x",
         "y0": " ",
         "yaxis": "y"
        },
        {
         "alignmentgroup": "True",
         "boxpoints": "all",
         "fillcolor": "rgba(255,255,255,0)",
         "hoveron": "points",
         "hovertemplate": "<b>%{hovertext}</b><br><br>Municipality=Helsingborg<br>x=%{x}<extra></extra>",
         "hovertext": [
          "Helsingborg"
         ],
         "legendgroup": "Helsingborg",
         "line": {
          "color": "rgba(255,255,255,0)"
         },
         "marker": {
          "color": "#FECB52"
         },
         "name": "Helsingborg",
         "offsetgroup": "Helsingborg",
         "orientation": "h",
         "pointpos": 0,
         "showlegend": true,
         "type": "box",
         "x": [
          80.60045834166448
         ],
         "x0": " ",
         "xaxis": "x",
         "y0": " ",
         "yaxis": "y"
        },
        {
         "alignmentgroup": "True",
         "boxpoints": "all",
         "fillcolor": "rgba(255,255,255,0)",
         "hoveron": "points",
         "hovertemplate": "<b>%{hovertext}</b><br><br>Municipality=Höganäs<br>x=%{x}<extra></extra>",
         "hovertext": [
          "Höganäs"
         ],
         "legendgroup": "Höganäs",
         "line": {
          "color": "rgba(255,255,255,0)"
         },
         "marker": {
          "color": "#636efa"
         },
         "name": "Höganäs",
         "offsetgroup": "Höganäs",
         "orientation": "h",
         "pointpos": 0,
         "showlegend": true,
         "type": "box",
         "x": [
          88.12984891792568
         ],
         "x0": " ",
         "xaxis": "x",
         "y0": " ",
         "yaxis": "y"
        },
        {
         "alignmentgroup": "True",
         "boxpoints": "all",
         "fillcolor": "rgba(255,255,255,0)",
         "hoveron": "points",
         "hovertemplate": "<b>%{hovertext}</b><br><br>Municipality=Eslöv<br>x=%{x}<extra></extra>",
         "hovertext": [
          "Eslöv"
         ],
         "legendgroup": "Eslöv",
         "line": {
          "color": "rgba(255,255,255,0)"
         },
         "marker": {
          "color": "#EF553B"
         },
         "name": "Eslöv",
         "offsetgroup": "Eslöv",
         "orientation": "h",
         "pointpos": 0,
         "showlegend": true,
         "type": "box",
         "x": [
          83.81689666778863
         ],
         "x0": " ",
         "xaxis": "x",
         "y0": " ",
         "yaxis": "y"
        },
        {
         "alignmentgroup": "True",
         "boxpoints": "all",
         "fillcolor": "rgba(255,255,255,0)",
         "hoveron": "points",
         "hovertemplate": "<b>%{hovertext}</b><br><br>Municipality=Ystad<br>x=%{x}<extra></extra>",
         "hovertext": [
          "Ystad"
         ],
         "legendgroup": "Ystad",
         "line": {
          "color": "rgba(255,255,255,0)"
         },
         "marker": {
          "color": "#00cc96"
         },
         "name": "Ystad",
         "offsetgroup": "Ystad",
         "orientation": "h",
         "pointpos": 0,
         "showlegend": true,
         "type": "box",
         "x": [
          88.85831695551188
         ],
         "x0": " ",
         "xaxis": "x",
         "y0": " ",
         "yaxis": "y"
        },
        {
         "alignmentgroup": "True",
         "boxpoints": "all",
         "fillcolor": "rgba(255,255,255,0)",
         "hoveron": "points",
         "hovertemplate": "<b>%{hovertext}</b><br><br>Municipality=Trelleborg<br>x=%{x}<extra></extra>",
         "hovertext": [
          "Trelleborg"
         ],
         "legendgroup": "Trelleborg",
         "line": {
          "color": "rgba(255,255,255,0)"
         },
         "marker": {
          "color": "#ab63fa"
         },
         "name": "Trelleborg",
         "offsetgroup": "Trelleborg",
         "orientation": "h",
         "pointpos": 0,
         "showlegend": true,
         "type": "box",
         "x": [
          83.32172701949861
         ],
         "x0": " ",
         "xaxis": "x",
         "y0": " ",
         "yaxis": "y"
        },
        {
         "alignmentgroup": "True",
         "boxpoints": "all",
         "fillcolor": "rgba(255,255,255,0)",
         "hoveron": "points",
         "hovertemplate": "<b>%{hovertext}</b><br><br>Municipality=Kristianstad<br>x=%{x}<extra></extra>",
         "hovertext": [
          "Kristianstad"
         ],
         "legendgroup": "Kristianstad",
         "line": {
          "color": "rgba(255,255,255,0)"
         },
         "marker": {
          "color": "#FFA15A"
         },
         "name": "Kristianstad",
         "offsetgroup": "Kristianstad",
         "orientation": "h",
         "pointpos": 0,
         "showlegend": true,
         "type": "box",
         "x": [
          86.60558985593839
         ],
         "x0": " ",
         "xaxis": "x",
         "y0": " ",
         "yaxis": "y"
        },
        {
         "alignmentgroup": "True",
         "boxpoints": "all",
         "fillcolor": "rgba(255,255,255,0)",
         "hoveron": "points",
         "hovertemplate": "<b>%{hovertext}</b><br><br>Municipality=Simrishamn<br>x=%{x}<extra></extra>",
         "hovertext": [
          "Simrishamn"
         ],
         "legendgroup": "Simrishamn",
         "line": {
          "color": "rgba(255,255,255,0)"
         },
         "marker": {
          "color": "#19d3f3"
         },
         "name": "Simrishamn",
         "offsetgroup": "Simrishamn",
         "orientation": "h",
         "pointpos": 0,
         "showlegend": true,
         "type": "box",
         "x": [
          86.39659339394636
         ],
         "x0": " ",
         "xaxis": "x",
         "y0": " ",
         "yaxis": "y"
        },
        {
         "alignmentgroup": "True",
         "boxpoints": "all",
         "fillcolor": "rgba(255,255,255,0)",
         "hoveron": "points",
         "hovertemplate": "<b>%{hovertext}</b><br><br>Municipality=Ängelholm<br>x=%{x}<extra></extra>",
         "hovertext": [
          "Ängelholm"
         ],
         "legendgroup": "Ängelholm",
         "line": {
          "color": "rgba(255,255,255,0)"
         },
         "marker": {
          "color": "#FF6692"
         },
         "name": "Ängelholm",
         "offsetgroup": "Ängelholm",
         "orientation": "h",
         "pointpos": 0,
         "showlegend": true,
         "type": "box",
         "x": [
          86.35854122676677
         ],
         "x0": " ",
         "xaxis": "x",
         "y0": " ",
         "yaxis": "y"
        },
        {
         "alignmentgroup": "True",
         "boxpoints": "all",
         "fillcolor": "rgba(255,255,255,0)",
         "hoveron": "points",
         "hovertemplate": "<b>%{hovertext}</b><br><br>Municipality=Hässleholm<br>x=%{x}<extra></extra>",
         "hovertext": [
          "Hässleholm"
         ],
         "legendgroup": "Hässleholm",
         "line": {
          "color": "rgba(255,255,255,0)"
         },
         "marker": {
          "color": "#B6E880"
         },
         "name": "Hässleholm",
         "offsetgroup": "Hässleholm",
         "orientation": "h",
         "pointpos": 0,
         "showlegend": true,
         "type": "box",
         "x": [
          83.57272468900986
         ],
         "x0": " ",
         "xaxis": "x",
         "y0": " ",
         "yaxis": "y"
        },
        {
         "alignmentgroup": "True",
         "boxpoints": "all",
         "fillcolor": "rgba(255,255,255,0)",
         "hoveron": "points",
         "hovertemplate": "<b>%{hovertext}</b><br><br>Municipality=Hylte<br>x=%{x}<extra></extra>",
         "hovertext": [
          "Hylte"
         ],
         "legendgroup": "Hylte",
         "line": {
          "color": "rgba(255,255,255,0)"
         },
         "marker": {
          "color": "#FF97FF"
         },
         "name": "Hylte",
         "offsetgroup": "Hylte",
         "orientation": "h",
         "pointpos": 0,
         "showlegend": true,
         "type": "box",
         "x": [
          82.92441412696667
         ],
         "x0": " ",
         "xaxis": "x",
         "y0": " ",
         "yaxis": "y"
        },
        {
         "alignmentgroup": "True",
         "boxpoints": "all",
         "fillcolor": "rgba(255,255,255,0)",
         "hoveron": "points",
         "hovertemplate": "<b>%{hovertext}</b><br><br>Municipality=Halmstad<br>x=%{x}<extra></extra>",
         "hovertext": [
          "Halmstad"
         ],
         "legendgroup": "Halmstad",
         "line": {
          "color": "rgba(255,255,255,0)"
         },
         "marker": {
          "color": "#FECB52"
         },
         "name": "Halmstad",
         "offsetgroup": "Halmstad",
         "orientation": "h",
         "pointpos": 0,
         "showlegend": true,
         "type": "box",
         "x": [
          86.4247311827957
         ],
         "x0": " ",
         "xaxis": "x",
         "y0": " ",
         "yaxis": "y"
        },
        {
         "alignmentgroup": "True",
         "boxpoints": "all",
         "fillcolor": "rgba(255,255,255,0)",
         "hoveron": "points",
         "hovertemplate": "<b>%{hovertext}</b><br><br>Municipality=Laholm<br>x=%{x}<extra></extra>",
         "hovertext": [
          "Laholm"
         ],
         "legendgroup": "Laholm",
         "line": {
          "color": "rgba(255,255,255,0)"
         },
         "marker": {
          "color": "#636efa"
         },
         "name": "Laholm",
         "offsetgroup": "Laholm",
         "orientation": "h",
         "pointpos": 0,
         "showlegend": true,
         "type": "box",
         "x": [
          85.2966689798751
         ],
         "x0": " ",
         "xaxis": "x",
         "y0": " ",
         "yaxis": "y"
        },
        {
         "alignmentgroup": "True",
         "boxpoints": "all",
         "fillcolor": "rgba(255,255,255,0)",
         "hoveron": "points",
         "hovertemplate": "<b>%{hovertext}</b><br><br>Municipality=Falkenberg<br>x=%{x}<extra></extra>",
         "hovertext": [
          "Falkenberg"
         ],
         "legendgroup": "Falkenberg",
         "line": {
          "color": "rgba(255,255,255,0)"
         },
         "marker": {
          "color": "#EF553B"
         },
         "name": "Falkenberg",
         "offsetgroup": "Falkenberg",
         "orientation": "h",
         "pointpos": 0,
         "showlegend": true,
         "type": "box",
         "x": [
          86.64320346533435
         ],
         "x0": " ",
         "xaxis": "x",
         "y0": " ",
         "yaxis": "y"
        },
        {
         "alignmentgroup": "True",
         "boxpoints": "all",
         "fillcolor": "rgba(255,255,255,0)",
         "hoveron": "points",
         "hovertemplate": "<b>%{hovertext}</b><br><br>Municipality=Varberg<br>x=%{x}<extra></extra>",
         "hovertext": [
          "Varberg"
         ],
         "legendgroup": "Varberg",
         "line": {
          "color": "rgba(255,255,255,0)"
         },
         "marker": {
          "color": "#00cc96"
         },
         "name": "Varberg",
         "offsetgroup": "Varberg",
         "orientation": "h",
         "pointpos": 0,
         "showlegend": true,
         "type": "box",
         "x": [
          89.482327984398
         ],
         "x0": " ",
         "xaxis": "x",
         "y0": " ",
         "yaxis": "y"
        },
        {
         "alignmentgroup": "True",
         "boxpoints": "all",
         "fillcolor": "rgba(255,255,255,0)",
         "hoveron": "points",
         "hovertemplate": "<b>%{hovertext}</b><br><br>Municipality=Kungsbacka<br>x=%{x}<extra></extra>",
         "hovertext": [
          "Kungsbacka"
         ],
         "legendgroup": "Kungsbacka",
         "line": {
          "color": "rgba(255,255,255,0)"
         },
         "marker": {
          "color": "#ab63fa"
         },
         "name": "Kungsbacka",
         "offsetgroup": "Kungsbacka",
         "orientation": "h",
         "pointpos": 0,
         "showlegend": true,
         "type": "box",
         "x": [
          89.57306726396524
         ],
         "x0": " ",
         "xaxis": "x",
         "y0": " ",
         "yaxis": "y"
        },
        {
         "alignmentgroup": "True",
         "boxpoints": "all",
         "fillcolor": "rgba(255,255,255,0)",
         "hoveron": "points",
         "hovertemplate": "<b>%{hovertext}</b><br><br>Municipality=Härryda<br>x=%{x}<extra></extra>",
         "hovertext": [
          "Härryda"
         ],
         "legendgroup": "Härryda",
         "line": {
          "color": "rgba(255,255,255,0)"
         },
         "marker": {
          "color": "#FFA15A"
         },
         "name": "Härryda",
         "offsetgroup": "Härryda",
         "orientation": "h",
         "pointpos": 0,
         "showlegend": true,
         "type": "box",
         "x": [
          88.00984423302019
         ],
         "x0": " ",
         "xaxis": "x",
         "y0": " ",
         "yaxis": "y"
        },
        {
         "alignmentgroup": "True",
         "boxpoints": "all",
         "fillcolor": "rgba(255,255,255,0)",
         "hoveron": "points",
         "hovertemplate": "<b>%{hovertext}</b><br><br>Municipality=Partille<br>x=%{x}<extra></extra>",
         "hovertext": [
          "Partille"
         ],
         "legendgroup": "Partille",
         "line": {
          "color": "rgba(255,255,255,0)"
         },
         "marker": {
          "color": "#19d3f3"
         },
         "name": "Partille",
         "offsetgroup": "Partille",
         "orientation": "h",
         "pointpos": 0,
         "showlegend": true,
         "type": "box",
         "x": [
          86.36322936875094
         ],
         "x0": " ",
         "xaxis": "x",
         "y0": " ",
         "yaxis": "y"
        },
        {
         "alignmentgroup": "True",
         "boxpoints": "all",
         "fillcolor": "rgba(255,255,255,0)",
         "hoveron": "points",
         "hovertemplate": "<b>%{hovertext}</b><br><br>Municipality=Öckerö<br>x=%{x}<extra></extra>",
         "hovertext": [
          "Öckerö"
         ],
         "legendgroup": "Öckerö",
         "line": {
          "color": "rgba(255,255,255,0)"
         },
         "marker": {
          "color": "#FF6692"
         },
         "name": "Öckerö",
         "offsetgroup": "Öckerö",
         "orientation": "h",
         "pointpos": 0,
         "showlegend": true,
         "type": "box",
         "x": [
          89.51605845803799
         ],
         "x0": " ",
         "xaxis": "x",
         "y0": " ",
         "yaxis": "y"
        },
        {
         "alignmentgroup": "True",
         "boxpoints": "all",
         "fillcolor": "rgba(255,255,255,0)",
         "hoveron": "points",
         "hovertemplate": "<b>%{hovertext}</b><br><br>Municipality=Stenungsund<br>x=%{x}<extra></extra>",
         "hovertext": [
          "Stenungsund"
         ],
         "legendgroup": "Stenungsund",
         "line": {
          "color": "rgba(255,255,255,0)"
         },
         "marker": {
          "color": "#B6E880"
         },
         "name": "Stenungsund",
         "offsetgroup": "Stenungsund",
         "orientation": "h",
         "pointpos": 0,
         "showlegend": true,
         "type": "box",
         "x": [
          87.36820083682008
         ],
         "x0": " ",
         "xaxis": "x",
         "y0": " ",
         "yaxis": "y"
        },
        {
         "alignmentgroup": "True",
         "boxpoints": "all",
         "fillcolor": "rgba(255,255,255,0)",
         "hoveron": "points",
         "hovertemplate": "<b>%{hovertext}</b><br><br>Municipality=Tjörn<br>x=%{x}<extra></extra>",
         "hovertext": [
          "Tjörn"
         ],
         "legendgroup": "Tjörn",
         "line": {
          "color": "rgba(255,255,255,0)"
         },
         "marker": {
          "color": "#FF97FF"
         },
         "name": "Tjörn",
         "offsetgroup": "Tjörn",
         "orientation": "h",
         "pointpos": 0,
         "showlegend": true,
         "type": "box",
         "x": [
          89.83050847457628
         ],
         "x0": " ",
         "xaxis": "x",
         "y0": " ",
         "yaxis": "y"
        },
        {
         "alignmentgroup": "True",
         "boxpoints": "all",
         "fillcolor": "rgba(255,255,255,0)",
         "hoveron": "points",
         "hovertemplate": "<b>%{hovertext}</b><br><br>Municipality=Orust<br>x=%{x}<extra></extra>",
         "hovertext": [
          "Orust"
         ],
         "legendgroup": "Orust",
         "line": {
          "color": "rgba(255,255,255,0)"
         },
         "marker": {
          "color": "#FECB52"
         },
         "name": "Orust",
         "offsetgroup": "Orust",
         "orientation": "h",
         "pointpos": 0,
         "showlegend": true,
         "type": "box",
         "x": [
          88.57536631365153
         ],
         "x0": " ",
         "xaxis": "x",
         "y0": " ",
         "yaxis": "y"
        },
        {
         "alignmentgroup": "True",
         "boxpoints": "all",
         "fillcolor": "rgba(255,255,255,0)",
         "hoveron": "points",
         "hovertemplate": "<b>%{hovertext}</b><br><br>Municipality=Sotenäs<br>x=%{x}<extra></extra>",
         "hovertext": [
          "Sotenäs"
         ],
         "legendgroup": "Sotenäs",
         "line": {
          "color": "rgba(255,255,255,0)"
         },
         "marker": {
          "color": "#636efa"
         },
         "name": "Sotenäs",
         "offsetgroup": "Sotenäs",
         "orientation": "h",
         "pointpos": 0,
         "showlegend": true,
         "type": "box",
         "x": [
          90.7703315048891
         ],
         "x0": " ",
         "xaxis": "x",
         "y0": " ",
         "yaxis": "y"
        },
        {
         "alignmentgroup": "True",
         "boxpoints": "all",
         "fillcolor": "rgba(255,255,255,0)",
         "hoveron": "points",
         "hovertemplate": "<b>%{hovertext}</b><br><br>Municipality=Munkedal<br>x=%{x}<extra></extra>",
         "hovertext": [
          "Munkedal"
         ],
         "legendgroup": "Munkedal",
         "line": {
          "color": "rgba(255,255,255,0)"
         },
         "marker": {
          "color": "#EF553B"
         },
         "name": "Munkedal",
         "offsetgroup": "Munkedal",
         "orientation": "h",
         "pointpos": 0,
         "showlegend": true,
         "type": "box",
         "x": [
          86.69333045076209
         ],
         "x0": " ",
         "xaxis": "x",
         "y0": " ",
         "yaxis": "y"
        },
        {
         "alignmentgroup": "True",
         "boxpoints": "all",
         "fillcolor": "rgba(255,255,255,0)",
         "hoveron": "points",
         "hovertemplate": "<b>%{hovertext}</b><br><br>Municipality=Tanum<br>x=%{x}<extra></extra>",
         "hovertext": [
          "Tanum"
         ],
         "legendgroup": "Tanum",
         "line": {
          "color": "rgba(255,255,255,0)"
         },
         "marker": {
          "color": "#00cc96"
         },
         "name": "Tanum",
         "offsetgroup": "Tanum",
         "orientation": "h",
         "pointpos": 0,
         "showlegend": true,
         "type": "box",
         "x": [
          89.22155688622755
         ],
         "x0": " ",
         "xaxis": "x",
         "y0": " ",
         "yaxis": "y"
        },
        {
         "alignmentgroup": "True",
         "boxpoints": "all",
         "fillcolor": "rgba(255,255,255,0)",
         "hoveron": "points",
         "hovertemplate": "<b>%{hovertext}</b><br><br>Municipality=Dals-Ed<br>x=%{x}<extra></extra>",
         "hovertext": [
          "Dals-Ed"
         ],
         "legendgroup": "Dals-Ed",
         "line": {
          "color": "rgba(255,255,255,0)"
         },
         "marker": {
          "color": "#ab63fa"
         },
         "name": "Dals-Ed",
         "offsetgroup": "Dals-Ed",
         "orientation": "h",
         "pointpos": 0,
         "showlegend": true,
         "type": "box",
         "x": [
          85.66308243727599
         ],
         "x0": " ",
         "xaxis": "x",
         "y0": " ",
         "yaxis": "y"
        },
        {
         "alignmentgroup": "True",
         "boxpoints": "all",
         "fillcolor": "rgba(255,255,255,0)",
         "hoveron": "points",
         "hovertemplate": "<b>%{hovertext}</b><br><br>Municipality=Färgelanda<br>x=%{x}<extra></extra>",
         "hovertext": [
          "Färgelanda"
         ],
         "legendgroup": "Färgelanda",
         "line": {
          "color": "rgba(255,255,255,0)"
         },
         "marker": {
          "color": "#FFA15A"
         },
         "name": "Färgelanda",
         "offsetgroup": "Färgelanda",
         "orientation": "h",
         "pointpos": 0,
         "showlegend": true,
         "type": "box",
         "x": [
          86.8498869368586
         ],
         "x0": " ",
         "xaxis": "x",
         "y0": " ",
         "yaxis": "y"
        },
        {
         "alignmentgroup": "True",
         "boxpoints": "all",
         "fillcolor": "rgba(255,255,255,0)",
         "hoveron": "points",
         "hovertemplate": "<b>%{hovertext}</b><br><br>Municipality=Ale<br>x=%{x}<extra></extra>",
         "hovertext": [
          "Ale"
         ],
         "legendgroup": "Ale",
         "line": {
          "color": "rgba(255,255,255,0)"
         },
         "marker": {
          "color": "#19d3f3"
         },
         "name": "Ale",
         "offsetgroup": "Ale",
         "orientation": "h",
         "pointpos": 0,
         "showlegend": true,
         "type": "box",
         "x": [
          84.55254636443921
         ],
         "x0": " ",
         "xaxis": "x",
         "y0": " ",
         "yaxis": "y"
        },
        {
         "alignmentgroup": "True",
         "boxpoints": "all",
         "fillcolor": "rgba(255,255,255,0)",
         "hoveron": "points",
         "hovertemplate": "<b>%{hovertext}</b><br><br>Municipality=Lerum<br>x=%{x}<extra></extra>",
         "hovertext": [
          "Lerum"
         ],
         "legendgroup": "Lerum",
         "line": {
          "color": "rgba(255,255,255,0)"
         },
         "marker": {
          "color": "#FF6692"
         },
         "name": "Lerum",
         "offsetgroup": "Lerum",
         "orientation": "h",
         "pointpos": 0,
         "showlegend": true,
         "type": "box",
         "x": [
          88.03981245373036
         ],
         "x0": " ",
         "xaxis": "x",
         "y0": " ",
         "yaxis": "y"
        },
        {
         "alignmentgroup": "True",
         "boxpoints": "all",
         "fillcolor": "rgba(255,255,255,0)",
         "hoveron": "points",
         "hovertemplate": "<b>%{hovertext}</b><br><br>Municipality=Vårgårda<br>x=%{x}<extra></extra>",
         "hovertext": [
          "Vårgårda"
         ],
         "legendgroup": "Vårgårda",
         "line": {
          "color": "rgba(255,255,255,0)"
         },
         "marker": {
          "color": "#B6E880"
         },
         "name": "Vårgårda",
         "offsetgroup": "Vårgårda",
         "orientation": "h",
         "pointpos": 0,
         "showlegend": true,
         "type": "box",
         "x": [
          86.75598086124403
         ],
         "x0": " ",
         "xaxis": "x",
         "y0": " ",
         "yaxis": "y"
        },
        {
         "alignmentgroup": "True",
         "boxpoints": "all",
         "fillcolor": "rgba(255,255,255,0)",
         "hoveron": "points",
         "hovertemplate": "<b>%{hovertext}</b><br><br>Municipality=Bollebygd<br>x=%{x}<extra></extra>",
         "hovertext": [
          "Bollebygd"
         ],
         "legendgroup": "Bollebygd",
         "line": {
          "color": "rgba(255,255,255,0)"
         },
         "marker": {
          "color": "#FF97FF"
         },
         "name": "Bollebygd",
         "offsetgroup": "Bollebygd",
         "orientation": "h",
         "pointpos": 0,
         "showlegend": true,
         "type": "box",
         "x": [
          87.15043394406943
         ],
         "x0": " ",
         "xaxis": "x",
         "y0": " ",
         "yaxis": "y"
        },
        {
         "alignmentgroup": "True",
         "boxpoints": "all",
         "fillcolor": "rgba(255,255,255,0)",
         "hoveron": "points",
         "hovertemplate": "<b>%{hovertext}</b><br><br>Municipality=Grästorp<br>x=%{x}<extra></extra>",
         "hovertext": [
          "Grästorp"
         ],
         "legendgroup": "Grästorp",
         "line": {
          "color": "rgba(255,255,255,0)"
         },
         "marker": {
          "color": "#FECB52"
         },
         "name": "Grästorp",
         "offsetgroup": "Grästorp",
         "orientation": "h",
         "pointpos": 0,
         "showlegend": true,
         "type": "box",
         "x": [
          89.16946143223515
         ],
         "x0": " ",
         "xaxis": "x",
         "y0": " ",
         "yaxis": "y"
        },
        {
         "alignmentgroup": "True",
         "boxpoints": "all",
         "fillcolor": "rgba(255,255,255,0)",
         "hoveron": "points",
         "hovertemplate": "<b>%{hovertext}</b><br><br>Municipality=Essunga<br>x=%{x}<extra></extra>",
         "hovertext": [
          "Essunga"
         ],
         "legendgroup": "Essunga",
         "line": {
          "color": "rgba(255,255,255,0)"
         },
         "marker": {
          "color": "#636efa"
         },
         "name": "Essunga",
         "offsetgroup": "Essunga",
         "orientation": "h",
         "pointpos": 0,
         "showlegend": true,
         "type": "box",
         "x": [
          86.23595505617978
         ],
         "x0": " ",
         "xaxis": "x",
         "y0": " ",
         "yaxis": "y"
        },
        {
         "alignmentgroup": "True",
         "boxpoints": "all",
         "fillcolor": "rgba(255,255,255,0)",
         "hoveron": "points",
         "hovertemplate": "<b>%{hovertext}</b><br><br>Municipality=Karlsborg<br>x=%{x}<extra></extra>",
         "hovertext": [
          "Karlsborg"
         ],
         "legendgroup": "Karlsborg",
         "line": {
          "color": "rgba(255,255,255,0)"
         },
         "marker": {
          "color": "#EF553B"
         },
         "name": "Karlsborg",
         "offsetgroup": "Karlsborg",
         "orientation": "h",
         "pointpos": 0,
         "showlegend": true,
         "type": "box",
         "x": [
          90.88575096277279
         ],
         "x0": " ",
         "xaxis": "x",
         "y0": " ",
         "yaxis": "y"
        },
        {
         "alignmentgroup": "True",
         "boxpoints": "all",
         "fillcolor": "rgba(255,255,255,0)",
         "hoveron": "points",
         "hovertemplate": "<b>%{hovertext}</b><br><br>Municipality=Gullspång<br>x=%{x}<extra></extra>",
         "hovertext": [
          "Gullspång"
         ],
         "legendgroup": "Gullspång",
         "line": {
          "color": "rgba(255,255,255,0)"
         },
         "marker": {
          "color": "#00cc96"
         },
         "name": "Gullspång",
         "offsetgroup": "Gullspång",
         "orientation": "h",
         "pointpos": 0,
         "showlegend": true,
         "type": "box",
         "x": [
          86.06309420916163
         ],
         "x0": " ",
         "xaxis": "x",
         "y0": " ",
         "yaxis": "y"
        },
        {
         "alignmentgroup": "True",
         "boxpoints": "all",
         "fillcolor": "rgba(255,255,255,0)",
         "hoveron": "points",
         "hovertemplate": "<b>%{hovertext}</b><br><br>Municipality=Tranemo<br>x=%{x}<extra></extra>",
         "hovertext": [
          "Tranemo"
         ],
         "legendgroup": "Tranemo",
         "line": {
          "color": "rgba(255,255,255,0)"
         },
         "marker": {
          "color": "#ab63fa"
         },
         "name": "Tranemo",
         "offsetgroup": "Tranemo",
         "orientation": "h",
         "pointpos": 0,
         "showlegend": true,
         "type": "box",
         "x": [
          85.6102701666986
         ],
         "x0": " ",
         "xaxis": "x",
         "y0": " ",
         "yaxis": "y"
        },
        {
         "alignmentgroup": "True",
         "boxpoints": "all",
         "fillcolor": "rgba(255,255,255,0)",
         "hoveron": "points",
         "hovertemplate": "<b>%{hovertext}</b><br><br>Municipality=Bengtsfors<br>x=%{x}<extra></extra>",
         "hovertext": [
          "Bengtsfors"
         ],
         "legendgroup": "Bengtsfors",
         "line": {
          "color": "rgba(255,255,255,0)"
         },
         "marker": {
          "color": "#FFA15A"
         },
         "name": "Bengtsfors",
         "offsetgroup": "Bengtsfors",
         "orientation": "h",
         "pointpos": 0,
         "showlegend": true,
         "type": "box",
         "x": [
          87.36968244457759
         ],
         "x0": " ",
         "xaxis": "x",
         "y0": " ",
         "yaxis": "y"
        },
        {
         "alignmentgroup": "True",
         "boxpoints": "all",
         "fillcolor": "rgba(255,255,255,0)",
         "hoveron": "points",
         "hovertemplate": "<b>%{hovertext}</b><br><br>Municipality=Mellerud<br>x=%{x}<extra></extra>",
         "hovertext": [
          "Mellerud"
         ],
         "legendgroup": "Mellerud",
         "line": {
          "color": "rgba(255,255,255,0)"
         },
         "marker": {
          "color": "#19d3f3"
         },
         "name": "Mellerud",
         "offsetgroup": "Mellerud",
         "orientation": "h",
         "pointpos": 0,
         "showlegend": true,
         "type": "box",
         "x": [
          84.53316953316953
         ],
         "x0": " ",
         "xaxis": "x",
         "y0": " ",
         "yaxis": "y"
        },
        {
         "alignmentgroup": "True",
         "boxpoints": "all",
         "fillcolor": "rgba(255,255,255,0)",
         "hoveron": "points",
         "hovertemplate": "<b>%{hovertext}</b><br><br>Municipality=Lilla Edet<br>x=%{x}<extra></extra>",
         "hovertext": [
          "Lilla Edet"
         ],
         "legendgroup": "Lilla Edet",
         "line": {
          "color": "rgba(255,255,255,0)"
         },
         "marker": {
          "color": "#FF6692"
         },
         "name": "Lilla Edet",
         "offsetgroup": "Lilla Edet",
         "orientation": "h",
         "pointpos": 0,
         "showlegend": true,
         "type": "box",
         "x": [
          80.61908995393195
         ],
         "x0": " ",
         "xaxis": "x",
         "y0": " ",
         "yaxis": "y"
        },
        {
         "alignmentgroup": "True",
         "boxpoints": "all",
         "fillcolor": "rgba(255,255,255,0)",
         "hoveron": "points",
         "hovertemplate": "<b>%{hovertext}</b><br><br>Municipality=Mark<br>x=%{x}<extra></extra>",
         "hovertext": [
          "Mark"
         ],
         "legendgroup": "Mark",
         "line": {
          "color": "rgba(255,255,255,0)"
         },
         "marker": {
          "color": "#B6E880"
         },
         "name": "Mark",
         "offsetgroup": "Mark",
         "orientation": "h",
         "pointpos": 0,
         "showlegend": true,
         "type": "box",
         "x": [
          84.73086065974145
         ],
         "x0": " ",
         "xaxis": "x",
         "y0": " ",
         "yaxis": "y"
        },
        {
         "alignmentgroup": "True",
         "boxpoints": "all",
         "fillcolor": "rgba(255,255,255,0)",
         "hoveron": "points",
         "hovertemplate": "<b>%{hovertext}</b><br><br>Municipality=Svenljunga<br>x=%{x}<extra></extra>",
         "hovertext": [
          "Svenljunga"
         ],
         "legendgroup": "Svenljunga",
         "line": {
          "color": "rgba(255,255,255,0)"
         },
         "marker": {
          "color": "#FF97FF"
         },
         "name": "Svenljunga",
         "offsetgroup": "Svenljunga",
         "orientation": "h",
         "pointpos": 0,
         "showlegend": true,
         "type": "box",
         "x": [
          83.86891504931594
         ],
         "x0": " ",
         "xaxis": "x",
         "y0": " ",
         "yaxis": "y"
        },
        {
         "alignmentgroup": "True",
         "boxpoints": "all",
         "fillcolor": "rgba(255,255,255,0)",
         "hoveron": "points",
         "hovertemplate": "<b>%{hovertext}</b><br><br>Municipality=Herrljunga<br>x=%{x}<extra></extra>",
         "hovertext": [
          "Herrljunga"
         ],
         "legendgroup": "Herrljunga",
         "line": {
          "color": "rgba(255,255,255,0)"
         },
         "marker": {
          "color": "#FECB52"
         },
         "name": "Herrljunga",
         "offsetgroup": "Herrljunga",
         "orientation": "h",
         "pointpos": 0,
         "showlegend": true,
         "type": "box",
         "x": [
          85.98818280477512
         ],
         "x0": " ",
         "xaxis": "x",
         "y0": " ",
         "yaxis": "y"
        },
        {
         "alignmentgroup": "True",
         "boxpoints": "all",
         "fillcolor": "rgba(255,255,255,0)",
         "hoveron": "points",
         "hovertemplate": "<b>%{hovertext}</b><br><br>Municipality=Vara<br>x=%{x}<extra></extra>",
         "hovertext": [
          "Vara"
         ],
         "legendgroup": "Vara",
         "line": {
          "color": "rgba(255,255,255,0)"
         },
         "marker": {
          "color": "#636efa"
         },
         "name": "Vara",
         "offsetgroup": "Vara",
         "orientation": "h",
         "pointpos": 0,
         "showlegend": true,
         "type": "box",
         "x": [
          86.35559017205976
         ],
         "x0": " ",
         "xaxis": "x",
         "y0": " ",
         "yaxis": "y"
        },
        {
         "alignmentgroup": "True",
         "boxpoints": "all",
         "fillcolor": "rgba(255,255,255,0)",
         "hoveron": "points",
         "hovertemplate": "<b>%{hovertext}</b><br><br>Municipality=Götene<br>x=%{x}<extra></extra>",
         "hovertext": [
          "Götene"
         ],
         "legendgroup": "Götene",
         "line": {
          "color": "rgba(255,255,255,0)"
         },
         "marker": {
          "color": "#EF553B"
         },
         "name": "Götene",
         "offsetgroup": "Götene",
         "orientation": "h",
         "pointpos": 0,
         "showlegend": true,
         "type": "box",
         "x": [
          88.9554794520548
         ],
         "x0": " ",
         "xaxis": "x",
         "y0": " ",
         "yaxis": "y"
        },
        {
         "alignmentgroup": "True",
         "boxpoints": "all",
         "fillcolor": "rgba(255,255,255,0)",
         "hoveron": "points",
         "hovertemplate": "<b>%{hovertext}</b><br><br>Municipality=Tibro<br>x=%{x}<extra></extra>",
         "hovertext": [
          "Tibro"
         ],
         "legendgroup": "Tibro",
         "line": {
          "color": "rgba(255,255,255,0)"
         },
         "marker": {
          "color": "#00cc96"
         },
         "name": "Tibro",
         "offsetgroup": "Tibro",
         "orientation": "h",
         "pointpos": 0,
         "showlegend": true,
         "type": "box",
         "x": [
          85.42194306554553
         ],
         "x0": " ",
         "xaxis": "x",
         "y0": " ",
         "yaxis": "y"
        },
        {
         "alignmentgroup": "True",
         "boxpoints": "all",
         "fillcolor": "rgba(255,255,255,0)",
         "hoveron": "points",
         "hovertemplate": "<b>%{hovertext}</b><br><br>Municipality=Töreboda<br>x=%{x}<extra></extra>",
         "hovertext": [
          "Töreboda"
         ],
         "legendgroup": "Töreboda",
         "line": {
          "color": "rgba(255,255,255,0)"
         },
         "marker": {
          "color": "#ab63fa"
         },
         "name": "Töreboda",
         "offsetgroup": "Töreboda",
         "orientation": "h",
         "pointpos": 0,
         "showlegend": true,
         "type": "box",
         "x": [
          86.0482283464567
         ],
         "x0": " ",
         "xaxis": "x",
         "y0": " ",
         "yaxis": "y"
        },
        {
         "alignmentgroup": "True",
         "boxpoints": "all",
         "fillcolor": "rgba(255,255,255,0)",
         "hoveron": "points",
         "hovertemplate": "<b>%{hovertext}</b><br><br>Municipality=Göteborg<br>x=%{x}<extra></extra>",
         "hovertext": [
          "Göteborg"
         ],
         "legendgroup": "Göteborg",
         "line": {
          "color": "rgba(255,255,255,0)"
         },
         "marker": {
          "color": "#FFA15A"
         },
         "name": "Göteborg",
         "offsetgroup": "Göteborg",
         "orientation": "h",
         "pointpos": 0,
         "showlegend": true,
         "type": "box",
         "x": [
          82.43332440313256
         ],
         "x0": " ",
         "xaxis": "x",
         "y0": " ",
         "yaxis": "y"
        },
        {
         "alignmentgroup": "True",
         "boxpoints": "all",
         "fillcolor": "rgba(255,255,255,0)",
         "hoveron": "points",
         "hovertemplate": "<b>%{hovertext}</b><br><br>Municipality=Mölndal<br>x=%{x}<extra></extra>",
         "hovertext": [
          "Mölndal"
         ],
         "legendgroup": "Mölndal",
         "line": {
          "color": "rgba(255,255,255,0)"
         },
         "marker": {
          "color": "#19d3f3"
         },
         "name": "Mölndal",
         "offsetgroup": "Mölndal",
         "orientation": "h",
         "pointpos": 0,
         "showlegend": true,
         "type": "box",
         "x": [
          88.09338392457707
         ],
         "x0": " ",
         "xaxis": "x",
         "y0": " ",
         "yaxis": "y"
        },
        {
         "alignmentgroup": "True",
         "boxpoints": "all",
         "fillcolor": "rgba(255,255,255,0)",
         "hoveron": "points",
         "hovertemplate": "<b>%{hovertext}</b><br><br>Municipality=Kungälv<br>x=%{x}<extra></extra>",
         "hovertext": [
          "Kungälv"
         ],
         "legendgroup": "Kungälv",
         "line": {
          "color": "rgba(255,255,255,0)"
         },
         "marker": {
          "color": "#FF6692"
         },
         "name": "Kungälv",
         "offsetgroup": "Kungälv",
         "orientation": "h",
         "pointpos": 0,
         "showlegend": true,
         "type": "box",
         "x": [
          87.58060663959876
         ],
         "x0": " ",
         "xaxis": "x",
         "y0": " ",
         "yaxis": "y"
        },
        {
         "alignmentgroup": "True",
         "boxpoints": "all",
         "fillcolor": "rgba(255,255,255,0)",
         "hoveron": "points",
         "hovertemplate": "<b>%{hovertext}</b><br><br>Municipality=Lysekil<br>x=%{x}<extra></extra>",
         "hovertext": [
          "Lysekil"
         ],
         "legendgroup": "Lysekil",
         "line": {
          "color": "rgba(255,255,255,0)"
         },
         "marker": {
          "color": "#B6E880"
         },
         "name": "Lysekil",
         "offsetgroup": "Lysekil",
         "orientation": "h",
         "pointpos": 0,
         "showlegend": true,
         "type": "box",
         "x": [
          90.20376175548589
         ],
         "x0": " ",
         "xaxis": "x",
         "y0": " ",
         "yaxis": "y"
        },
        {
         "alignmentgroup": "True",
         "boxpoints": "all",
         "fillcolor": "rgba(255,255,255,0)",
         "hoveron": "points",
         "hovertemplate": "<b>%{hovertext}</b><br><br>Municipality=Uddevalla<br>x=%{x}<extra></extra>",
         "hovertext": [
          "Uddevalla"
         ],
         "legendgroup": "Uddevalla",
         "line": {
          "color": "rgba(255,255,255,0)"
         },
         "marker": {
          "color": "#FF97FF"
         },
         "name": "Uddevalla",
         "offsetgroup": "Uddevalla",
         "orientation": "h",
         "pointpos": 0,
         "showlegend": true,
         "type": "box",
         "x": [
          88.06030639539595
         ],
         "x0": " ",
         "xaxis": "x",
         "y0": " ",
         "yaxis": "y"
        },
        {
         "alignmentgroup": "True",
         "boxpoints": "all",
         "fillcolor": "rgba(255,255,255,0)",
         "hoveron": "points",
         "hovertemplate": "<b>%{hovertext}</b><br><br>Municipality=Strömstad<br>x=%{x}<extra></extra>",
         "hovertext": [
          "Strömstad"
         ],
         "legendgroup": "Strömstad",
         "line": {
          "color": "rgba(255,255,255,0)"
         },
         "marker": {
          "color": "#FECB52"
         },
         "name": "Strömstad",
         "offsetgroup": "Strömstad",
         "orientation": "h",
         "pointpos": 0,
         "showlegend": true,
         "type": "box",
         "x": [
          84.97184928540493
         ],
         "x0": " ",
         "xaxis": "x",
         "y0": " ",
         "yaxis": "y"
        },
        {
         "alignmentgroup": "True",
         "boxpoints": "all",
         "fillcolor": "rgba(255,255,255,0)",
         "hoveron": "points",
         "hovertemplate": "<b>%{hovertext}</b><br><br>Municipality=Vänersborg<br>x=%{x}<extra></extra>",
         "hovertext": [
          "Vänersborg"
         ],
         "legendgroup": "Vänersborg",
         "line": {
          "color": "rgba(255,255,255,0)"
         },
         "marker": {
          "color": "#636efa"
         },
         "name": "Vänersborg",
         "offsetgroup": "Vänersborg",
         "orientation": "h",
         "pointpos": 0,
         "showlegend": true,
         "type": "box",
         "x": [
          87.62001450326323
         ],
         "x0": " ",
         "xaxis": "x",
         "y0": " ",
         "yaxis": "y"
        },
        {
         "alignmentgroup": "True",
         "boxpoints": "all",
         "fillcolor": "rgba(255,255,255,0)",
         "hoveron": "points",
         "hovertemplate": "<b>%{hovertext}</b><br><br>Municipality=Trollhättan<br>x=%{x}<extra></extra>",
         "hovertext": [
          "Trollhättan"
         ],
         "legendgroup": "Trollhättan",
         "line": {
          "color": "rgba(255,255,255,0)"
         },
         "marker": {
          "color": "#EF553B"
         },
         "name": "Trollhättan",
         "offsetgroup": "Trollhättan",
         "orientation": "h",
         "pointpos": 0,
         "showlegend": true,
         "type": "box",
         "x": [
          85.15164526328117
         ],
         "x0": " ",
         "xaxis": "x",
         "y0": " ",
         "yaxis": "y"
        },
        {
         "alignmentgroup": "True",
         "boxpoints": "all",
         "fillcolor": "rgba(255,255,255,0)",
         "hoveron": "points",
         "hovertemplate": "<b>%{hovertext}</b><br><br>Municipality=Alingsås<br>x=%{x}<extra></extra>",
         "hovertext": [
          "Alingsås"
         ],
         "legendgroup": "Alingsås",
         "line": {
          "color": "rgba(255,255,255,0)"
         },
         "marker": {
          "color": "#00cc96"
         },
         "name": "Alingsås",
         "offsetgroup": "Alingsås",
         "orientation": "h",
         "pointpos": 0,
         "showlegend": true,
         "type": "box",
         "x": [
          88.68935794010387
         ],
         "x0": " ",
         "xaxis": "x",
         "y0": " ",
         "yaxis": "y"
        },
        {
         "alignmentgroup": "True",
         "boxpoints": "all",
         "fillcolor": "rgba(255,255,255,0)",
         "hoveron": "points",
         "hovertemplate": "<b>%{hovertext}</b><br><br>Municipality=Borås<br>x=%{x}<extra></extra>",
         "hovertext": [
          "Borås"
         ],
         "legendgroup": "Borås",
         "line": {
          "color": "rgba(255,255,255,0)"
         },
         "marker": {
          "color": "#ab63fa"
         },
         "name": "Borås",
         "offsetgroup": "Borås",
         "orientation": "h",
         "pointpos": 0,
         "showlegend": true,
         "type": "box",
         "x": [
          84.1422373596075
         ],
         "x0": " ",
         "xaxis": "x",
         "y0": " ",
         "yaxis": "y"
        },
        {
         "alignmentgroup": "True",
         "boxpoints": "all",
         "fillcolor": "rgba(255,255,255,0)",
         "hoveron": "points",
         "hovertemplate": "<b>%{hovertext}</b><br><br>Municipality=Ulricehamn<br>x=%{x}<extra></extra>",
         "hovertext": [
          "Ulricehamn"
         ],
         "legendgroup": "Ulricehamn",
         "line": {
          "color": "rgba(255,255,255,0)"
         },
         "marker": {
          "color": "#FFA15A"
         },
         "name": "Ulricehamn",
         "offsetgroup": "Ulricehamn",
         "orientation": "h",
         "pointpos": 0,
         "showlegend": true,
         "type": "box",
         "x": [
          86.55419692930036
         ],
         "x0": " ",
         "xaxis": "x",
         "y0": " ",
         "yaxis": "y"
        },
        {
         "alignmentgroup": "True",
         "boxpoints": "all",
         "fillcolor": "rgba(255,255,255,0)",
         "hoveron": "points",
         "hovertemplate": "<b>%{hovertext}</b><br><br>Municipality=Åmål<br>x=%{x}<extra></extra>",
         "hovertext": [
          "Åmål"
         ],
         "legendgroup": "Åmål",
         "line": {
          "color": "rgba(255,255,255,0)"
         },
         "marker": {
          "color": "#19d3f3"
         },
         "name": "Åmål",
         "offsetgroup": "Åmål",
         "orientation": "h",
         "pointpos": 0,
         "showlegend": true,
         "type": "box",
         "x": [
          87.92897230655994
         ],
         "x0": " ",
         "xaxis": "x",
         "y0": " ",
         "yaxis": "y"
        },
        {
         "alignmentgroup": "True",
         "boxpoints": "all",
         "fillcolor": "rgba(255,255,255,0)",
         "hoveron": "points",
         "hovertemplate": "<b>%{hovertext}</b><br><br>Municipality=Mariestad<br>x=%{x}<extra></extra>",
         "hovertext": [
          "Mariestad"
         ],
         "legendgroup": "Mariestad",
         "line": {
          "color": "rgba(255,255,255,0)"
         },
         "marker": {
          "color": "#FF6692"
         },
         "name": "Mariestad",
         "offsetgroup": "Mariestad",
         "orientation": "h",
         "pointpos": 0,
         "showlegend": true,
         "type": "box",
         "x": [
          90.34821756707093
         ],
         "x0": " ",
         "xaxis": "x",
         "y0": " ",
         "yaxis": "y"
        },
        {
         "alignmentgroup": "True",
         "boxpoints": "all",
         "fillcolor": "rgba(255,255,255,0)",
         "hoveron": "points",
         "hovertemplate": "<b>%{hovertext}</b><br><br>Municipality=Lidköping<br>x=%{x}<extra></extra>",
         "hovertext": [
          "Lidköping"
         ],
         "legendgroup": "Lidköping",
         "line": {
          "color": "rgba(255,255,255,0)"
         },
         "marker": {
          "color": "#B6E880"
         },
         "name": "Lidköping",
         "offsetgroup": "Lidköping",
         "orientation": "h",
         "pointpos": 0,
         "showlegend": true,
         "type": "box",
         "x": [
          90.4965536643691
         ],
         "x0": " ",
         "xaxis": "x",
         "y0": " ",
         "yaxis": "y"
        },
        {
         "alignmentgroup": "True",
         "boxpoints": "all",
         "fillcolor": "rgba(255,255,255,0)",
         "hoveron": "points",
         "hovertemplate": "<b>%{hovertext}</b><br><br>Municipality=Skara<br>x=%{x}<extra></extra>",
         "hovertext": [
          "Skara"
         ],
         "legendgroup": "Skara",
         "line": {
          "color": "rgba(255,255,255,0)"
         },
         "marker": {
          "color": "#FF97FF"
         },
         "name": "Skara",
         "offsetgroup": "Skara",
         "orientation": "h",
         "pointpos": 0,
         "showlegend": true,
         "type": "box",
         "x": [
          86.58714703018501
         ],
         "x0": " ",
         "xaxis": "x",
         "y0": " ",
         "yaxis": "y"
        },
        {
         "alignmentgroup": "True",
         "boxpoints": "all",
         "fillcolor": "rgba(255,255,255,0)",
         "hoveron": "points",
         "hovertemplate": "<b>%{hovertext}</b><br><br>Municipality=Skövde<br>x=%{x}<extra></extra>",
         "hovertext": [
          "Skövde"
         ],
         "legendgroup": "Skövde",
         "line": {
          "color": "rgba(255,255,255,0)"
         },
         "marker": {
          "color": "#FECB52"
         },
         "name": "Skövde",
         "offsetgroup": "Skövde",
         "orientation": "h",
         "pointpos": 0,
         "showlegend": true,
         "type": "box",
         "x": [
          88.31360647445625
         ],
         "x0": " ",
         "xaxis": "x",
         "y0": " ",
         "yaxis": "y"
        },
        {
         "alignmentgroup": "True",
         "boxpoints": "all",
         "fillcolor": "rgba(255,255,255,0)",
         "hoveron": "points",
         "hovertemplate": "<b>%{hovertext}</b><br><br>Municipality=Hjo<br>x=%{x}<extra></extra>",
         "hovertext": [
          "Hjo"
         ],
         "legendgroup": "Hjo",
         "line": {
          "color": "rgba(255,255,255,0)"
         },
         "marker": {
          "color": "#636efa"
         },
         "name": "Hjo",
         "offsetgroup": "Hjo",
         "orientation": "h",
         "pointpos": 0,
         "showlegend": true,
         "type": "box",
         "x": [
          89.51014349332014
         ],
         "x0": " ",
         "xaxis": "x",
         "y0": " ",
         "yaxis": "y"
        },
        {
         "alignmentgroup": "True",
         "boxpoints": "all",
         "fillcolor": "rgba(255,255,255,0)",
         "hoveron": "points",
         "hovertemplate": "<b>%{hovertext}</b><br><br>Municipality=Tidaholm<br>x=%{x}<extra></extra>",
         "hovertext": [
          "Tidaholm"
         ],
         "legendgroup": "Tidaholm",
         "line": {
          "color": "rgba(255,255,255,0)"
         },
         "marker": {
          "color": "#EF553B"
         },
         "name": "Tidaholm",
         "offsetgroup": "Tidaholm",
         "orientation": "h",
         "pointpos": 0,
         "showlegend": true,
         "type": "box",
         "x": [
          88.80129009138147
         ],
         "x0": " ",
         "xaxis": "x",
         "y0": " ",
         "yaxis": "y"
        },
        {
         "alignmentgroup": "True",
         "boxpoints": "all",
         "fillcolor": "rgba(255,255,255,0)",
         "hoveron": "points",
         "hovertemplate": "<b>%{hovertext}</b><br><br>Municipality=Falköping<br>x=%{x}<extra></extra>",
         "hovertext": [
          "Falköping"
         ],
         "legendgroup": "Falköping",
         "line": {
          "color": "rgba(255,255,255,0)"
         },
         "marker": {
          "color": "#00cc96"
         },
         "name": "Falköping",
         "offsetgroup": "Falköping",
         "orientation": "h",
         "pointpos": 0,
         "showlegend": true,
         "type": "box",
         "x": [
          86.75865914000975
         ],
         "x0": " ",
         "xaxis": "x",
         "y0": " ",
         "yaxis": "y"
        },
        {
         "alignmentgroup": "True",
         "boxpoints": "all",
         "fillcolor": "rgba(255,255,255,0)",
         "hoveron": "points",
         "hovertemplate": "<b>%{hovertext}</b><br><br>Municipality=Kil<br>x=%{x}<extra></extra>",
         "hovertext": [
          "Kil"
         ],
         "legendgroup": "Kil",
         "line": {
          "color": "rgba(255,255,255,0)"
         },
         "marker": {
          "color": "#ab63fa"
         },
         "name": "Kil",
         "offsetgroup": "Kil",
         "orientation": "h",
         "pointpos": 0,
         "showlegend": true,
         "type": "box",
         "x": [
          91.16207657614433
         ],
         "x0": " ",
         "xaxis": "x",
         "y0": " ",
         "yaxis": "y"
        },
        {
         "alignmentgroup": "True",
         "boxpoints": "all",
         "fillcolor": "rgba(255,255,255,0)",
         "hoveron": "points",
         "hovertemplate": "<b>%{hovertext}</b><br><br>Municipality=Eda<br>x=%{x}<extra></extra>",
         "hovertext": [
          "Eda"
         ],
         "legendgroup": "Eda",
         "line": {
          "color": "rgba(255,255,255,0)"
         },
         "marker": {
          "color": "#FFA15A"
         },
         "name": "Eda",
         "offsetgroup": "Eda",
         "orientation": "h",
         "pointpos": 0,
         "showlegend": true,
         "type": "box",
         "x": [
          87.94288023710091
         ],
         "x0": " ",
         "xaxis": "x",
         "y0": " ",
         "yaxis": "y"
        },
        {
         "alignmentgroup": "True",
         "boxpoints": "all",
         "fillcolor": "rgba(255,255,255,0)",
         "hoveron": "points",
         "hovertemplate": "<b>%{hovertext}</b><br><br>Municipality=Torsby<br>x=%{x}<extra></extra>",
         "hovertext": [
          "Torsby"
         ],
         "legendgroup": "Torsby",
         "line": {
          "color": "rgba(255,255,255,0)"
         },
         "marker": {
          "color": "#19d3f3"
         },
         "name": "Torsby",
         "offsetgroup": "Torsby",
         "orientation": "h",
         "pointpos": 0,
         "showlegend": true,
         "type": "box",
         "x": [
          90.18067556952082
         ],
         "x0": " ",
         "xaxis": "x",
         "y0": " ",
         "yaxis": "y"
        },
        {
         "alignmentgroup": "True",
         "boxpoints": "all",
         "fillcolor": "rgba(255,255,255,0)",
         "hoveron": "points",
         "hovertemplate": "<b>%{hovertext}</b><br><br>Municipality=Storfors<br>x=%{x}<extra></extra>",
         "hovertext": [
          "Storfors"
         ],
         "legendgroup": "Storfors",
         "line": {
          "color": "rgba(255,255,255,0)"
         },
         "marker": {
          "color": "#FF6692"
         },
         "name": "Storfors",
         "offsetgroup": "Storfors",
         "orientation": "h",
         "pointpos": 0,
         "showlegend": true,
         "type": "box",
         "x": [
          88.13224074597343
         ],
         "x0": " ",
         "xaxis": "x",
         "y0": " ",
         "yaxis": "y"
        },
        {
         "alignmentgroup": "True",
         "boxpoints": "all",
         "fillcolor": "rgba(255,255,255,0)",
         "hoveron": "points",
         "hovertemplate": "<b>%{hovertext}</b><br><br>Municipality=Hammarö<br>x=%{x}<extra></extra>",
         "hovertext": [
          "Hammarö"
         ],
         "legendgroup": "Hammarö",
         "line": {
          "color": "rgba(255,255,255,0)"
         },
         "marker": {
          "color": "#B6E880"
         },
         "name": "Hammarö",
         "offsetgroup": "Hammarö",
         "orientation": "h",
         "pointpos": 0,
         "showlegend": true,
         "type": "box",
         "x": [
          93.15909740074264
         ],
         "x0": " ",
         "xaxis": "x",
         "y0": " ",
         "yaxis": "y"
        },
        {
         "alignmentgroup": "True",
         "boxpoints": "all",
         "fillcolor": "rgba(255,255,255,0)",
         "hoveron": "points",
         "hovertemplate": "<b>%{hovertext}</b><br><br>Municipality=Munkfors<br>x=%{x}<extra></extra>",
         "hovertext": [
          "Munkfors"
         ],
         "legendgroup": "Munkfors",
         "line": {
          "color": "rgba(255,255,255,0)"
         },
         "marker": {
          "color": "#FF97FF"
         },
         "name": "Munkfors",
         "offsetgroup": "Munkfors",
         "orientation": "h",
         "pointpos": 0,
         "showlegend": true,
         "type": "box",
         "x": [
          87.10268948655256
         ],
         "x0": " ",
         "xaxis": "x",
         "y0": " ",
         "yaxis": "y"
        },
        {
         "alignmentgroup": "True",
         "boxpoints": "all",
         "fillcolor": "rgba(255,255,255,0)",
         "hoveron": "points",
         "hovertemplate": "<b>%{hovertext}</b><br><br>Municipality=Forshaga<br>x=%{x}<extra></extra>",
         "hovertext": [
          "Forshaga"
         ],
         "legendgroup": "Forshaga",
         "line": {
          "color": "rgba(255,255,255,0)"
         },
         "marker": {
          "color": "#FECB52"
         },
         "name": "Forshaga",
         "offsetgroup": "Forshaga",
         "orientation": "h",
         "pointpos": 0,
         "showlegend": true,
         "type": "box",
         "x": [
          90.59768960321446
         ],
         "x0": " ",
         "xaxis": "x",
         "y0": " ",
         "yaxis": "y"
        },
        {
         "alignmentgroup": "True",
         "boxpoints": "all",
         "fillcolor": "rgba(255,255,255,0)",
         "hoveron": "points",
         "hovertemplate": "<b>%{hovertext}</b><br><br>Municipality=Grums<br>x=%{x}<extra></extra>",
         "hovertext": [
          "Grums"
         ],
         "legendgroup": "Grums",
         "line": {
          "color": "rgba(255,255,255,0)"
         },
         "marker": {
          "color": "#636efa"
         },
         "name": "Grums",
         "offsetgroup": "Grums",
         "orientation": "h",
         "pointpos": 0,
         "showlegend": true,
         "type": "box",
         "x": [
          88.8055972013993
         ],
         "x0": " ",
         "xaxis": "x",
         "y0": " ",
         "yaxis": "y"
        },
        {
         "alignmentgroup": "True",
         "boxpoints": "all",
         "fillcolor": "rgba(255,255,255,0)",
         "hoveron": "points",
         "hovertemplate": "<b>%{hovertext}</b><br><br>Municipality=Årjäng<br>x=%{x}<extra></extra>",
         "hovertext": [
          "Årjäng"
         ],
         "legendgroup": "Årjäng",
         "line": {
          "color": "rgba(255,255,255,0)"
         },
         "marker": {
          "color": "#EF553B"
         },
         "name": "Årjäng",
         "offsetgroup": "Årjäng",
         "orientation": "h",
         "pointpos": 0,
         "showlegend": true,
         "type": "box",
         "x": [
          87.65403925148334
         ],
         "x0": " ",
         "xaxis": "x",
         "y0": " ",
         "yaxis": "y"
        },
        {
         "alignmentgroup": "True",
         "boxpoints": "all",
         "fillcolor": "rgba(255,255,255,0)",
         "hoveron": "points",
         "hovertemplate": "<b>%{hovertext}</b><br><br>Municipality=Sunne<br>x=%{x}<extra></extra>",
         "hovertext": [
          "Sunne"
         ],
         "legendgroup": "Sunne",
         "line": {
          "color": "rgba(255,255,255,0)"
         },
         "marker": {
          "color": "#00cc96"
         },
         "name": "Sunne",
         "offsetgroup": "Sunne",
         "orientation": "h",
         "pointpos": 0,
         "showlegend": true,
         "type": "box",
         "x": [
          90.71841032608695
         ],
         "x0": " ",
         "xaxis": "x",
         "y0": " ",
         "yaxis": "y"
        },
        {
         "alignmentgroup": "True",
         "boxpoints": "all",
         "fillcolor": "rgba(255,255,255,0)",
         "hoveron": "points",
         "hovertemplate": "<b>%{hovertext}</b><br><br>Municipality=Karlstad<br>x=%{x}<extra></extra>",
         "hovertext": [
          "Karlstad"
         ],
         "legendgroup": "Karlstad",
         "line": {
          "color": "rgba(255,255,255,0)"
         },
         "marker": {
          "color": "#ab63fa"
         },
         "name": "Karlstad",
         "offsetgroup": "Karlstad",
         "orientation": "h",
         "pointpos": 0,
         "showlegend": true,
         "type": "box",
         "x": [
          92.23239621336768
         ],
         "x0": " ",
         "xaxis": "x",
         "y0": " ",
         "yaxis": "y"
        },
        {
         "alignmentgroup": "True",
         "boxpoints": "all",
         "fillcolor": "rgba(255,255,255,0)",
         "hoveron": "points",
         "hovertemplate": "<b>%{hovertext}</b><br><br>Municipality=Kristinehamn<br>x=%{x}<extra></extra>",
         "hovertext": [
          "Kristinehamn"
         ],
         "legendgroup": "Kristinehamn",
         "line": {
          "color": "rgba(255,255,255,0)"
         },
         "marker": {
          "color": "#FFA15A"
         },
         "name": "Kristinehamn",
         "offsetgroup": "Kristinehamn",
         "orientation": "h",
         "pointpos": 0,
         "showlegend": true,
         "type": "box",
         "x": [
          90.69396935476313
         ],
         "x0": " ",
         "xaxis": "x",
         "y0": " ",
         "yaxis": "y"
        },
        {
         "alignmentgroup": "True",
         "boxpoints": "all",
         "fillcolor": "rgba(255,255,255,0)",
         "hoveron": "points",
         "hovertemplate": "<b>%{hovertext}</b><br><br>Municipality=Filipstad<br>x=%{x}<extra></extra>",
         "hovertext": [
          "Filipstad"
         ],
         "legendgroup": "Filipstad",
         "line": {
          "color": "rgba(255,255,255,0)"
         },
         "marker": {
          "color": "#19d3f3"
         },
         "name": "Filipstad",
         "offsetgroup": "Filipstad",
         "orientation": "h",
         "pointpos": 0,
         "showlegend": true,
         "type": "box",
         "x": [
          88.06967572304995
         ],
         "x0": " ",
         "xaxis": "x",
         "y0": " ",
         "yaxis": "y"
        },
        {
         "alignmentgroup": "True",
         "boxpoints": "all",
         "fillcolor": "rgba(255,255,255,0)",
         "hoveron": "points",
         "hovertemplate": "<b>%{hovertext}</b><br><br>Municipality=Hagfors<br>x=%{x}<extra></extra>",
         "hovertext": [
          "Hagfors"
         ],
         "legendgroup": "Hagfors",
         "line": {
          "color": "rgba(255,255,255,0)"
         },
         "marker": {
          "color": "#FF6692"
         },
         "name": "Hagfors",
         "offsetgroup": "Hagfors",
         "orientation": "h",
         "pointpos": 0,
         "showlegend": true,
         "type": "box",
         "x": [
          87.3919723449203
         ],
         "x0": " ",
         "xaxis": "x",
         "y0": " ",
         "yaxis": "y"
        },
        {
         "alignmentgroup": "True",
         "boxpoints": "all",
         "fillcolor": "rgba(255,255,255,0)",
         "hoveron": "points",
         "hovertemplate": "<b>%{hovertext}</b><br><br>Municipality=Arvika<br>x=%{x}<extra></extra>",
         "hovertext": [
          "Arvika"
         ],
         "legendgroup": "Arvika",
         "line": {
          "color": "rgba(255,255,255,0)"
         },
         "marker": {
          "color": "#B6E880"
         },
         "name": "Arvika",
         "offsetgroup": "Arvika",
         "orientation": "h",
         "pointpos": 0,
         "showlegend": true,
         "type": "box",
         "x": [
          91.41382959957664
         ],
         "x0": " ",
         "xaxis": "x",
         "y0": " ",
         "yaxis": "y"
        },
        {
         "alignmentgroup": "True",
         "boxpoints": "all",
         "fillcolor": "rgba(255,255,255,0)",
         "hoveron": "points",
         "hovertemplate": "<b>%{hovertext}</b><br><br>Municipality=Säffle<br>x=%{x}<extra></extra>",
         "hovertext": [
          "Säffle"
         ],
         "legendgroup": "Säffle",
         "line": {
          "color": "rgba(255,255,255,0)"
         },
         "marker": {
          "color": "#FF97FF"
         },
         "name": "Säffle",
         "offsetgroup": "Säffle",
         "orientation": "h",
         "pointpos": 0,
         "showlegend": true,
         "type": "box",
         "x": [
          88.47773099933526
         ],
         "x0": " ",
         "xaxis": "x",
         "y0": " ",
         "yaxis": "y"
        },
        {
         "alignmentgroup": "True",
         "boxpoints": "all",
         "fillcolor": "rgba(255,255,255,0)",
         "hoveron": "points",
         "hovertemplate": "<b>%{hovertext}</b><br><br>Municipality=Lekeberg<br>x=%{x}<extra></extra>",
         "hovertext": [
          "Lekeberg"
         ],
         "legendgroup": "Lekeberg",
         "line": {
          "color": "rgba(255,255,255,0)"
         },
         "marker": {
          "color": "#FECB52"
         },
         "name": "Lekeberg",
         "offsetgroup": "Lekeberg",
         "orientation": "h",
         "pointpos": 0,
         "showlegend": true,
         "type": "box",
         "x": [
          87.3604410751206
         ],
         "x0": " ",
         "xaxis": "x",
         "y0": " ",
         "yaxis": "y"
        },
        {
         "alignmentgroup": "True",
         "boxpoints": "all",
         "fillcolor": "rgba(255,255,255,0)",
         "hoveron": "points",
         "hovertemplate": "<b>%{hovertext}</b><br><br>Municipality=Laxå<br>x=%{x}<extra></extra>",
         "hovertext": [
          "Laxå"
         ],
         "legendgroup": "Laxå",
         "line": {
          "color": "rgba(255,255,255,0)"
         },
         "marker": {
          "color": "#636efa"
         },
         "name": "Laxå",
         "offsetgroup": "Laxå",
         "orientation": "h",
         "pointpos": 0,
         "showlegend": true,
         "type": "box",
         "x": [
          87.1285140562249
         ],
         "x0": " ",
         "xaxis": "x",
         "y0": " ",
         "yaxis": "y"
        },
        {
         "alignmentgroup": "True",
         "boxpoints": "all",
         "fillcolor": "rgba(255,255,255,0)",
         "hoveron": "points",
         "hovertemplate": "<b>%{hovertext}</b><br><br>Municipality=Hallsberg<br>x=%{x}<extra></extra>",
         "hovertext": [
          "Hallsberg"
         ],
         "legendgroup": "Hallsberg",
         "line": {
          "color": "rgba(255,255,255,0)"
         },
         "marker": {
          "color": "#EF553B"
         },
         "name": "Hallsberg",
         "offsetgroup": "Hallsberg",
         "orientation": "h",
         "pointpos": 0,
         "showlegend": true,
         "type": "box",
         "x": [
          86.42734553775743
         ],
         "x0": " ",
         "xaxis": "x",
         "y0": " ",
         "yaxis": "y"
        },
        {
         "alignmentgroup": "True",
         "boxpoints": "all",
         "fillcolor": "rgba(255,255,255,0)",
         "hoveron": "points",
         "hovertemplate": "<b>%{hovertext}</b><br><br>Municipality=Degerfors<br>x=%{x}<extra></extra>",
         "hovertext": [
          "Degerfors"
         ],
         "legendgroup": "Degerfors",
         "line": {
          "color": "rgba(255,255,255,0)"
         },
         "marker": {
          "color": "#00cc96"
         },
         "name": "Degerfors",
         "offsetgroup": "Degerfors",
         "orientation": "h",
         "pointpos": 0,
         "showlegend": true,
         "type": "box",
         "x": [
          87.64018415771456
         ],
         "x0": " ",
         "xaxis": "x",
         "y0": " ",
         "yaxis": "y"
        },
        {
         "alignmentgroup": "True",
         "boxpoints": "all",
         "fillcolor": "rgba(255,255,255,0)",
         "hoveron": "points",
         "hovertemplate": "<b>%{hovertext}</b><br><br>Municipality=Hällefors<br>x=%{x}<extra></extra>",
         "hovertext": [
          "Hällefors"
         ],
         "legendgroup": "Hällefors",
         "line": {
          "color": "rgba(255,255,255,0)"
         },
         "marker": {
          "color": "#ab63fa"
         },
         "name": "Hällefors",
         "offsetgroup": "Hällefors",
         "orientation": "h",
         "pointpos": 0,
         "showlegend": true,
         "type": "box",
         "x": [
          86.49420460272131
         ],
         "x0": " ",
         "xaxis": "x",
         "y0": " ",
         "yaxis": "y"
        },
        {
         "alignmentgroup": "True",
         "boxpoints": "all",
         "fillcolor": "rgba(255,255,255,0)",
         "hoveron": "points",
         "hovertemplate": "<b>%{hovertext}</b><br><br>Municipality=Ljusnarsberg<br>x=%{x}<extra></extra>",
         "hovertext": [
          "Ljusnarsberg"
         ],
         "legendgroup": "Ljusnarsberg",
         "line": {
          "color": "rgba(255,255,255,0)"
         },
         "marker": {
          "color": "#FFA15A"
         },
         "name": "Ljusnarsberg",
         "offsetgroup": "Ljusnarsberg",
         "orientation": "h",
         "pointpos": 0,
         "showlegend": true,
         "type": "box",
         "x": [
          83.19205618793897
         ],
         "x0": " ",
         "xaxis": "x",
         "y0": " ",
         "yaxis": "y"
        },
        {
         "alignmentgroup": "True",
         "boxpoints": "all",
         "fillcolor": "rgba(255,255,255,0)",
         "hoveron": "points",
         "hovertemplate": "<b>%{hovertext}</b><br><br>Municipality=Örebro<br>x=%{x}<extra></extra>",
         "hovertext": [
          "Örebro"
         ],
         "legendgroup": "Örebro",
         "line": {
          "color": "rgba(255,255,255,0)"
         },
         "marker": {
          "color": "#19d3f3"
         },
         "name": "Örebro",
         "offsetgroup": "Örebro",
         "orientation": "h",
         "pointpos": 0,
         "showlegend": true,
         "type": "box",
         "x": [
          87.47604869852313
         ],
         "x0": " ",
         "xaxis": "x",
         "y0": " ",
         "yaxis": "y"
        },
        {
         "alignmentgroup": "True",
         "boxpoints": "all",
         "fillcolor": "rgba(255,255,255,0)",
         "hoveron": "points",
         "hovertemplate": "<b>%{hovertext}</b><br><br>Municipality=Kumla<br>x=%{x}<extra></extra>",
         "hovertext": [
          "Kumla"
         ],
         "legendgroup": "Kumla",
         "line": {
          "color": "rgba(255,255,255,0)"
         },
         "marker": {
          "color": "#FF6692"
         },
         "name": "Kumla",
         "offsetgroup": "Kumla",
         "orientation": "h",
         "pointpos": 0,
         "showlegend": true,
         "type": "box",
         "x": [
          88.25819348729549
         ],
         "x0": " ",
         "xaxis": "x",
         "y0": " ",
         "yaxis": "y"
        },
        {
         "alignmentgroup": "True",
         "boxpoints": "all",
         "fillcolor": "rgba(255,255,255,0)",
         "hoveron": "points",
         "hovertemplate": "<b>%{hovertext}</b><br><br>Municipality=Askersund<br>x=%{x}<extra></extra>",
         "hovertext": [
          "Askersund"
         ],
         "legendgroup": "Askersund",
         "line": {
          "color": "rgba(255,255,255,0)"
         },
         "marker": {
          "color": "#B6E880"
         },
         "name": "Askersund",
         "offsetgroup": "Askersund",
         "orientation": "h",
         "pointpos": 0,
         "showlegend": true,
         "type": "box",
         "x": [
          86.66862284820031
         ],
         "x0": " ",
         "xaxis": "x",
         "y0": " ",
         "yaxis": "y"
        },
        {
         "alignmentgroup": "True",
         "boxpoints": "all",
         "fillcolor": "rgba(255,255,255,0)",
         "hoveron": "points",
         "hovertemplate": "<b>%{hovertext}</b><br><br>Municipality=Karlskoga<br>x=%{x}<extra></extra>",
         "hovertext": [
          "Karlskoga"
         ],
         "legendgroup": "Karlskoga",
         "line": {
          "color": "rgba(255,255,255,0)"
         },
         "marker": {
          "color": "#FF97FF"
         },
         "name": "Karlskoga",
         "offsetgroup": "Karlskoga",
         "orientation": "h",
         "pointpos": 0,
         "showlegend": true,
         "type": "box",
         "x": [
          90.7591251772785
         ],
         "x0": " ",
         "xaxis": "x",
         "y0": " ",
         "yaxis": "y"
        },
        {
         "alignmentgroup": "True",
         "boxpoints": "all",
         "fillcolor": "rgba(255,255,255,0)",
         "hoveron": "points",
         "hovertemplate": "<b>%{hovertext}</b><br><br>Municipality=Nora<br>x=%{x}<extra></extra>",
         "hovertext": [
          "Nora"
         ],
         "legendgroup": "Nora",
         "line": {
          "color": "rgba(255,255,255,0)"
         },
         "marker": {
          "color": "#FECB52"
         },
         "name": "Nora",
         "offsetgroup": "Nora",
         "orientation": "h",
         "pointpos": 0,
         "showlegend": true,
         "type": "box",
         "x": [
          87.88810003178976
         ],
         "x0": " ",
         "xaxis": "x",
         "y0": " ",
         "yaxis": "y"
        },
        {
         "alignmentgroup": "True",
         "boxpoints": "all",
         "fillcolor": "rgba(255,255,255,0)",
         "hoveron": "points",
         "hovertemplate": "<b>%{hovertext}</b><br><br>Municipality=Lindesberg<br>x=%{x}<extra></extra>",
         "hovertext": [
          "Lindesberg"
         ],
         "legendgroup": "Lindesberg",
         "line": {
          "color": "rgba(255,255,255,0)"
         },
         "marker": {
          "color": "#636efa"
         },
         "name": "Lindesberg",
         "offsetgroup": "Lindesberg",
         "orientation": "h",
         "pointpos": 0,
         "showlegend": true,
         "type": "box",
         "x": [
          86.10787737679473
         ],
         "x0": " ",
         "xaxis": "x",
         "y0": " ",
         "yaxis": "y"
        },
        {
         "alignmentgroup": "True",
         "boxpoints": "all",
         "fillcolor": "rgba(255,255,255,0)",
         "hoveron": "points",
         "hovertemplate": "<b>%{hovertext}</b><br><br>Municipality=Skinnskatteberg<br>x=%{x}<extra></extra>",
         "hovertext": [
          "Skinnskatteberg"
         ],
         "legendgroup": "Skinnskatteberg",
         "line": {
          "color": "rgba(255,255,255,0)"
         },
         "marker": {
          "color": "#EF553B"
         },
         "name": "Skinnskatteberg",
         "offsetgroup": "Skinnskatteberg",
         "orientation": "h",
         "pointpos": 0,
         "showlegend": true,
         "type": "box",
         "x": [
          83.65531265887137
         ],
         "x0": " ",
         "xaxis": "x",
         "y0": " ",
         "yaxis": "y"
        },
        {
         "alignmentgroup": "True",
         "boxpoints": "all",
         "fillcolor": "rgba(255,255,255,0)",
         "hoveron": "points",
         "hovertemplate": "<b>%{hovertext}</b><br><br>Municipality=Surahammar<br>x=%{x}<extra></extra>",
         "hovertext": [
          "Surahammar"
         ],
         "legendgroup": "Surahammar",
         "line": {
          "color": "rgba(255,255,255,0)"
         },
         "marker": {
          "color": "#00cc96"
         },
         "name": "Surahammar",
         "offsetgroup": "Surahammar",
         "orientation": "h",
         "pointpos": 0,
         "showlegend": true,
         "type": "box",
         "x": [
          84.73840530043408
         ],
         "x0": " ",
         "xaxis": "x",
         "y0": " ",
         "yaxis": "y"
        },
        {
         "alignmentgroup": "True",
         "boxpoints": "all",
         "fillcolor": "rgba(255,255,255,0)",
         "hoveron": "points",
         "hovertemplate": "<b>%{hovertext}</b><br><br>Municipality=Kungsör<br>x=%{x}<extra></extra>",
         "hovertext": [
          "Kungsör"
         ],
         "legendgroup": "Kungsör",
         "line": {
          "color": "rgba(255,255,255,0)"
         },
         "marker": {
          "color": "#ab63fa"
         },
         "name": "Kungsör",
         "offsetgroup": "Kungsör",
         "orientation": "h",
         "pointpos": 0,
         "showlegend": true,
         "type": "box",
         "x": [
          85.19542045005922
         ],
         "x0": " ",
         "xaxis": "x",
         "y0": " ",
         "yaxis": "y"
        },
        {
         "alignmentgroup": "True",
         "boxpoints": "all",
         "fillcolor": "rgba(255,255,255,0)",
         "hoveron": "points",
         "hovertemplate": "<b>%{hovertext}</b><br><br>Municipality=Hallstahammar<br>x=%{x}<extra></extra>",
         "hovertext": [
          "Hallstahammar"
         ],
         "legendgroup": "Hallstahammar",
         "line": {
          "color": "rgba(255,255,255,0)"
         },
         "marker": {
          "color": "#FFA15A"
         },
         "name": "Hallstahammar",
         "offsetgroup": "Hallstahammar",
         "orientation": "h",
         "pointpos": 0,
         "showlegend": true,
         "type": "box",
         "x": [
          85.45845769417643
         ],
         "x0": " ",
         "xaxis": "x",
         "y0": " ",
         "yaxis": "y"
        },
        {
         "alignmentgroup": "True",
         "boxpoints": "all",
         "fillcolor": "rgba(255,255,255,0)",
         "hoveron": "points",
         "hovertemplate": "<b>%{hovertext}</b><br><br>Municipality=Norberg<br>x=%{x}<extra></extra>",
         "hovertext": [
          "Norberg"
         ],
         "legendgroup": "Norberg",
         "line": {
          "color": "rgba(255,255,255,0)"
         },
         "marker": {
          "color": "#19d3f3"
         },
         "name": "Norberg",
         "offsetgroup": "Norberg",
         "orientation": "h",
         "pointpos": 0,
         "showlegend": true,
         "type": "box",
         "x": [
          86.5569823434992
         ],
         "x0": " ",
         "xaxis": "x",
         "y0": " ",
         "yaxis": "y"
        },
        {
         "alignmentgroup": "True",
         "boxpoints": "all",
         "fillcolor": "rgba(255,255,255,0)",
         "hoveron": "points",
         "hovertemplate": "<b>%{hovertext}</b><br><br>Municipality=Västerås<br>x=%{x}<extra></extra>",
         "hovertext": [
          "Västerås"
         ],
         "legendgroup": "Västerås",
         "line": {
          "color": "rgba(255,255,255,0)"
         },
         "marker": {
          "color": "#FF6692"
         },
         "name": "Västerås",
         "offsetgroup": "Västerås",
         "orientation": "h",
         "pointpos": 0,
         "showlegend": true,
         "type": "box",
         "x": [
          86.46440046360823
         ],
         "x0": " ",
         "xaxis": "x",
         "y0": " ",
         "yaxis": "y"
        },
        {
         "alignmentgroup": "True",
         "boxpoints": "all",
         "fillcolor": "rgba(255,255,255,0)",
         "hoveron": "points",
         "hovertemplate": "<b>%{hovertext}</b><br><br>Municipality=Sala<br>x=%{x}<extra></extra>",
         "hovertext": [
          "Sala"
         ],
         "legendgroup": "Sala",
         "line": {
          "color": "rgba(255,255,255,0)"
         },
         "marker": {
          "color": "#B6E880"
         },
         "name": "Sala",
         "offsetgroup": "Sala",
         "orientation": "h",
         "pointpos": 0,
         "showlegend": true,
         "type": "box",
         "x": [
          86.86909109099095
         ],
         "x0": " ",
         "xaxis": "x",
         "y0": " ",
         "yaxis": "y"
        },
        {
         "alignmentgroup": "True",
         "boxpoints": "all",
         "fillcolor": "rgba(255,255,255,0)",
         "hoveron": "points",
         "hovertemplate": "<b>%{hovertext}</b><br><br>Municipality=Fagersta<br>x=%{x}<extra></extra>",
         "hovertext": [
          "Fagersta"
         ],
         "legendgroup": "Fagersta",
         "line": {
          "color": "rgba(255,255,255,0)"
         },
         "marker": {
          "color": "#FF97FF"
         },
         "name": "Fagersta",
         "offsetgroup": "Fagersta",
         "orientation": "h",
         "pointpos": 0,
         "showlegend": true,
         "type": "box",
         "x": [
          83.65200764818356
         ],
         "x0": " ",
         "xaxis": "x",
         "y0": " ",
         "yaxis": "y"
        },
        {
         "alignmentgroup": "True",
         "boxpoints": "all",
         "fillcolor": "rgba(255,255,255,0)",
         "hoveron": "points",
         "hovertemplate": "<b>%{hovertext}</b><br><br>Municipality=Köping<br>x=%{x}<extra></extra>",
         "hovertext": [
          "Köping"
         ],
         "legendgroup": "Köping",
         "line": {
          "color": "rgba(255,255,255,0)"
         },
         "marker": {
          "color": "#FECB52"
         },
         "name": "Köping",
         "offsetgroup": "Köping",
         "orientation": "h",
         "pointpos": 0,
         "showlegend": true,
         "type": "box",
         "x": [
          85.01933555985235
         ],
         "x0": " ",
         "xaxis": "x",
         "y0": " ",
         "yaxis": "y"
        },
        {
         "alignmentgroup": "True",
         "boxpoints": "all",
         "fillcolor": "rgba(255,255,255,0)",
         "hoveron": "points",
         "hovertemplate": "<b>%{hovertext}</b><br><br>Municipality=Arboga<br>x=%{x}<extra></extra>",
         "hovertext": [
          "Arboga"
         ],
         "legendgroup": "Arboga",
         "line": {
          "color": "rgba(255,255,255,0)"
         },
         "marker": {
          "color": "#636efa"
         },
         "name": "Arboga",
         "offsetgroup": "Arboga",
         "orientation": "h",
         "pointpos": 0,
         "showlegend": true,
         "type": "box",
         "x": [
          88.00193908055263
         ],
         "x0": " ",
         "xaxis": "x",
         "y0": " ",
         "yaxis": "y"
        },
        {
         "alignmentgroup": "True",
         "boxpoints": "all",
         "fillcolor": "rgba(255,255,255,0)",
         "hoveron": "points",
         "hovertemplate": "<b>%{hovertext}</b><br><br>Municipality=Vansbro<br>x=%{x}<extra></extra>",
         "hovertext": [
          "Vansbro"
         ],
         "legendgroup": "Vansbro",
         "line": {
          "color": "rgba(255,255,255,0)"
         },
         "marker": {
          "color": "#EF553B"
         },
         "name": "Vansbro",
         "offsetgroup": "Vansbro",
         "orientation": "h",
         "pointpos": 0,
         "showlegend": true,
         "type": "box",
         "x": [
          84.6179237497937
         ],
         "x0": " ",
         "xaxis": "x",
         "y0": " ",
         "yaxis": "y"
        },
        {
         "alignmentgroup": "True",
         "boxpoints": "all",
         "fillcolor": "rgba(255,255,255,0)",
         "hoveron": "points",
         "hovertemplate": "<b>%{hovertext}</b><br><br>Municipality=Malung-Sälen<br>x=%{x}<extra></extra>",
         "hovertext": [
          "Malung-Sälen"
         ],
         "legendgroup": "Malung-Sälen",
         "line": {
          "color": "rgba(255,255,255,0)"
         },
         "marker": {
          "color": "#00cc96"
         },
         "name": "Malung-Sälen",
         "offsetgroup": "Malung-Sälen",
         "orientation": "h",
         "pointpos": 0,
         "showlegend": true,
         "type": "box",
         "x": [
          86.60076880834706
         ],
         "x0": " ",
         "xaxis": "x",
         "y0": " ",
         "yaxis": "y"
        },
        {
         "alignmentgroup": "True",
         "boxpoints": "all",
         "fillcolor": "rgba(255,255,255,0)",
         "hoveron": "points",
         "hovertemplate": "<b>%{hovertext}</b><br><br>Municipality=Gagnef<br>x=%{x}<extra></extra>",
         "hovertext": [
          "Gagnef"
         ],
         "legendgroup": "Gagnef",
         "line": {
          "color": "rgba(255,255,255,0)"
         },
         "marker": {
          "color": "#ab63fa"
         },
         "name": "Gagnef",
         "offsetgroup": "Gagnef",
         "orientation": "h",
         "pointpos": 0,
         "showlegend": true,
         "type": "box",
         "x": [
          89.54560604377292
         ],
         "x0": " ",
         "xaxis": "x",
         "y0": " ",
         "yaxis": "y"
        },
        {
         "alignmentgroup": "True",
         "boxpoints": "all",
         "fillcolor": "rgba(255,255,255,0)",
         "hoveron": "points",
         "hovertemplate": "<b>%{hovertext}</b><br><br>Municipality=Leksand<br>x=%{x}<extra></extra>",
         "hovertext": [
          "Leksand"
         ],
         "legendgroup": "Leksand",
         "line": {
          "color": "rgba(255,255,255,0)"
         },
         "marker": {
          "color": "#FFA15A"
         },
         "name": "Leksand",
         "offsetgroup": "Leksand",
         "orientation": "h",
         "pointpos": 0,
         "showlegend": true,
         "type": "box",
         "x": [
          90.26417752729834
         ],
         "x0": " ",
         "xaxis": "x",
         "y0": " ",
         "yaxis": "y"
        },
        {
         "alignmentgroup": "True",
         "boxpoints": "all",
         "fillcolor": "rgba(255,255,255,0)",
         "hoveron": "points",
         "hovertemplate": "<b>%{hovertext}</b><br><br>Municipality=Rättvik<br>x=%{x}<extra></extra>",
         "hovertext": [
          "Rättvik"
         ],
         "legendgroup": "Rättvik",
         "line": {
          "color": "rgba(255,255,255,0)"
         },
         "marker": {
          "color": "#19d3f3"
         },
         "name": "Rättvik",
         "offsetgroup": "Rättvik",
         "orientation": "h",
         "pointpos": 0,
         "showlegend": true,
         "type": "box",
         "x": [
          87.21057338765775
         ],
         "x0": " ",
         "xaxis": "x",
         "y0": " ",
         "yaxis": "y"
        },
        {
         "alignmentgroup": "True",
         "boxpoints": "all",
         "fillcolor": "rgba(255,255,255,0)",
         "hoveron": "points",
         "hovertemplate": "<b>%{hovertext}</b><br><br>Municipality=Orsa<br>x=%{x}<extra></extra>",
         "hovertext": [
          "Orsa"
         ],
         "legendgroup": "Orsa",
         "line": {
          "color": "rgba(255,255,255,0)"
         },
         "marker": {
          "color": "#FF6692"
         },
         "name": "Orsa",
         "offsetgroup": "Orsa",
         "orientation": "h",
         "pointpos": 0,
         "showlegend": true,
         "type": "box",
         "x": [
          84.55101383971677
         ],
         "x0": " ",
         "xaxis": "x",
         "y0": " ",
         "yaxis": "y"
        },
        {
         "alignmentgroup": "True",
         "boxpoints": "all",
         "fillcolor": "rgba(255,255,255,0)",
         "hoveron": "points",
         "hovertemplate": "<b>%{hovertext}</b><br><br>Municipality=Älvdalen<br>x=%{x}<extra></extra>",
         "hovertext": [
          "Älvdalen"
         ],
         "legendgroup": "Älvdalen",
         "line": {
          "color": "rgba(255,255,255,0)"
         },
         "marker": {
          "color": "#B6E880"
         },
         "name": "Älvdalen",
         "offsetgroup": "Älvdalen",
         "orientation": "h",
         "pointpos": 0,
         "showlegend": true,
         "type": "box",
         "x": [
          85.24173027989822
         ],
         "x0": " ",
         "xaxis": "x",
         "y0": " ",
         "yaxis": "y"
        },
        {
         "alignmentgroup": "True",
         "boxpoints": "all",
         "fillcolor": "rgba(255,255,255,0)",
         "hoveron": "points",
         "hovertemplate": "<b>%{hovertext}</b><br><br>Municipality=Smedjebacken<br>x=%{x}<extra></extra>",
         "hovertext": [
          "Smedjebacken"
         ],
         "legendgroup": "Smedjebacken",
         "line": {
          "color": "rgba(255,255,255,0)"
         },
         "marker": {
          "color": "#FF97FF"
         },
         "name": "Smedjebacken",
         "offsetgroup": "Smedjebacken",
         "orientation": "h",
         "pointpos": 0,
         "showlegend": true,
         "type": "box",
         "x": [
          87.449726719604
         ],
         "x0": " ",
         "xaxis": "x",
         "y0": " ",
         "yaxis": "y"
        },
        {
         "alignmentgroup": "True",
         "boxpoints": "all",
         "fillcolor": "rgba(255,255,255,0)",
         "hoveron": "points",
         "hovertemplate": "<b>%{hovertext}</b><br><br>Municipality=Mora<br>x=%{x}<extra></extra>",
         "hovertext": [
          "Mora"
         ],
         "legendgroup": "Mora",
         "line": {
          "color": "rgba(255,255,255,0)"
         },
         "marker": {
          "color": "#FECB52"
         },
         "name": "Mora",
         "offsetgroup": "Mora",
         "orientation": "h",
         "pointpos": 0,
         "showlegend": true,
         "type": "box",
         "x": [
          86.76390551866768
         ],
         "x0": " ",
         "xaxis": "x",
         "y0": " ",
         "yaxis": "y"
        },
        {
         "alignmentgroup": "True",
         "boxpoints": "all",
         "fillcolor": "rgba(255,255,255,0)",
         "hoveron": "points",
         "hovertemplate": "<b>%{hovertext}</b><br><br>Municipality=Falun<br>x=%{x}<extra></extra>",
         "hovertext": [
          "Falun"
         ],
         "legendgroup": "Falun",
         "line": {
          "color": "rgba(255,255,255,0)"
         },
         "marker": {
          "color": "#636efa"
         },
         "name": "Falun",
         "offsetgroup": "Falun",
         "orientation": "h",
         "pointpos": 0,
         "showlegend": true,
         "type": "box",
         "x": [
          90.19104592821304
         ],
         "x0": " ",
         "xaxis": "x",
         "y0": " ",
         "yaxis": "y"
        },
        {
         "alignmentgroup": "True",
         "boxpoints": "all",
         "fillcolor": "rgba(255,255,255,0)",
         "hoveron": "points",
         "hovertemplate": "<b>%{hovertext}</b><br><br>Municipality=Borlänge<br>x=%{x}<extra></extra>",
         "hovertext": [
          "Borlänge"
         ],
         "legendgroup": "Borlänge",
         "line": {
          "color": "rgba(255,255,255,0)"
         },
         "marker": {
          "color": "#EF553B"
         },
         "name": "Borlänge",
         "offsetgroup": "Borlänge",
         "orientation": "h",
         "pointpos": 0,
         "showlegend": true,
         "type": "box",
         "x": [
          86.51087510808594
         ],
         "x0": " ",
         "xaxis": "x",
         "y0": " ",
         "yaxis": "y"
        },
        {
         "alignmentgroup": "True",
         "boxpoints": "all",
         "fillcolor": "rgba(255,255,255,0)",
         "hoveron": "points",
         "hovertemplate": "<b>%{hovertext}</b><br><br>Municipality=Säter<br>x=%{x}<extra></extra>",
         "hovertext": [
          "Säter"
         ],
         "legendgroup": "Säter",
         "line": {
          "color": "rgba(255,255,255,0)"
         },
         "marker": {
          "color": "#00cc96"
         },
         "name": "Säter",
         "offsetgroup": "Säter",
         "orientation": "h",
         "pointpos": 0,
         "showlegend": true,
         "type": "box",
         "x": [
          89.84311328443357
         ],
         "x0": " ",
         "xaxis": "x",
         "y0": " ",
         "yaxis": "y"
        },
        {
         "alignmentgroup": "True",
         "boxpoints": "all",
         "fillcolor": "rgba(255,255,255,0)",
         "hoveron": "points",
         "hovertemplate": "<b>%{hovertext}</b><br><br>Municipality=Hedemora<br>x=%{x}<extra></extra>",
         "hovertext": [
          "Hedemora"
         ],
         "legendgroup": "Hedemora",
         "line": {
          "color": "rgba(255,255,255,0)"
         },
         "marker": {
          "color": "#ab63fa"
         },
         "name": "Hedemora",
         "offsetgroup": "Hedemora",
         "orientation": "h",
         "pointpos": 0,
         "showlegend": true,
         "type": "box",
         "x": [
          87.66649495915814
         ],
         "x0": " ",
         "xaxis": "x",
         "y0": " ",
         "yaxis": "y"
        },
        {
         "alignmentgroup": "True",
         "boxpoints": "all",
         "fillcolor": "rgba(255,255,255,0)",
         "hoveron": "points",
         "hovertemplate": "<b>%{hovertext}</b><br><br>Municipality=Avesta<br>x=%{x}<extra></extra>",
         "hovertext": [
          "Avesta"
         ],
         "legendgroup": "Avesta",
         "line": {
          "color": "rgba(255,255,255,0)"
         },
         "marker": {
          "color": "#FFA15A"
         },
         "name": "Avesta",
         "offsetgroup": "Avesta",
         "orientation": "h",
         "pointpos": 0,
         "showlegend": true,
         "type": "box",
         "x": [
          88.1848284166165
         ],
         "x0": " ",
         "xaxis": "x",
         "y0": " ",
         "yaxis": "y"
        },
        {
         "alignmentgroup": "True",
         "boxpoints": "all",
         "fillcolor": "rgba(255,255,255,0)",
         "hoveron": "points",
         "hovertemplate": "<b>%{hovertext}</b><br><br>Municipality=Ludvika<br>x=%{x}<extra></extra>",
         "hovertext": [
          "Ludvika"
         ],
         "legendgroup": "Ludvika",
         "line": {
          "color": "rgba(255,255,255,0)"
         },
         "marker": {
          "color": "#19d3f3"
         },
         "name": "Ludvika",
         "offsetgroup": "Ludvika",
         "orientation": "h",
         "pointpos": 0,
         "showlegend": true,
         "type": "box",
         "x": [
          86.15189096805294
         ],
         "x0": " ",
         "xaxis": "x",
         "y0": " ",
         "yaxis": "y"
        },
        {
         "alignmentgroup": "True",
         "boxpoints": "all",
         "fillcolor": "rgba(255,255,255,0)",
         "hoveron": "points",
         "hovertemplate": "<b>%{hovertext}</b><br><br>Municipality=Ockelbo<br>x=%{x}<extra></extra>",
         "hovertext": [
          "Ockelbo"
         ],
         "legendgroup": "Ockelbo",
         "line": {
          "color": "rgba(255,255,255,0)"
         },
         "marker": {
          "color": "#FF6692"
         },
         "name": "Ockelbo",
         "offsetgroup": "Ockelbo",
         "orientation": "h",
         "pointpos": 0,
         "showlegend": true,
         "type": "box",
         "x": [
          85.71428571428571
         ],
         "x0": " ",
         "xaxis": "x",
         "y0": " ",
         "yaxis": "y"
        },
        {
         "alignmentgroup": "True",
         "boxpoints": "all",
         "fillcolor": "rgba(255,255,255,0)",
         "hoveron": "points",
         "hovertemplate": "<b>%{hovertext}</b><br><br>Municipality=Hofors<br>x=%{x}<extra></extra>",
         "hovertext": [
          "Hofors"
         ],
         "legendgroup": "Hofors",
         "line": {
          "color": "rgba(255,255,255,0)"
         },
         "marker": {
          "color": "#B6E880"
         },
         "name": "Hofors",
         "offsetgroup": "Hofors",
         "orientation": "h",
         "pointpos": 0,
         "showlegend": true,
         "type": "box",
         "x": [
          86.51311884126795
         ],
         "x0": " ",
         "xaxis": "x",
         "y0": " ",
         "yaxis": "y"
        },
        {
         "alignmentgroup": "True",
         "boxpoints": "all",
         "fillcolor": "rgba(255,255,255,0)",
         "hoveron": "points",
         "hovertemplate": "<b>%{hovertext}</b><br><br>Municipality=Ovanåker<br>x=%{x}<extra></extra>",
         "hovertext": [
          "Ovanåker"
         ],
         "legendgroup": "Ovanåker",
         "line": {
          "color": "rgba(255,255,255,0)"
         },
         "marker": {
          "color": "#FF97FF"
         },
         "name": "Ovanåker",
         "offsetgroup": "Ovanåker",
         "orientation": "h",
         "pointpos": 0,
         "showlegend": true,
         "type": "box",
         "x": [
          89.19183035278022
         ],
         "x0": " ",
         "xaxis": "x",
         "y0": " ",
         "yaxis": "y"
        },
        {
         "alignmentgroup": "True",
         "boxpoints": "all",
         "fillcolor": "rgba(255,255,255,0)",
         "hoveron": "points",
         "hovertemplate": "<b>%{hovertext}</b><br><br>Municipality=Nordanstig<br>x=%{x}<extra></extra>",
         "hovertext": [
          "Nordanstig"
         ],
         "legendgroup": "Nordanstig",
         "line": {
          "color": "rgba(255,255,255,0)"
         },
         "marker": {
          "color": "#FECB52"
         },
         "name": "Nordanstig",
         "offsetgroup": "Nordanstig",
         "orientation": "h",
         "pointpos": 0,
         "showlegend": true,
         "type": "box",
         "x": [
          81.98219870098629
         ],
         "x0": " ",
         "xaxis": "x",
         "y0": " ",
         "yaxis": "y"
        },
        {
         "alignmentgroup": "True",
         "boxpoints": "all",
         "fillcolor": "rgba(255,255,255,0)",
         "hoveron": "points",
         "hovertemplate": "<b>%{hovertext}</b><br><br>Municipality=Ljusdal<br>x=%{x}<extra></extra>",
         "hovertext": [
          "Ljusdal"
         ],
         "legendgroup": "Ljusdal",
         "line": {
          "color": "rgba(255,255,255,0)"
         },
         "marker": {
          "color": "#636efa"
         },
         "name": "Ljusdal",
         "offsetgroup": "Ljusdal",
         "orientation": "h",
         "pointpos": 0,
         "showlegend": true,
         "type": "box",
         "x": [
          86.57834791991368
         ],
         "x0": " ",
         "xaxis": "x",
         "y0": " ",
         "yaxis": "y"
        },
        {
         "alignmentgroup": "True",
         "boxpoints": "all",
         "fillcolor": "rgba(255,255,255,0)",
         "hoveron": "points",
         "hovertemplate": "<b>%{hovertext}</b><br><br>Municipality=Gävle<br>x=%{x}<extra></extra>",
         "hovertext": [
          "Gävle"
         ],
         "legendgroup": "Gävle",
         "line": {
          "color": "rgba(255,255,255,0)"
         },
         "marker": {
          "color": "#EF553B"
         },
         "name": "Gävle",
         "offsetgroup": "Gävle",
         "orientation": "h",
         "pointpos": 0,
         "showlegend": true,
         "type": "box",
         "x": [
          87.4776426151197
         ],
         "x0": " ",
         "xaxis": "x",
         "y0": " ",
         "yaxis": "y"
        },
        {
         "alignmentgroup": "True",
         "boxpoints": "all",
         "fillcolor": "rgba(255,255,255,0)",
         "hoveron": "points",
         "hovertemplate": "<b>%{hovertext}</b><br><br>Municipality=Sandviken<br>x=%{x}<extra></extra>",
         "hovertext": [
          "Sandviken"
         ],
         "legendgroup": "Sandviken",
         "line": {
          "color": "rgba(255,255,255,0)"
         },
         "marker": {
          "color": "#00cc96"
         },
         "name": "Sandviken",
         "offsetgroup": "Sandviken",
         "orientation": "h",
         "pointpos": 0,
         "showlegend": true,
         "type": "box",
         "x": [
          88.16334870687139
         ],
         "x0": " ",
         "xaxis": "x",
         "y0": " ",
         "yaxis": "y"
        },
        {
         "alignmentgroup": "True",
         "boxpoints": "all",
         "fillcolor": "rgba(255,255,255,0)",
         "hoveron": "points",
         "hovertemplate": "<b>%{hovertext}</b><br><br>Municipality=Söderhamn<br>x=%{x}<extra></extra>",
         "hovertext": [
          "Söderhamn"
         ],
         "legendgroup": "Söderhamn",
         "line": {
          "color": "rgba(255,255,255,0)"
         },
         "marker": {
          "color": "#ab63fa"
         },
         "name": "Söderhamn",
         "offsetgroup": "Söderhamn",
         "orientation": "h",
         "pointpos": 0,
         "showlegend": true,
         "type": "box",
         "x": [
          86.80852962169878
         ],
         "x0": " ",
         "xaxis": "x",
         "y0": " ",
         "yaxis": "y"
        },
        {
         "alignmentgroup": "True",
         "boxpoints": "all",
         "fillcolor": "rgba(255,255,255,0)",
         "hoveron": "points",
         "hovertemplate": "<b>%{hovertext}</b><br><br>Municipality=Bollnäs<br>x=%{x}<extra></extra>",
         "hovertext": [
          "Bollnäs"
         ],
         "legendgroup": "Bollnäs",
         "line": {
          "color": "rgba(255,255,255,0)"
         },
         "marker": {
          "color": "#FFA15A"
         },
         "name": "Bollnäs",
         "offsetgroup": "Bollnäs",
         "orientation": "h",
         "pointpos": 0,
         "showlegend": true,
         "type": "box",
         "x": [
          87.72958856017468
         ],
         "x0": " ",
         "xaxis": "x",
         "y0": " ",
         "yaxis": "y"
        },
        {
         "alignmentgroup": "True",
         "boxpoints": "all",
         "fillcolor": "rgba(255,255,255,0)",
         "hoveron": "points",
         "hovertemplate": "<b>%{hovertext}</b><br><br>Municipality=Hudiksvall<br>x=%{x}<extra></extra>",
         "hovertext": [
          "Hudiksvall"
         ],
         "legendgroup": "Hudiksvall",
         "line": {
          "color": "rgba(255,255,255,0)"
         },
         "marker": {
          "color": "#19d3f3"
         },
         "name": "Hudiksvall",
         "offsetgroup": "Hudiksvall",
         "orientation": "h",
         "pointpos": 0,
         "showlegend": true,
         "type": "box",
         "x": [
          88.12969078354848
         ],
         "x0": " ",
         "xaxis": "x",
         "y0": " ",
         "yaxis": "y"
        },
        {
         "alignmentgroup": "True",
         "boxpoints": "all",
         "fillcolor": "rgba(255,255,255,0)",
         "hoveron": "points",
         "hovertemplate": "<b>%{hovertext}</b><br><br>Municipality=Ånge<br>x=%{x}<extra></extra>",
         "hovertext": [
          "Ånge"
         ],
         "legendgroup": "Ånge",
         "line": {
          "color": "rgba(255,255,255,0)"
         },
         "marker": {
          "color": "#FF6692"
         },
         "name": "Ånge",
         "offsetgroup": "Ånge",
         "orientation": "h",
         "pointpos": 0,
         "showlegend": true,
         "type": "box",
         "x": [
          89.33056944275089
         ],
         "x0": " ",
         "xaxis": "x",
         "y0": " ",
         "yaxis": "y"
        },
        {
         "alignmentgroup": "True",
         "boxpoints": "all",
         "fillcolor": "rgba(255,255,255,0)",
         "hoveron": "points",
         "hovertemplate": "<b>%{hovertext}</b><br><br>Municipality=Timrå<br>x=%{x}<extra></extra>",
         "hovertext": [
          "Timrå"
         ],
         "legendgroup": "Timrå",
         "line": {
          "color": "rgba(255,255,255,0)"
         },
         "marker": {
          "color": "#B6E880"
         },
         "name": "Timrå",
         "offsetgroup": "Timrå",
         "orientation": "h",
         "pointpos": 0,
         "showlegend": true,
         "type": "box",
         "x": [
          88.2510183299389
         ],
         "x0": " ",
         "xaxis": "x",
         "y0": " ",
         "yaxis": "y"
        },
        {
         "alignmentgroup": "True",
         "boxpoints": "all",
         "fillcolor": "rgba(255,255,255,0)",
         "hoveron": "points",
         "hovertemplate": "<b>%{hovertext}</b><br><br>Municipality=Härnösand<br>x=%{x}<extra></extra>",
         "hovertext": [
          "Härnösand"
         ],
         "legendgroup": "Härnösand",
         "line": {
          "color": "rgba(255,255,255,0)"
         },
         "marker": {
          "color": "#FF97FF"
         },
         "name": "Härnösand",
         "offsetgroup": "Härnösand",
         "orientation": "h",
         "pointpos": 0,
         "showlegend": true,
         "type": "box",
         "x": [
          89.66505870574315
         ],
         "x0": " ",
         "xaxis": "x",
         "y0": " ",
         "yaxis": "y"
        },
        {
         "alignmentgroup": "True",
         "boxpoints": "all",
         "fillcolor": "rgba(255,255,255,0)",
         "hoveron": "points",
         "hovertemplate": "<b>%{hovertext}</b><br><br>Municipality=Sundsvall<br>x=%{x}<extra></extra>",
         "hovertext": [
          "Sundsvall"
         ],
         "legendgroup": "Sundsvall",
         "line": {
          "color": "rgba(255,255,255,0)"
         },
         "marker": {
          "color": "#FECB52"
         },
         "name": "Sundsvall",
         "offsetgroup": "Sundsvall",
         "orientation": "h",
         "pointpos": 0,
         "showlegend": true,
         "type": "box",
         "x": [
          89.33599531857767
         ],
         "x0": " ",
         "xaxis": "x",
         "y0": " ",
         "yaxis": "y"
        },
        {
         "alignmentgroup": "True",
         "boxpoints": "all",
         "fillcolor": "rgba(255,255,255,0)",
         "hoveron": "points",
         "hovertemplate": "<b>%{hovertext}</b><br><br>Municipality=Kramfors<br>x=%{x}<extra></extra>",
         "hovertext": [
          "Kramfors"
         ],
         "legendgroup": "Kramfors",
         "line": {
          "color": "rgba(255,255,255,0)"
         },
         "marker": {
          "color": "#636efa"
         },
         "name": "Kramfors",
         "offsetgroup": "Kramfors",
         "orientation": "h",
         "pointpos": 0,
         "showlegend": true,
         "type": "box",
         "x": [
          87.37864077669903
         ],
         "x0": " ",
         "xaxis": "x",
         "y0": " ",
         "yaxis": "y"
        },
        {
         "alignmentgroup": "True",
         "boxpoints": "all",
         "fillcolor": "rgba(255,255,255,0)",
         "hoveron": "points",
         "hovertemplate": "<b>%{hovertext}</b><br><br>Municipality=Sollefteå<br>x=%{x}<extra></extra>",
         "hovertext": [
          "Sollefteå"
         ],
         "legendgroup": "Sollefteå",
         "line": {
          "color": "rgba(255,255,255,0)"
         },
         "marker": {
          "color": "#EF553B"
         },
         "name": "Sollefteå",
         "offsetgroup": "Sollefteå",
         "orientation": "h",
         "pointpos": 0,
         "showlegend": true,
         "type": "box",
         "x": [
          86.74066477649755
         ],
         "x0": " ",
         "xaxis": "x",
         "y0": " ",
         "yaxis": "y"
        },
        {
         "alignmentgroup": "True",
         "boxpoints": "all",
         "fillcolor": "rgba(255,255,255,0)",
         "hoveron": "points",
         "hovertemplate": "<b>%{hovertext}</b><br><br>Municipality=Örnsköldsvik<br>x=%{x}<extra></extra>",
         "hovertext": [
          "Örnsköldsvik"
         ],
         "legendgroup": "Örnsköldsvik",
         "line": {
          "color": "rgba(255,255,255,0)"
         },
         "marker": {
          "color": "#00cc96"
         },
         "name": "Örnsköldsvik",
         "offsetgroup": "Örnsköldsvik",
         "orientation": "h",
         "pointpos": 0,
         "showlegend": true,
         "type": "box",
         "x": [
          90.16079947359763
         ],
         "x0": " ",
         "xaxis": "x",
         "y0": " ",
         "yaxis": "y"
        },
        {
         "alignmentgroup": "True",
         "boxpoints": "all",
         "fillcolor": "rgba(255,255,255,0)",
         "hoveron": "points",
         "hovertemplate": "<b>%{hovertext}</b><br><br>Municipality=Ragunda<br>x=%{x}<extra></extra>",
         "hovertext": [
          "Ragunda"
         ],
         "legendgroup": "Ragunda",
         "line": {
          "color": "rgba(255,255,255,0)"
         },
         "marker": {
          "color": "#ab63fa"
         },
         "name": "Ragunda",
         "offsetgroup": "Ragunda",
         "orientation": "h",
         "pointpos": 0,
         "showlegend": true,
         "type": "box",
         "x": [
          86.42701525054466
         ],
         "x0": " ",
         "xaxis": "x",
         "y0": " ",
         "yaxis": "y"
        },
        {
         "alignmentgroup": "True",
         "boxpoints": "all",
         "fillcolor": "rgba(255,255,255,0)",
         "hoveron": "points",
         "hovertemplate": "<b>%{hovertext}</b><br><br>Municipality=Bräcke<br>x=%{x}<extra></extra>",
         "hovertext": [
          "Bräcke"
         ],
         "legendgroup": "Bräcke",
         "line": {
          "color": "rgba(255,255,255,0)"
         },
         "marker": {
          "color": "#FFA15A"
         },
         "name": "Bräcke",
         "offsetgroup": "Bräcke",
         "orientation": "h",
         "pointpos": 0,
         "showlegend": true,
         "type": "box",
         "x": [
          85.86188145731376
         ],
         "x0": " ",
         "xaxis": "x",
         "y0": " ",
         "yaxis": "y"
        },
        {
         "alignmentgroup": "True",
         "boxpoints": "all",
         "fillcolor": "rgba(255,255,255,0)",
         "hoveron": "points",
         "hovertemplate": "<b>%{hovertext}</b><br><br>Municipality=Krokom<br>x=%{x}<extra></extra>",
         "hovertext": [
          "Krokom"
         ],
         "legendgroup": "Krokom",
         "line": {
          "color": "rgba(255,255,255,0)"
         },
         "marker": {
          "color": "#19d3f3"
         },
         "name": "Krokom",
         "offsetgroup": "Krokom",
         "orientation": "h",
         "pointpos": 0,
         "showlegend": true,
         "type": "box",
         "x": [
          88.65383151967126
         ],
         "x0": " ",
         "xaxis": "x",
         "y0": " ",
         "yaxis": "y"
        },
        {
         "alignmentgroup": "True",
         "boxpoints": "all",
         "fillcolor": "rgba(255,255,255,0)",
         "hoveron": "points",
         "hovertemplate": "<b>%{hovertext}</b><br><br>Municipality=Strömsund<br>x=%{x}<extra></extra>",
         "hovertext": [
          "Strömsund"
         ],
         "legendgroup": "Strömsund",
         "line": {
          "color": "rgba(255,255,255,0)"
         },
         "marker": {
          "color": "#FF6692"
         },
         "name": "Strömsund",
         "offsetgroup": "Strömsund",
         "orientation": "h",
         "pointpos": 0,
         "showlegend": true,
         "type": "box",
         "x": [
          87.03061527791539
         ],
         "x0": " ",
         "xaxis": "x",
         "y0": " ",
         "yaxis": "y"
        },
        {
         "alignmentgroup": "True",
         "boxpoints": "all",
         "fillcolor": "rgba(255,255,255,0)",
         "hoveron": "points",
         "hovertemplate": "<b>%{hovertext}</b><br><br>Municipality=Åre<br>x=%{x}<extra></extra>",
         "hovertext": [
          "Åre"
         ],
         "legendgroup": "Åre",
         "line": {
          "color": "rgba(255,255,255,0)"
         },
         "marker": {
          "color": "#B6E880"
         },
         "name": "Åre",
         "offsetgroup": "Åre",
         "orientation": "h",
         "pointpos": 0,
         "showlegend": true,
         "type": "box",
         "x": [
          88.83513564788466
         ],
         "x0": " ",
         "xaxis": "x",
         "y0": " ",
         "yaxis": "y"
        },
        {
         "alignmentgroup": "True",
         "boxpoints": "all",
         "fillcolor": "rgba(255,255,255,0)",
         "hoveron": "points",
         "hovertemplate": "<b>%{hovertext}</b><br><br>Municipality=Berg<br>x=%{x}<extra></extra>",
         "hovertext": [
          "Berg"
         ],
         "legendgroup": "Berg",
         "line": {
          "color": "rgba(255,255,255,0)"
         },
         "marker": {
          "color": "#FF97FF"
         },
         "name": "Berg",
         "offsetgroup": "Berg",
         "orientation": "h",
         "pointpos": 0,
         "showlegend": true,
         "type": "box",
         "x": [
          85.26366098454676
         ],
         "x0": " ",
         "xaxis": "x",
         "y0": " ",
         "yaxis": "y"
        },
        {
         "alignmentgroup": "True",
         "boxpoints": "all",
         "fillcolor": "rgba(255,255,255,0)",
         "hoveron": "points",
         "hovertemplate": "<b>%{hovertext}</b><br><br>Municipality=Härjedalen<br>x=%{x}<extra></extra>",
         "hovertext": [
          "Härjedalen"
         ],
         "legendgroup": "Härjedalen",
         "line": {
          "color": "rgba(255,255,255,0)"
         },
         "marker": {
          "color": "#FECB52"
         },
         "name": "Härjedalen",
         "offsetgroup": "Härjedalen",
         "orientation": "h",
         "pointpos": 0,
         "showlegend": true,
         "type": "box",
         "x": [
          89.64117195215626
         ],
         "x0": " ",
         "xaxis": "x",
         "y0": " ",
         "yaxis": "y"
        },
        {
         "alignmentgroup": "True",
         "boxpoints": "all",
         "fillcolor": "rgba(255,255,255,0)",
         "hoveron": "points",
         "hovertemplate": "<b>%{hovertext}</b><br><br>Municipality=Östersund<br>x=%{x}<extra></extra>",
         "hovertext": [
          "Östersund"
         ],
         "legendgroup": "Östersund",
         "line": {
          "color": "rgba(255,255,255,0)"
         },
         "marker": {
          "color": "#636efa"
         },
         "name": "Östersund",
         "offsetgroup": "Östersund",
         "orientation": "h",
         "pointpos": 0,
         "showlegend": true,
         "type": "box",
         "x": [
          89.46993318485524
         ],
         "x0": " ",
         "xaxis": "x",
         "y0": " ",
         "yaxis": "y"
        },
        {
         "alignmentgroup": "True",
         "boxpoints": "all",
         "fillcolor": "rgba(255,255,255,0)",
         "hoveron": "points",
         "hovertemplate": "<b>%{hovertext}</b><br><br>Municipality=Nordmaling<br>x=%{x}<extra></extra>",
         "hovertext": [
          "Nordmaling"
         ],
         "legendgroup": "Nordmaling",
         "line": {
          "color": "rgba(255,255,255,0)"
         },
         "marker": {
          "color": "#EF553B"
         },
         "name": "Nordmaling",
         "offsetgroup": "Nordmaling",
         "orientation": "h",
         "pointpos": 0,
         "showlegend": true,
         "type": "box",
         "x": [
          90.26802807913211
         ],
         "x0": " ",
         "xaxis": "x",
         "y0": " ",
         "yaxis": "y"
        },
        {
         "alignmentgroup": "True",
         "boxpoints": "all",
         "fillcolor": "rgba(255,255,255,0)",
         "hoveron": "points",
         "hovertemplate": "<b>%{hovertext}</b><br><br>Municipality=Bjurholm<br>x=%{x}<extra></extra>",
         "hovertext": [
          "Bjurholm"
         ],
         "legendgroup": "Bjurholm",
         "line": {
          "color": "rgba(255,255,255,0)"
         },
         "marker": {
          "color": "#00cc96"
         },
         "name": "Bjurholm",
         "offsetgroup": "Bjurholm",
         "orientation": "h",
         "pointpos": 0,
         "showlegend": true,
         "type": "box",
         "x": [
          89.80861244019138
         ],
         "x0": " ",
         "xaxis": "x",
         "y0": " ",
         "yaxis": "y"
        },
        {
         "alignmentgroup": "True",
         "boxpoints": "all",
         "fillcolor": "rgba(255,255,255,0)",
         "hoveron": "points",
         "hovertemplate": "<b>%{hovertext}</b><br><br>Municipality=Vindeln<br>x=%{x}<extra></extra>",
         "hovertext": [
          "Vindeln"
         ],
         "legendgroup": "Vindeln",
         "line": {
          "color": "rgba(255,255,255,0)"
         },
         "marker": {
          "color": "#ab63fa"
         },
         "name": "Vindeln",
         "offsetgroup": "Vindeln",
         "orientation": "h",
         "pointpos": 0,
         "showlegend": true,
         "type": "box",
         "x": [
          89.07492674759312
         ],
         "x0": " ",
         "xaxis": "x",
         "y0": " ",
         "yaxis": "y"
        },
        {
         "alignmentgroup": "True",
         "boxpoints": "all",
         "fillcolor": "rgba(255,255,255,0)",
         "hoveron": "points",
         "hovertemplate": "<b>%{hovertext}</b><br><br>Municipality=Robertsfors<br>x=%{x}<extra></extra>",
         "hovertext": [
          "Robertsfors"
         ],
         "legendgroup": "Robertsfors",
         "line": {
          "color": "rgba(255,255,255,0)"
         },
         "marker": {
          "color": "#FFA15A"
         },
         "name": "Robertsfors",
         "offsetgroup": "Robertsfors",
         "orientation": "h",
         "pointpos": 0,
         "showlegend": true,
         "type": "box",
         "x": [
          91.54691462383771
         ],
         "x0": " ",
         "xaxis": "x",
         "y0": " ",
         "yaxis": "y"
        },
        {
         "alignmentgroup": "True",
         "boxpoints": "all",
         "fillcolor": "rgba(255,255,255,0)",
         "hoveron": "points",
         "hovertemplate": "<b>%{hovertext}</b><br><br>Municipality=Norsjö<br>x=%{x}<extra></extra>",
         "hovertext": [
          "Norsjö"
         ],
         "legendgroup": "Norsjö",
         "line": {
          "color": "rgba(255,255,255,0)"
         },
         "marker": {
          "color": "#19d3f3"
         },
         "name": "Norsjö",
         "offsetgroup": "Norsjö",
         "orientation": "h",
         "pointpos": 0,
         "showlegend": true,
         "type": "box",
         "x": [
          91.78082191780823
         ],
         "x0": " ",
         "xaxis": "x",
         "y0": " ",
         "yaxis": "y"
        },
        {
         "alignmentgroup": "True",
         "boxpoints": "all",
         "fillcolor": "rgba(255,255,255,0)",
         "hoveron": "points",
         "hovertemplate": "<b>%{hovertext}</b><br><br>Municipality=Malå<br>x=%{x}<extra></extra>",
         "hovertext": [
          "Malå"
         ],
         "legendgroup": "Malå",
         "line": {
          "color": "rgba(255,255,255,0)"
         },
         "marker": {
          "color": "#FF6692"
         },
         "name": "Malå",
         "offsetgroup": "Malå",
         "orientation": "h",
         "pointpos": 0,
         "showlegend": true,
         "type": "box",
         "x": [
          88.70907038012797
         ],
         "x0": " ",
         "xaxis": "x",
         "y0": " ",
         "yaxis": "y"
        },
        {
         "alignmentgroup": "True",
         "boxpoints": "all",
         "fillcolor": "rgba(255,255,255,0)",
         "hoveron": "points",
         "hovertemplate": "<b>%{hovertext}</b><br><br>Municipality=Storuman<br>x=%{x}<extra></extra>",
         "hovertext": [
          "Storuman"
         ],
         "legendgroup": "Storuman",
         "line": {
          "color": "rgba(255,255,255,0)"
         },
         "marker": {
          "color": "#B6E880"
         },
         "name": "Storuman",
         "offsetgroup": "Storuman",
         "orientation": "h",
         "pointpos": 0,
         "showlegend": true,
         "type": "box",
         "x": [
          90.73820246720187
         ],
         "x0": " ",
         "xaxis": "x",
         "y0": " ",
         "yaxis": "y"
        },
        {
         "alignmentgroup": "True",
         "boxpoints": "all",
         "fillcolor": "rgba(255,255,255,0)",
         "hoveron": "points",
         "hovertemplate": "<b>%{hovertext}</b><br><br>Municipality=Sorsele<br>x=%{x}<extra></extra>",
         "hovertext": [
          "Sorsele"
         ],
         "legendgroup": "Sorsele",
         "line": {
          "color": "rgba(255,255,255,0)"
         },
         "marker": {
          "color": "#FF97FF"
         },
         "name": "Sorsele",
         "offsetgroup": "Sorsele",
         "orientation": "h",
         "pointpos": 0,
         "showlegend": true,
         "type": "box",
         "x": [
          88.40982846546129
         ],
         "x0": " ",
         "xaxis": "x",
         "y0": " ",
         "yaxis": "y"
        },
        {
         "alignmentgroup": "True",
         "boxpoints": "all",
         "fillcolor": "rgba(255,255,255,0)",
         "hoveron": "points",
         "hovertemplate": "<b>%{hovertext}</b><br><br>Municipality=Dorotea<br>x=%{x}<extra></extra>",
         "hovertext": [
          "Dorotea"
         ],
         "legendgroup": "Dorotea",
         "line": {
          "color": "rgba(255,255,255,0)"
         },
         "marker": {
          "color": "#FECB52"
         },
         "name": "Dorotea",
         "offsetgroup": "Dorotea",
         "orientation": "h",
         "pointpos": 0,
         "showlegend": true,
         "type": "box",
         "x": [
          91.9908466819222
         ],
         "x0": " ",
         "xaxis": "x",
         "y0": " ",
         "yaxis": "y"
        },
        {
         "alignmentgroup": "True",
         "boxpoints": "all",
         "fillcolor": "rgba(255,255,255,0)",
         "hoveron": "points",
         "hovertemplate": "<b>%{hovertext}</b><br><br>Municipality=Vännäs<br>x=%{x}<extra></extra>",
         "hovertext": [
          "Vännäs"
         ],
         "legendgroup": "Vännäs",
         "line": {
          "color": "rgba(255,255,255,0)"
         },
         "marker": {
          "color": "#636efa"
         },
         "name": "Vännäs",
         "offsetgroup": "Vännäs",
         "orientation": "h",
         "pointpos": 0,
         "showlegend": true,
         "type": "box",
         "x": [
          90.36757038581857
         ],
         "x0": " ",
         "xaxis": "x",
         "y0": " ",
         "yaxis": "y"
        },
        {
         "alignmentgroup": "True",
         "boxpoints": "all",
         "fillcolor": "rgba(255,255,255,0)",
         "hoveron": "points",
         "hovertemplate": "<b>%{hovertext}</b><br><br>Municipality=Vilhelmina<br>x=%{x}<extra></extra>",
         "hovertext": [
          "Vilhelmina"
         ],
         "legendgroup": "Vilhelmina",
         "line": {
          "color": "rgba(255,255,255,0)"
         },
         "marker": {
          "color": "#EF553B"
         },
         "name": "Vilhelmina",
         "offsetgroup": "Vilhelmina",
         "orientation": "h",
         "pointpos": 0,
         "showlegend": true,
         "type": "box",
         "x": [
          87.763272410792
         ],
         "x0": " ",
         "xaxis": "x",
         "y0": " ",
         "yaxis": "y"
        },
        {
         "alignmentgroup": "True",
         "boxpoints": "all",
         "fillcolor": "rgba(255,255,255,0)",
         "hoveron": "points",
         "hovertemplate": "<b>%{hovertext}</b><br><br>Municipality=Åsele<br>x=%{x}<extra></extra>",
         "hovertext": [
          "Åsele"
         ],
         "legendgroup": "Åsele",
         "line": {
          "color": "rgba(255,255,255,0)"
         },
         "marker": {
          "color": "#00cc96"
         },
         "name": "Åsele",
         "offsetgroup": "Åsele",
         "orientation": "h",
         "pointpos": 0,
         "showlegend": true,
         "type": "box",
         "x": [
          89.05872888173774
         ],
         "x0": " ",
         "xaxis": "x",
         "y0": " ",
         "yaxis": "y"
        },
        {
         "alignmentgroup": "True",
         "boxpoints": "all",
         "fillcolor": "rgba(255,255,255,0)",
         "hoveron": "points",
         "hovertemplate": "<b>%{hovertext}</b><br><br>Municipality=Umeå<br>x=%{x}<extra></extra>",
         "hovertext": [
          "Umeå"
         ],
         "legendgroup": "Umeå",
         "line": {
          "color": "rgba(255,255,255,0)"
         },
         "marker": {
          "color": "#ab63fa"
         },
         "name": "Umeå",
         "offsetgroup": "Umeå",
         "orientation": "h",
         "pointpos": 0,
         "showlegend": true,
         "type": "box",
         "x": [
          92.87442908310086
         ],
         "x0": " ",
         "xaxis": "x",
         "y0": " ",
         "yaxis": "y"
        },
        {
         "alignmentgroup": "True",
         "boxpoints": "all",
         "fillcolor": "rgba(255,255,255,0)",
         "hoveron": "points",
         "hovertemplate": "<b>%{hovertext}</b><br><br>Municipality=Lycksele<br>x=%{x}<extra></extra>",
         "hovertext": [
          "Lycksele"
         ],
         "legendgroup": "Lycksele",
         "line": {
          "color": "rgba(255,255,255,0)"
         },
         "marker": {
          "color": "#FFA15A"
         },
         "name": "Lycksele",
         "offsetgroup": "Lycksele",
         "orientation": "h",
         "pointpos": 0,
         "showlegend": true,
         "type": "box",
         "x": [
          91.33709981167608
         ],
         "x0": " ",
         "xaxis": "x",
         "y0": " ",
         "yaxis": "y"
        },
        {
         "alignmentgroup": "True",
         "boxpoints": "all",
         "fillcolor": "rgba(255,255,255,0)",
         "hoveron": "points",
         "hovertemplate": "<b>%{hovertext}</b><br><br>Municipality=Skellefteå<br>x=%{x}<extra></extra>",
         "hovertext": [
          "Skellefteå"
         ],
         "legendgroup": "Skellefteå",
         "line": {
          "color": "rgba(255,255,255,0)"
         },
         "marker": {
          "color": "#19d3f3"
         },
         "name": "Skellefteå",
         "offsetgroup": "Skellefteå",
         "orientation": "h",
         "pointpos": 0,
         "showlegend": true,
         "type": "box",
         "x": [
          91.313072066927
         ],
         "x0": " ",
         "xaxis": "x",
         "y0": " ",
         "yaxis": "y"
        },
        {
         "alignmentgroup": "True",
         "boxpoints": "all",
         "fillcolor": "rgba(255,255,255,0)",
         "hoveron": "points",
         "hovertemplate": "<b>%{hovertext}</b><br><br>Municipality=Arvidsjaur<br>x=%{x}<extra></extra>",
         "hovertext": [
          "Arvidsjaur"
         ],
         "legendgroup": "Arvidsjaur",
         "line": {
          "color": "rgba(255,255,255,0)"
         },
         "marker": {
          "color": "#FF6692"
         },
         "name": "Arvidsjaur",
         "offsetgroup": "Arvidsjaur",
         "orientation": "h",
         "pointpos": 0,
         "showlegend": true,
         "type": "box",
         "x": [
          90.9292444116017
         ],
         "x0": " ",
         "xaxis": "x",
         "y0": " ",
         "yaxis": "y"
        },
        {
         "alignmentgroup": "True",
         "boxpoints": "all",
         "fillcolor": "rgba(255,255,255,0)",
         "hoveron": "points",
         "hovertemplate": "<b>%{hovertext}</b><br><br>Municipality=Arjeplog<br>x=%{x}<extra></extra>",
         "hovertext": [
          "Arjeplog"
         ],
         "legendgroup": "Arjeplog",
         "line": {
          "color": "rgba(255,255,255,0)"
         },
         "marker": {
          "color": "#B6E880"
         },
         "name": "Arjeplog",
         "offsetgroup": "Arjeplog",
         "orientation": "h",
         "pointpos": 0,
         "showlegend": true,
         "type": "box",
         "x": [
          90.61461794019934
         ],
         "x0": " ",
         "xaxis": "x",
         "y0": " ",
         "yaxis": "y"
        },
        {
         "alignmentgroup": "True",
         "boxpoints": "all",
         "fillcolor": "rgba(255,255,255,0)",
         "hoveron": "points",
         "hovertemplate": "<b>%{hovertext}</b><br><br>Municipality=Jokkmokk<br>x=%{x}<extra></extra>",
         "hovertext": [
          "Jokkmokk"
         ],
         "legendgroup": "Jokkmokk",
         "line": {
          "color": "rgba(255,255,255,0)"
         },
         "marker": {
          "color": "#FF97FF"
         },
         "name": "Jokkmokk",
         "offsetgroup": "Jokkmokk",
         "orientation": "h",
         "pointpos": 0,
         "showlegend": true,
         "type": "box",
         "x": [
          89.88317757009345
         ],
         "x0": " ",
         "xaxis": "x",
         "y0": " ",
         "yaxis": "y"
        },
        {
         "alignmentgroup": "True",
         "boxpoints": "all",
         "fillcolor": "rgba(255,255,255,0)",
         "hoveron": "points",
         "hovertemplate": "<b>%{hovertext}</b><br><br>Municipality=Överkalix<br>x=%{x}<extra></extra>",
         "hovertext": [
          "Överkalix"
         ],
         "legendgroup": "Överkalix",
         "line": {
          "color": "rgba(255,255,255,0)"
         },
         "marker": {
          "color": "#FECB52"
         },
         "name": "Överkalix",
         "offsetgroup": "Överkalix",
         "orientation": "h",
         "pointpos": 0,
         "showlegend": true,
         "type": "box",
         "x": [
          87.89129686962505
         ],
         "x0": " ",
         "xaxis": "x",
         "y0": " ",
         "yaxis": "y"
        },
        {
         "alignmentgroup": "True",
         "boxpoints": "all",
         "fillcolor": "rgba(255,255,255,0)",
         "hoveron": "points",
         "hovertemplate": "<b>%{hovertext}</b><br><br>Municipality=Kalix<br>x=%{x}<extra></extra>",
         "hovertext": [
          "Kalix"
         ],
         "legendgroup": "Kalix",
         "line": {
          "color": "rgba(255,255,255,0)"
         },
         "marker": {
          "color": "#636efa"
         },
         "name": "Kalix",
         "offsetgroup": "Kalix",
         "orientation": "h",
         "pointpos": 0,
         "showlegend": true,
         "type": "box",
         "x": [
          90.62965855043657
         ],
         "x0": " ",
         "xaxis": "x",
         "y0": " ",
         "yaxis": "y"
        },
        {
         "alignmentgroup": "True",
         "boxpoints": "all",
         "fillcolor": "rgba(255,255,255,0)",
         "hoveron": "points",
         "hovertemplate": "<b>%{hovertext}</b><br><br>Municipality=Övertorneå<br>x=%{x}<extra></extra>",
         "hovertext": [
          "Övertorneå"
         ],
         "legendgroup": "Övertorneå",
         "line": {
          "color": "rgba(255,255,255,0)"
         },
         "marker": {
          "color": "#EF553B"
         },
         "name": "Övertorneå",
         "offsetgroup": "Övertorneå",
         "orientation": "h",
         "pointpos": 0,
         "showlegend": true,
         "type": "box",
         "x": [
          91.39473684210526
         ],
         "x0": " ",
         "xaxis": "x",
         "y0": " ",
         "yaxis": "y"
        },
        {
         "alignmentgroup": "True",
         "boxpoints": "all",
         "fillcolor": "rgba(255,255,255,0)",
         "hoveron": "points",
         "hovertemplate": "<b>%{hovertext}</b><br><br>Municipality=Pajala<br>x=%{x}<extra></extra>",
         "hovertext": [
          "Pajala"
         ],
         "legendgroup": "Pajala",
         "line": {
          "color": "rgba(255,255,255,0)"
         },
         "marker": {
          "color": "#00cc96"
         },
         "name": "Pajala",
         "offsetgroup": "Pajala",
         "orientation": "h",
         "pointpos": 0,
         "showlegend": true,
         "type": "box",
         "x": [
          87.0986021911598
         ],
         "x0": " ",
         "xaxis": "x",
         "y0": " ",
         "yaxis": "y"
        },
        {
         "alignmentgroup": "True",
         "boxpoints": "all",
         "fillcolor": "rgba(255,255,255,0)",
         "hoveron": "points",
         "hovertemplate": "<b>%{hovertext}</b><br><br>Municipality=Gällivare<br>x=%{x}<extra></extra>",
         "hovertext": [
          "Gällivare"
         ],
         "legendgroup": "Gällivare",
         "line": {
          "color": "rgba(255,255,255,0)"
         },
         "marker": {
          "color": "#ab63fa"
         },
         "name": "Gällivare",
         "offsetgroup": "Gällivare",
         "orientation": "h",
         "pointpos": 0,
         "showlegend": true,
         "type": "box",
         "x": [
          88.99369023612827
         ],
         "x0": " ",
         "xaxis": "x",
         "y0": " ",
         "yaxis": "y"
        },
        {
         "alignmentgroup": "True",
         "boxpoints": "all",
         "fillcolor": "rgba(255,255,255,0)",
         "hoveron": "points",
         "hovertemplate": "<b>%{hovertext}</b><br><br>Municipality=Älvsbyn<br>x=%{x}<extra></extra>",
         "hovertext": [
          "Älvsbyn"
         ],
         "legendgroup": "Älvsbyn",
         "line": {
          "color": "rgba(255,255,255,0)"
         },
         "marker": {
          "color": "#FFA15A"
         },
         "name": "Älvsbyn",
         "offsetgroup": "Älvsbyn",
         "orientation": "h",
         "pointpos": 0,
         "showlegend": true,
         "type": "box",
         "x": [
          88.09084457061745
         ],
         "x0": " ",
         "xaxis": "x",
         "y0": " ",
         "yaxis": "y"
        },
        {
         "alignmentgroup": "True",
         "boxpoints": "all",
         "fillcolor": "rgba(255,255,255,0)",
         "hoveron": "points",
         "hovertemplate": "<b>%{hovertext}</b><br><br>Municipality=Luleå<br>x=%{x}<extra></extra>",
         "hovertext": [
          "Luleå"
         ],
         "legendgroup": "Luleå",
         "line": {
          "color": "rgba(255,255,255,0)"
         },
         "marker": {
          "color": "#19d3f3"
         },
         "name": "Luleå",
         "offsetgroup": "Luleå",
         "orientation": "h",
         "pointpos": 0,
         "showlegend": true,
         "type": "box",
         "x": [
          91.0311833535074
         ],
         "x0": " ",
         "xaxis": "x",
         "y0": " ",
         "yaxis": "y"
        },
        {
         "alignmentgroup": "True",
         "boxpoints": "all",
         "fillcolor": "rgba(255,255,255,0)",
         "hoveron": "points",
         "hovertemplate": "<b>%{hovertext}</b><br><br>Municipality=Piteå<br>x=%{x}<extra></extra>",
         "hovertext": [
          "Piteå"
         ],
         "legendgroup": "Piteå",
         "line": {
          "color": "rgba(255,255,255,0)"
         },
         "marker": {
          "color": "#FF6692"
         },
         "name": "Piteå",
         "offsetgroup": "Piteå",
         "orientation": "h",
         "pointpos": 0,
         "showlegend": true,
         "type": "box",
         "x": [
          91.66689067498186
         ],
         "x0": " ",
         "xaxis": "x",
         "y0": " ",
         "yaxis": "y"
        },
        {
         "alignmentgroup": "True",
         "boxpoints": "all",
         "fillcolor": "rgba(255,255,255,0)",
         "hoveron": "points",
         "hovertemplate": "<b>%{hovertext}</b><br><br>Municipality=Boden<br>x=%{x}<extra></extra>",
         "hovertext": [
          "Boden"
         ],
         "legendgroup": "Boden",
         "line": {
          "color": "rgba(255,255,255,0)"
         },
         "marker": {
          "color": "#B6E880"
         },
         "name": "Boden",
         "offsetgroup": "Boden",
         "orientation": "h",
         "pointpos": 0,
         "showlegend": true,
         "type": "box",
         "x": [
          91.15635310211636
         ],
         "x0": " ",
         "xaxis": "x",
         "y0": " ",
         "yaxis": "y"
        },
        {
         "alignmentgroup": "True",
         "boxpoints": "all",
         "fillcolor": "rgba(255,255,255,0)",
         "hoveron": "points",
         "hovertemplate": "<b>%{hovertext}</b><br><br>Municipality=Haparanda<br>x=%{x}<extra></extra>",
         "hovertext": [
          "Haparanda"
         ],
         "legendgroup": "Haparanda",
         "line": {
          "color": "rgba(255,255,255,0)"
         },
         "marker": {
          "color": "#FF97FF"
         },
         "name": "Haparanda",
         "offsetgroup": "Haparanda",
         "orientation": "h",
         "pointpos": 0,
         "showlegend": true,
         "type": "box",
         "x": [
          84.88219112546346
         ],
         "x0": " ",
         "xaxis": "x",
         "y0": " ",
         "yaxis": "y"
        },
        {
         "alignmentgroup": "True",
         "boxpoints": "all",
         "fillcolor": "rgba(255,255,255,0)",
         "hoveron": "points",
         "hovertemplate": "<b>%{hovertext}</b><br><br>Municipality=Kiruna<br>x=%{x}<extra></extra>",
         "hovertext": [
          "Kiruna"
         ],
         "legendgroup": "Kiruna",
         "line": {
          "color": "rgba(255,255,255,0)"
         },
         "marker": {
          "color": "#FECB52"
         },
         "name": "Kiruna",
         "offsetgroup": "Kiruna",
         "orientation": "h",
         "pointpos": 0,
         "showlegend": true,
         "type": "box",
         "x": [
          87.17896865520729
         ],
         "x0": " ",
         "xaxis": "x",
         "y0": " ",
         "yaxis": "y"
        }
       ],
       "layout": {
        "boxmode": "group",
        "legend": {
         "title": {
          "text": "Municipality"
         },
         "tracegroupgap": 0
        },
        "template": {
         "data": {
          "bar": [
           {
            "error_x": {
             "color": "#2a3f5f"
            },
            "error_y": {
             "color": "#2a3f5f"
            },
            "marker": {
             "line": {
              "color": "#E5ECF6",
              "width": 0.5
             },
             "pattern": {
              "fillmode": "overlay",
              "size": 10,
              "solidity": 0.2
             }
            },
            "type": "bar"
           }
          ],
          "barpolar": [
           {
            "marker": {
             "line": {
              "color": "#E5ECF6",
              "width": 0.5
             },
             "pattern": {
              "fillmode": "overlay",
              "size": 10,
              "solidity": 0.2
             }
            },
            "type": "barpolar"
           }
          ],
          "carpet": [
           {
            "aaxis": {
             "endlinecolor": "#2a3f5f",
             "gridcolor": "white",
             "linecolor": "white",
             "minorgridcolor": "white",
             "startlinecolor": "#2a3f5f"
            },
            "baxis": {
             "endlinecolor": "#2a3f5f",
             "gridcolor": "white",
             "linecolor": "white",
             "minorgridcolor": "white",
             "startlinecolor": "#2a3f5f"
            },
            "type": "carpet"
           }
          ],
          "choropleth": [
           {
            "colorbar": {
             "outlinewidth": 0,
             "ticks": ""
            },
            "type": "choropleth"
           }
          ],
          "contour": [
           {
            "colorbar": {
             "outlinewidth": 0,
             "ticks": ""
            },
            "colorscale": [
             [
              0,
              "#0d0887"
             ],
             [
              0.1111111111111111,
              "#46039f"
             ],
             [
              0.2222222222222222,
              "#7201a8"
             ],
             [
              0.3333333333333333,
              "#9c179e"
             ],
             [
              0.4444444444444444,
              "#bd3786"
             ],
             [
              0.5555555555555556,
              "#d8576b"
             ],
             [
              0.6666666666666666,
              "#ed7953"
             ],
             [
              0.7777777777777778,
              "#fb9f3a"
             ],
             [
              0.8888888888888888,
              "#fdca26"
             ],
             [
              1,
              "#f0f921"
             ]
            ],
            "type": "contour"
           }
          ],
          "contourcarpet": [
           {
            "colorbar": {
             "outlinewidth": 0,
             "ticks": ""
            },
            "type": "contourcarpet"
           }
          ],
          "heatmap": [
           {
            "colorbar": {
             "outlinewidth": 0,
             "ticks": ""
            },
            "colorscale": [
             [
              0,
              "#0d0887"
             ],
             [
              0.1111111111111111,
              "#46039f"
             ],
             [
              0.2222222222222222,
              "#7201a8"
             ],
             [
              0.3333333333333333,
              "#9c179e"
             ],
             [
              0.4444444444444444,
              "#bd3786"
             ],
             [
              0.5555555555555556,
              "#d8576b"
             ],
             [
              0.6666666666666666,
              "#ed7953"
             ],
             [
              0.7777777777777778,
              "#fb9f3a"
             ],
             [
              0.8888888888888888,
              "#fdca26"
             ],
             [
              1,
              "#f0f921"
             ]
            ],
            "type": "heatmap"
           }
          ],
          "heatmapgl": [
           {
            "colorbar": {
             "outlinewidth": 0,
             "ticks": ""
            },
            "colorscale": [
             [
              0,
              "#0d0887"
             ],
             [
              0.1111111111111111,
              "#46039f"
             ],
             [
              0.2222222222222222,
              "#7201a8"
             ],
             [
              0.3333333333333333,
              "#9c179e"
             ],
             [
              0.4444444444444444,
              "#bd3786"
             ],
             [
              0.5555555555555556,
              "#d8576b"
             ],
             [
              0.6666666666666666,
              "#ed7953"
             ],
             [
              0.7777777777777778,
              "#fb9f3a"
             ],
             [
              0.8888888888888888,
              "#fdca26"
             ],
             [
              1,
              "#f0f921"
             ]
            ],
            "type": "heatmapgl"
           }
          ],
          "histogram": [
           {
            "marker": {
             "pattern": {
              "fillmode": "overlay",
              "size": 10,
              "solidity": 0.2
             }
            },
            "type": "histogram"
           }
          ],
          "histogram2d": [
           {
            "colorbar": {
             "outlinewidth": 0,
             "ticks": ""
            },
            "colorscale": [
             [
              0,
              "#0d0887"
             ],
             [
              0.1111111111111111,
              "#46039f"
             ],
             [
              0.2222222222222222,
              "#7201a8"
             ],
             [
              0.3333333333333333,
              "#9c179e"
             ],
             [
              0.4444444444444444,
              "#bd3786"
             ],
             [
              0.5555555555555556,
              "#d8576b"
             ],
             [
              0.6666666666666666,
              "#ed7953"
             ],
             [
              0.7777777777777778,
              "#fb9f3a"
             ],
             [
              0.8888888888888888,
              "#fdca26"
             ],
             [
              1,
              "#f0f921"
             ]
            ],
            "type": "histogram2d"
           }
          ],
          "histogram2dcontour": [
           {
            "colorbar": {
             "outlinewidth": 0,
             "ticks": ""
            },
            "colorscale": [
             [
              0,
              "#0d0887"
             ],
             [
              0.1111111111111111,
              "#46039f"
             ],
             [
              0.2222222222222222,
              "#7201a8"
             ],
             [
              0.3333333333333333,
              "#9c179e"
             ],
             [
              0.4444444444444444,
              "#bd3786"
             ],
             [
              0.5555555555555556,
              "#d8576b"
             ],
             [
              0.6666666666666666,
              "#ed7953"
             ],
             [
              0.7777777777777778,
              "#fb9f3a"
             ],
             [
              0.8888888888888888,
              "#fdca26"
             ],
             [
              1,
              "#f0f921"
             ]
            ],
            "type": "histogram2dcontour"
           }
          ],
          "mesh3d": [
           {
            "colorbar": {
             "outlinewidth": 0,
             "ticks": ""
            },
            "type": "mesh3d"
           }
          ],
          "parcoords": [
           {
            "line": {
             "colorbar": {
              "outlinewidth": 0,
              "ticks": ""
             }
            },
            "type": "parcoords"
           }
          ],
          "pie": [
           {
            "automargin": true,
            "type": "pie"
           }
          ],
          "scatter": [
           {
            "fillpattern": {
             "fillmode": "overlay",
             "size": 10,
             "solidity": 0.2
            },
            "type": "scatter"
           }
          ],
          "scatter3d": [
           {
            "line": {
             "colorbar": {
              "outlinewidth": 0,
              "ticks": ""
             }
            },
            "marker": {
             "colorbar": {
              "outlinewidth": 0,
              "ticks": ""
             }
            },
            "type": "scatter3d"
           }
          ],
          "scattercarpet": [
           {
            "marker": {
             "colorbar": {
              "outlinewidth": 0,
              "ticks": ""
             }
            },
            "type": "scattercarpet"
           }
          ],
          "scattergeo": [
           {
            "marker": {
             "colorbar": {
              "outlinewidth": 0,
              "ticks": ""
             }
            },
            "type": "scattergeo"
           }
          ],
          "scattergl": [
           {
            "marker": {
             "colorbar": {
              "outlinewidth": 0,
              "ticks": ""
             }
            },
            "type": "scattergl"
           }
          ],
          "scattermapbox": [
           {
            "marker": {
             "colorbar": {
              "outlinewidth": 0,
              "ticks": ""
             }
            },
            "type": "scattermapbox"
           }
          ],
          "scatterpolar": [
           {
            "marker": {
             "colorbar": {
              "outlinewidth": 0,
              "ticks": ""
             }
            },
            "type": "scatterpolar"
           }
          ],
          "scatterpolargl": [
           {
            "marker": {
             "colorbar": {
              "outlinewidth": 0,
              "ticks": ""
             }
            },
            "type": "scatterpolargl"
           }
          ],
          "scatterternary": [
           {
            "marker": {
             "colorbar": {
              "outlinewidth": 0,
              "ticks": ""
             }
            },
            "type": "scatterternary"
           }
          ],
          "surface": [
           {
            "colorbar": {
             "outlinewidth": 0,
             "ticks": ""
            },
            "colorscale": [
             [
              0,
              "#0d0887"
             ],
             [
              0.1111111111111111,
              "#46039f"
             ],
             [
              0.2222222222222222,
              "#7201a8"
             ],
             [
              0.3333333333333333,
              "#9c179e"
             ],
             [
              0.4444444444444444,
              "#bd3786"
             ],
             [
              0.5555555555555556,
              "#d8576b"
             ],
             [
              0.6666666666666666,
              "#ed7953"
             ],
             [
              0.7777777777777778,
              "#fb9f3a"
             ],
             [
              0.8888888888888888,
              "#fdca26"
             ],
             [
              1,
              "#f0f921"
             ]
            ],
            "type": "surface"
           }
          ],
          "table": [
           {
            "cells": {
             "fill": {
              "color": "#EBF0F8"
             },
             "line": {
              "color": "white"
             }
            },
            "header": {
             "fill": {
              "color": "#C8D4E3"
             },
             "line": {
              "color": "white"
             }
            },
            "type": "table"
           }
          ]
         },
         "layout": {
          "annotationdefaults": {
           "arrowcolor": "#2a3f5f",
           "arrowhead": 0,
           "arrowwidth": 1
          },
          "autotypenumbers": "strict",
          "coloraxis": {
           "colorbar": {
            "outlinewidth": 0,
            "ticks": ""
           }
          },
          "colorscale": {
           "diverging": [
            [
             0,
             "#8e0152"
            ],
            [
             0.1,
             "#c51b7d"
            ],
            [
             0.2,
             "#de77ae"
            ],
            [
             0.3,
             "#f1b6da"
            ],
            [
             0.4,
             "#fde0ef"
            ],
            [
             0.5,
             "#f7f7f7"
            ],
            [
             0.6,
             "#e6f5d0"
            ],
            [
             0.7,
             "#b8e186"
            ],
            [
             0.8,
             "#7fbc41"
            ],
            [
             0.9,
             "#4d9221"
            ],
            [
             1,
             "#276419"
            ]
           ],
           "sequential": [
            [
             0,
             "#0d0887"
            ],
            [
             0.1111111111111111,
             "#46039f"
            ],
            [
             0.2222222222222222,
             "#7201a8"
            ],
            [
             0.3333333333333333,
             "#9c179e"
            ],
            [
             0.4444444444444444,
             "#bd3786"
            ],
            [
             0.5555555555555556,
             "#d8576b"
            ],
            [
             0.6666666666666666,
             "#ed7953"
            ],
            [
             0.7777777777777778,
             "#fb9f3a"
            ],
            [
             0.8888888888888888,
             "#fdca26"
            ],
            [
             1,
             "#f0f921"
            ]
           ],
           "sequentialminus": [
            [
             0,
             "#0d0887"
            ],
            [
             0.1111111111111111,
             "#46039f"
            ],
            [
             0.2222222222222222,
             "#7201a8"
            ],
            [
             0.3333333333333333,
             "#9c179e"
            ],
            [
             0.4444444444444444,
             "#bd3786"
            ],
            [
             0.5555555555555556,
             "#d8576b"
            ],
            [
             0.6666666666666666,
             "#ed7953"
            ],
            [
             0.7777777777777778,
             "#fb9f3a"
            ],
            [
             0.8888888888888888,
             "#fdca26"
            ],
            [
             1,
             "#f0f921"
            ]
           ]
          },
          "colorway": [
           "#636efa",
           "#EF553B",
           "#00cc96",
           "#ab63fa",
           "#FFA15A",
           "#19d3f3",
           "#FF6692",
           "#B6E880",
           "#FF97FF",
           "#FECB52"
          ],
          "font": {
           "color": "#2a3f5f"
          },
          "geo": {
           "bgcolor": "white",
           "lakecolor": "white",
           "landcolor": "#E5ECF6",
           "showlakes": true,
           "showland": true,
           "subunitcolor": "white"
          },
          "hoverlabel": {
           "align": "left"
          },
          "hovermode": "closest",
          "mapbox": {
           "style": "light"
          },
          "paper_bgcolor": "white",
          "plot_bgcolor": "#E5ECF6",
          "polar": {
           "angularaxis": {
            "gridcolor": "white",
            "linecolor": "white",
            "ticks": ""
           },
           "bgcolor": "#E5ECF6",
           "radialaxis": {
            "gridcolor": "white",
            "linecolor": "white",
            "ticks": ""
           }
          },
          "scene": {
           "xaxis": {
            "backgroundcolor": "#E5ECF6",
            "gridcolor": "white",
            "gridwidth": 2,
            "linecolor": "white",
            "showbackground": true,
            "ticks": "",
            "zerolinecolor": "white"
           },
           "yaxis": {
            "backgroundcolor": "#E5ECF6",
            "gridcolor": "white",
            "gridwidth": 2,
            "linecolor": "white",
            "showbackground": true,
            "ticks": "",
            "zerolinecolor": "white"
           },
           "zaxis": {
            "backgroundcolor": "#E5ECF6",
            "gridcolor": "white",
            "gridwidth": 2,
            "linecolor": "white",
            "showbackground": true,
            "ticks": "",
            "zerolinecolor": "white"
           }
          },
          "shapedefaults": {
           "line": {
            "color": "#2a3f5f"
           }
          },
          "ternary": {
           "aaxis": {
            "gridcolor": "white",
            "linecolor": "white",
            "ticks": ""
           },
           "baxis": {
            "gridcolor": "white",
            "linecolor": "white",
            "ticks": ""
           },
           "bgcolor": "#E5ECF6",
           "caxis": {
            "gridcolor": "white",
            "linecolor": "white",
            "ticks": ""
           }
          },
          "title": {
           "x": 0.05
          },
          "xaxis": {
           "automargin": true,
           "gridcolor": "white",
           "linecolor": "white",
           "ticks": "",
           "title": {
            "standoff": 15
           },
           "zerolinecolor": "white",
           "zerolinewidth": 2
          },
          "yaxis": {
           "automargin": true,
           "gridcolor": "white",
           "linecolor": "white",
           "ticks": "",
           "title": {
            "standoff": 15
           },
           "zerolinecolor": "white",
           "zerolinewidth": 2
          }
         }
        },
        "title": {
         "text": "Share per Municipality that Received Vaccine Dose 1"
        },
        "xaxis": {
         "anchor": "y",
         "domain": [
          0,
          1
         ],
         "title": {
          "text": "Percentage of Population with Dose 1"
         }
        },
        "yaxis": {
         "anchor": "x",
         "domain": [
          0,
          1
         ]
        }
       }
      }
     },
     "metadata": {},
     "output_type": "display_data"
    }
   ],
   "source": [
    "percent_share_dose_one = vaccinated_municipality['Andel_dos1'] * 100\n",
    "\n",
    "fig = px.strip(\n",
    "    vaccinated_municipality, \n",
    "    x=percent_share_dose_one, \n",
    "    hover_name='KnNamn', \n",
    "    title='Share per Municipality that Received Vaccine Dose 1', \n",
    "    color='KnNamn', \n",
    "    labels={\n",
    "        'Andel_dos1': 'Share dose 1',\n",
    "        'KnNamn': 'Municipality'\n",
    "    },\n",
    ").update_xaxes(title_text='Percentage of Population with Dose 1').show()\n",
    "# fig.write_html()"
   ]
  },
  {
   "cell_type": "markdown",
   "metadata": {},
   "source": [
    "If we then combine the above knowledge with looking att the total number of vaccinated in the country by gender we can assume that men in Botkyrka municipality are the group that has the lowest rate of vaccinations. "
   ]
  },
  {
   "cell_type": "code",
   "execution_count": 266,
   "metadata": {},
   "outputs": [
    {
     "data": {
      "text/html": [
       "<div>\n",
       "<style scoped>\n",
       "    .dataframe tbody tr th:only-of-type {\n",
       "        vertical-align: middle;\n",
       "    }\n",
       "\n",
       "    .dataframe tbody tr th {\n",
       "        vertical-align: top;\n",
       "    }\n",
       "\n",
       "    .dataframe thead th {\n",
       "        text-align: right;\n",
       "    }\n",
       "</style>\n",
       "<table border=\"1\" class=\"dataframe\">\n",
       "  <thead>\n",
       "    <tr style=\"text-align: right;\">\n",
       "      <th></th>\n",
       "      <th>Kön</th>\n",
       "      <th>Antal vaccinerade</th>\n",
       "      <th>Andel vaccinerade</th>\n",
       "      <th>Vaccinationsstatus</th>\n",
       "    </tr>\n",
       "  </thead>\n",
       "  <tbody>\n",
       "    <tr>\n",
       "      <th>0</th>\n",
       "      <td>Totalt</td>\n",
       "      <td>7810380</td>\n",
       "      <td>0.858964</td>\n",
       "      <td>Minst 1 dos</td>\n",
       "    </tr>\n",
       "    <tr>\n",
       "      <th>1</th>\n",
       "      <td>Totalt</td>\n",
       "      <td>7627588</td>\n",
       "      <td>0.838861</td>\n",
       "      <td>Minst 2 doser</td>\n",
       "    </tr>\n",
       "    <tr>\n",
       "      <th>2</th>\n",
       "      <td>Män</td>\n",
       "      <td>3858688</td>\n",
       "      <td>0.845743</td>\n",
       "      <td>Minst 1 dos</td>\n",
       "    </tr>\n",
       "    <tr>\n",
       "      <th>3</th>\n",
       "      <td>Män</td>\n",
       "      <td>3759898</td>\n",
       "      <td>0.824090</td>\n",
       "      <td>Minst 2 doser</td>\n",
       "    </tr>\n",
       "    <tr>\n",
       "      <th>4</th>\n",
       "      <td>Kvinnor</td>\n",
       "      <td>3951692</td>\n",
       "      <td>0.872279</td>\n",
       "      <td>Minst 1 dos</td>\n",
       "    </tr>\n",
       "    <tr>\n",
       "      <th>5</th>\n",
       "      <td>Kvinnor</td>\n",
       "      <td>3867690</td>\n",
       "      <td>0.853737</td>\n",
       "      <td>Minst 2 doser</td>\n",
       "    </tr>\n",
       "  </tbody>\n",
       "</table>\n",
       "</div>"
      ],
      "text/plain": [
       "       Kön  Antal vaccinerade  Andel vaccinerade Vaccinationsstatus\n",
       "0   Totalt            7810380           0.858964        Minst 1 dos\n",
       "1   Totalt            7627588           0.838861      Minst 2 doser\n",
       "2      Män            3858688           0.845743        Minst 1 dos\n",
       "3      Män            3759898           0.824090      Minst 2 doser\n",
       "4  Kvinnor            3951692           0.872279        Minst 1 dos\n",
       "5  Kvinnor            3867690           0.853737      Minst 2 doser"
      ]
     },
     "execution_count": 266,
     "metadata": {},
     "output_type": "execute_result"
    }
   ],
   "source": [
    "vaccinated_gender = pd.read_excel(\"Data/Folkhalsomyndigheten_Covid19_Vaccine.xlsx\", sheet_name=\"Vaccinerade kön\")\n",
    "vaccinated_gender.head(6)"
   ]
  },
  {
   "cell_type": "markdown",
   "metadata": {},
   "source": [
    "### **COVID-19 Cases Data:**"
   ]
  },
  {
   "cell_type": "markdown",
   "metadata": {},
   "source": [
    "#### 2.1. **Incidence Rate:** The number of new COVID-19 cases reported in a specific period per 100,000 population."
   ]
  },
  {
   "cell_type": "markdown",
   "metadata": {},
   "source": [
    "A hypothesis is that we find a higher number of cases in the counties with the larger cities such as Stockholm, Västra Götaland (Gothenburg) and Skåne (Malmö). This because the interaction between people a higher in the bigger cities compared to the countryside."
   ]
  },
  {
   "cell_type": "code",
   "execution_count": 278,
   "metadata": {},
   "outputs": [
    {
     "data": {
      "application/vnd.plotly.v1+json": {
       "config": {
        "plotlyServerURL": "https://plot.ly"
       },
       "data": [
        {
         "alignmentgroup": "True",
         "boxpoints": "all",
         "customdata": [
          [
           2020,
           1
          ],
          [
           2020,
           2
          ],
          [
           2020,
           3
          ],
          [
           2020,
           4
          ],
          [
           2020,
           5
          ],
          [
           2020,
           6
          ],
          [
           2020,
           7
          ],
          [
           2020,
           8
          ],
          [
           2020,
           9
          ],
          [
           2020,
           10
          ],
          [
           2020,
           11
          ],
          [
           2020,
           12
          ],
          [
           2020,
           13
          ],
          [
           2020,
           14
          ],
          [
           2020,
           15
          ],
          [
           2020,
           16
          ],
          [
           2020,
           17
          ],
          [
           2020,
           18
          ],
          [
           2020,
           19
          ],
          [
           2020,
           20
          ],
          [
           2020,
           21
          ],
          [
           2020,
           22
          ],
          [
           2020,
           23
          ],
          [
           2020,
           24
          ],
          [
           2020,
           25
          ],
          [
           2020,
           26
          ],
          [
           2020,
           27
          ],
          [
           2020,
           28
          ],
          [
           2020,
           29
          ],
          [
           2020,
           30
          ],
          [
           2020,
           31
          ],
          [
           2020,
           32
          ],
          [
           2020,
           33
          ],
          [
           2020,
           34
          ],
          [
           2020,
           35
          ],
          [
           2020,
           36
          ],
          [
           2020,
           37
          ],
          [
           2020,
           38
          ],
          [
           2020,
           39
          ],
          [
           2020,
           40
          ],
          [
           2020,
           41
          ],
          [
           2020,
           42
          ],
          [
           2020,
           43
          ],
          [
           2020,
           44
          ],
          [
           2020,
           45
          ],
          [
           2020,
           46
          ],
          [
           2020,
           47
          ],
          [
           2020,
           48
          ],
          [
           2020,
           49
          ],
          [
           2020,
           50
          ],
          [
           2020,
           51
          ],
          [
           2020,
           52
          ],
          [
           2020,
           53
          ],
          [
           2020,
           1
          ],
          [
           2020,
           2
          ],
          [
           2020,
           3
          ],
          [
           2020,
           4
          ],
          [
           2020,
           5
          ],
          [
           2020,
           6
          ],
          [
           2020,
           7
          ],
          [
           2020,
           8
          ],
          [
           2020,
           9
          ],
          [
           2020,
           10
          ],
          [
           2020,
           11
          ],
          [
           2020,
           12
          ],
          [
           2020,
           13
          ],
          [
           2020,
           14
          ],
          [
           2020,
           15
          ],
          [
           2020,
           16
          ],
          [
           2020,
           17
          ],
          [
           2020,
           18
          ],
          [
           2020,
           19
          ],
          [
           2020,
           20
          ],
          [
           2020,
           21
          ],
          [
           2020,
           22
          ],
          [
           2020,
           23
          ],
          [
           2020,
           24
          ],
          [
           2020,
           25
          ],
          [
           2020,
           26
          ],
          [
           2020,
           27
          ],
          [
           2020,
           28
          ],
          [
           2020,
           29
          ],
          [
           2020,
           30
          ],
          [
           2020,
           31
          ],
          [
           2020,
           32
          ],
          [
           2020,
           33
          ],
          [
           2020,
           34
          ],
          [
           2020,
           35
          ],
          [
           2020,
           36
          ],
          [
           2020,
           37
          ],
          [
           2020,
           38
          ],
          [
           2020,
           39
          ],
          [
           2020,
           40
          ],
          [
           2020,
           41
          ],
          [
           2020,
           42
          ],
          [
           2020,
           43
          ],
          [
           2020,
           44
          ],
          [
           2020,
           45
          ],
          [
           2020,
           46
          ],
          [
           2020,
           47
          ],
          [
           2020,
           48
          ],
          [
           2020,
           49
          ],
          [
           2020,
           50
          ],
          [
           2020,
           51
          ],
          [
           2020,
           52
          ],
          [
           2020,
           53
          ],
          [
           2020,
           1
          ],
          [
           2020,
           2
          ],
          [
           2020,
           3
          ],
          [
           2020,
           4
          ],
          [
           2020,
           5
          ],
          [
           2020,
           6
          ],
          [
           2020,
           7
          ],
          [
           2020,
           8
          ],
          [
           2020,
           9
          ],
          [
           2020,
           10
          ],
          [
           2020,
           11
          ],
          [
           2020,
           12
          ],
          [
           2020,
           13
          ],
          [
           2020,
           14
          ],
          [
           2020,
           15
          ],
          [
           2020,
           16
          ],
          [
           2020,
           17
          ],
          [
           2020,
           18
          ],
          [
           2020,
           19
          ],
          [
           2020,
           20
          ],
          [
           2020,
           21
          ],
          [
           2020,
           22
          ],
          [
           2020,
           23
          ],
          [
           2020,
           24
          ],
          [
           2020,
           25
          ],
          [
           2020,
           26
          ],
          [
           2020,
           27
          ],
          [
           2020,
           28
          ],
          [
           2020,
           29
          ],
          [
           2020,
           30
          ],
          [
           2020,
           31
          ],
          [
           2020,
           32
          ],
          [
           2020,
           33
          ],
          [
           2020,
           34
          ],
          [
           2020,
           35
          ],
          [
           2020,
           36
          ],
          [
           2020,
           37
          ],
          [
           2020,
           38
          ],
          [
           2020,
           39
          ],
          [
           2020,
           40
          ],
          [
           2020,
           41
          ],
          [
           2020,
           42
          ],
          [
           2020,
           43
          ],
          [
           2020,
           44
          ],
          [
           2020,
           45
          ],
          [
           2020,
           46
          ],
          [
           2020,
           47
          ],
          [
           2020,
           48
          ],
          [
           2020,
           49
          ],
          [
           2020,
           50
          ],
          [
           2020,
           51
          ],
          [
           2020,
           52
          ],
          [
           2020,
           53
          ],
          [
           2020,
           1
          ],
          [
           2020,
           2
          ],
          [
           2020,
           3
          ],
          [
           2020,
           4
          ],
          [
           2020,
           5
          ],
          [
           2020,
           6
          ],
          [
           2020,
           7
          ],
          [
           2020,
           8
          ],
          [
           2020,
           9
          ],
          [
           2020,
           10
          ],
          [
           2020,
           11
          ],
          [
           2020,
           12
          ],
          [
           2020,
           13
          ],
          [
           2020,
           14
          ],
          [
           2020,
           15
          ],
          [
           2020,
           16
          ],
          [
           2020,
           17
          ],
          [
           2020,
           18
          ],
          [
           2020,
           19
          ],
          [
           2020,
           20
          ],
          [
           2020,
           21
          ],
          [
           2020,
           22
          ],
          [
           2020,
           23
          ],
          [
           2020,
           24
          ],
          [
           2020,
           25
          ],
          [
           2020,
           26
          ],
          [
           2020,
           27
          ],
          [
           2020,
           28
          ],
          [
           2020,
           29
          ],
          [
           2020,
           30
          ],
          [
           2020,
           31
          ],
          [
           2020,
           32
          ],
          [
           2020,
           33
          ],
          [
           2020,
           34
          ],
          [
           2020,
           35
          ],
          [
           2020,
           36
          ],
          [
           2020,
           37
          ],
          [
           2020,
           38
          ],
          [
           2020,
           39
          ],
          [
           2020,
           40
          ],
          [
           2020,
           41
          ],
          [
           2020,
           42
          ],
          [
           2020,
           43
          ],
          [
           2020,
           44
          ],
          [
           2020,
           45
          ],
          [
           2020,
           46
          ],
          [
           2020,
           47
          ],
          [
           2020,
           48
          ],
          [
           2020,
           49
          ],
          [
           2020,
           50
          ],
          [
           2020,
           51
          ],
          [
           2020,
           52
          ],
          [
           2020,
           53
          ],
          [
           2020,
           1
          ],
          [
           2020,
           2
          ],
          [
           2020,
           3
          ],
          [
           2020,
           4
          ],
          [
           2020,
           5
          ],
          [
           2020,
           6
          ],
          [
           2020,
           7
          ],
          [
           2020,
           8
          ],
          [
           2020,
           9
          ],
          [
           2020,
           10
          ],
          [
           2020,
           11
          ],
          [
           2020,
           12
          ],
          [
           2020,
           13
          ],
          [
           2020,
           14
          ],
          [
           2020,
           15
          ],
          [
           2020,
           16
          ],
          [
           2020,
           17
          ],
          [
           2020,
           18
          ],
          [
           2020,
           19
          ],
          [
           2020,
           20
          ],
          [
           2020,
           21
          ],
          [
           2020,
           22
          ],
          [
           2020,
           23
          ],
          [
           2020,
           24
          ],
          [
           2020,
           25
          ],
          [
           2020,
           26
          ],
          [
           2020,
           27
          ],
          [
           2020,
           28
          ],
          [
           2020,
           29
          ],
          [
           2020,
           30
          ],
          [
           2020,
           31
          ],
          [
           2020,
           32
          ],
          [
           2020,
           33
          ],
          [
           2020,
           34
          ],
          [
           2020,
           35
          ],
          [
           2020,
           36
          ],
          [
           2020,
           37
          ],
          [
           2020,
           38
          ],
          [
           2020,
           39
          ],
          [
           2020,
           40
          ],
          [
           2020,
           41
          ],
          [
           2020,
           42
          ],
          [
           2020,
           43
          ],
          [
           2020,
           44
          ],
          [
           2020,
           45
          ],
          [
           2020,
           46
          ],
          [
           2020,
           47
          ],
          [
           2020,
           48
          ],
          [
           2020,
           49
          ],
          [
           2020,
           50
          ],
          [
           2020,
           51
          ],
          [
           2020,
           52
          ],
          [
           2020,
           53
          ],
          [
           2020,
           1
          ],
          [
           2020,
           2
          ],
          [
           2020,
           3
          ],
          [
           2020,
           4
          ],
          [
           2020,
           5
          ],
          [
           2020,
           6
          ],
          [
           2020,
           7
          ],
          [
           2020,
           8
          ],
          [
           2020,
           9
          ],
          [
           2020,
           10
          ],
          [
           2020,
           11
          ],
          [
           2020,
           12
          ],
          [
           2020,
           13
          ],
          [
           2020,
           14
          ],
          [
           2020,
           15
          ],
          [
           2020,
           16
          ],
          [
           2020,
           17
          ],
          [
           2020,
           18
          ],
          [
           2020,
           19
          ],
          [
           2020,
           20
          ],
          [
           2020,
           21
          ],
          [
           2020,
           22
          ],
          [
           2020,
           23
          ],
          [
           2020,
           24
          ],
          [
           2020,
           25
          ],
          [
           2020,
           26
          ],
          [
           2020,
           27
          ],
          [
           2020,
           28
          ],
          [
           2020,
           29
          ],
          [
           2020,
           30
          ],
          [
           2020,
           31
          ],
          [
           2020,
           32
          ],
          [
           2020,
           33
          ],
          [
           2020,
           34
          ],
          [
           2020,
           35
          ],
          [
           2020,
           36
          ],
          [
           2020,
           37
          ],
          [
           2020,
           38
          ],
          [
           2020,
           39
          ],
          [
           2020,
           40
          ],
          [
           2020,
           41
          ],
          [
           2020,
           42
          ],
          [
           2020,
           43
          ],
          [
           2020,
           44
          ],
          [
           2020,
           45
          ],
          [
           2020,
           46
          ],
          [
           2020,
           47
          ],
          [
           2020,
           48
          ],
          [
           2020,
           49
          ],
          [
           2020,
           50
          ],
          [
           2020,
           51
          ],
          [
           2020,
           52
          ],
          [
           2020,
           53
          ],
          [
           2020,
           1
          ],
          [
           2020,
           2
          ],
          [
           2020,
           3
          ],
          [
           2020,
           4
          ],
          [
           2020,
           5
          ],
          [
           2020,
           6
          ],
          [
           2020,
           7
          ],
          [
           2020,
           8
          ],
          [
           2020,
           9
          ],
          [
           2020,
           10
          ],
          [
           2020,
           11
          ],
          [
           2020,
           12
          ],
          [
           2020,
           13
          ],
          [
           2020,
           14
          ],
          [
           2020,
           15
          ],
          [
           2020,
           16
          ],
          [
           2020,
           17
          ],
          [
           2020,
           18
          ],
          [
           2020,
           19
          ],
          [
           2020,
           20
          ],
          [
           2020,
           21
          ],
          [
           2020,
           22
          ],
          [
           2020,
           23
          ],
          [
           2020,
           24
          ],
          [
           2020,
           25
          ],
          [
           2020,
           26
          ],
          [
           2020,
           27
          ],
          [
           2020,
           28
          ],
          [
           2020,
           29
          ],
          [
           2020,
           30
          ],
          [
           2020,
           31
          ],
          [
           2020,
           32
          ],
          [
           2020,
           33
          ],
          [
           2020,
           34
          ],
          [
           2020,
           35
          ],
          [
           2020,
           36
          ],
          [
           2020,
           37
          ],
          [
           2020,
           38
          ],
          [
           2020,
           39
          ],
          [
           2020,
           40
          ],
          [
           2020,
           41
          ],
          [
           2020,
           42
          ],
          [
           2020,
           43
          ],
          [
           2020,
           44
          ],
          [
           2020,
           45
          ],
          [
           2020,
           46
          ],
          [
           2020,
           47
          ],
          [
           2020,
           48
          ],
          [
           2020,
           49
          ],
          [
           2020,
           50
          ],
          [
           2020,
           51
          ],
          [
           2020,
           52
          ],
          [
           2020,
           53
          ],
          [
           2020,
           1
          ],
          [
           2020,
           2
          ],
          [
           2020,
           3
          ],
          [
           2020,
           4
          ],
          [
           2020,
           5
          ],
          [
           2020,
           6
          ],
          [
           2020,
           7
          ],
          [
           2020,
           8
          ],
          [
           2020,
           9
          ],
          [
           2020,
           10
          ],
          [
           2020,
           11
          ],
          [
           2020,
           12
          ],
          [
           2020,
           13
          ],
          [
           2020,
           14
          ],
          [
           2020,
           15
          ],
          [
           2020,
           16
          ],
          [
           2020,
           17
          ],
          [
           2020,
           18
          ],
          [
           2020,
           19
          ],
          [
           2020,
           20
          ],
          [
           2020,
           21
          ],
          [
           2020,
           22
          ],
          [
           2020,
           23
          ],
          [
           2020,
           24
          ],
          [
           2020,
           25
          ],
          [
           2020,
           26
          ],
          [
           2020,
           27
          ],
          [
           2020,
           28
          ],
          [
           2020,
           29
          ],
          [
           2020,
           30
          ],
          [
           2020,
           31
          ],
          [
           2020,
           32
          ],
          [
           2020,
           33
          ],
          [
           2020,
           34
          ],
          [
           2020,
           35
          ],
          [
           2020,
           36
          ],
          [
           2020,
           37
          ],
          [
           2020,
           38
          ],
          [
           2020,
           39
          ],
          [
           2020,
           40
          ],
          [
           2020,
           41
          ],
          [
           2020,
           42
          ],
          [
           2020,
           43
          ],
          [
           2020,
           44
          ],
          [
           2020,
           45
          ],
          [
           2020,
           46
          ],
          [
           2020,
           47
          ],
          [
           2020,
           48
          ],
          [
           2020,
           49
          ],
          [
           2020,
           50
          ],
          [
           2020,
           51
          ],
          [
           2020,
           52
          ],
          [
           2020,
           53
          ],
          [
           2020,
           1
          ],
          [
           2020,
           2
          ],
          [
           2020,
           3
          ],
          [
           2020,
           4
          ],
          [
           2020,
           5
          ],
          [
           2020,
           6
          ],
          [
           2020,
           7
          ],
          [
           2020,
           8
          ],
          [
           2020,
           9
          ],
          [
           2020,
           10
          ],
          [
           2020,
           11
          ],
          [
           2020,
           12
          ],
          [
           2020,
           13
          ],
          [
           2020,
           14
          ],
          [
           2020,
           15
          ],
          [
           2020,
           16
          ],
          [
           2020,
           17
          ],
          [
           2020,
           18
          ],
          [
           2020,
           19
          ],
          [
           2020,
           20
          ],
          [
           2020,
           21
          ],
          [
           2020,
           22
          ],
          [
           2020,
           23
          ],
          [
           2020,
           24
          ],
          [
           2020,
           25
          ],
          [
           2020,
           26
          ],
          [
           2020,
           27
          ],
          [
           2020,
           28
          ],
          [
           2020,
           29
          ],
          [
           2020,
           30
          ],
          [
           2020,
           31
          ],
          [
           2020,
           32
          ],
          [
           2020,
           33
          ],
          [
           2020,
           34
          ],
          [
           2020,
           35
          ],
          [
           2020,
           36
          ],
          [
           2020,
           37
          ],
          [
           2020,
           38
          ],
          [
           2020,
           39
          ],
          [
           2020,
           40
          ],
          [
           2020,
           41
          ],
          [
           2020,
           42
          ],
          [
           2020,
           43
          ],
          [
           2020,
           44
          ],
          [
           2020,
           45
          ],
          [
           2020,
           46
          ],
          [
           2020,
           47
          ],
          [
           2020,
           48
          ],
          [
           2020,
           49
          ],
          [
           2020,
           50
          ],
          [
           2020,
           51
          ],
          [
           2020,
           52
          ],
          [
           2020,
           53
          ],
          [
           2020,
           1
          ],
          [
           2020,
           2
          ],
          [
           2020,
           3
          ],
          [
           2020,
           4
          ],
          [
           2020,
           5
          ],
          [
           2020,
           6
          ],
          [
           2020,
           7
          ],
          [
           2020,
           8
          ],
          [
           2020,
           9
          ],
          [
           2020,
           10
          ],
          [
           2020,
           11
          ],
          [
           2020,
           12
          ],
          [
           2020,
           13
          ],
          [
           2020,
           14
          ],
          [
           2020,
           15
          ],
          [
           2020,
           16
          ],
          [
           2020,
           17
          ],
          [
           2020,
           18
          ],
          [
           2020,
           19
          ],
          [
           2020,
           20
          ],
          [
           2020,
           21
          ],
          [
           2020,
           22
          ],
          [
           2020,
           23
          ],
          [
           2020,
           24
          ],
          [
           2020,
           25
          ],
          [
           2020,
           26
          ],
          [
           2020,
           27
          ],
          [
           2020,
           28
          ],
          [
           2020,
           29
          ],
          [
           2020,
           30
          ],
          [
           2020,
           31
          ],
          [
           2020,
           32
          ],
          [
           2020,
           33
          ],
          [
           2020,
           34
          ],
          [
           2020,
           35
          ],
          [
           2020,
           36
          ],
          [
           2020,
           37
          ],
          [
           2020,
           38
          ],
          [
           2020,
           39
          ],
          [
           2020,
           40
          ],
          [
           2020,
           41
          ],
          [
           2020,
           42
          ],
          [
           2020,
           43
          ],
          [
           2020,
           44
          ],
          [
           2020,
           45
          ],
          [
           2020,
           46
          ],
          [
           2020,
           47
          ],
          [
           2020,
           48
          ],
          [
           2020,
           49
          ],
          [
           2020,
           50
          ],
          [
           2020,
           51
          ],
          [
           2020,
           52
          ],
          [
           2020,
           53
          ],
          [
           2020,
           1
          ],
          [
           2020,
           2
          ],
          [
           2020,
           3
          ],
          [
           2020,
           4
          ],
          [
           2020,
           5
          ],
          [
           2020,
           6
          ],
          [
           2020,
           7
          ],
          [
           2020,
           8
          ],
          [
           2020,
           9
          ],
          [
           2020,
           10
          ],
          [
           2020,
           11
          ],
          [
           2020,
           12
          ],
          [
           2020,
           13
          ],
          [
           2020,
           14
          ],
          [
           2020,
           15
          ],
          [
           2020,
           16
          ],
          [
           2020,
           17
          ],
          [
           2020,
           18
          ],
          [
           2020,
           19
          ],
          [
           2020,
           20
          ],
          [
           2020,
           21
          ],
          [
           2020,
           22
          ],
          [
           2020,
           23
          ],
          [
           2020,
           24
          ],
          [
           2020,
           25
          ],
          [
           2020,
           26
          ],
          [
           2020,
           27
          ],
          [
           2020,
           28
          ],
          [
           2020,
           29
          ],
          [
           2020,
           30
          ],
          [
           2020,
           31
          ],
          [
           2020,
           32
          ],
          [
           2020,
           33
          ],
          [
           2020,
           34
          ],
          [
           2020,
           35
          ],
          [
           2020,
           36
          ],
          [
           2020,
           37
          ],
          [
           2020,
           38
          ],
          [
           2020,
           39
          ],
          [
           2020,
           40
          ],
          [
           2020,
           41
          ],
          [
           2020,
           42
          ],
          [
           2020,
           43
          ],
          [
           2020,
           44
          ],
          [
           2020,
           45
          ],
          [
           2020,
           46
          ],
          [
           2020,
           47
          ],
          [
           2020,
           48
          ],
          [
           2020,
           49
          ],
          [
           2020,
           50
          ],
          [
           2020,
           51
          ],
          [
           2020,
           52
          ],
          [
           2020,
           53
          ],
          [
           2020,
           1
          ],
          [
           2020,
           2
          ],
          [
           2020,
           3
          ],
          [
           2020,
           4
          ],
          [
           2020,
           5
          ],
          [
           2020,
           6
          ],
          [
           2020,
           7
          ],
          [
           2020,
           8
          ],
          [
           2020,
           9
          ],
          [
           2020,
           10
          ],
          [
           2020,
           11
          ],
          [
           2020,
           12
          ],
          [
           2020,
           13
          ],
          [
           2020,
           14
          ],
          [
           2020,
           15
          ],
          [
           2020,
           16
          ],
          [
           2020,
           17
          ],
          [
           2020,
           18
          ],
          [
           2020,
           19
          ],
          [
           2020,
           20
          ],
          [
           2020,
           21
          ],
          [
           2020,
           22
          ],
          [
           2020,
           23
          ],
          [
           2020,
           24
          ],
          [
           2020,
           25
          ],
          [
           2020,
           26
          ],
          [
           2020,
           27
          ],
          [
           2020,
           28
          ],
          [
           2020,
           29
          ],
          [
           2020,
           30
          ],
          [
           2020,
           31
          ],
          [
           2020,
           32
          ],
          [
           2020,
           33
          ],
          [
           2020,
           34
          ],
          [
           2020,
           35
          ],
          [
           2020,
           36
          ],
          [
           2020,
           37
          ],
          [
           2020,
           38
          ],
          [
           2020,
           39
          ],
          [
           2020,
           40
          ],
          [
           2020,
           41
          ],
          [
           2020,
           42
          ],
          [
           2020,
           43
          ],
          [
           2020,
           44
          ],
          [
           2020,
           45
          ],
          [
           2020,
           46
          ],
          [
           2020,
           47
          ],
          [
           2020,
           48
          ],
          [
           2020,
           49
          ],
          [
           2020,
           50
          ],
          [
           2020,
           51
          ],
          [
           2020,
           52
          ],
          [
           2020,
           53
          ],
          [
           2020,
           1
          ],
          [
           2020,
           2
          ],
          [
           2020,
           3
          ],
          [
           2020,
           4
          ],
          [
           2020,
           5
          ],
          [
           2020,
           6
          ],
          [
           2020,
           7
          ],
          [
           2020,
           8
          ],
          [
           2020,
           9
          ],
          [
           2020,
           10
          ],
          [
           2020,
           11
          ],
          [
           2020,
           12
          ],
          [
           2020,
           13
          ],
          [
           2020,
           14
          ],
          [
           2020,
           15
          ],
          [
           2020,
           16
          ],
          [
           2020,
           17
          ],
          [
           2020,
           18
          ],
          [
           2020,
           19
          ],
          [
           2020,
           20
          ],
          [
           2020,
           21
          ],
          [
           2020,
           22
          ],
          [
           2020,
           23
          ],
          [
           2020,
           24
          ],
          [
           2020,
           25
          ],
          [
           2020,
           26
          ],
          [
           2020,
           27
          ],
          [
           2020,
           28
          ],
          [
           2020,
           29
          ],
          [
           2020,
           30
          ],
          [
           2020,
           31
          ],
          [
           2020,
           32
          ],
          [
           2020,
           33
          ],
          [
           2020,
           34
          ],
          [
           2020,
           35
          ],
          [
           2020,
           36
          ],
          [
           2020,
           37
          ],
          [
           2020,
           38
          ],
          [
           2020,
           39
          ],
          [
           2020,
           40
          ],
          [
           2020,
           41
          ],
          [
           2020,
           42
          ],
          [
           2020,
           43
          ],
          [
           2020,
           44
          ],
          [
           2020,
           45
          ],
          [
           2020,
           46
          ],
          [
           2020,
           47
          ],
          [
           2020,
           48
          ],
          [
           2020,
           49
          ],
          [
           2020,
           50
          ],
          [
           2020,
           51
          ],
          [
           2020,
           52
          ],
          [
           2020,
           53
          ],
          [
           2020,
           1
          ],
          [
           2020,
           2
          ],
          [
           2020,
           3
          ],
          [
           2020,
           4
          ],
          [
           2020,
           5
          ],
          [
           2020,
           6
          ],
          [
           2020,
           7
          ],
          [
           2020,
           8
          ],
          [
           2020,
           9
          ],
          [
           2020,
           10
          ],
          [
           2020,
           11
          ],
          [
           2020,
           12
          ],
          [
           2020,
           13
          ],
          [
           2020,
           14
          ],
          [
           2020,
           15
          ],
          [
           2020,
           16
          ],
          [
           2020,
           17
          ],
          [
           2020,
           18
          ],
          [
           2020,
           19
          ],
          [
           2020,
           20
          ],
          [
           2020,
           21
          ],
          [
           2020,
           22
          ],
          [
           2020,
           23
          ],
          [
           2020,
           24
          ],
          [
           2020,
           25
          ],
          [
           2020,
           26
          ],
          [
           2020,
           27
          ],
          [
           2020,
           28
          ],
          [
           2020,
           29
          ],
          [
           2020,
           30
          ],
          [
           2020,
           31
          ],
          [
           2020,
           32
          ],
          [
           2020,
           33
          ],
          [
           2020,
           34
          ],
          [
           2020,
           35
          ],
          [
           2020,
           36
          ],
          [
           2020,
           37
          ],
          [
           2020,
           38
          ],
          [
           2020,
           39
          ],
          [
           2020,
           40
          ],
          [
           2020,
           41
          ],
          [
           2020,
           42
          ],
          [
           2020,
           43
          ],
          [
           2020,
           44
          ],
          [
           2020,
           45
          ],
          [
           2020,
           46
          ],
          [
           2020,
           47
          ],
          [
           2020,
           48
          ],
          [
           2020,
           49
          ],
          [
           2020,
           50
          ],
          [
           2020,
           51
          ],
          [
           2020,
           52
          ],
          [
           2020,
           53
          ],
          [
           2020,
           1
          ],
          [
           2020,
           2
          ],
          [
           2020,
           3
          ],
          [
           2020,
           4
          ],
          [
           2020,
           5
          ],
          [
           2020,
           6
          ],
          [
           2020,
           7
          ],
          [
           2020,
           8
          ],
          [
           2020,
           9
          ],
          [
           2020,
           10
          ],
          [
           2020,
           11
          ],
          [
           2020,
           12
          ],
          [
           2020,
           13
          ],
          [
           2020,
           14
          ],
          [
           2020,
           15
          ],
          [
           2020,
           16
          ],
          [
           2020,
           17
          ],
          [
           2020,
           18
          ],
          [
           2020,
           19
          ],
          [
           2020,
           20
          ],
          [
           2020,
           21
          ],
          [
           2020,
           22
          ],
          [
           2020,
           23
          ],
          [
           2020,
           24
          ],
          [
           2020,
           25
          ],
          [
           2020,
           26
          ],
          [
           2020,
           27
          ],
          [
           2020,
           28
          ],
          [
           2020,
           29
          ],
          [
           2020,
           30
          ],
          [
           2020,
           31
          ],
          [
           2020,
           32
          ],
          [
           2020,
           33
          ],
          [
           2020,
           34
          ],
          [
           2020,
           35
          ],
          [
           2020,
           36
          ],
          [
           2020,
           37
          ],
          [
           2020,
           38
          ],
          [
           2020,
           39
          ],
          [
           2020,
           40
          ],
          [
           2020,
           41
          ],
          [
           2020,
           42
          ],
          [
           2020,
           43
          ],
          [
           2020,
           44
          ],
          [
           2020,
           45
          ],
          [
           2020,
           46
          ],
          [
           2020,
           47
          ],
          [
           2020,
           48
          ],
          [
           2020,
           49
          ],
          [
           2020,
           50
          ],
          [
           2020,
           51
          ],
          [
           2020,
           52
          ],
          [
           2020,
           53
          ],
          [
           2020,
           1
          ],
          [
           2020,
           2
          ],
          [
           2020,
           3
          ],
          [
           2020,
           4
          ],
          [
           2020,
           5
          ],
          [
           2020,
           6
          ],
          [
           2020,
           7
          ],
          [
           2020,
           8
          ],
          [
           2020,
           9
          ],
          [
           2020,
           10
          ],
          [
           2020,
           11
          ],
          [
           2020,
           12
          ],
          [
           2020,
           13
          ],
          [
           2020,
           14
          ],
          [
           2020,
           15
          ],
          [
           2020,
           16
          ],
          [
           2020,
           17
          ],
          [
           2020,
           18
          ],
          [
           2020,
           19
          ],
          [
           2020,
           20
          ],
          [
           2020,
           21
          ],
          [
           2020,
           22
          ],
          [
           2020,
           23
          ],
          [
           2020,
           24
          ],
          [
           2020,
           25
          ],
          [
           2020,
           26
          ],
          [
           2020,
           27
          ],
          [
           2020,
           28
          ],
          [
           2020,
           29
          ],
          [
           2020,
           30
          ],
          [
           2020,
           31
          ],
          [
           2020,
           32
          ],
          [
           2020,
           33
          ],
          [
           2020,
           34
          ],
          [
           2020,
           35
          ],
          [
           2020,
           36
          ],
          [
           2020,
           37
          ],
          [
           2020,
           38
          ],
          [
           2020,
           39
          ],
          [
           2020,
           40
          ],
          [
           2020,
           41
          ],
          [
           2020,
           42
          ],
          [
           2020,
           43
          ],
          [
           2020,
           44
          ],
          [
           2020,
           45
          ],
          [
           2020,
           46
          ],
          [
           2020,
           47
          ],
          [
           2020,
           48
          ],
          [
           2020,
           49
          ],
          [
           2020,
           50
          ],
          [
           2020,
           51
          ],
          [
           2020,
           52
          ],
          [
           2020,
           53
          ],
          [
           2020,
           1
          ],
          [
           2020,
           2
          ],
          [
           2020,
           3
          ],
          [
           2020,
           4
          ],
          [
           2020,
           5
          ],
          [
           2020,
           6
          ],
          [
           2020,
           7
          ],
          [
           2020,
           8
          ],
          [
           2020,
           9
          ],
          [
           2020,
           10
          ],
          [
           2020,
           11
          ],
          [
           2020,
           12
          ],
          [
           2020,
           13
          ],
          [
           2020,
           14
          ],
          [
           2020,
           15
          ],
          [
           2020,
           16
          ],
          [
           2020,
           17
          ],
          [
           2020,
           18
          ],
          [
           2020,
           19
          ],
          [
           2020,
           20
          ],
          [
           2020,
           21
          ],
          [
           2020,
           22
          ],
          [
           2020,
           23
          ],
          [
           2020,
           24
          ],
          [
           2020,
           25
          ],
          [
           2020,
           26
          ],
          [
           2020,
           27
          ],
          [
           2020,
           28
          ],
          [
           2020,
           29
          ],
          [
           2020,
           30
          ],
          [
           2020,
           31
          ],
          [
           2020,
           32
          ],
          [
           2020,
           33
          ],
          [
           2020,
           34
          ],
          [
           2020,
           35
          ],
          [
           2020,
           36
          ],
          [
           2020,
           37
          ],
          [
           2020,
           38
          ],
          [
           2020,
           39
          ],
          [
           2020,
           40
          ],
          [
           2020,
           41
          ],
          [
           2020,
           42
          ],
          [
           2020,
           43
          ],
          [
           2020,
           44
          ],
          [
           2020,
           45
          ],
          [
           2020,
           46
          ],
          [
           2020,
           47
          ],
          [
           2020,
           48
          ],
          [
           2020,
           49
          ],
          [
           2020,
           50
          ],
          [
           2020,
           51
          ],
          [
           2020,
           52
          ],
          [
           2020,
           53
          ],
          [
           2020,
           1
          ],
          [
           2020,
           2
          ],
          [
           2020,
           3
          ],
          [
           2020,
           4
          ],
          [
           2020,
           5
          ],
          [
           2020,
           6
          ],
          [
           2020,
           7
          ],
          [
           2020,
           8
          ],
          [
           2020,
           9
          ],
          [
           2020,
           10
          ],
          [
           2020,
           11
          ],
          [
           2020,
           12
          ],
          [
           2020,
           13
          ],
          [
           2020,
           14
          ],
          [
           2020,
           15
          ],
          [
           2020,
           16
          ],
          [
           2020,
           17
          ],
          [
           2020,
           18
          ],
          [
           2020,
           19
          ],
          [
           2020,
           20
          ],
          [
           2020,
           21
          ],
          [
           2020,
           22
          ],
          [
           2020,
           23
          ],
          [
           2020,
           24
          ],
          [
           2020,
           25
          ],
          [
           2020,
           26
          ],
          [
           2020,
           27
          ],
          [
           2020,
           28
          ],
          [
           2020,
           29
          ],
          [
           2020,
           30
          ],
          [
           2020,
           31
          ],
          [
           2020,
           32
          ],
          [
           2020,
           33
          ],
          [
           2020,
           34
          ],
          [
           2020,
           35
          ],
          [
           2020,
           36
          ],
          [
           2020,
           37
          ],
          [
           2020,
           38
          ],
          [
           2020,
           39
          ],
          [
           2020,
           40
          ],
          [
           2020,
           41
          ],
          [
           2020,
           42
          ],
          [
           2020,
           43
          ],
          [
           2020,
           44
          ],
          [
           2020,
           45
          ],
          [
           2020,
           46
          ],
          [
           2020,
           47
          ],
          [
           2020,
           48
          ],
          [
           2020,
           49
          ],
          [
           2020,
           50
          ],
          [
           2020,
           51
          ],
          [
           2020,
           52
          ],
          [
           2020,
           53
          ],
          [
           2020,
           1
          ],
          [
           2020,
           2
          ],
          [
           2020,
           3
          ],
          [
           2020,
           4
          ],
          [
           2020,
           5
          ],
          [
           2020,
           6
          ],
          [
           2020,
           7
          ],
          [
           2020,
           8
          ],
          [
           2020,
           9
          ],
          [
           2020,
           10
          ],
          [
           2020,
           11
          ],
          [
           2020,
           12
          ],
          [
           2020,
           13
          ],
          [
           2020,
           14
          ],
          [
           2020,
           15
          ],
          [
           2020,
           16
          ],
          [
           2020,
           17
          ],
          [
           2020,
           18
          ],
          [
           2020,
           19
          ],
          [
           2020,
           20
          ],
          [
           2020,
           21
          ],
          [
           2020,
           22
          ],
          [
           2020,
           23
          ],
          [
           2020,
           24
          ],
          [
           2020,
           25
          ],
          [
           2020,
           26
          ],
          [
           2020,
           27
          ],
          [
           2020,
           28
          ],
          [
           2020,
           29
          ],
          [
           2020,
           30
          ],
          [
           2020,
           31
          ],
          [
           2020,
           32
          ],
          [
           2020,
           33
          ],
          [
           2020,
           34
          ],
          [
           2020,
           35
          ],
          [
           2020,
           36
          ],
          [
           2020,
           37
          ],
          [
           2020,
           38
          ],
          [
           2020,
           39
          ],
          [
           2020,
           40
          ],
          [
           2020,
           41
          ],
          [
           2020,
           42
          ],
          [
           2020,
           43
          ],
          [
           2020,
           44
          ],
          [
           2020,
           45
          ],
          [
           2020,
           46
          ],
          [
           2020,
           47
          ],
          [
           2020,
           48
          ],
          [
           2020,
           49
          ],
          [
           2020,
           50
          ],
          [
           2020,
           51
          ],
          [
           2020,
           52
          ],
          [
           2020,
           53
          ],
          [
           2020,
           1
          ],
          [
           2020,
           2
          ],
          [
           2020,
           3
          ],
          [
           2020,
           4
          ],
          [
           2020,
           5
          ],
          [
           2020,
           6
          ],
          [
           2020,
           7
          ],
          [
           2020,
           8
          ],
          [
           2020,
           9
          ],
          [
           2020,
           10
          ],
          [
           2020,
           11
          ],
          [
           2020,
           12
          ],
          [
           2020,
           13
          ],
          [
           2020,
           14
          ],
          [
           2020,
           15
          ],
          [
           2020,
           16
          ],
          [
           2020,
           17
          ],
          [
           2020,
           18
          ],
          [
           2020,
           19
          ],
          [
           2020,
           20
          ],
          [
           2020,
           21
          ],
          [
           2020,
           22
          ],
          [
           2020,
           23
          ],
          [
           2020,
           24
          ],
          [
           2020,
           25
          ],
          [
           2020,
           26
          ],
          [
           2020,
           27
          ],
          [
           2020,
           28
          ],
          [
           2020,
           29
          ],
          [
           2020,
           30
          ],
          [
           2020,
           31
          ],
          [
           2020,
           32
          ],
          [
           2020,
           33
          ],
          [
           2020,
           34
          ],
          [
           2020,
           35
          ],
          [
           2020,
           36
          ],
          [
           2020,
           37
          ],
          [
           2020,
           38
          ],
          [
           2020,
           39
          ],
          [
           2020,
           40
          ],
          [
           2020,
           41
          ],
          [
           2020,
           42
          ],
          [
           2020,
           43
          ],
          [
           2020,
           44
          ],
          [
           2020,
           45
          ],
          [
           2020,
           46
          ],
          [
           2020,
           47
          ],
          [
           2020,
           48
          ],
          [
           2020,
           49
          ],
          [
           2020,
           50
          ],
          [
           2020,
           51
          ],
          [
           2020,
           52
          ],
          [
           2020,
           53
          ],
          [
           2020,
           1
          ],
          [
           2020,
           2
          ],
          [
           2020,
           3
          ],
          [
           2020,
           4
          ],
          [
           2020,
           5
          ],
          [
           2020,
           6
          ],
          [
           2020,
           7
          ],
          [
           2020,
           8
          ],
          [
           2020,
           9
          ],
          [
           2020,
           10
          ],
          [
           2020,
           11
          ],
          [
           2020,
           12
          ],
          [
           2020,
           13
          ],
          [
           2020,
           14
          ],
          [
           2020,
           15
          ],
          [
           2020,
           16
          ],
          [
           2020,
           17
          ],
          [
           2020,
           18
          ],
          [
           2020,
           19
          ],
          [
           2020,
           20
          ],
          [
           2020,
           21
          ],
          [
           2020,
           22
          ],
          [
           2020,
           23
          ],
          [
           2020,
           24
          ],
          [
           2020,
           25
          ],
          [
           2020,
           26
          ],
          [
           2020,
           27
          ],
          [
           2020,
           28
          ],
          [
           2020,
           29
          ],
          [
           2020,
           30
          ],
          [
           2020,
           31
          ],
          [
           2020,
           32
          ],
          [
           2020,
           33
          ],
          [
           2020,
           34
          ],
          [
           2020,
           35
          ],
          [
           2020,
           36
          ],
          [
           2020,
           37
          ],
          [
           2020,
           38
          ],
          [
           2020,
           39
          ],
          [
           2020,
           40
          ],
          [
           2020,
           41
          ],
          [
           2020,
           42
          ],
          [
           2020,
           43
          ],
          [
           2020,
           44
          ],
          [
           2020,
           45
          ],
          [
           2020,
           46
          ],
          [
           2020,
           47
          ],
          [
           2020,
           48
          ],
          [
           2020,
           49
          ],
          [
           2020,
           50
          ],
          [
           2020,
           51
          ],
          [
           2020,
           52
          ],
          [
           2020,
           53
          ]
         ],
         "fillcolor": "rgba(255,255,255,0)",
         "hoveron": "points",
         "hovertemplate": "Year=%{customdata[0]}<br>County=%{x}<br>Cumulative number of cases=%{y}<br>Week=%{customdata[1]}<extra></extra>",
         "legendgroup": "2020",
         "line": {
          "color": "rgba(255,255,255,0)"
         },
         "marker": {
          "color": "#636efa"
         },
         "name": "2020",
         "offsetgroup": "2020",
         "orientation": "v",
         "pointpos": 0,
         "showlegend": true,
         "type": "box",
         "x": [
          "Blekinge",
          "Blekinge",
          "Blekinge",
          "Blekinge",
          "Blekinge",
          "Blekinge",
          "Blekinge",
          "Blekinge",
          "Blekinge",
          "Blekinge",
          "Blekinge",
          "Blekinge",
          "Blekinge",
          "Blekinge",
          "Blekinge",
          "Blekinge",
          "Blekinge",
          "Blekinge",
          "Blekinge",
          "Blekinge",
          "Blekinge",
          "Blekinge",
          "Blekinge",
          "Blekinge",
          "Blekinge",
          "Blekinge",
          "Blekinge",
          "Blekinge",
          "Blekinge",
          "Blekinge",
          "Blekinge",
          "Blekinge",
          "Blekinge",
          "Blekinge",
          "Blekinge",
          "Blekinge",
          "Blekinge",
          "Blekinge",
          "Blekinge",
          "Blekinge",
          "Blekinge",
          "Blekinge",
          "Blekinge",
          "Blekinge",
          "Blekinge",
          "Blekinge",
          "Blekinge",
          "Blekinge",
          "Blekinge",
          "Blekinge",
          "Blekinge",
          "Blekinge",
          "Blekinge",
          "Dalarna",
          "Dalarna",
          "Dalarna",
          "Dalarna",
          "Dalarna",
          "Dalarna",
          "Dalarna",
          "Dalarna",
          "Dalarna",
          "Dalarna",
          "Dalarna",
          "Dalarna",
          "Dalarna",
          "Dalarna",
          "Dalarna",
          "Dalarna",
          "Dalarna",
          "Dalarna",
          "Dalarna",
          "Dalarna",
          "Dalarna",
          "Dalarna",
          "Dalarna",
          "Dalarna",
          "Dalarna",
          "Dalarna",
          "Dalarna",
          "Dalarna",
          "Dalarna",
          "Dalarna",
          "Dalarna",
          "Dalarna",
          "Dalarna",
          "Dalarna",
          "Dalarna",
          "Dalarna",
          "Dalarna",
          "Dalarna",
          "Dalarna",
          "Dalarna",
          "Dalarna",
          "Dalarna",
          "Dalarna",
          "Dalarna",
          "Dalarna",
          "Dalarna",
          "Dalarna",
          "Dalarna",
          "Dalarna",
          "Dalarna",
          "Dalarna",
          "Dalarna",
          "Dalarna",
          "Gotland",
          "Gotland",
          "Gotland",
          "Gotland",
          "Gotland",
          "Gotland",
          "Gotland",
          "Gotland",
          "Gotland",
          "Gotland",
          "Gotland",
          "Gotland",
          "Gotland",
          "Gotland",
          "Gotland",
          "Gotland",
          "Gotland",
          "Gotland",
          "Gotland",
          "Gotland",
          "Gotland",
          "Gotland",
          "Gotland",
          "Gotland",
          "Gotland",
          "Gotland",
          "Gotland",
          "Gotland",
          "Gotland",
          "Gotland",
          "Gotland",
          "Gotland",
          "Gotland",
          "Gotland",
          "Gotland",
          "Gotland",
          "Gotland",
          "Gotland",
          "Gotland",
          "Gotland",
          "Gotland",
          "Gotland",
          "Gotland",
          "Gotland",
          "Gotland",
          "Gotland",
          "Gotland",
          "Gotland",
          "Gotland",
          "Gotland",
          "Gotland",
          "Gotland",
          "Gotland",
          "Gävleborg",
          "Gävleborg",
          "Gävleborg",
          "Gävleborg",
          "Gävleborg",
          "Gävleborg",
          "Gävleborg",
          "Gävleborg",
          "Gävleborg",
          "Gävleborg",
          "Gävleborg",
          "Gävleborg",
          "Gävleborg",
          "Gävleborg",
          "Gävleborg",
          "Gävleborg",
          "Gävleborg",
          "Gävleborg",
          "Gävleborg",
          "Gävleborg",
          "Gävleborg",
          "Gävleborg",
          "Gävleborg",
          "Gävleborg",
          "Gävleborg",
          "Gävleborg",
          "Gävleborg",
          "Gävleborg",
          "Gävleborg",
          "Gävleborg",
          "Gävleborg",
          "Gävleborg",
          "Gävleborg",
          "Gävleborg",
          "Gävleborg",
          "Gävleborg",
          "Gävleborg",
          "Gävleborg",
          "Gävleborg",
          "Gävleborg",
          "Gävleborg",
          "Gävleborg",
          "Gävleborg",
          "Gävleborg",
          "Gävleborg",
          "Gävleborg",
          "Gävleborg",
          "Gävleborg",
          "Gävleborg",
          "Gävleborg",
          "Gävleborg",
          "Gävleborg",
          "Gävleborg",
          "Halland",
          "Halland",
          "Halland",
          "Halland",
          "Halland",
          "Halland",
          "Halland",
          "Halland",
          "Halland",
          "Halland",
          "Halland",
          "Halland",
          "Halland",
          "Halland",
          "Halland",
          "Halland",
          "Halland",
          "Halland",
          "Halland",
          "Halland",
          "Halland",
          "Halland",
          "Halland",
          "Halland",
          "Halland",
          "Halland",
          "Halland",
          "Halland",
          "Halland",
          "Halland",
          "Halland",
          "Halland",
          "Halland",
          "Halland",
          "Halland",
          "Halland",
          "Halland",
          "Halland",
          "Halland",
          "Halland",
          "Halland",
          "Halland",
          "Halland",
          "Halland",
          "Halland",
          "Halland",
          "Halland",
          "Halland",
          "Halland",
          "Halland",
          "Halland",
          "Halland",
          "Halland",
          "Jämtland Härjedalen",
          "Jämtland Härjedalen",
          "Jämtland Härjedalen",
          "Jämtland Härjedalen",
          "Jämtland Härjedalen",
          "Jämtland Härjedalen",
          "Jämtland Härjedalen",
          "Jämtland Härjedalen",
          "Jämtland Härjedalen",
          "Jämtland Härjedalen",
          "Jämtland Härjedalen",
          "Jämtland Härjedalen",
          "Jämtland Härjedalen",
          "Jämtland Härjedalen",
          "Jämtland Härjedalen",
          "Jämtland Härjedalen",
          "Jämtland Härjedalen",
          "Jämtland Härjedalen",
          "Jämtland Härjedalen",
          "Jämtland Härjedalen",
          "Jämtland Härjedalen",
          "Jämtland Härjedalen",
          "Jämtland Härjedalen",
          "Jämtland Härjedalen",
          "Jämtland Härjedalen",
          "Jämtland Härjedalen",
          "Jämtland Härjedalen",
          "Jämtland Härjedalen",
          "Jämtland Härjedalen",
          "Jämtland Härjedalen",
          "Jämtland Härjedalen",
          "Jämtland Härjedalen",
          "Jämtland Härjedalen",
          "Jämtland Härjedalen",
          "Jämtland Härjedalen",
          "Jämtland Härjedalen",
          "Jämtland Härjedalen",
          "Jämtland Härjedalen",
          "Jämtland Härjedalen",
          "Jämtland Härjedalen",
          "Jämtland Härjedalen",
          "Jämtland Härjedalen",
          "Jämtland Härjedalen",
          "Jämtland Härjedalen",
          "Jämtland Härjedalen",
          "Jämtland Härjedalen",
          "Jämtland Härjedalen",
          "Jämtland Härjedalen",
          "Jämtland Härjedalen",
          "Jämtland Härjedalen",
          "Jämtland Härjedalen",
          "Jämtland Härjedalen",
          "Jämtland Härjedalen",
          "Jönköping",
          "Jönköping",
          "Jönköping",
          "Jönköping",
          "Jönköping",
          "Jönköping",
          "Jönköping",
          "Jönköping",
          "Jönköping",
          "Jönköping",
          "Jönköping",
          "Jönköping",
          "Jönköping",
          "Jönköping",
          "Jönköping",
          "Jönköping",
          "Jönköping",
          "Jönköping",
          "Jönköping",
          "Jönköping",
          "Jönköping",
          "Jönköping",
          "Jönköping",
          "Jönköping",
          "Jönköping",
          "Jönköping",
          "Jönköping",
          "Jönköping",
          "Jönköping",
          "Jönköping",
          "Jönköping",
          "Jönköping",
          "Jönköping",
          "Jönköping",
          "Jönköping",
          "Jönköping",
          "Jönköping",
          "Jönköping",
          "Jönköping",
          "Jönköping",
          "Jönköping",
          "Jönköping",
          "Jönköping",
          "Jönköping",
          "Jönköping",
          "Jönköping",
          "Jönköping",
          "Jönköping",
          "Jönköping",
          "Jönköping",
          "Jönköping",
          "Jönköping",
          "Jönköping",
          "Kalmar",
          "Kalmar",
          "Kalmar",
          "Kalmar",
          "Kalmar",
          "Kalmar",
          "Kalmar",
          "Kalmar",
          "Kalmar",
          "Kalmar",
          "Kalmar",
          "Kalmar",
          "Kalmar",
          "Kalmar",
          "Kalmar",
          "Kalmar",
          "Kalmar",
          "Kalmar",
          "Kalmar",
          "Kalmar",
          "Kalmar",
          "Kalmar",
          "Kalmar",
          "Kalmar",
          "Kalmar",
          "Kalmar",
          "Kalmar",
          "Kalmar",
          "Kalmar",
          "Kalmar",
          "Kalmar",
          "Kalmar",
          "Kalmar",
          "Kalmar",
          "Kalmar",
          "Kalmar",
          "Kalmar",
          "Kalmar",
          "Kalmar",
          "Kalmar",
          "Kalmar",
          "Kalmar",
          "Kalmar",
          "Kalmar",
          "Kalmar",
          "Kalmar",
          "Kalmar",
          "Kalmar",
          "Kalmar",
          "Kalmar",
          "Kalmar",
          "Kalmar",
          "Kalmar",
          "Kronoberg",
          "Kronoberg",
          "Kronoberg",
          "Kronoberg",
          "Kronoberg",
          "Kronoberg",
          "Kronoberg",
          "Kronoberg",
          "Kronoberg",
          "Kronoberg",
          "Kronoberg",
          "Kronoberg",
          "Kronoberg",
          "Kronoberg",
          "Kronoberg",
          "Kronoberg",
          "Kronoberg",
          "Kronoberg",
          "Kronoberg",
          "Kronoberg",
          "Kronoberg",
          "Kronoberg",
          "Kronoberg",
          "Kronoberg",
          "Kronoberg",
          "Kronoberg",
          "Kronoberg",
          "Kronoberg",
          "Kronoberg",
          "Kronoberg",
          "Kronoberg",
          "Kronoberg",
          "Kronoberg",
          "Kronoberg",
          "Kronoberg",
          "Kronoberg",
          "Kronoberg",
          "Kronoberg",
          "Kronoberg",
          "Kronoberg",
          "Kronoberg",
          "Kronoberg",
          "Kronoberg",
          "Kronoberg",
          "Kronoberg",
          "Kronoberg",
          "Kronoberg",
          "Kronoberg",
          "Kronoberg",
          "Kronoberg",
          "Kronoberg",
          "Kronoberg",
          "Kronoberg",
          "Norrbotten",
          "Norrbotten",
          "Norrbotten",
          "Norrbotten",
          "Norrbotten",
          "Norrbotten",
          "Norrbotten",
          "Norrbotten",
          "Norrbotten",
          "Norrbotten",
          "Norrbotten",
          "Norrbotten",
          "Norrbotten",
          "Norrbotten",
          "Norrbotten",
          "Norrbotten",
          "Norrbotten",
          "Norrbotten",
          "Norrbotten",
          "Norrbotten",
          "Norrbotten",
          "Norrbotten",
          "Norrbotten",
          "Norrbotten",
          "Norrbotten",
          "Norrbotten",
          "Norrbotten",
          "Norrbotten",
          "Norrbotten",
          "Norrbotten",
          "Norrbotten",
          "Norrbotten",
          "Norrbotten",
          "Norrbotten",
          "Norrbotten",
          "Norrbotten",
          "Norrbotten",
          "Norrbotten",
          "Norrbotten",
          "Norrbotten",
          "Norrbotten",
          "Norrbotten",
          "Norrbotten",
          "Norrbotten",
          "Norrbotten",
          "Norrbotten",
          "Norrbotten",
          "Norrbotten",
          "Norrbotten",
          "Norrbotten",
          "Norrbotten",
          "Norrbotten",
          "Norrbotten",
          "Skåne",
          "Skåne",
          "Skåne",
          "Skåne",
          "Skåne",
          "Skåne",
          "Skåne",
          "Skåne",
          "Skåne",
          "Skåne",
          "Skåne",
          "Skåne",
          "Skåne",
          "Skåne",
          "Skåne",
          "Skåne",
          "Skåne",
          "Skåne",
          "Skåne",
          "Skåne",
          "Skåne",
          "Skåne",
          "Skåne",
          "Skåne",
          "Skåne",
          "Skåne",
          "Skåne",
          "Skåne",
          "Skåne",
          "Skåne",
          "Skåne",
          "Skåne",
          "Skåne",
          "Skåne",
          "Skåne",
          "Skåne",
          "Skåne",
          "Skåne",
          "Skåne",
          "Skåne",
          "Skåne",
          "Skåne",
          "Skåne",
          "Skåne",
          "Skåne",
          "Skåne",
          "Skåne",
          "Skåne",
          "Skåne",
          "Skåne",
          "Skåne",
          "Skåne",
          "Skåne",
          "Stockholm",
          "Stockholm",
          "Stockholm",
          "Stockholm",
          "Stockholm",
          "Stockholm",
          "Stockholm",
          "Stockholm",
          "Stockholm",
          "Stockholm",
          "Stockholm",
          "Stockholm",
          "Stockholm",
          "Stockholm",
          "Stockholm",
          "Stockholm",
          "Stockholm",
          "Stockholm",
          "Stockholm",
          "Stockholm",
          "Stockholm",
          "Stockholm",
          "Stockholm",
          "Stockholm",
          "Stockholm",
          "Stockholm",
          "Stockholm",
          "Stockholm",
          "Stockholm",
          "Stockholm",
          "Stockholm",
          "Stockholm",
          "Stockholm",
          "Stockholm",
          "Stockholm",
          "Stockholm",
          "Stockholm",
          "Stockholm",
          "Stockholm",
          "Stockholm",
          "Stockholm",
          "Stockholm",
          "Stockholm",
          "Stockholm",
          "Stockholm",
          "Stockholm",
          "Stockholm",
          "Stockholm",
          "Stockholm",
          "Stockholm",
          "Stockholm",
          "Stockholm",
          "Stockholm",
          "Sörmland",
          "Sörmland",
          "Sörmland",
          "Sörmland",
          "Sörmland",
          "Sörmland",
          "Sörmland",
          "Sörmland",
          "Sörmland",
          "Sörmland",
          "Sörmland",
          "Sörmland",
          "Sörmland",
          "Sörmland",
          "Sörmland",
          "Sörmland",
          "Sörmland",
          "Sörmland",
          "Sörmland",
          "Sörmland",
          "Sörmland",
          "Sörmland",
          "Sörmland",
          "Sörmland",
          "Sörmland",
          "Sörmland",
          "Sörmland",
          "Sörmland",
          "Sörmland",
          "Sörmland",
          "Sörmland",
          "Sörmland",
          "Sörmland",
          "Sörmland",
          "Sörmland",
          "Sörmland",
          "Sörmland",
          "Sörmland",
          "Sörmland",
          "Sörmland",
          "Sörmland",
          "Sörmland",
          "Sörmland",
          "Sörmland",
          "Sörmland",
          "Sörmland",
          "Sörmland",
          "Sörmland",
          "Sörmland",
          "Sörmland",
          "Sörmland",
          "Sörmland",
          "Sörmland",
          "Uppsala",
          "Uppsala",
          "Uppsala",
          "Uppsala",
          "Uppsala",
          "Uppsala",
          "Uppsala",
          "Uppsala",
          "Uppsala",
          "Uppsala",
          "Uppsala",
          "Uppsala",
          "Uppsala",
          "Uppsala",
          "Uppsala",
          "Uppsala",
          "Uppsala",
          "Uppsala",
          "Uppsala",
          "Uppsala",
          "Uppsala",
          "Uppsala",
          "Uppsala",
          "Uppsala",
          "Uppsala",
          "Uppsala",
          "Uppsala",
          "Uppsala",
          "Uppsala",
          "Uppsala",
          "Uppsala",
          "Uppsala",
          "Uppsala",
          "Uppsala",
          "Uppsala",
          "Uppsala",
          "Uppsala",
          "Uppsala",
          "Uppsala",
          "Uppsala",
          "Uppsala",
          "Uppsala",
          "Uppsala",
          "Uppsala",
          "Uppsala",
          "Uppsala",
          "Uppsala",
          "Uppsala",
          "Uppsala",
          "Uppsala",
          "Uppsala",
          "Uppsala",
          "Uppsala",
          "Värmland",
          "Värmland",
          "Värmland",
          "Värmland",
          "Värmland",
          "Värmland",
          "Värmland",
          "Värmland",
          "Värmland",
          "Värmland",
          "Värmland",
          "Värmland",
          "Värmland",
          "Värmland",
          "Värmland",
          "Värmland",
          "Värmland",
          "Värmland",
          "Värmland",
          "Värmland",
          "Värmland",
          "Värmland",
          "Värmland",
          "Värmland",
          "Värmland",
          "Värmland",
          "Värmland",
          "Värmland",
          "Värmland",
          "Värmland",
          "Värmland",
          "Värmland",
          "Värmland",
          "Värmland",
          "Värmland",
          "Värmland",
          "Värmland",
          "Värmland",
          "Värmland",
          "Värmland",
          "Värmland",
          "Värmland",
          "Värmland",
          "Värmland",
          "Värmland",
          "Värmland",
          "Värmland",
          "Värmland",
          "Värmland",
          "Värmland",
          "Värmland",
          "Värmland",
          "Värmland",
          "Västerbotten",
          "Västerbotten",
          "Västerbotten",
          "Västerbotten",
          "Västerbotten",
          "Västerbotten",
          "Västerbotten",
          "Västerbotten",
          "Västerbotten",
          "Västerbotten",
          "Västerbotten",
          "Västerbotten",
          "Västerbotten",
          "Västerbotten",
          "Västerbotten",
          "Västerbotten",
          "Västerbotten",
          "Västerbotten",
          "Västerbotten",
          "Västerbotten",
          "Västerbotten",
          "Västerbotten",
          "Västerbotten",
          "Västerbotten",
          "Västerbotten",
          "Västerbotten",
          "Västerbotten",
          "Västerbotten",
          "Västerbotten",
          "Västerbotten",
          "Västerbotten",
          "Västerbotten",
          "Västerbotten",
          "Västerbotten",
          "Västerbotten",
          "Västerbotten",
          "Västerbotten",
          "Västerbotten",
          "Västerbotten",
          "Västerbotten",
          "Västerbotten",
          "Västerbotten",
          "Västerbotten",
          "Västerbotten",
          "Västerbotten",
          "Västerbotten",
          "Västerbotten",
          "Västerbotten",
          "Västerbotten",
          "Västerbotten",
          "Västerbotten",
          "Västerbotten",
          "Västerbotten",
          "Västernorrland",
          "Västernorrland",
          "Västernorrland",
          "Västernorrland",
          "Västernorrland",
          "Västernorrland",
          "Västernorrland",
          "Västernorrland",
          "Västernorrland",
          "Västernorrland",
          "Västernorrland",
          "Västernorrland",
          "Västernorrland",
          "Västernorrland",
          "Västernorrland",
          "Västernorrland",
          "Västernorrland",
          "Västernorrland",
          "Västernorrland",
          "Västernorrland",
          "Västernorrland",
          "Västernorrland",
          "Västernorrland",
          "Västernorrland",
          "Västernorrland",
          "Västernorrland",
          "Västernorrland",
          "Västernorrland",
          "Västernorrland",
          "Västernorrland",
          "Västernorrland",
          "Västernorrland",
          "Västernorrland",
          "Västernorrland",
          "Västernorrland",
          "Västernorrland",
          "Västernorrland",
          "Västernorrland",
          "Västernorrland",
          "Västernorrland",
          "Västernorrland",
          "Västernorrland",
          "Västernorrland",
          "Västernorrland",
          "Västernorrland",
          "Västernorrland",
          "Västernorrland",
          "Västernorrland",
          "Västernorrland",
          "Västernorrland",
          "Västernorrland",
          "Västernorrland",
          "Västernorrland",
          "Västmanland",
          "Västmanland",
          "Västmanland",
          "Västmanland",
          "Västmanland",
          "Västmanland",
          "Västmanland",
          "Västmanland",
          "Västmanland",
          "Västmanland",
          "Västmanland",
          "Västmanland",
          "Västmanland",
          "Västmanland",
          "Västmanland",
          "Västmanland",
          "Västmanland",
          "Västmanland",
          "Västmanland",
          "Västmanland",
          "Västmanland",
          "Västmanland",
          "Västmanland",
          "Västmanland",
          "Västmanland",
          "Västmanland",
          "Västmanland",
          "Västmanland",
          "Västmanland",
          "Västmanland",
          "Västmanland",
          "Västmanland",
          "Västmanland",
          "Västmanland",
          "Västmanland",
          "Västmanland",
          "Västmanland",
          "Västmanland",
          "Västmanland",
          "Västmanland",
          "Västmanland",
          "Västmanland",
          "Västmanland",
          "Västmanland",
          "Västmanland",
          "Västmanland",
          "Västmanland",
          "Västmanland",
          "Västmanland",
          "Västmanland",
          "Västmanland",
          "Västmanland",
          "Västmanland",
          "Västra Götaland",
          "Västra Götaland",
          "Västra Götaland",
          "Västra Götaland",
          "Västra Götaland",
          "Västra Götaland",
          "Västra Götaland",
          "Västra Götaland",
          "Västra Götaland",
          "Västra Götaland",
          "Västra Götaland",
          "Västra Götaland",
          "Västra Götaland",
          "Västra Götaland",
          "Västra Götaland",
          "Västra Götaland",
          "Västra Götaland",
          "Västra Götaland",
          "Västra Götaland",
          "Västra Götaland",
          "Västra Götaland",
          "Västra Götaland",
          "Västra Götaland",
          "Västra Götaland",
          "Västra Götaland",
          "Västra Götaland",
          "Västra Götaland",
          "Västra Götaland",
          "Västra Götaland",
          "Västra Götaland",
          "Västra Götaland",
          "Västra Götaland",
          "Västra Götaland",
          "Västra Götaland",
          "Västra Götaland",
          "Västra Götaland",
          "Västra Götaland",
          "Västra Götaland",
          "Västra Götaland",
          "Västra Götaland",
          "Västra Götaland",
          "Västra Götaland",
          "Västra Götaland",
          "Västra Götaland",
          "Västra Götaland",
          "Västra Götaland",
          "Västra Götaland",
          "Västra Götaland",
          "Västra Götaland",
          "Västra Götaland",
          "Västra Götaland",
          "Västra Götaland",
          "Västra Götaland",
          "Örebro",
          "Örebro",
          "Örebro",
          "Örebro",
          "Örebro",
          "Örebro",
          "Örebro",
          "Örebro",
          "Örebro",
          "Örebro",
          "Örebro",
          "Örebro",
          "Örebro",
          "Örebro",
          "Örebro",
          "Örebro",
          "Örebro",
          "Örebro",
          "Örebro",
          "Örebro",
          "Örebro",
          "Örebro",
          "Örebro",
          "Örebro",
          "Örebro",
          "Örebro",
          "Örebro",
          "Örebro",
          "Örebro",
          "Örebro",
          "Örebro",
          "Örebro",
          "Örebro",
          "Örebro",
          "Örebro",
          "Örebro",
          "Örebro",
          "Örebro",
          "Örebro",
          "Örebro",
          "Örebro",
          "Örebro",
          "Örebro",
          "Örebro",
          "Örebro",
          "Örebro",
          "Örebro",
          "Örebro",
          "Örebro",
          "Örebro",
          "Örebro",
          "Örebro",
          "Örebro",
          "Östergötland",
          "Östergötland",
          "Östergötland",
          "Östergötland",
          "Östergötland",
          "Östergötland",
          "Östergötland",
          "Östergötland",
          "Östergötland",
          "Östergötland",
          "Östergötland",
          "Östergötland",
          "Östergötland",
          "Östergötland",
          "Östergötland",
          "Östergötland",
          "Östergötland",
          "Östergötland",
          "Östergötland",
          "Östergötland",
          "Östergötland",
          "Östergötland",
          "Östergötland",
          "Östergötland",
          "Östergötland",
          "Östergötland",
          "Östergötland",
          "Östergötland",
          "Östergötland",
          "Östergötland",
          "Östergötland",
          "Östergötland",
          "Östergötland",
          "Östergötland",
          "Östergötland",
          "Östergötland",
          "Östergötland",
          "Östergötland",
          "Östergötland",
          "Östergötland",
          "Östergötland",
          "Östergötland",
          "Östergötland",
          "Östergötland",
          "Östergötland",
          "Östergötland",
          "Östergötland",
          "Östergötland",
          "Östergötland",
          "Östergötland",
          "Östergötland",
          "Östergötland",
          "Östergötland"
         ],
         "x0": " ",
         "xaxis": "x",
         "y": [
          0,
          0,
          0,
          0,
          0,
          0,
          0,
          0,
          0,
          0,
          6,
          8,
          13,
          23,
          26,
          27,
          40,
          46,
          53,
          65,
          92,
          135,
          186,
          237,
          261,
          278,
          288,
          295,
          300,
          302,
          309,
          330,
          358,
          372,
          382,
          383,
          386,
          395,
          443,
          488,
          526,
          546,
          586,
          675,
          776,
          916,
          1073,
          1302,
          1589,
          1937,
          2326,
          2765,
          3338,
          0,
          0,
          0,
          0,
          0,
          0,
          0,
          0,
          0,
          0,
          2,
          8,
          32,
          67,
          123,
          171,
          239,
          279,
          336,
          366,
          395,
          424,
          458,
          484,
          505,
          563,
          625,
          645,
          663,
          673,
          683,
          699,
          712,
          727,
          746,
          766,
          793,
          850,
          881,
          916,
          945,
          1001,
          1075,
          1229,
          1445,
          1685,
          1904,
          2181,
          2472,
          2826,
          3220,
          3559,
          3902,
          0,
          0,
          0,
          0,
          0,
          0,
          0,
          0,
          0,
          0,
          3,
          8,
          18,
          23,
          27,
          32,
          52,
          89,
          106,
          111,
          119,
          137,
          154,
          189,
          223,
          268,
          290,
          313,
          345,
          385,
          421,
          477,
          514,
          528,
          533,
          534,
          539,
          548,
          553,
          580,
          605,
          628,
          684,
          798,
          1109,
          1500,
          1791,
          2180,
          2716,
          3110,
          3438,
          3641,
          3833,
          0,
          0,
          0,
          0,
          0,
          0,
          0,
          0,
          0,
          1,
          2,
          8,
          26,
          63,
          101,
          143,
          181,
          220,
          281,
          340,
          393,
          451,
          531,
          628,
          712,
          841,
          921,
          1002,
          1033,
          1055,
          1062,
          1075,
          1089,
          1101,
          1111,
          1119,
          1134,
          1147,
          1172,
          1198,
          1225,
          1246,
          1283,
          1366,
          1535,
          1801,
          2155,
          2576,
          3064,
          3606,
          4478,
          4916,
          5415,
          0,
          0,
          0,
          0,
          0,
          0,
          0,
          0,
          0,
          0,
          13,
          18,
          27,
          40,
          56,
          71,
          98,
          115,
          143,
          166,
          196,
          234,
          274,
          320,
          356,
          428,
          477,
          494,
          504,
          514,
          532,
          561,
          589,
          618,
          641,
          669,
          693,
          718,
          750,
          796,
          843,
          884,
          943,
          1083,
          1249,
          1545,
          1706,
          1939,
          2258,
          2616,
          2974,
          3309,
          3916,
          0,
          0,
          0,
          0,
          0,
          0,
          0,
          0,
          0,
          0,
          16,
          42,
          62,
          70,
          102,
          164,
          213,
          274,
          336,
          414,
          488,
          560,
          622,
          678,
          745,
          787,
          815,
          831,
          848,
          862,
          870,
          884,
          898,
          900,
          909,
          926,
          933,
          946,
          967,
          1010,
          1105,
          1186,
          1232,
          1272,
          1378,
          1590,
          1931,
          2203,
          2450,
          2722,
          3036,
          3299,
          3607,
          0,
          0,
          0,
          0,
          0,
          0,
          0,
          0,
          1,
          1,
          11,
          15,
          31,
          67,
          96,
          138,
          188,
          232,
          275,
          322,
          366,
          428,
          488,
          663,
          873,
          1090,
          1183,
          1232,
          1260,
          1277,
          1294,
          1317,
          1335,
          1352,
          1361,
          1383,
          1419,
          1448,
          1474,
          1506,
          1560,
          1635,
          1710,
          1955,
          2252,
          2604,
          2960,
          3253,
          3545,
          3879,
          4271,
          4592,
          4978,
          0,
          0,
          0,
          0,
          0,
          0,
          0,
          0,
          0,
          0,
          3,
          5,
          13,
          21,
          29,
          40,
          58,
          74,
          92,
          104,
          114,
          143,
          166,
          195,
          224,
          250,
          284,
          298,
          304,
          311,
          317,
          323,
          334,
          350,
          360,
          364,
          367,
          372,
          376,
          382,
          390,
          405,
          447,
          523,
          653,
          841,
          1023,
          1292,
          1543,
          1840,
          2185,
          2496,
          2871,
          0,
          0,
          0,
          0,
          0,
          0,
          0,
          0,
          0,
          0,
          7,
          9,
          16,
          27,
          50,
          87,
          131,
          176,
          249,
          313,
          370,
          422,
          463,
          499,
          516,
          528,
          533,
          543,
          556,
          565,
          579,
          610,
          655,
          678,
          699,
          718,
          748,
          791,
          847,
          885,
          919,
          979,
          1134,
          1365,
          1715,
          2075,
          2351,
          2660,
          2928,
          3281,
          3747,
          4118,
          4609,
          0,
          0,
          0,
          0,
          0,
          0,
          0,
          0,
          0,
          0,
          2,
          8,
          20,
          34,
          55,
          77,
          94,
          108,
          120,
          135,
          144,
          166,
          202,
          274,
          377,
          513,
          557,
          597,
          615,
          631,
          641,
          651,
          660,
          663,
          667,
          669,
          672,
          678,
          689,
          719,
          757,
          794,
          844,
          934,
          1149,
          1384,
          1679,
          2040,
          2311,
          2597,
          2821,
          2993,
          3199,
          0,
          0,
          0,
          0,
          0,
          0,
          0,
          0,
          0,
          2,
          14,
          17,
          20,
          25,
          32,
          40,
          49,
          62,
          77,
          91,
          108,
          127,
          145,
          167,
          197,
          219,
          228,
          237,
          249,
          259,
          270,
          283,
          301,
          323,
          344,
          358,
          374,
          395,
          414,
          444,
          471,
          517,
          612,
          774,
          972,
          1304,
          1618,
          2032,
          2558,
          3223,
          3901,
          4552,
          5219,
          0,
          0,
          0,
          0,
          0,
          0,
          0,
          0,
          0,
          6,
          16,
          33,
          73,
          130,
          190,
          249,
          309,
          362,
          413,
          461,
          499,
          549,
          599,
          657,
          730,
          798,
          845,
          865,
          882,
          896,
          908,
          924,
          941,
          956,
          966,
          977,
          989,
          1012,
          1051,
          1104,
          1167,
          1236,
          1361,
          1603,
          1926,
          2326,
          2726,
          3194,
          3634,
          4110,
          4549,
          4863,
          5127,
          0,
          0,
          0,
          0,
          0,
          0,
          0,
          0,
          0,
          0,
          7,
          22,
          57,
          157,
          227,
          297,
          368,
          431,
          475,
          503,
          528,
          558,
          590,
          638,
          673,
          731,
          756,
          778,
          793,
          799,
          802,
          806,
          812,
          815,
          818,
          819,
          824,
          832,
          845,
          858,
          876,
          909,
          955,
          1088,
          1294,
          1536,
          1803,
          2008,
          2198,
          2436,
          2691,
          2941,
          3210,
          0,
          0,
          0,
          0,
          0,
          0,
          0,
          0,
          1,
          2,
          10,
          20,
          42,
          80,
          121,
          174,
          229,
          278,
          342,
          389,
          440,
          504,
          585,
          649,
          732,
          836,
          884,
          900,
          915,
          921,
          931,
          945,
          959,
          975,
          984,
          993,
          1013,
          1031,
          1058,
          1117,
          1191,
          1323,
          1414,
          1644,
          1908,
          2262,
          2635,
          2999,
          3363,
          3757,
          4182,
          4496,
          4851,
          0,
          0,
          0,
          0,
          0,
          0,
          0,
          0,
          0,
          4,
          11,
          14,
          18,
          20,
          28,
          37,
          49,
          73,
          96,
          115,
          144,
          189,
          228,
          268,
          298,
          331,
          347,
          354,
          357,
          363,
          368,
          388,
          404,
          414,
          418,
          427,
          434,
          444,
          451,
          469,
          481,
          510,
          551,
          622,
          749,
          898,
          1062,
          1228,
          1423,
          1647,
          1876,
          2053,
          2270,
          0,
          0,
          0,
          0,
          0,
          0,
          0,
          0,
          0,
          0,
          5,
          11,
          17,
          45,
          66,
          86,
          108,
          121,
          134,
          153,
          171,
          184,
          197,
          212,
          230,
          253,
          265,
          270,
          279,
          282,
          289,
          291,
          307,
          312,
          317,
          319,
          328,
          343,
          379,
          399,
          420,
          438,
          464,
          556,
          790,
          1043,
          1323,
          1653,
          1950,
          2313,
          2657,
          2895,
          3168,
          0,
          0,
          0,
          0,
          0,
          0,
          0,
          0,
          0,
          0,
          4,
          6,
          15,
          28,
          43,
          57,
          84,
          111,
          143,
          183,
          241,
          296,
          359,
          407,
          470,
          534,
          600,
          648,
          676,
          700,
          715,
          732,
          740,
          751,
          755,
          758,
          764,
          772,
          782,
          794,
          809,
          826,
          849,
          902,
          1037,
          1277,
          1646,
          2137,
          2616,
          3109,
          3639,
          3973,
          4381,
          0,
          0,
          0,
          0,
          0,
          0,
          0,
          0,
          0,
          0,
          2,
          8,
          18,
          58,
          127,
          187,
          249,
          292,
          322,
          364,
          406,
          458,
          521,
          623,
          720,
          797,
          861,
          898,
          916,
          928,
          943,
          957,
          972,
          985,
          992,
          1004,
          1022,
          1042,
          1114,
          1159,
          1201,
          1245,
          1310,
          1479,
          1781,
          2174,
          2632,
          3117,
          3599,
          4065,
          4487,
          4860,
          5174,
          0,
          0,
          0,
          0,
          0,
          0,
          0,
          0,
          0,
          2,
          10,
          15,
          21,
          35,
          61,
          85,
          121,
          157,
          206,
          254,
          297,
          347,
          471,
          613,
          719,
          831,
          884,
          905,
          923,
          943,
          977,
          1016,
          1049,
          1072,
          1086,
          1103,
          1120,
          1140,
          1168,
          1191,
          1222,
          1263,
          1343,
          1516,
          1751,
          1994,
          2259,
          2512,
          2771,
          3164,
          3640,
          4012,
          4487,
          0,
          0,
          0,
          0,
          0,
          0,
          0,
          0,
          0,
          1,
          3,
          14,
          30,
          57,
          132,
          205,
          286,
          364,
          436,
          493,
          550,
          589,
          648,
          691,
          730,
          759,
          780,
          796,
          805,
          812,
          825,
          842,
          857,
          867,
          872,
          900,
          925,
          952,
          972,
          1024,
          1108,
          1217,
          1416,
          1744,
          2146,
          2547,
          2947,
          3238,
          3481,
          3739,
          4008,
          4274,
          4558,
          0,
          0,
          0,
          0,
          0,
          0,
          0,
          0,
          0,
          0,
          6,
          32,
          76,
          147,
          209,
          252,
          292,
          321,
          348,
          376,
          410,
          424,
          485,
          545,
          612,
          680,
          720,
          733,
          744,
          749,
          758,
          777,
          795,
          809,
          815,
          828,
          843,
          855,
          872,
          903,
          931,
          1009,
          1119,
          1334,
          1575,
          1738,
          1862,
          1989,
          2158,
          2369,
          2600,
          2791,
          3158
         ],
         "y0": " ",
         "yaxis": "y"
        },
        {
         "alignmentgroup": "True",
         "boxpoints": "all",
         "customdata": [
          [
           2021,
           1
          ],
          [
           2021,
           2
          ],
          [
           2021,
           3
          ],
          [
           2021,
           4
          ],
          [
           2021,
           5
          ],
          [
           2021,
           6
          ],
          [
           2021,
           7
          ],
          [
           2021,
           8
          ],
          [
           2021,
           9
          ],
          [
           2021,
           10
          ],
          [
           2021,
           11
          ],
          [
           2021,
           12
          ],
          [
           2021,
           13
          ],
          [
           2021,
           14
          ],
          [
           2021,
           15
          ],
          [
           2021,
           16
          ],
          [
           2021,
           17
          ],
          [
           2021,
           18
          ],
          [
           2021,
           19
          ],
          [
           2021,
           20
          ],
          [
           2021,
           21
          ],
          [
           2021,
           22
          ],
          [
           2021,
           23
          ],
          [
           2021,
           24
          ],
          [
           2021,
           25
          ],
          [
           2021,
           26
          ],
          [
           2021,
           27
          ],
          [
           2021,
           28
          ],
          [
           2021,
           29
          ],
          [
           2021,
           30
          ],
          [
           2021,
           31
          ],
          [
           2021,
           32
          ],
          [
           2021,
           33
          ],
          [
           2021,
           34
          ],
          [
           2021,
           35
          ],
          [
           2021,
           36
          ],
          [
           2021,
           37
          ],
          [
           2021,
           38
          ],
          [
           2021,
           39
          ],
          [
           2021,
           40
          ],
          [
           2021,
           41
          ],
          [
           2021,
           42
          ],
          [
           2021,
           43
          ],
          [
           2021,
           44
          ],
          [
           2021,
           45
          ],
          [
           2021,
           46
          ],
          [
           2021,
           47
          ],
          [
           2021,
           48
          ],
          [
           2021,
           49
          ],
          [
           2021,
           50
          ],
          [
           2021,
           51
          ],
          [
           2021,
           52
          ],
          [
           2021,
           1
          ],
          [
           2021,
           2
          ],
          [
           2021,
           3
          ],
          [
           2021,
           4
          ],
          [
           2021,
           5
          ],
          [
           2021,
           6
          ],
          [
           2021,
           7
          ],
          [
           2021,
           8
          ],
          [
           2021,
           9
          ],
          [
           2021,
           10
          ],
          [
           2021,
           11
          ],
          [
           2021,
           12
          ],
          [
           2021,
           13
          ],
          [
           2021,
           14
          ],
          [
           2021,
           15
          ],
          [
           2021,
           16
          ],
          [
           2021,
           17
          ],
          [
           2021,
           18
          ],
          [
           2021,
           19
          ],
          [
           2021,
           20
          ],
          [
           2021,
           21
          ],
          [
           2021,
           22
          ],
          [
           2021,
           23
          ],
          [
           2021,
           24
          ],
          [
           2021,
           25
          ],
          [
           2021,
           26
          ],
          [
           2021,
           27
          ],
          [
           2021,
           28
          ],
          [
           2021,
           29
          ],
          [
           2021,
           30
          ],
          [
           2021,
           31
          ],
          [
           2021,
           32
          ],
          [
           2021,
           33
          ],
          [
           2021,
           34
          ],
          [
           2021,
           35
          ],
          [
           2021,
           36
          ],
          [
           2021,
           37
          ],
          [
           2021,
           38
          ],
          [
           2021,
           39
          ],
          [
           2021,
           40
          ],
          [
           2021,
           41
          ],
          [
           2021,
           42
          ],
          [
           2021,
           43
          ],
          [
           2021,
           44
          ],
          [
           2021,
           45
          ],
          [
           2021,
           46
          ],
          [
           2021,
           47
          ],
          [
           2021,
           48
          ],
          [
           2021,
           49
          ],
          [
           2021,
           50
          ],
          [
           2021,
           51
          ],
          [
           2021,
           52
          ],
          [
           2021,
           1
          ],
          [
           2021,
           2
          ],
          [
           2021,
           3
          ],
          [
           2021,
           4
          ],
          [
           2021,
           5
          ],
          [
           2021,
           6
          ],
          [
           2021,
           7
          ],
          [
           2021,
           8
          ],
          [
           2021,
           9
          ],
          [
           2021,
           10
          ],
          [
           2021,
           11
          ],
          [
           2021,
           12
          ],
          [
           2021,
           13
          ],
          [
           2021,
           14
          ],
          [
           2021,
           15
          ],
          [
           2021,
           16
          ],
          [
           2021,
           17
          ],
          [
           2021,
           18
          ],
          [
           2021,
           19
          ],
          [
           2021,
           20
          ],
          [
           2021,
           21
          ],
          [
           2021,
           22
          ],
          [
           2021,
           23
          ],
          [
           2021,
           24
          ],
          [
           2021,
           25
          ],
          [
           2021,
           26
          ],
          [
           2021,
           27
          ],
          [
           2021,
           28
          ],
          [
           2021,
           29
          ],
          [
           2021,
           30
          ],
          [
           2021,
           31
          ],
          [
           2021,
           32
          ],
          [
           2021,
           33
          ],
          [
           2021,
           34
          ],
          [
           2021,
           35
          ],
          [
           2021,
           36
          ],
          [
           2021,
           37
          ],
          [
           2021,
           38
          ],
          [
           2021,
           39
          ],
          [
           2021,
           40
          ],
          [
           2021,
           41
          ],
          [
           2021,
           42
          ],
          [
           2021,
           43
          ],
          [
           2021,
           44
          ],
          [
           2021,
           45
          ],
          [
           2021,
           46
          ],
          [
           2021,
           47
          ],
          [
           2021,
           48
          ],
          [
           2021,
           49
          ],
          [
           2021,
           50
          ],
          [
           2021,
           51
          ],
          [
           2021,
           52
          ],
          [
           2021,
           1
          ],
          [
           2021,
           2
          ],
          [
           2021,
           3
          ],
          [
           2021,
           4
          ],
          [
           2021,
           5
          ],
          [
           2021,
           6
          ],
          [
           2021,
           7
          ],
          [
           2021,
           8
          ],
          [
           2021,
           9
          ],
          [
           2021,
           10
          ],
          [
           2021,
           11
          ],
          [
           2021,
           12
          ],
          [
           2021,
           13
          ],
          [
           2021,
           14
          ],
          [
           2021,
           15
          ],
          [
           2021,
           16
          ],
          [
           2021,
           17
          ],
          [
           2021,
           18
          ],
          [
           2021,
           19
          ],
          [
           2021,
           20
          ],
          [
           2021,
           21
          ],
          [
           2021,
           22
          ],
          [
           2021,
           23
          ],
          [
           2021,
           24
          ],
          [
           2021,
           25
          ],
          [
           2021,
           26
          ],
          [
           2021,
           27
          ],
          [
           2021,
           28
          ],
          [
           2021,
           29
          ],
          [
           2021,
           30
          ],
          [
           2021,
           31
          ],
          [
           2021,
           32
          ],
          [
           2021,
           33
          ],
          [
           2021,
           34
          ],
          [
           2021,
           35
          ],
          [
           2021,
           36
          ],
          [
           2021,
           37
          ],
          [
           2021,
           38
          ],
          [
           2021,
           39
          ],
          [
           2021,
           40
          ],
          [
           2021,
           41
          ],
          [
           2021,
           42
          ],
          [
           2021,
           43
          ],
          [
           2021,
           44
          ],
          [
           2021,
           45
          ],
          [
           2021,
           46
          ],
          [
           2021,
           47
          ],
          [
           2021,
           48
          ],
          [
           2021,
           49
          ],
          [
           2021,
           50
          ],
          [
           2021,
           51
          ],
          [
           2021,
           52
          ],
          [
           2021,
           1
          ],
          [
           2021,
           2
          ],
          [
           2021,
           3
          ],
          [
           2021,
           4
          ],
          [
           2021,
           5
          ],
          [
           2021,
           6
          ],
          [
           2021,
           7
          ],
          [
           2021,
           8
          ],
          [
           2021,
           9
          ],
          [
           2021,
           10
          ],
          [
           2021,
           11
          ],
          [
           2021,
           12
          ],
          [
           2021,
           13
          ],
          [
           2021,
           14
          ],
          [
           2021,
           15
          ],
          [
           2021,
           16
          ],
          [
           2021,
           17
          ],
          [
           2021,
           18
          ],
          [
           2021,
           19
          ],
          [
           2021,
           20
          ],
          [
           2021,
           21
          ],
          [
           2021,
           22
          ],
          [
           2021,
           23
          ],
          [
           2021,
           24
          ],
          [
           2021,
           25
          ],
          [
           2021,
           26
          ],
          [
           2021,
           27
          ],
          [
           2021,
           28
          ],
          [
           2021,
           29
          ],
          [
           2021,
           30
          ],
          [
           2021,
           31
          ],
          [
           2021,
           32
          ],
          [
           2021,
           33
          ],
          [
           2021,
           34
          ],
          [
           2021,
           35
          ],
          [
           2021,
           36
          ],
          [
           2021,
           37
          ],
          [
           2021,
           38
          ],
          [
           2021,
           39
          ],
          [
           2021,
           40
          ],
          [
           2021,
           41
          ],
          [
           2021,
           42
          ],
          [
           2021,
           43
          ],
          [
           2021,
           44
          ],
          [
           2021,
           45
          ],
          [
           2021,
           46
          ],
          [
           2021,
           47
          ],
          [
           2021,
           48
          ],
          [
           2021,
           49
          ],
          [
           2021,
           50
          ],
          [
           2021,
           51
          ],
          [
           2021,
           52
          ],
          [
           2021,
           1
          ],
          [
           2021,
           2
          ],
          [
           2021,
           3
          ],
          [
           2021,
           4
          ],
          [
           2021,
           5
          ],
          [
           2021,
           6
          ],
          [
           2021,
           7
          ],
          [
           2021,
           8
          ],
          [
           2021,
           9
          ],
          [
           2021,
           10
          ],
          [
           2021,
           11
          ],
          [
           2021,
           12
          ],
          [
           2021,
           13
          ],
          [
           2021,
           14
          ],
          [
           2021,
           15
          ],
          [
           2021,
           16
          ],
          [
           2021,
           17
          ],
          [
           2021,
           18
          ],
          [
           2021,
           19
          ],
          [
           2021,
           20
          ],
          [
           2021,
           21
          ],
          [
           2021,
           22
          ],
          [
           2021,
           23
          ],
          [
           2021,
           24
          ],
          [
           2021,
           25
          ],
          [
           2021,
           26
          ],
          [
           2021,
           27
          ],
          [
           2021,
           28
          ],
          [
           2021,
           29
          ],
          [
           2021,
           30
          ],
          [
           2021,
           31
          ],
          [
           2021,
           32
          ],
          [
           2021,
           33
          ],
          [
           2021,
           34
          ],
          [
           2021,
           35
          ],
          [
           2021,
           36
          ],
          [
           2021,
           37
          ],
          [
           2021,
           38
          ],
          [
           2021,
           39
          ],
          [
           2021,
           40
          ],
          [
           2021,
           41
          ],
          [
           2021,
           42
          ],
          [
           2021,
           43
          ],
          [
           2021,
           44
          ],
          [
           2021,
           45
          ],
          [
           2021,
           46
          ],
          [
           2021,
           47
          ],
          [
           2021,
           48
          ],
          [
           2021,
           49
          ],
          [
           2021,
           50
          ],
          [
           2021,
           51
          ],
          [
           2021,
           52
          ],
          [
           2021,
           1
          ],
          [
           2021,
           2
          ],
          [
           2021,
           3
          ],
          [
           2021,
           4
          ],
          [
           2021,
           5
          ],
          [
           2021,
           6
          ],
          [
           2021,
           7
          ],
          [
           2021,
           8
          ],
          [
           2021,
           9
          ],
          [
           2021,
           10
          ],
          [
           2021,
           11
          ],
          [
           2021,
           12
          ],
          [
           2021,
           13
          ],
          [
           2021,
           14
          ],
          [
           2021,
           15
          ],
          [
           2021,
           16
          ],
          [
           2021,
           17
          ],
          [
           2021,
           18
          ],
          [
           2021,
           19
          ],
          [
           2021,
           20
          ],
          [
           2021,
           21
          ],
          [
           2021,
           22
          ],
          [
           2021,
           23
          ],
          [
           2021,
           24
          ],
          [
           2021,
           25
          ],
          [
           2021,
           26
          ],
          [
           2021,
           27
          ],
          [
           2021,
           28
          ],
          [
           2021,
           29
          ],
          [
           2021,
           30
          ],
          [
           2021,
           31
          ],
          [
           2021,
           32
          ],
          [
           2021,
           33
          ],
          [
           2021,
           34
          ],
          [
           2021,
           35
          ],
          [
           2021,
           36
          ],
          [
           2021,
           37
          ],
          [
           2021,
           38
          ],
          [
           2021,
           39
          ],
          [
           2021,
           40
          ],
          [
           2021,
           41
          ],
          [
           2021,
           42
          ],
          [
           2021,
           43
          ],
          [
           2021,
           44
          ],
          [
           2021,
           45
          ],
          [
           2021,
           46
          ],
          [
           2021,
           47
          ],
          [
           2021,
           48
          ],
          [
           2021,
           49
          ],
          [
           2021,
           50
          ],
          [
           2021,
           51
          ],
          [
           2021,
           52
          ],
          [
           2021,
           1
          ],
          [
           2021,
           2
          ],
          [
           2021,
           3
          ],
          [
           2021,
           4
          ],
          [
           2021,
           5
          ],
          [
           2021,
           6
          ],
          [
           2021,
           7
          ],
          [
           2021,
           8
          ],
          [
           2021,
           9
          ],
          [
           2021,
           10
          ],
          [
           2021,
           11
          ],
          [
           2021,
           12
          ],
          [
           2021,
           13
          ],
          [
           2021,
           14
          ],
          [
           2021,
           15
          ],
          [
           2021,
           16
          ],
          [
           2021,
           17
          ],
          [
           2021,
           18
          ],
          [
           2021,
           19
          ],
          [
           2021,
           20
          ],
          [
           2021,
           21
          ],
          [
           2021,
           22
          ],
          [
           2021,
           23
          ],
          [
           2021,
           24
          ],
          [
           2021,
           25
          ],
          [
           2021,
           26
          ],
          [
           2021,
           27
          ],
          [
           2021,
           28
          ],
          [
           2021,
           29
          ],
          [
           2021,
           30
          ],
          [
           2021,
           31
          ],
          [
           2021,
           32
          ],
          [
           2021,
           33
          ],
          [
           2021,
           34
          ],
          [
           2021,
           35
          ],
          [
           2021,
           36
          ],
          [
           2021,
           37
          ],
          [
           2021,
           38
          ],
          [
           2021,
           39
          ],
          [
           2021,
           40
          ],
          [
           2021,
           41
          ],
          [
           2021,
           42
          ],
          [
           2021,
           43
          ],
          [
           2021,
           44
          ],
          [
           2021,
           45
          ],
          [
           2021,
           46
          ],
          [
           2021,
           47
          ],
          [
           2021,
           48
          ],
          [
           2021,
           49
          ],
          [
           2021,
           50
          ],
          [
           2021,
           51
          ],
          [
           2021,
           52
          ],
          [
           2021,
           1
          ],
          [
           2021,
           2
          ],
          [
           2021,
           3
          ],
          [
           2021,
           4
          ],
          [
           2021,
           5
          ],
          [
           2021,
           6
          ],
          [
           2021,
           7
          ],
          [
           2021,
           8
          ],
          [
           2021,
           9
          ],
          [
           2021,
           10
          ],
          [
           2021,
           11
          ],
          [
           2021,
           12
          ],
          [
           2021,
           13
          ],
          [
           2021,
           14
          ],
          [
           2021,
           15
          ],
          [
           2021,
           16
          ],
          [
           2021,
           17
          ],
          [
           2021,
           18
          ],
          [
           2021,
           19
          ],
          [
           2021,
           20
          ],
          [
           2021,
           21
          ],
          [
           2021,
           22
          ],
          [
           2021,
           23
          ],
          [
           2021,
           24
          ],
          [
           2021,
           25
          ],
          [
           2021,
           26
          ],
          [
           2021,
           27
          ],
          [
           2021,
           28
          ],
          [
           2021,
           29
          ],
          [
           2021,
           30
          ],
          [
           2021,
           31
          ],
          [
           2021,
           32
          ],
          [
           2021,
           33
          ],
          [
           2021,
           34
          ],
          [
           2021,
           35
          ],
          [
           2021,
           36
          ],
          [
           2021,
           37
          ],
          [
           2021,
           38
          ],
          [
           2021,
           39
          ],
          [
           2021,
           40
          ],
          [
           2021,
           41
          ],
          [
           2021,
           42
          ],
          [
           2021,
           43
          ],
          [
           2021,
           44
          ],
          [
           2021,
           45
          ],
          [
           2021,
           46
          ],
          [
           2021,
           47
          ],
          [
           2021,
           48
          ],
          [
           2021,
           49
          ],
          [
           2021,
           50
          ],
          [
           2021,
           51
          ],
          [
           2021,
           52
          ],
          [
           2021,
           1
          ],
          [
           2021,
           2
          ],
          [
           2021,
           3
          ],
          [
           2021,
           4
          ],
          [
           2021,
           5
          ],
          [
           2021,
           6
          ],
          [
           2021,
           7
          ],
          [
           2021,
           8
          ],
          [
           2021,
           9
          ],
          [
           2021,
           10
          ],
          [
           2021,
           11
          ],
          [
           2021,
           12
          ],
          [
           2021,
           13
          ],
          [
           2021,
           14
          ],
          [
           2021,
           15
          ],
          [
           2021,
           16
          ],
          [
           2021,
           17
          ],
          [
           2021,
           18
          ],
          [
           2021,
           19
          ],
          [
           2021,
           20
          ],
          [
           2021,
           21
          ],
          [
           2021,
           22
          ],
          [
           2021,
           23
          ],
          [
           2021,
           24
          ],
          [
           2021,
           25
          ],
          [
           2021,
           26
          ],
          [
           2021,
           27
          ],
          [
           2021,
           28
          ],
          [
           2021,
           29
          ],
          [
           2021,
           30
          ],
          [
           2021,
           31
          ],
          [
           2021,
           32
          ],
          [
           2021,
           33
          ],
          [
           2021,
           34
          ],
          [
           2021,
           35
          ],
          [
           2021,
           36
          ],
          [
           2021,
           37
          ],
          [
           2021,
           38
          ],
          [
           2021,
           39
          ],
          [
           2021,
           40
          ],
          [
           2021,
           41
          ],
          [
           2021,
           42
          ],
          [
           2021,
           43
          ],
          [
           2021,
           44
          ],
          [
           2021,
           45
          ],
          [
           2021,
           46
          ],
          [
           2021,
           47
          ],
          [
           2021,
           48
          ],
          [
           2021,
           49
          ],
          [
           2021,
           50
          ],
          [
           2021,
           51
          ],
          [
           2021,
           52
          ],
          [
           2021,
           1
          ],
          [
           2021,
           2
          ],
          [
           2021,
           3
          ],
          [
           2021,
           4
          ],
          [
           2021,
           5
          ],
          [
           2021,
           6
          ],
          [
           2021,
           7
          ],
          [
           2021,
           8
          ],
          [
           2021,
           9
          ],
          [
           2021,
           10
          ],
          [
           2021,
           11
          ],
          [
           2021,
           12
          ],
          [
           2021,
           13
          ],
          [
           2021,
           14
          ],
          [
           2021,
           15
          ],
          [
           2021,
           16
          ],
          [
           2021,
           17
          ],
          [
           2021,
           18
          ],
          [
           2021,
           19
          ],
          [
           2021,
           20
          ],
          [
           2021,
           21
          ],
          [
           2021,
           22
          ],
          [
           2021,
           23
          ],
          [
           2021,
           24
          ],
          [
           2021,
           25
          ],
          [
           2021,
           26
          ],
          [
           2021,
           27
          ],
          [
           2021,
           28
          ],
          [
           2021,
           29
          ],
          [
           2021,
           30
          ],
          [
           2021,
           31
          ],
          [
           2021,
           32
          ],
          [
           2021,
           33
          ],
          [
           2021,
           34
          ],
          [
           2021,
           35
          ],
          [
           2021,
           36
          ],
          [
           2021,
           37
          ],
          [
           2021,
           38
          ],
          [
           2021,
           39
          ],
          [
           2021,
           40
          ],
          [
           2021,
           41
          ],
          [
           2021,
           42
          ],
          [
           2021,
           43
          ],
          [
           2021,
           44
          ],
          [
           2021,
           45
          ],
          [
           2021,
           46
          ],
          [
           2021,
           47
          ],
          [
           2021,
           48
          ],
          [
           2021,
           49
          ],
          [
           2021,
           50
          ],
          [
           2021,
           51
          ],
          [
           2021,
           52
          ],
          [
           2021,
           1
          ],
          [
           2021,
           2
          ],
          [
           2021,
           3
          ],
          [
           2021,
           4
          ],
          [
           2021,
           5
          ],
          [
           2021,
           6
          ],
          [
           2021,
           7
          ],
          [
           2021,
           8
          ],
          [
           2021,
           9
          ],
          [
           2021,
           10
          ],
          [
           2021,
           11
          ],
          [
           2021,
           12
          ],
          [
           2021,
           13
          ],
          [
           2021,
           14
          ],
          [
           2021,
           15
          ],
          [
           2021,
           16
          ],
          [
           2021,
           17
          ],
          [
           2021,
           18
          ],
          [
           2021,
           19
          ],
          [
           2021,
           20
          ],
          [
           2021,
           21
          ],
          [
           2021,
           22
          ],
          [
           2021,
           23
          ],
          [
           2021,
           24
          ],
          [
           2021,
           25
          ],
          [
           2021,
           26
          ],
          [
           2021,
           27
          ],
          [
           2021,
           28
          ],
          [
           2021,
           29
          ],
          [
           2021,
           30
          ],
          [
           2021,
           31
          ],
          [
           2021,
           32
          ],
          [
           2021,
           33
          ],
          [
           2021,
           34
          ],
          [
           2021,
           35
          ],
          [
           2021,
           36
          ],
          [
           2021,
           37
          ],
          [
           2021,
           38
          ],
          [
           2021,
           39
          ],
          [
           2021,
           40
          ],
          [
           2021,
           41
          ],
          [
           2021,
           42
          ],
          [
           2021,
           43
          ],
          [
           2021,
           44
          ],
          [
           2021,
           45
          ],
          [
           2021,
           46
          ],
          [
           2021,
           47
          ],
          [
           2021,
           48
          ],
          [
           2021,
           49
          ],
          [
           2021,
           50
          ],
          [
           2021,
           51
          ],
          [
           2021,
           52
          ],
          [
           2021,
           1
          ],
          [
           2021,
           2
          ],
          [
           2021,
           3
          ],
          [
           2021,
           4
          ],
          [
           2021,
           5
          ],
          [
           2021,
           6
          ],
          [
           2021,
           7
          ],
          [
           2021,
           8
          ],
          [
           2021,
           9
          ],
          [
           2021,
           10
          ],
          [
           2021,
           11
          ],
          [
           2021,
           12
          ],
          [
           2021,
           13
          ],
          [
           2021,
           14
          ],
          [
           2021,
           15
          ],
          [
           2021,
           16
          ],
          [
           2021,
           17
          ],
          [
           2021,
           18
          ],
          [
           2021,
           19
          ],
          [
           2021,
           20
          ],
          [
           2021,
           21
          ],
          [
           2021,
           22
          ],
          [
           2021,
           23
          ],
          [
           2021,
           24
          ],
          [
           2021,
           25
          ],
          [
           2021,
           26
          ],
          [
           2021,
           27
          ],
          [
           2021,
           28
          ],
          [
           2021,
           29
          ],
          [
           2021,
           30
          ],
          [
           2021,
           31
          ],
          [
           2021,
           32
          ],
          [
           2021,
           33
          ],
          [
           2021,
           34
          ],
          [
           2021,
           35
          ],
          [
           2021,
           36
          ],
          [
           2021,
           37
          ],
          [
           2021,
           38
          ],
          [
           2021,
           39
          ],
          [
           2021,
           40
          ],
          [
           2021,
           41
          ],
          [
           2021,
           42
          ],
          [
           2021,
           43
          ],
          [
           2021,
           44
          ],
          [
           2021,
           45
          ],
          [
           2021,
           46
          ],
          [
           2021,
           47
          ],
          [
           2021,
           48
          ],
          [
           2021,
           49
          ],
          [
           2021,
           50
          ],
          [
           2021,
           51
          ],
          [
           2021,
           52
          ],
          [
           2021,
           1
          ],
          [
           2021,
           2
          ],
          [
           2021,
           3
          ],
          [
           2021,
           4
          ],
          [
           2021,
           5
          ],
          [
           2021,
           6
          ],
          [
           2021,
           7
          ],
          [
           2021,
           8
          ],
          [
           2021,
           9
          ],
          [
           2021,
           10
          ],
          [
           2021,
           11
          ],
          [
           2021,
           12
          ],
          [
           2021,
           13
          ],
          [
           2021,
           14
          ],
          [
           2021,
           15
          ],
          [
           2021,
           16
          ],
          [
           2021,
           17
          ],
          [
           2021,
           18
          ],
          [
           2021,
           19
          ],
          [
           2021,
           20
          ],
          [
           2021,
           21
          ],
          [
           2021,
           22
          ],
          [
           2021,
           23
          ],
          [
           2021,
           24
          ],
          [
           2021,
           25
          ],
          [
           2021,
           26
          ],
          [
           2021,
           27
          ],
          [
           2021,
           28
          ],
          [
           2021,
           29
          ],
          [
           2021,
           30
          ],
          [
           2021,
           31
          ],
          [
           2021,
           32
          ],
          [
           2021,
           33
          ],
          [
           2021,
           34
          ],
          [
           2021,
           35
          ],
          [
           2021,
           36
          ],
          [
           2021,
           37
          ],
          [
           2021,
           38
          ],
          [
           2021,
           39
          ],
          [
           2021,
           40
          ],
          [
           2021,
           41
          ],
          [
           2021,
           42
          ],
          [
           2021,
           43
          ],
          [
           2021,
           44
          ],
          [
           2021,
           45
          ],
          [
           2021,
           46
          ],
          [
           2021,
           47
          ],
          [
           2021,
           48
          ],
          [
           2021,
           49
          ],
          [
           2021,
           50
          ],
          [
           2021,
           51
          ],
          [
           2021,
           52
          ],
          [
           2021,
           1
          ],
          [
           2021,
           2
          ],
          [
           2021,
           3
          ],
          [
           2021,
           4
          ],
          [
           2021,
           5
          ],
          [
           2021,
           6
          ],
          [
           2021,
           7
          ],
          [
           2021,
           8
          ],
          [
           2021,
           9
          ],
          [
           2021,
           10
          ],
          [
           2021,
           11
          ],
          [
           2021,
           12
          ],
          [
           2021,
           13
          ],
          [
           2021,
           14
          ],
          [
           2021,
           15
          ],
          [
           2021,
           16
          ],
          [
           2021,
           17
          ],
          [
           2021,
           18
          ],
          [
           2021,
           19
          ],
          [
           2021,
           20
          ],
          [
           2021,
           21
          ],
          [
           2021,
           22
          ],
          [
           2021,
           23
          ],
          [
           2021,
           24
          ],
          [
           2021,
           25
          ],
          [
           2021,
           26
          ],
          [
           2021,
           27
          ],
          [
           2021,
           28
          ],
          [
           2021,
           29
          ],
          [
           2021,
           30
          ],
          [
           2021,
           31
          ],
          [
           2021,
           32
          ],
          [
           2021,
           33
          ],
          [
           2021,
           34
          ],
          [
           2021,
           35
          ],
          [
           2021,
           36
          ],
          [
           2021,
           37
          ],
          [
           2021,
           38
          ],
          [
           2021,
           39
          ],
          [
           2021,
           40
          ],
          [
           2021,
           41
          ],
          [
           2021,
           42
          ],
          [
           2021,
           43
          ],
          [
           2021,
           44
          ],
          [
           2021,
           45
          ],
          [
           2021,
           46
          ],
          [
           2021,
           47
          ],
          [
           2021,
           48
          ],
          [
           2021,
           49
          ],
          [
           2021,
           50
          ],
          [
           2021,
           51
          ],
          [
           2021,
           52
          ],
          [
           2021,
           1
          ],
          [
           2021,
           2
          ],
          [
           2021,
           3
          ],
          [
           2021,
           4
          ],
          [
           2021,
           5
          ],
          [
           2021,
           6
          ],
          [
           2021,
           7
          ],
          [
           2021,
           8
          ],
          [
           2021,
           9
          ],
          [
           2021,
           10
          ],
          [
           2021,
           11
          ],
          [
           2021,
           12
          ],
          [
           2021,
           13
          ],
          [
           2021,
           14
          ],
          [
           2021,
           15
          ],
          [
           2021,
           16
          ],
          [
           2021,
           17
          ],
          [
           2021,
           18
          ],
          [
           2021,
           19
          ],
          [
           2021,
           20
          ],
          [
           2021,
           21
          ],
          [
           2021,
           22
          ],
          [
           2021,
           23
          ],
          [
           2021,
           24
          ],
          [
           2021,
           25
          ],
          [
           2021,
           26
          ],
          [
           2021,
           27
          ],
          [
           2021,
           28
          ],
          [
           2021,
           29
          ],
          [
           2021,
           30
          ],
          [
           2021,
           31
          ],
          [
           2021,
           32
          ],
          [
           2021,
           33
          ],
          [
           2021,
           34
          ],
          [
           2021,
           35
          ],
          [
           2021,
           36
          ],
          [
           2021,
           37
          ],
          [
           2021,
           38
          ],
          [
           2021,
           39
          ],
          [
           2021,
           40
          ],
          [
           2021,
           41
          ],
          [
           2021,
           42
          ],
          [
           2021,
           43
          ],
          [
           2021,
           44
          ],
          [
           2021,
           45
          ],
          [
           2021,
           46
          ],
          [
           2021,
           47
          ],
          [
           2021,
           48
          ],
          [
           2021,
           49
          ],
          [
           2021,
           50
          ],
          [
           2021,
           51
          ],
          [
           2021,
           52
          ],
          [
           2021,
           1
          ],
          [
           2021,
           2
          ],
          [
           2021,
           3
          ],
          [
           2021,
           4
          ],
          [
           2021,
           5
          ],
          [
           2021,
           6
          ],
          [
           2021,
           7
          ],
          [
           2021,
           8
          ],
          [
           2021,
           9
          ],
          [
           2021,
           10
          ],
          [
           2021,
           11
          ],
          [
           2021,
           12
          ],
          [
           2021,
           13
          ],
          [
           2021,
           14
          ],
          [
           2021,
           15
          ],
          [
           2021,
           16
          ],
          [
           2021,
           17
          ],
          [
           2021,
           18
          ],
          [
           2021,
           19
          ],
          [
           2021,
           20
          ],
          [
           2021,
           21
          ],
          [
           2021,
           22
          ],
          [
           2021,
           23
          ],
          [
           2021,
           24
          ],
          [
           2021,
           25
          ],
          [
           2021,
           26
          ],
          [
           2021,
           27
          ],
          [
           2021,
           28
          ],
          [
           2021,
           29
          ],
          [
           2021,
           30
          ],
          [
           2021,
           31
          ],
          [
           2021,
           32
          ],
          [
           2021,
           33
          ],
          [
           2021,
           34
          ],
          [
           2021,
           35
          ],
          [
           2021,
           36
          ],
          [
           2021,
           37
          ],
          [
           2021,
           38
          ],
          [
           2021,
           39
          ],
          [
           2021,
           40
          ],
          [
           2021,
           41
          ],
          [
           2021,
           42
          ],
          [
           2021,
           43
          ],
          [
           2021,
           44
          ],
          [
           2021,
           45
          ],
          [
           2021,
           46
          ],
          [
           2021,
           47
          ],
          [
           2021,
           48
          ],
          [
           2021,
           49
          ],
          [
           2021,
           50
          ],
          [
           2021,
           51
          ],
          [
           2021,
           52
          ],
          [
           2021,
           1
          ],
          [
           2021,
           2
          ],
          [
           2021,
           3
          ],
          [
           2021,
           4
          ],
          [
           2021,
           5
          ],
          [
           2021,
           6
          ],
          [
           2021,
           7
          ],
          [
           2021,
           8
          ],
          [
           2021,
           9
          ],
          [
           2021,
           10
          ],
          [
           2021,
           11
          ],
          [
           2021,
           12
          ],
          [
           2021,
           13
          ],
          [
           2021,
           14
          ],
          [
           2021,
           15
          ],
          [
           2021,
           16
          ],
          [
           2021,
           17
          ],
          [
           2021,
           18
          ],
          [
           2021,
           19
          ],
          [
           2021,
           20
          ],
          [
           2021,
           21
          ],
          [
           2021,
           22
          ],
          [
           2021,
           23
          ],
          [
           2021,
           24
          ],
          [
           2021,
           25
          ],
          [
           2021,
           26
          ],
          [
           2021,
           27
          ],
          [
           2021,
           28
          ],
          [
           2021,
           29
          ],
          [
           2021,
           30
          ],
          [
           2021,
           31
          ],
          [
           2021,
           32
          ],
          [
           2021,
           33
          ],
          [
           2021,
           34
          ],
          [
           2021,
           35
          ],
          [
           2021,
           36
          ],
          [
           2021,
           37
          ],
          [
           2021,
           38
          ],
          [
           2021,
           39
          ],
          [
           2021,
           40
          ],
          [
           2021,
           41
          ],
          [
           2021,
           42
          ],
          [
           2021,
           43
          ],
          [
           2021,
           44
          ],
          [
           2021,
           45
          ],
          [
           2021,
           46
          ],
          [
           2021,
           47
          ],
          [
           2021,
           48
          ],
          [
           2021,
           49
          ],
          [
           2021,
           50
          ],
          [
           2021,
           51
          ],
          [
           2021,
           52
          ],
          [
           2021,
           1
          ],
          [
           2021,
           2
          ],
          [
           2021,
           3
          ],
          [
           2021,
           4
          ],
          [
           2021,
           5
          ],
          [
           2021,
           6
          ],
          [
           2021,
           7
          ],
          [
           2021,
           8
          ],
          [
           2021,
           9
          ],
          [
           2021,
           10
          ],
          [
           2021,
           11
          ],
          [
           2021,
           12
          ],
          [
           2021,
           13
          ],
          [
           2021,
           14
          ],
          [
           2021,
           15
          ],
          [
           2021,
           16
          ],
          [
           2021,
           17
          ],
          [
           2021,
           18
          ],
          [
           2021,
           19
          ],
          [
           2021,
           20
          ],
          [
           2021,
           21
          ],
          [
           2021,
           22
          ],
          [
           2021,
           23
          ],
          [
           2021,
           24
          ],
          [
           2021,
           25
          ],
          [
           2021,
           26
          ],
          [
           2021,
           27
          ],
          [
           2021,
           28
          ],
          [
           2021,
           29
          ],
          [
           2021,
           30
          ],
          [
           2021,
           31
          ],
          [
           2021,
           32
          ],
          [
           2021,
           33
          ],
          [
           2021,
           34
          ],
          [
           2021,
           35
          ],
          [
           2021,
           36
          ],
          [
           2021,
           37
          ],
          [
           2021,
           38
          ],
          [
           2021,
           39
          ],
          [
           2021,
           40
          ],
          [
           2021,
           41
          ],
          [
           2021,
           42
          ],
          [
           2021,
           43
          ],
          [
           2021,
           44
          ],
          [
           2021,
           45
          ],
          [
           2021,
           46
          ],
          [
           2021,
           47
          ],
          [
           2021,
           48
          ],
          [
           2021,
           49
          ],
          [
           2021,
           50
          ],
          [
           2021,
           51
          ],
          [
           2021,
           52
          ],
          [
           2021,
           1
          ],
          [
           2021,
           2
          ],
          [
           2021,
           3
          ],
          [
           2021,
           4
          ],
          [
           2021,
           5
          ],
          [
           2021,
           6
          ],
          [
           2021,
           7
          ],
          [
           2021,
           8
          ],
          [
           2021,
           9
          ],
          [
           2021,
           10
          ],
          [
           2021,
           11
          ],
          [
           2021,
           12
          ],
          [
           2021,
           13
          ],
          [
           2021,
           14
          ],
          [
           2021,
           15
          ],
          [
           2021,
           16
          ],
          [
           2021,
           17
          ],
          [
           2021,
           18
          ],
          [
           2021,
           19
          ],
          [
           2021,
           20
          ],
          [
           2021,
           21
          ],
          [
           2021,
           22
          ],
          [
           2021,
           23
          ],
          [
           2021,
           24
          ],
          [
           2021,
           25
          ],
          [
           2021,
           26
          ],
          [
           2021,
           27
          ],
          [
           2021,
           28
          ],
          [
           2021,
           29
          ],
          [
           2021,
           30
          ],
          [
           2021,
           31
          ],
          [
           2021,
           32
          ],
          [
           2021,
           33
          ],
          [
           2021,
           34
          ],
          [
           2021,
           35
          ],
          [
           2021,
           36
          ],
          [
           2021,
           37
          ],
          [
           2021,
           38
          ],
          [
           2021,
           39
          ],
          [
           2021,
           40
          ],
          [
           2021,
           41
          ],
          [
           2021,
           42
          ],
          [
           2021,
           43
          ],
          [
           2021,
           44
          ],
          [
           2021,
           45
          ],
          [
           2021,
           46
          ],
          [
           2021,
           47
          ],
          [
           2021,
           48
          ],
          [
           2021,
           49
          ],
          [
           2021,
           50
          ],
          [
           2021,
           51
          ],
          [
           2021,
           52
          ],
          [
           2021,
           1
          ],
          [
           2021,
           2
          ],
          [
           2021,
           3
          ],
          [
           2021,
           4
          ],
          [
           2021,
           5
          ],
          [
           2021,
           6
          ],
          [
           2021,
           7
          ],
          [
           2021,
           8
          ],
          [
           2021,
           9
          ],
          [
           2021,
           10
          ],
          [
           2021,
           11
          ],
          [
           2021,
           12
          ],
          [
           2021,
           13
          ],
          [
           2021,
           14
          ],
          [
           2021,
           15
          ],
          [
           2021,
           16
          ],
          [
           2021,
           17
          ],
          [
           2021,
           18
          ],
          [
           2021,
           19
          ],
          [
           2021,
           20
          ],
          [
           2021,
           21
          ],
          [
           2021,
           22
          ],
          [
           2021,
           23
          ],
          [
           2021,
           24
          ],
          [
           2021,
           25
          ],
          [
           2021,
           26
          ],
          [
           2021,
           27
          ],
          [
           2021,
           28
          ],
          [
           2021,
           29
          ],
          [
           2021,
           30
          ],
          [
           2021,
           31
          ],
          [
           2021,
           32
          ],
          [
           2021,
           33
          ],
          [
           2021,
           34
          ],
          [
           2021,
           35
          ],
          [
           2021,
           36
          ],
          [
           2021,
           37
          ],
          [
           2021,
           38
          ],
          [
           2021,
           39
          ],
          [
           2021,
           40
          ],
          [
           2021,
           41
          ],
          [
           2021,
           42
          ],
          [
           2021,
           43
          ],
          [
           2021,
           44
          ],
          [
           2021,
           45
          ],
          [
           2021,
           46
          ],
          [
           2021,
           47
          ],
          [
           2021,
           48
          ],
          [
           2021,
           49
          ],
          [
           2021,
           50
          ],
          [
           2021,
           51
          ],
          [
           2021,
           52
          ]
         ],
         "fillcolor": "rgba(255,255,255,0)",
         "hoveron": "points",
         "hovertemplate": "Year=%{customdata[0]}<br>County=%{x}<br>Cumulative number of cases=%{y}<br>Week=%{customdata[1]}<extra></extra>",
         "legendgroup": "2021",
         "line": {
          "color": "rgba(255,255,255,0)"
         },
         "marker": {
          "color": "#EF553B"
         },
         "name": "2021",
         "offsetgroup": "2021",
         "orientation": "v",
         "pointpos": 0,
         "showlegend": true,
         "type": "box",
         "x": [
          "Blekinge",
          "Blekinge",
          "Blekinge",
          "Blekinge",
          "Blekinge",
          "Blekinge",
          "Blekinge",
          "Blekinge",
          "Blekinge",
          "Blekinge",
          "Blekinge",
          "Blekinge",
          "Blekinge",
          "Blekinge",
          "Blekinge",
          "Blekinge",
          "Blekinge",
          "Blekinge",
          "Blekinge",
          "Blekinge",
          "Blekinge",
          "Blekinge",
          "Blekinge",
          "Blekinge",
          "Blekinge",
          "Blekinge",
          "Blekinge",
          "Blekinge",
          "Blekinge",
          "Blekinge",
          "Blekinge",
          "Blekinge",
          "Blekinge",
          "Blekinge",
          "Blekinge",
          "Blekinge",
          "Blekinge",
          "Blekinge",
          "Blekinge",
          "Blekinge",
          "Blekinge",
          "Blekinge",
          "Blekinge",
          "Blekinge",
          "Blekinge",
          "Blekinge",
          "Blekinge",
          "Blekinge",
          "Blekinge",
          "Blekinge",
          "Blekinge",
          "Blekinge",
          "Dalarna",
          "Dalarna",
          "Dalarna",
          "Dalarna",
          "Dalarna",
          "Dalarna",
          "Dalarna",
          "Dalarna",
          "Dalarna",
          "Dalarna",
          "Dalarna",
          "Dalarna",
          "Dalarna",
          "Dalarna",
          "Dalarna",
          "Dalarna",
          "Dalarna",
          "Dalarna",
          "Dalarna",
          "Dalarna",
          "Dalarna",
          "Dalarna",
          "Dalarna",
          "Dalarna",
          "Dalarna",
          "Dalarna",
          "Dalarna",
          "Dalarna",
          "Dalarna",
          "Dalarna",
          "Dalarna",
          "Dalarna",
          "Dalarna",
          "Dalarna",
          "Dalarna",
          "Dalarna",
          "Dalarna",
          "Dalarna",
          "Dalarna",
          "Dalarna",
          "Dalarna",
          "Dalarna",
          "Dalarna",
          "Dalarna",
          "Dalarna",
          "Dalarna",
          "Dalarna",
          "Dalarna",
          "Dalarna",
          "Dalarna",
          "Dalarna",
          "Dalarna",
          "Gotland",
          "Gotland",
          "Gotland",
          "Gotland",
          "Gotland",
          "Gotland",
          "Gotland",
          "Gotland",
          "Gotland",
          "Gotland",
          "Gotland",
          "Gotland",
          "Gotland",
          "Gotland",
          "Gotland",
          "Gotland",
          "Gotland",
          "Gotland",
          "Gotland",
          "Gotland",
          "Gotland",
          "Gotland",
          "Gotland",
          "Gotland",
          "Gotland",
          "Gotland",
          "Gotland",
          "Gotland",
          "Gotland",
          "Gotland",
          "Gotland",
          "Gotland",
          "Gotland",
          "Gotland",
          "Gotland",
          "Gotland",
          "Gotland",
          "Gotland",
          "Gotland",
          "Gotland",
          "Gotland",
          "Gotland",
          "Gotland",
          "Gotland",
          "Gotland",
          "Gotland",
          "Gotland",
          "Gotland",
          "Gotland",
          "Gotland",
          "Gotland",
          "Gotland",
          "Gävleborg",
          "Gävleborg",
          "Gävleborg",
          "Gävleborg",
          "Gävleborg",
          "Gävleborg",
          "Gävleborg",
          "Gävleborg",
          "Gävleborg",
          "Gävleborg",
          "Gävleborg",
          "Gävleborg",
          "Gävleborg",
          "Gävleborg",
          "Gävleborg",
          "Gävleborg",
          "Gävleborg",
          "Gävleborg",
          "Gävleborg",
          "Gävleborg",
          "Gävleborg",
          "Gävleborg",
          "Gävleborg",
          "Gävleborg",
          "Gävleborg",
          "Gävleborg",
          "Gävleborg",
          "Gävleborg",
          "Gävleborg",
          "Gävleborg",
          "Gävleborg",
          "Gävleborg",
          "Gävleborg",
          "Gävleborg",
          "Gävleborg",
          "Gävleborg",
          "Gävleborg",
          "Gävleborg",
          "Gävleborg",
          "Gävleborg",
          "Gävleborg",
          "Gävleborg",
          "Gävleborg",
          "Gävleborg",
          "Gävleborg",
          "Gävleborg",
          "Gävleborg",
          "Gävleborg",
          "Gävleborg",
          "Gävleborg",
          "Gävleborg",
          "Gävleborg",
          "Halland",
          "Halland",
          "Halland",
          "Halland",
          "Halland",
          "Halland",
          "Halland",
          "Halland",
          "Halland",
          "Halland",
          "Halland",
          "Halland",
          "Halland",
          "Halland",
          "Halland",
          "Halland",
          "Halland",
          "Halland",
          "Halland",
          "Halland",
          "Halland",
          "Halland",
          "Halland",
          "Halland",
          "Halland",
          "Halland",
          "Halland",
          "Halland",
          "Halland",
          "Halland",
          "Halland",
          "Halland",
          "Halland",
          "Halland",
          "Halland",
          "Halland",
          "Halland",
          "Halland",
          "Halland",
          "Halland",
          "Halland",
          "Halland",
          "Halland",
          "Halland",
          "Halland",
          "Halland",
          "Halland",
          "Halland",
          "Halland",
          "Halland",
          "Halland",
          "Halland",
          "Jämtland Härjedalen",
          "Jämtland Härjedalen",
          "Jämtland Härjedalen",
          "Jämtland Härjedalen",
          "Jämtland Härjedalen",
          "Jämtland Härjedalen",
          "Jämtland Härjedalen",
          "Jämtland Härjedalen",
          "Jämtland Härjedalen",
          "Jämtland Härjedalen",
          "Jämtland Härjedalen",
          "Jämtland Härjedalen",
          "Jämtland Härjedalen",
          "Jämtland Härjedalen",
          "Jämtland Härjedalen",
          "Jämtland Härjedalen",
          "Jämtland Härjedalen",
          "Jämtland Härjedalen",
          "Jämtland Härjedalen",
          "Jämtland Härjedalen",
          "Jämtland Härjedalen",
          "Jämtland Härjedalen",
          "Jämtland Härjedalen",
          "Jämtland Härjedalen",
          "Jämtland Härjedalen",
          "Jämtland Härjedalen",
          "Jämtland Härjedalen",
          "Jämtland Härjedalen",
          "Jämtland Härjedalen",
          "Jämtland Härjedalen",
          "Jämtland Härjedalen",
          "Jämtland Härjedalen",
          "Jämtland Härjedalen",
          "Jämtland Härjedalen",
          "Jämtland Härjedalen",
          "Jämtland Härjedalen",
          "Jämtland Härjedalen",
          "Jämtland Härjedalen",
          "Jämtland Härjedalen",
          "Jämtland Härjedalen",
          "Jämtland Härjedalen",
          "Jämtland Härjedalen",
          "Jämtland Härjedalen",
          "Jämtland Härjedalen",
          "Jämtland Härjedalen",
          "Jämtland Härjedalen",
          "Jämtland Härjedalen",
          "Jämtland Härjedalen",
          "Jämtland Härjedalen",
          "Jämtland Härjedalen",
          "Jämtland Härjedalen",
          "Jämtland Härjedalen",
          "Jönköping",
          "Jönköping",
          "Jönköping",
          "Jönköping",
          "Jönköping",
          "Jönköping",
          "Jönköping",
          "Jönköping",
          "Jönköping",
          "Jönköping",
          "Jönköping",
          "Jönköping",
          "Jönköping",
          "Jönköping",
          "Jönköping",
          "Jönköping",
          "Jönköping",
          "Jönköping",
          "Jönköping",
          "Jönköping",
          "Jönköping",
          "Jönköping",
          "Jönköping",
          "Jönköping",
          "Jönköping",
          "Jönköping",
          "Jönköping",
          "Jönköping",
          "Jönköping",
          "Jönköping",
          "Jönköping",
          "Jönköping",
          "Jönköping",
          "Jönköping",
          "Jönköping",
          "Jönköping",
          "Jönköping",
          "Jönköping",
          "Jönköping",
          "Jönköping",
          "Jönköping",
          "Jönköping",
          "Jönköping",
          "Jönköping",
          "Jönköping",
          "Jönköping",
          "Jönköping",
          "Jönköping",
          "Jönköping",
          "Jönköping",
          "Jönköping",
          "Jönköping",
          "Kalmar",
          "Kalmar",
          "Kalmar",
          "Kalmar",
          "Kalmar",
          "Kalmar",
          "Kalmar",
          "Kalmar",
          "Kalmar",
          "Kalmar",
          "Kalmar",
          "Kalmar",
          "Kalmar",
          "Kalmar",
          "Kalmar",
          "Kalmar",
          "Kalmar",
          "Kalmar",
          "Kalmar",
          "Kalmar",
          "Kalmar",
          "Kalmar",
          "Kalmar",
          "Kalmar",
          "Kalmar",
          "Kalmar",
          "Kalmar",
          "Kalmar",
          "Kalmar",
          "Kalmar",
          "Kalmar",
          "Kalmar",
          "Kalmar",
          "Kalmar",
          "Kalmar",
          "Kalmar",
          "Kalmar",
          "Kalmar",
          "Kalmar",
          "Kalmar",
          "Kalmar",
          "Kalmar",
          "Kalmar",
          "Kalmar",
          "Kalmar",
          "Kalmar",
          "Kalmar",
          "Kalmar",
          "Kalmar",
          "Kalmar",
          "Kalmar",
          "Kalmar",
          "Kronoberg",
          "Kronoberg",
          "Kronoberg",
          "Kronoberg",
          "Kronoberg",
          "Kronoberg",
          "Kronoberg",
          "Kronoberg",
          "Kronoberg",
          "Kronoberg",
          "Kronoberg",
          "Kronoberg",
          "Kronoberg",
          "Kronoberg",
          "Kronoberg",
          "Kronoberg",
          "Kronoberg",
          "Kronoberg",
          "Kronoberg",
          "Kronoberg",
          "Kronoberg",
          "Kronoberg",
          "Kronoberg",
          "Kronoberg",
          "Kronoberg",
          "Kronoberg",
          "Kronoberg",
          "Kronoberg",
          "Kronoberg",
          "Kronoberg",
          "Kronoberg",
          "Kronoberg",
          "Kronoberg",
          "Kronoberg",
          "Kronoberg",
          "Kronoberg",
          "Kronoberg",
          "Kronoberg",
          "Kronoberg",
          "Kronoberg",
          "Kronoberg",
          "Kronoberg",
          "Kronoberg",
          "Kronoberg",
          "Kronoberg",
          "Kronoberg",
          "Kronoberg",
          "Kronoberg",
          "Kronoberg",
          "Kronoberg",
          "Kronoberg",
          "Kronoberg",
          "Norrbotten",
          "Norrbotten",
          "Norrbotten",
          "Norrbotten",
          "Norrbotten",
          "Norrbotten",
          "Norrbotten",
          "Norrbotten",
          "Norrbotten",
          "Norrbotten",
          "Norrbotten",
          "Norrbotten",
          "Norrbotten",
          "Norrbotten",
          "Norrbotten",
          "Norrbotten",
          "Norrbotten",
          "Norrbotten",
          "Norrbotten",
          "Norrbotten",
          "Norrbotten",
          "Norrbotten",
          "Norrbotten",
          "Norrbotten",
          "Norrbotten",
          "Norrbotten",
          "Norrbotten",
          "Norrbotten",
          "Norrbotten",
          "Norrbotten",
          "Norrbotten",
          "Norrbotten",
          "Norrbotten",
          "Norrbotten",
          "Norrbotten",
          "Norrbotten",
          "Norrbotten",
          "Norrbotten",
          "Norrbotten",
          "Norrbotten",
          "Norrbotten",
          "Norrbotten",
          "Norrbotten",
          "Norrbotten",
          "Norrbotten",
          "Norrbotten",
          "Norrbotten",
          "Norrbotten",
          "Norrbotten",
          "Norrbotten",
          "Norrbotten",
          "Norrbotten",
          "Skåne",
          "Skåne",
          "Skåne",
          "Skåne",
          "Skåne",
          "Skåne",
          "Skåne",
          "Skåne",
          "Skåne",
          "Skåne",
          "Skåne",
          "Skåne",
          "Skåne",
          "Skåne",
          "Skåne",
          "Skåne",
          "Skåne",
          "Skåne",
          "Skåne",
          "Skåne",
          "Skåne",
          "Skåne",
          "Skåne",
          "Skåne",
          "Skåne",
          "Skåne",
          "Skåne",
          "Skåne",
          "Skåne",
          "Skåne",
          "Skåne",
          "Skåne",
          "Skåne",
          "Skåne",
          "Skåne",
          "Skåne",
          "Skåne",
          "Skåne",
          "Skåne",
          "Skåne",
          "Skåne",
          "Skåne",
          "Skåne",
          "Skåne",
          "Skåne",
          "Skåne",
          "Skåne",
          "Skåne",
          "Skåne",
          "Skåne",
          "Skåne",
          "Skåne",
          "Stockholm",
          "Stockholm",
          "Stockholm",
          "Stockholm",
          "Stockholm",
          "Stockholm",
          "Stockholm",
          "Stockholm",
          "Stockholm",
          "Stockholm",
          "Stockholm",
          "Stockholm",
          "Stockholm",
          "Stockholm",
          "Stockholm",
          "Stockholm",
          "Stockholm",
          "Stockholm",
          "Stockholm",
          "Stockholm",
          "Stockholm",
          "Stockholm",
          "Stockholm",
          "Stockholm",
          "Stockholm",
          "Stockholm",
          "Stockholm",
          "Stockholm",
          "Stockholm",
          "Stockholm",
          "Stockholm",
          "Stockholm",
          "Stockholm",
          "Stockholm",
          "Stockholm",
          "Stockholm",
          "Stockholm",
          "Stockholm",
          "Stockholm",
          "Stockholm",
          "Stockholm",
          "Stockholm",
          "Stockholm",
          "Stockholm",
          "Stockholm",
          "Stockholm",
          "Stockholm",
          "Stockholm",
          "Stockholm",
          "Stockholm",
          "Stockholm",
          "Stockholm",
          "Sörmland",
          "Sörmland",
          "Sörmland",
          "Sörmland",
          "Sörmland",
          "Sörmland",
          "Sörmland",
          "Sörmland",
          "Sörmland",
          "Sörmland",
          "Sörmland",
          "Sörmland",
          "Sörmland",
          "Sörmland",
          "Sörmland",
          "Sörmland",
          "Sörmland",
          "Sörmland",
          "Sörmland",
          "Sörmland",
          "Sörmland",
          "Sörmland",
          "Sörmland",
          "Sörmland",
          "Sörmland",
          "Sörmland",
          "Sörmland",
          "Sörmland",
          "Sörmland",
          "Sörmland",
          "Sörmland",
          "Sörmland",
          "Sörmland",
          "Sörmland",
          "Sörmland",
          "Sörmland",
          "Sörmland",
          "Sörmland",
          "Sörmland",
          "Sörmland",
          "Sörmland",
          "Sörmland",
          "Sörmland",
          "Sörmland",
          "Sörmland",
          "Sörmland",
          "Sörmland",
          "Sörmland",
          "Sörmland",
          "Sörmland",
          "Sörmland",
          "Sörmland",
          "Uppsala",
          "Uppsala",
          "Uppsala",
          "Uppsala",
          "Uppsala",
          "Uppsala",
          "Uppsala",
          "Uppsala",
          "Uppsala",
          "Uppsala",
          "Uppsala",
          "Uppsala",
          "Uppsala",
          "Uppsala",
          "Uppsala",
          "Uppsala",
          "Uppsala",
          "Uppsala",
          "Uppsala",
          "Uppsala",
          "Uppsala",
          "Uppsala",
          "Uppsala",
          "Uppsala",
          "Uppsala",
          "Uppsala",
          "Uppsala",
          "Uppsala",
          "Uppsala",
          "Uppsala",
          "Uppsala",
          "Uppsala",
          "Uppsala",
          "Uppsala",
          "Uppsala",
          "Uppsala",
          "Uppsala",
          "Uppsala",
          "Uppsala",
          "Uppsala",
          "Uppsala",
          "Uppsala",
          "Uppsala",
          "Uppsala",
          "Uppsala",
          "Uppsala",
          "Uppsala",
          "Uppsala",
          "Uppsala",
          "Uppsala",
          "Uppsala",
          "Uppsala",
          "Värmland",
          "Värmland",
          "Värmland",
          "Värmland",
          "Värmland",
          "Värmland",
          "Värmland",
          "Värmland",
          "Värmland",
          "Värmland",
          "Värmland",
          "Värmland",
          "Värmland",
          "Värmland",
          "Värmland",
          "Värmland",
          "Värmland",
          "Värmland",
          "Värmland",
          "Värmland",
          "Värmland",
          "Värmland",
          "Värmland",
          "Värmland",
          "Värmland",
          "Värmland",
          "Värmland",
          "Värmland",
          "Värmland",
          "Värmland",
          "Värmland",
          "Värmland",
          "Värmland",
          "Värmland",
          "Värmland",
          "Värmland",
          "Värmland",
          "Värmland",
          "Värmland",
          "Värmland",
          "Värmland",
          "Värmland",
          "Värmland",
          "Värmland",
          "Värmland",
          "Värmland",
          "Värmland",
          "Värmland",
          "Värmland",
          "Värmland",
          "Värmland",
          "Värmland",
          "Västerbotten",
          "Västerbotten",
          "Västerbotten",
          "Västerbotten",
          "Västerbotten",
          "Västerbotten",
          "Västerbotten",
          "Västerbotten",
          "Västerbotten",
          "Västerbotten",
          "Västerbotten",
          "Västerbotten",
          "Västerbotten",
          "Västerbotten",
          "Västerbotten",
          "Västerbotten",
          "Västerbotten",
          "Västerbotten",
          "Västerbotten",
          "Västerbotten",
          "Västerbotten",
          "Västerbotten",
          "Västerbotten",
          "Västerbotten",
          "Västerbotten",
          "Västerbotten",
          "Västerbotten",
          "Västerbotten",
          "Västerbotten",
          "Västerbotten",
          "Västerbotten",
          "Västerbotten",
          "Västerbotten",
          "Västerbotten",
          "Västerbotten",
          "Västerbotten",
          "Västerbotten",
          "Västerbotten",
          "Västerbotten",
          "Västerbotten",
          "Västerbotten",
          "Västerbotten",
          "Västerbotten",
          "Västerbotten",
          "Västerbotten",
          "Västerbotten",
          "Västerbotten",
          "Västerbotten",
          "Västerbotten",
          "Västerbotten",
          "Västerbotten",
          "Västerbotten",
          "Västernorrland",
          "Västernorrland",
          "Västernorrland",
          "Västernorrland",
          "Västernorrland",
          "Västernorrland",
          "Västernorrland",
          "Västernorrland",
          "Västernorrland",
          "Västernorrland",
          "Västernorrland",
          "Västernorrland",
          "Västernorrland",
          "Västernorrland",
          "Västernorrland",
          "Västernorrland",
          "Västernorrland",
          "Västernorrland",
          "Västernorrland",
          "Västernorrland",
          "Västernorrland",
          "Västernorrland",
          "Västernorrland",
          "Västernorrland",
          "Västernorrland",
          "Västernorrland",
          "Västernorrland",
          "Västernorrland",
          "Västernorrland",
          "Västernorrland",
          "Västernorrland",
          "Västernorrland",
          "Västernorrland",
          "Västernorrland",
          "Västernorrland",
          "Västernorrland",
          "Västernorrland",
          "Västernorrland",
          "Västernorrland",
          "Västernorrland",
          "Västernorrland",
          "Västernorrland",
          "Västernorrland",
          "Västernorrland",
          "Västernorrland",
          "Västernorrland",
          "Västernorrland",
          "Västernorrland",
          "Västernorrland",
          "Västernorrland",
          "Västernorrland",
          "Västernorrland",
          "Västmanland",
          "Västmanland",
          "Västmanland",
          "Västmanland",
          "Västmanland",
          "Västmanland",
          "Västmanland",
          "Västmanland",
          "Västmanland",
          "Västmanland",
          "Västmanland",
          "Västmanland",
          "Västmanland",
          "Västmanland",
          "Västmanland",
          "Västmanland",
          "Västmanland",
          "Västmanland",
          "Västmanland",
          "Västmanland",
          "Västmanland",
          "Västmanland",
          "Västmanland",
          "Västmanland",
          "Västmanland",
          "Västmanland",
          "Västmanland",
          "Västmanland",
          "Västmanland",
          "Västmanland",
          "Västmanland",
          "Västmanland",
          "Västmanland",
          "Västmanland",
          "Västmanland",
          "Västmanland",
          "Västmanland",
          "Västmanland",
          "Västmanland",
          "Västmanland",
          "Västmanland",
          "Västmanland",
          "Västmanland",
          "Västmanland",
          "Västmanland",
          "Västmanland",
          "Västmanland",
          "Västmanland",
          "Västmanland",
          "Västmanland",
          "Västmanland",
          "Västmanland",
          "Västra Götaland",
          "Västra Götaland",
          "Västra Götaland",
          "Västra Götaland",
          "Västra Götaland",
          "Västra Götaland",
          "Västra Götaland",
          "Västra Götaland",
          "Västra Götaland",
          "Västra Götaland",
          "Västra Götaland",
          "Västra Götaland",
          "Västra Götaland",
          "Västra Götaland",
          "Västra Götaland",
          "Västra Götaland",
          "Västra Götaland",
          "Västra Götaland",
          "Västra Götaland",
          "Västra Götaland",
          "Västra Götaland",
          "Västra Götaland",
          "Västra Götaland",
          "Västra Götaland",
          "Västra Götaland",
          "Västra Götaland",
          "Västra Götaland",
          "Västra Götaland",
          "Västra Götaland",
          "Västra Götaland",
          "Västra Götaland",
          "Västra Götaland",
          "Västra Götaland",
          "Västra Götaland",
          "Västra Götaland",
          "Västra Götaland",
          "Västra Götaland",
          "Västra Götaland",
          "Västra Götaland",
          "Västra Götaland",
          "Västra Götaland",
          "Västra Götaland",
          "Västra Götaland",
          "Västra Götaland",
          "Västra Götaland",
          "Västra Götaland",
          "Västra Götaland",
          "Västra Götaland",
          "Västra Götaland",
          "Västra Götaland",
          "Västra Götaland",
          "Västra Götaland",
          "Örebro",
          "Örebro",
          "Örebro",
          "Örebro",
          "Örebro",
          "Örebro",
          "Örebro",
          "Örebro",
          "Örebro",
          "Örebro",
          "Örebro",
          "Örebro",
          "Örebro",
          "Örebro",
          "Örebro",
          "Örebro",
          "Örebro",
          "Örebro",
          "Örebro",
          "Örebro",
          "Örebro",
          "Örebro",
          "Örebro",
          "Örebro",
          "Örebro",
          "Örebro",
          "Örebro",
          "Örebro",
          "Örebro",
          "Örebro",
          "Örebro",
          "Örebro",
          "Örebro",
          "Örebro",
          "Örebro",
          "Örebro",
          "Örebro",
          "Örebro",
          "Örebro",
          "Örebro",
          "Örebro",
          "Örebro",
          "Örebro",
          "Örebro",
          "Örebro",
          "Örebro",
          "Örebro",
          "Örebro",
          "Örebro",
          "Örebro",
          "Örebro",
          "Örebro",
          "Östergötland",
          "Östergötland",
          "Östergötland",
          "Östergötland",
          "Östergötland",
          "Östergötland",
          "Östergötland",
          "Östergötland",
          "Östergötland",
          "Östergötland",
          "Östergötland",
          "Östergötland",
          "Östergötland",
          "Östergötland",
          "Östergötland",
          "Östergötland",
          "Östergötland",
          "Östergötland",
          "Östergötland",
          "Östergötland",
          "Östergötland",
          "Östergötland",
          "Östergötland",
          "Östergötland",
          "Östergötland",
          "Östergötland",
          "Östergötland",
          "Östergötland",
          "Östergötland",
          "Östergötland",
          "Östergötland",
          "Östergötland",
          "Östergötland",
          "Östergötland",
          "Östergötland",
          "Östergötland",
          "Östergötland",
          "Östergötland",
          "Östergötland",
          "Östergötland",
          "Östergötland",
          "Östergötland",
          "Östergötland",
          "Östergötland",
          "Östergötland",
          "Östergötland",
          "Östergötland",
          "Östergötland",
          "Östergötland",
          "Östergötland",
          "Östergötland",
          "Östergötland"
         ],
         "x0": " ",
         "xaxis": "x",
         "y": [
          3845,
          4235,
          4473,
          4608,
          4740,
          4835,
          4944,
          5020,
          5127,
          5240,
          5372,
          5563,
          5804,
          6090,
          6463,
          6876,
          7225,
          7511,
          7695,
          7826,
          7900,
          7962,
          8014,
          8051,
          8075,
          8087,
          8094,
          8103,
          8112,
          8118,
          8141,
          8176,
          8208,
          8246,
          8308,
          8363,
          8389,
          8410,
          8424,
          8439,
          8456,
          8486,
          8509,
          8557,
          8617,
          8668,
          8809,
          8966,
          9130,
          9355,
          9560,
          9973,
          4154,
          4365,
          4543,
          4661,
          4768,
          4884,
          5016,
          5183,
          5385,
          5659,
          5981,
          6375,
          6757,
          7269,
          7663,
          8067,
          8422,
          8733,
          8992,
          9162,
          9253,
          9324,
          9359,
          9379,
          9393,
          9406,
          9414,
          9423,
          9428,
          9440,
          9465,
          9504,
          9544,
          9604,
          9667,
          9752,
          9826,
          9869,
          9907,
          9927,
          9960,
          10003,
          10048,
          10075,
          10095,
          10135,
          10206,
          10283,
          10510,
          10790,
          11065,
          11647,
          4058,
          4196,
          4291,
          4341,
          4374,
          4419,
          4444,
          4499,
          4605,
          4710,
          4825,
          5003,
          5168,
          5424,
          5726,
          5941,
          6072,
          6247,
          6407,
          6518,
          6565,
          6601,
          6626,
          6638,
          6658,
          6666,
          6683,
          6698,
          6739,
          6894,
          7117,
          7285,
          7370,
          7461,
          7503,
          7554,
          7574,
          7586,
          7591,
          7598,
          7606,
          7609,
          7611,
          7623,
          7648,
          7751,
          7854,
          7930,
          8007,
          8052,
          8130,
          8765,
          5855,
          6070,
          6246,
          6397,
          6603,
          6851,
          7167,
          7575,
          8095,
          8579,
          9060,
          9584,
          10001,
          10559,
          10980,
          11331,
          11601,
          11916,
          12156,
          12312,
          12388,
          12441,
          12464,
          12474,
          12478,
          12496,
          12506,
          12515,
          12529,
          12547,
          12574,
          12627,
          12659,
          12700,
          12749,
          12798,
          12834,
          12853,
          12891,
          12948,
          12994,
          13035,
          13104,
          13158,
          13226,
          13316,
          13448,
          13602,
          13848,
          14069,
          14275,
          14637,
          4547,
          4993,
          5336,
          5671,
          5980,
          6329,
          6680,
          7095,
          7596,
          8075,
          8603,
          9258,
          9830,
          10338,
          10774,
          11095,
          11349,
          11580,
          11744,
          11890,
          11958,
          12062,
          12099,
          12116,
          12132,
          12155,
          12173,
          12196,
          12231,
          12279,
          12325,
          12382,
          12457,
          12523,
          12587,
          12658,
          12721,
          12756,
          12783,
          12814,
          12837,
          12864,
          12892,
          12923,
          12979,
          13053,
          13222,
          13394,
          13574,
          13806,
          14122,
          14977,
          3905,
          4110,
          4299,
          4463,
          4655,
          4824,
          5026,
          5278,
          5558,
          5840,
          6171,
          6444,
          6752,
          7224,
          7673,
          8070,
          8446,
          8842,
          9124,
          9345,
          9448,
          9506,
          9531,
          9536,
          9544,
          9551,
          9572,
          9577,
          9586,
          9621,
          9650,
          9702,
          9768,
          9812,
          9865,
          9909,
          9956,
          9981,
          10010,
          10029,
          10048,
          10076,
          10112,
          10124,
          10148,
          10178,
          10265,
          10334,
          10498,
          10697,
          10950,
          11945,
          5341,
          5627,
          5907,
          6191,
          6448,
          6740,
          7036,
          7363,
          7675,
          8058,
          8512,
          8986,
          9410,
          9853,
          10216,
          10520,
          10840,
          11170,
          11390,
          11576,
          11648,
          11793,
          11851,
          11888,
          11915,
          11937,
          11956,
          11968,
          11982,
          11997,
          12027,
          12065,
          12129,
          12176,
          12237,
          12300,
          12359,
          12397,
          12438,
          12460,
          12491,
          12528,
          12563,
          12587,
          12622,
          12659,
          12714,
          12817,
          12976,
          13159,
          13316,
          13755,
          3303,
          3598,
          3825,
          3999,
          4142,
          4264,
          4442,
          4664,
          4918,
          5167,
          5514,
          6034,
          6492,
          7051,
          7598,
          8083,
          8579,
          9066,
          9378,
          9583,
          9671,
          9771,
          9813,
          9852,
          9872,
          9880,
          9889,
          9899,
          9917,
          9936,
          9954,
          9987,
          10043,
          10095,
          10154,
          10207,
          10248,
          10265,
          10296,
          10322,
          10350,
          10409,
          10480,
          10562,
          10647,
          10742,
          10873,
          11009,
          11211,
          11447,
          11635,
          12045,
          5103,
          5441,
          5751,
          6050,
          6279,
          6531,
          6755,
          6924,
          7077,
          7189,
          7347,
          7509,
          7734,
          8083,
          8481,
          8969,
          9486,
          10021,
          10427,
          10649,
          10785,
          10878,
          10963,
          11013,
          11054,
          11082,
          11095,
          11113,
          11141,
          11158,
          11185,
          11212,
          11252,
          11319,
          11403,
          11489,
          11534,
          11560,
          11587,
          11611,
          11659,
          11707,
          11731,
          11762,
          11792,
          11829,
          11867,
          11948,
          12033,
          12141,
          12313,
          12774,
          3421,
          3676,
          3907,
          4093,
          4276,
          4471,
          4767,
          5097,
          5545,
          5839,
          6232,
          6492,
          6871,
          7292,
          7727,
          8094,
          8473,
          8893,
          9301,
          9704,
          9953,
          10190,
          10332,
          10512,
          10624,
          10675,
          10691,
          10711,
          10729,
          10769,
          10792,
          10819,
          10843,
          10849,
          10868,
          10899,
          10918,
          10959,
          11011,
          11087,
          11148,
          11216,
          11304,
          11370,
          11434,
          11469,
          11517,
          11573,
          11654,
          11756,
          11891,
          12234,
          5900,
          6413,
          6789,
          7084,
          7331,
          7559,
          7791,
          8000,
          8206,
          8387,
          8600,
          8854,
          9099,
          9394,
          9675,
          9948,
          10255,
          10563,
          10824,
          11003,
          11059,
          11155,
          11196,
          11221,
          11239,
          11253,
          11266,
          11287,
          11316,
          11349,
          11384,
          11430,
          11496,
          11568,
          11651,
          11725,
          11779,
          11813,
          11842,
          11867,
          11896,
          11939,
          11984,
          12031,
          12096,
          12173,
          12309,
          12491,
          12719,
          13039,
          13436,
          14236,
          5338,
          5495,
          5643,
          5789,
          5924,
          6091,
          6303,
          6568,
          6847,
          7166,
          7511,
          7888,
          8295,
          8687,
          9085,
          9420,
          9768,
          10087,
          10321,
          10462,
          10524,
          10584,
          10613,
          10631,
          10645,
          10661,
          10679,
          10706,
          10750,
          10802,
          10875,
          10961,
          11048,
          11129,
          11215,
          11307,
          11381,
          11434,
          11489,
          11544,
          11592,
          11654,
          11720,
          11777,
          11840,
          11915,
          12051,
          12193,
          12403,
          12709,
          13082,
          13829,
          3469,
          3637,
          3775,
          3885,
          3993,
          4112,
          4265,
          4464,
          4696,
          4940,
          5270,
          5662,
          6111,
          6610,
          7035,
          7382,
          7717,
          8015,
          8263,
          8413,
          8513,
          8567,
          8591,
          8605,
          8615,
          8628,
          8640,
          8653,
          8663,
          8696,
          8726,
          8764,
          8803,
          8837,
          8894,
          8947,
          8975,
          8999,
          9038,
          9084,
          9141,
          9206,
          9266,
          9306,
          9351,
          9397,
          9471,
          9594,
          9729,
          9878,
          9994,
          10414,
          5081,
          5259,
          5437,
          5581,
          5726,
          5909,
          6095,
          6283,
          6487,
          6722,
          7043,
          7411,
          7849,
          8313,
          8767,
          9189,
          9539,
          9847,
          10050,
          10176,
          10247,
          10350,
          10380,
          10405,
          10414,
          10428,
          10444,
          10457,
          10475,
          10497,
          10530,
          10570,
          10617,
          10661,
          10706,
          10756,
          10808,
          10844,
          10885,
          10936,
          10972,
          11018,
          11093,
          11138,
          11196,
          11267,
          11375,
          11548,
          11701,
          12002,
          12211,
          12624,
          2419,
          2541,
          2635,
          2744,
          2867,
          2988,
          3133,
          3268,
          3472,
          3698,
          3965,
          4269,
          4587,
          4997,
          5374,
          5707,
          5984,
          6234,
          6382,
          6492,
          6567,
          6729,
          6893,
          7008,
          7091,
          7157,
          7177,
          7194,
          7220,
          7246,
          7301,
          7350,
          7393,
          7439,
          7484,
          7524,
          7543,
          7567,
          7578,
          7592,
          7604,
          7631,
          7671,
          7716,
          7777,
          7851,
          7933,
          8045,
          8225,
          8433,
          8754,
          9346,
          3393,
          3538,
          3680,
          3840,
          4132,
          4510,
          4974,
          5396,
          5785,
          6072,
          6362,
          6591,
          6762,
          6998,
          7241,
          7481,
          7733,
          7982,
          8173,
          8334,
          8420,
          8486,
          8528,
          8550,
          8565,
          8584,
          8594,
          8604,
          8621,
          8637,
          8727,
          8835,
          8909,
          8965,
          9006,
          9078,
          9167,
          9272,
          9365,
          9434,
          9508,
          9565,
          9638,
          9705,
          9771,
          9821,
          9900,
          9985,
          10085,
          10203,
          10321,
          10589,
          4701,
          4953,
          5166,
          5375,
          5609,
          5801,
          5964,
          6120,
          6293,
          6502,
          6765,
          7097,
          7525,
          8107,
          8749,
          9368,
          9881,
          10320,
          10583,
          10754,
          10854,
          10925,
          10955,
          10968,
          10977,
          10989,
          10997,
          11002,
          11013,
          11033,
          11056,
          11085,
          11112,
          11140,
          11170,
          11195,
          11221,
          11234,
          11246,
          11267,
          11301,
          11335,
          11364,
          11395,
          11429,
          11476,
          11575,
          11719,
          11972,
          12143,
          12307,
          12636,
          5540,
          5747,
          5941,
          6092,
          6216,
          6339,
          6473,
          6599,
          6768,
          6966,
          7182,
          7458,
          7759,
          8092,
          8424,
          8721,
          8990,
          9354,
          9588,
          9733,
          9813,
          9868,
          9914,
          9943,
          9961,
          9971,
          9978,
          9984,
          9993,
          10021,
          10077,
          10146,
          10223,
          10300,
          10388,
          10464,
          10534,
          10601,
          10687,
          10763,
          10842,
          10990,
          11168,
          11302,
          11439,
          11614,
          11890,
          12171,
          12513,
          12914,
          13258,
          13735,
          4856,
          5202,
          5447,
          5687,
          5926,
          6198,
          6473,
          6815,
          7097,
          7398,
          7754,
          8186,
          8570,
          8937,
          9337,
          9651,
          9957,
          10250,
          10505,
          10715,
          10781,
          10892,
          10927,
          10947,
          10961,
          10978,
          10992,
          11013,
          11039,
          11068,
          11101,
          11148,
          11206,
          11284,
          11361,
          11466,
          11547,
          11592,
          11627,
          11663,
          11697,
          11739,
          11791,
          11833,
          11871,
          11932,
          12027,
          12121,
          12239,
          12400,
          12615,
          13056,
          4821,
          5022,
          5212,
          5351,
          5474,
          5601,
          5745,
          5930,
          6172,
          6399,
          6689,
          7083,
          7590,
          8143,
          8622,
          9022,
          9414,
          9767,
          10079,
          10289,
          10387,
          10446,
          10482,
          10495,
          10509,
          10528,
          10540,
          10547,
          10561,
          10582,
          10609,
          10657,
          10714,
          10773,
          10831,
          10930,
          10991,
          11037,
          11093,
          11150,
          11200,
          11247,
          11303,
          11373,
          11478,
          11592,
          11760,
          11960,
          12188,
          12440,
          12659,
          13244,
          3461,
          3785,
          4032,
          4249,
          4431,
          4599,
          4780,
          4973,
          5190,
          5398,
          5643,
          5936,
          6271,
          6567,
          7043,
          7509,
          7982,
          8377,
          8681,
          8866,
          8958,
          9009,
          9042,
          9055,
          9065,
          9078,
          9091,
          9101,
          9112,
          9137,
          9160,
          9200,
          9245,
          9297,
          9356,
          9416,
          9463,
          9495,
          9517,
          9537,
          9568,
          9607,
          9650,
          9674,
          9698,
          9724,
          9773,
          9831,
          9924,
          10036,
          10131,
          10384
         ],
         "y0": " ",
         "yaxis": "y"
        },
        {
         "alignmentgroup": "True",
         "boxpoints": "all",
         "customdata": [
          [
           2022,
           1
          ],
          [
           2022,
           2
          ],
          [
           2022,
           3
          ],
          [
           2022,
           4
          ],
          [
           2022,
           5
          ],
          [
           2022,
           6
          ],
          [
           2022,
           7
          ],
          [
           2022,
           8
          ],
          [
           2022,
           9
          ],
          [
           2022,
           10
          ],
          [
           2022,
           11
          ],
          [
           2022,
           12
          ],
          [
           2022,
           13
          ],
          [
           2022,
           14
          ],
          [
           2022,
           15
          ],
          [
           2022,
           16
          ],
          [
           2022,
           17
          ],
          [
           2022,
           18
          ],
          [
           2022,
           19
          ],
          [
           2022,
           20
          ],
          [
           2022,
           21
          ],
          [
           2022,
           22
          ],
          [
           2022,
           23
          ],
          [
           2022,
           24
          ],
          [
           2022,
           25
          ],
          [
           2022,
           26
          ],
          [
           2022,
           27
          ],
          [
           2022,
           28
          ],
          [
           2022,
           29
          ],
          [
           2022,
           30
          ],
          [
           2022,
           31
          ],
          [
           2022,
           32
          ],
          [
           2022,
           33
          ],
          [
           2022,
           34
          ],
          [
           2022,
           35
          ],
          [
           2022,
           36
          ],
          [
           2022,
           37
          ],
          [
           2022,
           38
          ],
          [
           2022,
           39
          ],
          [
           2022,
           40
          ],
          [
           2022,
           41
          ],
          [
           2022,
           42
          ],
          [
           2022,
           1
          ],
          [
           2022,
           2
          ],
          [
           2022,
           3
          ],
          [
           2022,
           4
          ],
          [
           2022,
           5
          ],
          [
           2022,
           6
          ],
          [
           2022,
           7
          ],
          [
           2022,
           8
          ],
          [
           2022,
           9
          ],
          [
           2022,
           10
          ],
          [
           2022,
           11
          ],
          [
           2022,
           12
          ],
          [
           2022,
           13
          ],
          [
           2022,
           14
          ],
          [
           2022,
           15
          ],
          [
           2022,
           16
          ],
          [
           2022,
           17
          ],
          [
           2022,
           18
          ],
          [
           2022,
           19
          ],
          [
           2022,
           20
          ],
          [
           2022,
           21
          ],
          [
           2022,
           22
          ],
          [
           2022,
           23
          ],
          [
           2022,
           24
          ],
          [
           2022,
           25
          ],
          [
           2022,
           26
          ],
          [
           2022,
           27
          ],
          [
           2022,
           28
          ],
          [
           2022,
           29
          ],
          [
           2022,
           30
          ],
          [
           2022,
           31
          ],
          [
           2022,
           32
          ],
          [
           2022,
           33
          ],
          [
           2022,
           34
          ],
          [
           2022,
           35
          ],
          [
           2022,
           36
          ],
          [
           2022,
           37
          ],
          [
           2022,
           38
          ],
          [
           2022,
           39
          ],
          [
           2022,
           40
          ],
          [
           2022,
           41
          ],
          [
           2022,
           42
          ],
          [
           2022,
           1
          ],
          [
           2022,
           2
          ],
          [
           2022,
           3
          ],
          [
           2022,
           4
          ],
          [
           2022,
           5
          ],
          [
           2022,
           6
          ],
          [
           2022,
           7
          ],
          [
           2022,
           8
          ],
          [
           2022,
           9
          ],
          [
           2022,
           10
          ],
          [
           2022,
           11
          ],
          [
           2022,
           12
          ],
          [
           2022,
           13
          ],
          [
           2022,
           14
          ],
          [
           2022,
           15
          ],
          [
           2022,
           16
          ],
          [
           2022,
           17
          ],
          [
           2022,
           18
          ],
          [
           2022,
           19
          ],
          [
           2022,
           20
          ],
          [
           2022,
           21
          ],
          [
           2022,
           22
          ],
          [
           2022,
           23
          ],
          [
           2022,
           24
          ],
          [
           2022,
           25
          ],
          [
           2022,
           26
          ],
          [
           2022,
           27
          ],
          [
           2022,
           28
          ],
          [
           2022,
           29
          ],
          [
           2022,
           30
          ],
          [
           2022,
           31
          ],
          [
           2022,
           32
          ],
          [
           2022,
           33
          ],
          [
           2022,
           34
          ],
          [
           2022,
           35
          ],
          [
           2022,
           36
          ],
          [
           2022,
           37
          ],
          [
           2022,
           38
          ],
          [
           2022,
           39
          ],
          [
           2022,
           40
          ],
          [
           2022,
           41
          ],
          [
           2022,
           42
          ],
          [
           2022,
           1
          ],
          [
           2022,
           2
          ],
          [
           2022,
           3
          ],
          [
           2022,
           4
          ],
          [
           2022,
           5
          ],
          [
           2022,
           6
          ],
          [
           2022,
           7
          ],
          [
           2022,
           8
          ],
          [
           2022,
           9
          ],
          [
           2022,
           10
          ],
          [
           2022,
           11
          ],
          [
           2022,
           12
          ],
          [
           2022,
           13
          ],
          [
           2022,
           14
          ],
          [
           2022,
           15
          ],
          [
           2022,
           16
          ],
          [
           2022,
           17
          ],
          [
           2022,
           18
          ],
          [
           2022,
           19
          ],
          [
           2022,
           20
          ],
          [
           2022,
           21
          ],
          [
           2022,
           22
          ],
          [
           2022,
           23
          ],
          [
           2022,
           24
          ],
          [
           2022,
           25
          ],
          [
           2022,
           26
          ],
          [
           2022,
           27
          ],
          [
           2022,
           28
          ],
          [
           2022,
           29
          ],
          [
           2022,
           30
          ],
          [
           2022,
           31
          ],
          [
           2022,
           32
          ],
          [
           2022,
           33
          ],
          [
           2022,
           34
          ],
          [
           2022,
           35
          ],
          [
           2022,
           36
          ],
          [
           2022,
           37
          ],
          [
           2022,
           38
          ],
          [
           2022,
           39
          ],
          [
           2022,
           40
          ],
          [
           2022,
           41
          ],
          [
           2022,
           42
          ],
          [
           2022,
           1
          ],
          [
           2022,
           2
          ],
          [
           2022,
           3
          ],
          [
           2022,
           4
          ],
          [
           2022,
           5
          ],
          [
           2022,
           6
          ],
          [
           2022,
           7
          ],
          [
           2022,
           8
          ],
          [
           2022,
           9
          ],
          [
           2022,
           10
          ],
          [
           2022,
           11
          ],
          [
           2022,
           12
          ],
          [
           2022,
           13
          ],
          [
           2022,
           14
          ],
          [
           2022,
           15
          ],
          [
           2022,
           16
          ],
          [
           2022,
           17
          ],
          [
           2022,
           18
          ],
          [
           2022,
           19
          ],
          [
           2022,
           20
          ],
          [
           2022,
           21
          ],
          [
           2022,
           22
          ],
          [
           2022,
           23
          ],
          [
           2022,
           24
          ],
          [
           2022,
           25
          ],
          [
           2022,
           26
          ],
          [
           2022,
           27
          ],
          [
           2022,
           28
          ],
          [
           2022,
           29
          ],
          [
           2022,
           30
          ],
          [
           2022,
           31
          ],
          [
           2022,
           32
          ],
          [
           2022,
           33
          ],
          [
           2022,
           34
          ],
          [
           2022,
           35
          ],
          [
           2022,
           36
          ],
          [
           2022,
           37
          ],
          [
           2022,
           38
          ],
          [
           2022,
           39
          ],
          [
           2022,
           40
          ],
          [
           2022,
           41
          ],
          [
           2022,
           42
          ],
          [
           2022,
           1
          ],
          [
           2022,
           2
          ],
          [
           2022,
           3
          ],
          [
           2022,
           4
          ],
          [
           2022,
           5
          ],
          [
           2022,
           6
          ],
          [
           2022,
           7
          ],
          [
           2022,
           8
          ],
          [
           2022,
           9
          ],
          [
           2022,
           10
          ],
          [
           2022,
           11
          ],
          [
           2022,
           12
          ],
          [
           2022,
           13
          ],
          [
           2022,
           14
          ],
          [
           2022,
           15
          ],
          [
           2022,
           16
          ],
          [
           2022,
           17
          ],
          [
           2022,
           18
          ],
          [
           2022,
           19
          ],
          [
           2022,
           20
          ],
          [
           2022,
           21
          ],
          [
           2022,
           22
          ],
          [
           2022,
           23
          ],
          [
           2022,
           24
          ],
          [
           2022,
           25
          ],
          [
           2022,
           26
          ],
          [
           2022,
           27
          ],
          [
           2022,
           28
          ],
          [
           2022,
           29
          ],
          [
           2022,
           30
          ],
          [
           2022,
           31
          ],
          [
           2022,
           32
          ],
          [
           2022,
           33
          ],
          [
           2022,
           34
          ],
          [
           2022,
           35
          ],
          [
           2022,
           36
          ],
          [
           2022,
           37
          ],
          [
           2022,
           38
          ],
          [
           2022,
           39
          ],
          [
           2022,
           40
          ],
          [
           2022,
           41
          ],
          [
           2022,
           42
          ],
          [
           2022,
           1
          ],
          [
           2022,
           2
          ],
          [
           2022,
           3
          ],
          [
           2022,
           4
          ],
          [
           2022,
           5
          ],
          [
           2022,
           6
          ],
          [
           2022,
           7
          ],
          [
           2022,
           8
          ],
          [
           2022,
           9
          ],
          [
           2022,
           10
          ],
          [
           2022,
           11
          ],
          [
           2022,
           12
          ],
          [
           2022,
           13
          ],
          [
           2022,
           14
          ],
          [
           2022,
           15
          ],
          [
           2022,
           16
          ],
          [
           2022,
           17
          ],
          [
           2022,
           18
          ],
          [
           2022,
           19
          ],
          [
           2022,
           20
          ],
          [
           2022,
           21
          ],
          [
           2022,
           22
          ],
          [
           2022,
           23
          ],
          [
           2022,
           24
          ],
          [
           2022,
           25
          ],
          [
           2022,
           26
          ],
          [
           2022,
           27
          ],
          [
           2022,
           28
          ],
          [
           2022,
           29
          ],
          [
           2022,
           30
          ],
          [
           2022,
           31
          ],
          [
           2022,
           32
          ],
          [
           2022,
           33
          ],
          [
           2022,
           34
          ],
          [
           2022,
           35
          ],
          [
           2022,
           36
          ],
          [
           2022,
           37
          ],
          [
           2022,
           38
          ],
          [
           2022,
           39
          ],
          [
           2022,
           40
          ],
          [
           2022,
           41
          ],
          [
           2022,
           42
          ],
          [
           2022,
           1
          ],
          [
           2022,
           2
          ],
          [
           2022,
           3
          ],
          [
           2022,
           4
          ],
          [
           2022,
           5
          ],
          [
           2022,
           6
          ],
          [
           2022,
           7
          ],
          [
           2022,
           8
          ],
          [
           2022,
           9
          ],
          [
           2022,
           10
          ],
          [
           2022,
           11
          ],
          [
           2022,
           12
          ],
          [
           2022,
           13
          ],
          [
           2022,
           14
          ],
          [
           2022,
           15
          ],
          [
           2022,
           16
          ],
          [
           2022,
           17
          ],
          [
           2022,
           18
          ],
          [
           2022,
           19
          ],
          [
           2022,
           20
          ],
          [
           2022,
           21
          ],
          [
           2022,
           22
          ],
          [
           2022,
           23
          ],
          [
           2022,
           24
          ],
          [
           2022,
           25
          ],
          [
           2022,
           26
          ],
          [
           2022,
           27
          ],
          [
           2022,
           28
          ],
          [
           2022,
           29
          ],
          [
           2022,
           30
          ],
          [
           2022,
           31
          ],
          [
           2022,
           32
          ],
          [
           2022,
           33
          ],
          [
           2022,
           34
          ],
          [
           2022,
           35
          ],
          [
           2022,
           36
          ],
          [
           2022,
           37
          ],
          [
           2022,
           38
          ],
          [
           2022,
           39
          ],
          [
           2022,
           40
          ],
          [
           2022,
           41
          ],
          [
           2022,
           42
          ],
          [
           2022,
           1
          ],
          [
           2022,
           2
          ],
          [
           2022,
           3
          ],
          [
           2022,
           4
          ],
          [
           2022,
           5
          ],
          [
           2022,
           6
          ],
          [
           2022,
           7
          ],
          [
           2022,
           8
          ],
          [
           2022,
           9
          ],
          [
           2022,
           10
          ],
          [
           2022,
           11
          ],
          [
           2022,
           12
          ],
          [
           2022,
           13
          ],
          [
           2022,
           14
          ],
          [
           2022,
           15
          ],
          [
           2022,
           16
          ],
          [
           2022,
           17
          ],
          [
           2022,
           18
          ],
          [
           2022,
           19
          ],
          [
           2022,
           20
          ],
          [
           2022,
           21
          ],
          [
           2022,
           22
          ],
          [
           2022,
           23
          ],
          [
           2022,
           24
          ],
          [
           2022,
           25
          ],
          [
           2022,
           26
          ],
          [
           2022,
           27
          ],
          [
           2022,
           28
          ],
          [
           2022,
           29
          ],
          [
           2022,
           30
          ],
          [
           2022,
           31
          ],
          [
           2022,
           32
          ],
          [
           2022,
           33
          ],
          [
           2022,
           34
          ],
          [
           2022,
           35
          ],
          [
           2022,
           36
          ],
          [
           2022,
           37
          ],
          [
           2022,
           38
          ],
          [
           2022,
           39
          ],
          [
           2022,
           40
          ],
          [
           2022,
           41
          ],
          [
           2022,
           42
          ],
          [
           2022,
           1
          ],
          [
           2022,
           2
          ],
          [
           2022,
           3
          ],
          [
           2022,
           4
          ],
          [
           2022,
           5
          ],
          [
           2022,
           6
          ],
          [
           2022,
           7
          ],
          [
           2022,
           8
          ],
          [
           2022,
           9
          ],
          [
           2022,
           10
          ],
          [
           2022,
           11
          ],
          [
           2022,
           12
          ],
          [
           2022,
           13
          ],
          [
           2022,
           14
          ],
          [
           2022,
           15
          ],
          [
           2022,
           16
          ],
          [
           2022,
           17
          ],
          [
           2022,
           18
          ],
          [
           2022,
           19
          ],
          [
           2022,
           20
          ],
          [
           2022,
           21
          ],
          [
           2022,
           22
          ],
          [
           2022,
           23
          ],
          [
           2022,
           24
          ],
          [
           2022,
           25
          ],
          [
           2022,
           26
          ],
          [
           2022,
           27
          ],
          [
           2022,
           28
          ],
          [
           2022,
           29
          ],
          [
           2022,
           30
          ],
          [
           2022,
           31
          ],
          [
           2022,
           32
          ],
          [
           2022,
           33
          ],
          [
           2022,
           34
          ],
          [
           2022,
           35
          ],
          [
           2022,
           36
          ],
          [
           2022,
           37
          ],
          [
           2022,
           38
          ],
          [
           2022,
           39
          ],
          [
           2022,
           40
          ],
          [
           2022,
           41
          ],
          [
           2022,
           42
          ],
          [
           2022,
           1
          ],
          [
           2022,
           2
          ],
          [
           2022,
           3
          ],
          [
           2022,
           4
          ],
          [
           2022,
           5
          ],
          [
           2022,
           6
          ],
          [
           2022,
           7
          ],
          [
           2022,
           8
          ],
          [
           2022,
           9
          ],
          [
           2022,
           10
          ],
          [
           2022,
           11
          ],
          [
           2022,
           12
          ],
          [
           2022,
           13
          ],
          [
           2022,
           14
          ],
          [
           2022,
           15
          ],
          [
           2022,
           16
          ],
          [
           2022,
           17
          ],
          [
           2022,
           18
          ],
          [
           2022,
           19
          ],
          [
           2022,
           20
          ],
          [
           2022,
           21
          ],
          [
           2022,
           22
          ],
          [
           2022,
           23
          ],
          [
           2022,
           24
          ],
          [
           2022,
           25
          ],
          [
           2022,
           26
          ],
          [
           2022,
           27
          ],
          [
           2022,
           28
          ],
          [
           2022,
           29
          ],
          [
           2022,
           30
          ],
          [
           2022,
           31
          ],
          [
           2022,
           32
          ],
          [
           2022,
           33
          ],
          [
           2022,
           34
          ],
          [
           2022,
           35
          ],
          [
           2022,
           36
          ],
          [
           2022,
           37
          ],
          [
           2022,
           38
          ],
          [
           2022,
           39
          ],
          [
           2022,
           40
          ],
          [
           2022,
           41
          ],
          [
           2022,
           42
          ],
          [
           2022,
           1
          ],
          [
           2022,
           2
          ],
          [
           2022,
           3
          ],
          [
           2022,
           4
          ],
          [
           2022,
           5
          ],
          [
           2022,
           6
          ],
          [
           2022,
           7
          ],
          [
           2022,
           8
          ],
          [
           2022,
           9
          ],
          [
           2022,
           10
          ],
          [
           2022,
           11
          ],
          [
           2022,
           12
          ],
          [
           2022,
           13
          ],
          [
           2022,
           14
          ],
          [
           2022,
           15
          ],
          [
           2022,
           16
          ],
          [
           2022,
           17
          ],
          [
           2022,
           18
          ],
          [
           2022,
           19
          ],
          [
           2022,
           20
          ],
          [
           2022,
           21
          ],
          [
           2022,
           22
          ],
          [
           2022,
           23
          ],
          [
           2022,
           24
          ],
          [
           2022,
           25
          ],
          [
           2022,
           26
          ],
          [
           2022,
           27
          ],
          [
           2022,
           28
          ],
          [
           2022,
           29
          ],
          [
           2022,
           30
          ],
          [
           2022,
           31
          ],
          [
           2022,
           32
          ],
          [
           2022,
           33
          ],
          [
           2022,
           34
          ],
          [
           2022,
           35
          ],
          [
           2022,
           36
          ],
          [
           2022,
           37
          ],
          [
           2022,
           38
          ],
          [
           2022,
           39
          ],
          [
           2022,
           40
          ],
          [
           2022,
           41
          ],
          [
           2022,
           42
          ],
          [
           2022,
           1
          ],
          [
           2022,
           2
          ],
          [
           2022,
           3
          ],
          [
           2022,
           4
          ],
          [
           2022,
           5
          ],
          [
           2022,
           6
          ],
          [
           2022,
           7
          ],
          [
           2022,
           8
          ],
          [
           2022,
           9
          ],
          [
           2022,
           10
          ],
          [
           2022,
           11
          ],
          [
           2022,
           12
          ],
          [
           2022,
           13
          ],
          [
           2022,
           14
          ],
          [
           2022,
           15
          ],
          [
           2022,
           16
          ],
          [
           2022,
           17
          ],
          [
           2022,
           18
          ],
          [
           2022,
           19
          ],
          [
           2022,
           20
          ],
          [
           2022,
           21
          ],
          [
           2022,
           22
          ],
          [
           2022,
           23
          ],
          [
           2022,
           24
          ],
          [
           2022,
           25
          ],
          [
           2022,
           26
          ],
          [
           2022,
           27
          ],
          [
           2022,
           28
          ],
          [
           2022,
           29
          ],
          [
           2022,
           30
          ],
          [
           2022,
           31
          ],
          [
           2022,
           32
          ],
          [
           2022,
           33
          ],
          [
           2022,
           34
          ],
          [
           2022,
           35
          ],
          [
           2022,
           36
          ],
          [
           2022,
           37
          ],
          [
           2022,
           38
          ],
          [
           2022,
           39
          ],
          [
           2022,
           40
          ],
          [
           2022,
           41
          ],
          [
           2022,
           42
          ],
          [
           2022,
           1
          ],
          [
           2022,
           2
          ],
          [
           2022,
           3
          ],
          [
           2022,
           4
          ],
          [
           2022,
           5
          ],
          [
           2022,
           6
          ],
          [
           2022,
           7
          ],
          [
           2022,
           8
          ],
          [
           2022,
           9
          ],
          [
           2022,
           10
          ],
          [
           2022,
           11
          ],
          [
           2022,
           12
          ],
          [
           2022,
           13
          ],
          [
           2022,
           14
          ],
          [
           2022,
           15
          ],
          [
           2022,
           16
          ],
          [
           2022,
           17
          ],
          [
           2022,
           18
          ],
          [
           2022,
           19
          ],
          [
           2022,
           20
          ],
          [
           2022,
           21
          ],
          [
           2022,
           22
          ],
          [
           2022,
           23
          ],
          [
           2022,
           24
          ],
          [
           2022,
           25
          ],
          [
           2022,
           26
          ],
          [
           2022,
           27
          ],
          [
           2022,
           28
          ],
          [
           2022,
           29
          ],
          [
           2022,
           30
          ],
          [
           2022,
           31
          ],
          [
           2022,
           32
          ],
          [
           2022,
           33
          ],
          [
           2022,
           34
          ],
          [
           2022,
           35
          ],
          [
           2022,
           36
          ],
          [
           2022,
           37
          ],
          [
           2022,
           38
          ],
          [
           2022,
           39
          ],
          [
           2022,
           40
          ],
          [
           2022,
           41
          ],
          [
           2022,
           42
          ],
          [
           2022,
           1
          ],
          [
           2022,
           2
          ],
          [
           2022,
           3
          ],
          [
           2022,
           4
          ],
          [
           2022,
           5
          ],
          [
           2022,
           6
          ],
          [
           2022,
           7
          ],
          [
           2022,
           8
          ],
          [
           2022,
           9
          ],
          [
           2022,
           10
          ],
          [
           2022,
           11
          ],
          [
           2022,
           12
          ],
          [
           2022,
           13
          ],
          [
           2022,
           14
          ],
          [
           2022,
           15
          ],
          [
           2022,
           16
          ],
          [
           2022,
           17
          ],
          [
           2022,
           18
          ],
          [
           2022,
           19
          ],
          [
           2022,
           20
          ],
          [
           2022,
           21
          ],
          [
           2022,
           22
          ],
          [
           2022,
           23
          ],
          [
           2022,
           24
          ],
          [
           2022,
           25
          ],
          [
           2022,
           26
          ],
          [
           2022,
           27
          ],
          [
           2022,
           28
          ],
          [
           2022,
           29
          ],
          [
           2022,
           30
          ],
          [
           2022,
           31
          ],
          [
           2022,
           32
          ],
          [
           2022,
           33
          ],
          [
           2022,
           34
          ],
          [
           2022,
           35
          ],
          [
           2022,
           36
          ],
          [
           2022,
           37
          ],
          [
           2022,
           38
          ],
          [
           2022,
           39
          ],
          [
           2022,
           40
          ],
          [
           2022,
           41
          ],
          [
           2022,
           42
          ],
          [
           2022,
           1
          ],
          [
           2022,
           2
          ],
          [
           2022,
           3
          ],
          [
           2022,
           4
          ],
          [
           2022,
           5
          ],
          [
           2022,
           6
          ],
          [
           2022,
           7
          ],
          [
           2022,
           8
          ],
          [
           2022,
           9
          ],
          [
           2022,
           10
          ],
          [
           2022,
           11
          ],
          [
           2022,
           12
          ],
          [
           2022,
           13
          ],
          [
           2022,
           14
          ],
          [
           2022,
           15
          ],
          [
           2022,
           16
          ],
          [
           2022,
           17
          ],
          [
           2022,
           18
          ],
          [
           2022,
           19
          ],
          [
           2022,
           20
          ],
          [
           2022,
           21
          ],
          [
           2022,
           22
          ],
          [
           2022,
           23
          ],
          [
           2022,
           24
          ],
          [
           2022,
           25
          ],
          [
           2022,
           26
          ],
          [
           2022,
           27
          ],
          [
           2022,
           28
          ],
          [
           2022,
           29
          ],
          [
           2022,
           30
          ],
          [
           2022,
           31
          ],
          [
           2022,
           32
          ],
          [
           2022,
           33
          ],
          [
           2022,
           34
          ],
          [
           2022,
           35
          ],
          [
           2022,
           36
          ],
          [
           2022,
           37
          ],
          [
           2022,
           38
          ],
          [
           2022,
           39
          ],
          [
           2022,
           40
          ],
          [
           2022,
           41
          ],
          [
           2022,
           42
          ],
          [
           2022,
           1
          ],
          [
           2022,
           2
          ],
          [
           2022,
           3
          ],
          [
           2022,
           4
          ],
          [
           2022,
           5
          ],
          [
           2022,
           6
          ],
          [
           2022,
           7
          ],
          [
           2022,
           8
          ],
          [
           2022,
           9
          ],
          [
           2022,
           10
          ],
          [
           2022,
           11
          ],
          [
           2022,
           12
          ],
          [
           2022,
           13
          ],
          [
           2022,
           14
          ],
          [
           2022,
           15
          ],
          [
           2022,
           16
          ],
          [
           2022,
           17
          ],
          [
           2022,
           18
          ],
          [
           2022,
           19
          ],
          [
           2022,
           20
          ],
          [
           2022,
           21
          ],
          [
           2022,
           22
          ],
          [
           2022,
           23
          ],
          [
           2022,
           24
          ],
          [
           2022,
           25
          ],
          [
           2022,
           26
          ],
          [
           2022,
           27
          ],
          [
           2022,
           28
          ],
          [
           2022,
           29
          ],
          [
           2022,
           30
          ],
          [
           2022,
           31
          ],
          [
           2022,
           32
          ],
          [
           2022,
           33
          ],
          [
           2022,
           34
          ],
          [
           2022,
           35
          ],
          [
           2022,
           36
          ],
          [
           2022,
           37
          ],
          [
           2022,
           38
          ],
          [
           2022,
           39
          ],
          [
           2022,
           40
          ],
          [
           2022,
           41
          ],
          [
           2022,
           42
          ],
          [
           2022,
           1
          ],
          [
           2022,
           2
          ],
          [
           2022,
           3
          ],
          [
           2022,
           4
          ],
          [
           2022,
           5
          ],
          [
           2022,
           6
          ],
          [
           2022,
           7
          ],
          [
           2022,
           8
          ],
          [
           2022,
           9
          ],
          [
           2022,
           10
          ],
          [
           2022,
           11
          ],
          [
           2022,
           12
          ],
          [
           2022,
           13
          ],
          [
           2022,
           14
          ],
          [
           2022,
           15
          ],
          [
           2022,
           16
          ],
          [
           2022,
           17
          ],
          [
           2022,
           18
          ],
          [
           2022,
           19
          ],
          [
           2022,
           20
          ],
          [
           2022,
           21
          ],
          [
           2022,
           22
          ],
          [
           2022,
           23
          ],
          [
           2022,
           24
          ],
          [
           2022,
           25
          ],
          [
           2022,
           26
          ],
          [
           2022,
           27
          ],
          [
           2022,
           28
          ],
          [
           2022,
           29
          ],
          [
           2022,
           30
          ],
          [
           2022,
           31
          ],
          [
           2022,
           32
          ],
          [
           2022,
           33
          ],
          [
           2022,
           34
          ],
          [
           2022,
           35
          ],
          [
           2022,
           36
          ],
          [
           2022,
           37
          ],
          [
           2022,
           38
          ],
          [
           2022,
           39
          ],
          [
           2022,
           40
          ],
          [
           2022,
           41
          ],
          [
           2022,
           42
          ],
          [
           2022,
           1
          ],
          [
           2022,
           2
          ],
          [
           2022,
           3
          ],
          [
           2022,
           4
          ],
          [
           2022,
           5
          ],
          [
           2022,
           6
          ],
          [
           2022,
           7
          ],
          [
           2022,
           8
          ],
          [
           2022,
           9
          ],
          [
           2022,
           10
          ],
          [
           2022,
           11
          ],
          [
           2022,
           12
          ],
          [
           2022,
           13
          ],
          [
           2022,
           14
          ],
          [
           2022,
           15
          ],
          [
           2022,
           16
          ],
          [
           2022,
           17
          ],
          [
           2022,
           18
          ],
          [
           2022,
           19
          ],
          [
           2022,
           20
          ],
          [
           2022,
           21
          ],
          [
           2022,
           22
          ],
          [
           2022,
           23
          ],
          [
           2022,
           24
          ],
          [
           2022,
           25
          ],
          [
           2022,
           26
          ],
          [
           2022,
           27
          ],
          [
           2022,
           28
          ],
          [
           2022,
           29
          ],
          [
           2022,
           30
          ],
          [
           2022,
           31
          ],
          [
           2022,
           32
          ],
          [
           2022,
           33
          ],
          [
           2022,
           34
          ],
          [
           2022,
           35
          ],
          [
           2022,
           36
          ],
          [
           2022,
           37
          ],
          [
           2022,
           38
          ],
          [
           2022,
           39
          ],
          [
           2022,
           40
          ],
          [
           2022,
           41
          ],
          [
           2022,
           42
          ],
          [
           2022,
           1
          ],
          [
           2022,
           2
          ],
          [
           2022,
           3
          ],
          [
           2022,
           4
          ],
          [
           2022,
           5
          ],
          [
           2022,
           6
          ],
          [
           2022,
           7
          ],
          [
           2022,
           8
          ],
          [
           2022,
           9
          ],
          [
           2022,
           10
          ],
          [
           2022,
           11
          ],
          [
           2022,
           12
          ],
          [
           2022,
           13
          ],
          [
           2022,
           14
          ],
          [
           2022,
           15
          ],
          [
           2022,
           16
          ],
          [
           2022,
           17
          ],
          [
           2022,
           18
          ],
          [
           2022,
           19
          ],
          [
           2022,
           20
          ],
          [
           2022,
           21
          ],
          [
           2022,
           22
          ],
          [
           2022,
           23
          ],
          [
           2022,
           24
          ],
          [
           2022,
           25
          ],
          [
           2022,
           26
          ],
          [
           2022,
           27
          ],
          [
           2022,
           28
          ],
          [
           2022,
           29
          ],
          [
           2022,
           30
          ],
          [
           2022,
           31
          ],
          [
           2022,
           32
          ],
          [
           2022,
           33
          ],
          [
           2022,
           34
          ],
          [
           2022,
           35
          ],
          [
           2022,
           36
          ],
          [
           2022,
           37
          ],
          [
           2022,
           38
          ],
          [
           2022,
           39
          ],
          [
           2022,
           40
          ],
          [
           2022,
           41
          ],
          [
           2022,
           42
          ],
          [
           2022,
           1
          ],
          [
           2022,
           2
          ],
          [
           2022,
           3
          ],
          [
           2022,
           4
          ],
          [
           2022,
           5
          ],
          [
           2022,
           6
          ],
          [
           2022,
           7
          ],
          [
           2022,
           8
          ],
          [
           2022,
           9
          ],
          [
           2022,
           10
          ],
          [
           2022,
           11
          ],
          [
           2022,
           12
          ],
          [
           2022,
           13
          ],
          [
           2022,
           14
          ],
          [
           2022,
           15
          ],
          [
           2022,
           16
          ],
          [
           2022,
           17
          ],
          [
           2022,
           18
          ],
          [
           2022,
           19
          ],
          [
           2022,
           20
          ],
          [
           2022,
           21
          ],
          [
           2022,
           22
          ],
          [
           2022,
           23
          ],
          [
           2022,
           24
          ],
          [
           2022,
           25
          ],
          [
           2022,
           26
          ],
          [
           2022,
           27
          ],
          [
           2022,
           28
          ],
          [
           2022,
           29
          ],
          [
           2022,
           30
          ],
          [
           2022,
           31
          ],
          [
           2022,
           32
          ],
          [
           2022,
           33
          ],
          [
           2022,
           34
          ],
          [
           2022,
           35
          ],
          [
           2022,
           36
          ],
          [
           2022,
           37
          ],
          [
           2022,
           38
          ],
          [
           2022,
           39
          ],
          [
           2022,
           40
          ],
          [
           2022,
           41
          ],
          [
           2022,
           42
          ]
         ],
         "fillcolor": "rgba(255,255,255,0)",
         "hoveron": "points",
         "hovertemplate": "Year=%{customdata[0]}<br>County=%{x}<br>Cumulative number of cases=%{y}<br>Week=%{customdata[1]}<extra></extra>",
         "legendgroup": "2022",
         "line": {
          "color": "rgba(255,255,255,0)"
         },
         "marker": {
          "color": "#00cc96"
         },
         "name": "2022",
         "offsetgroup": "2022",
         "orientation": "v",
         "pointpos": 0,
         "showlegend": true,
         "type": "box",
         "x": [
          "Blekinge",
          "Blekinge",
          "Blekinge",
          "Blekinge",
          "Blekinge",
          "Blekinge",
          "Blekinge",
          "Blekinge",
          "Blekinge",
          "Blekinge",
          "Blekinge",
          "Blekinge",
          "Blekinge",
          "Blekinge",
          "Blekinge",
          "Blekinge",
          "Blekinge",
          "Blekinge",
          "Blekinge",
          "Blekinge",
          "Blekinge",
          "Blekinge",
          "Blekinge",
          "Blekinge",
          "Blekinge",
          "Blekinge",
          "Blekinge",
          "Blekinge",
          "Blekinge",
          "Blekinge",
          "Blekinge",
          "Blekinge",
          "Blekinge",
          "Blekinge",
          "Blekinge",
          "Blekinge",
          "Blekinge",
          "Blekinge",
          "Blekinge",
          "Blekinge",
          "Blekinge",
          "Blekinge",
          "Dalarna",
          "Dalarna",
          "Dalarna",
          "Dalarna",
          "Dalarna",
          "Dalarna",
          "Dalarna",
          "Dalarna",
          "Dalarna",
          "Dalarna",
          "Dalarna",
          "Dalarna",
          "Dalarna",
          "Dalarna",
          "Dalarna",
          "Dalarna",
          "Dalarna",
          "Dalarna",
          "Dalarna",
          "Dalarna",
          "Dalarna",
          "Dalarna",
          "Dalarna",
          "Dalarna",
          "Dalarna",
          "Dalarna",
          "Dalarna",
          "Dalarna",
          "Dalarna",
          "Dalarna",
          "Dalarna",
          "Dalarna",
          "Dalarna",
          "Dalarna",
          "Dalarna",
          "Dalarna",
          "Dalarna",
          "Dalarna",
          "Dalarna",
          "Dalarna",
          "Dalarna",
          "Dalarna",
          "Gotland",
          "Gotland",
          "Gotland",
          "Gotland",
          "Gotland",
          "Gotland",
          "Gotland",
          "Gotland",
          "Gotland",
          "Gotland",
          "Gotland",
          "Gotland",
          "Gotland",
          "Gotland",
          "Gotland",
          "Gotland",
          "Gotland",
          "Gotland",
          "Gotland",
          "Gotland",
          "Gotland",
          "Gotland",
          "Gotland",
          "Gotland",
          "Gotland",
          "Gotland",
          "Gotland",
          "Gotland",
          "Gotland",
          "Gotland",
          "Gotland",
          "Gotland",
          "Gotland",
          "Gotland",
          "Gotland",
          "Gotland",
          "Gotland",
          "Gotland",
          "Gotland",
          "Gotland",
          "Gotland",
          "Gotland",
          "Gävleborg",
          "Gävleborg",
          "Gävleborg",
          "Gävleborg",
          "Gävleborg",
          "Gävleborg",
          "Gävleborg",
          "Gävleborg",
          "Gävleborg",
          "Gävleborg",
          "Gävleborg",
          "Gävleborg",
          "Gävleborg",
          "Gävleborg",
          "Gävleborg",
          "Gävleborg",
          "Gävleborg",
          "Gävleborg",
          "Gävleborg",
          "Gävleborg",
          "Gävleborg",
          "Gävleborg",
          "Gävleborg",
          "Gävleborg",
          "Gävleborg",
          "Gävleborg",
          "Gävleborg",
          "Gävleborg",
          "Gävleborg",
          "Gävleborg",
          "Gävleborg",
          "Gävleborg",
          "Gävleborg",
          "Gävleborg",
          "Gävleborg",
          "Gävleborg",
          "Gävleborg",
          "Gävleborg",
          "Gävleborg",
          "Gävleborg",
          "Gävleborg",
          "Gävleborg",
          "Halland",
          "Halland",
          "Halland",
          "Halland",
          "Halland",
          "Halland",
          "Halland",
          "Halland",
          "Halland",
          "Halland",
          "Halland",
          "Halland",
          "Halland",
          "Halland",
          "Halland",
          "Halland",
          "Halland",
          "Halland",
          "Halland",
          "Halland",
          "Halland",
          "Halland",
          "Halland",
          "Halland",
          "Halland",
          "Halland",
          "Halland",
          "Halland",
          "Halland",
          "Halland",
          "Halland",
          "Halland",
          "Halland",
          "Halland",
          "Halland",
          "Halland",
          "Halland",
          "Halland",
          "Halland",
          "Halland",
          "Halland",
          "Halland",
          "Jämtland Härjedalen",
          "Jämtland Härjedalen",
          "Jämtland Härjedalen",
          "Jämtland Härjedalen",
          "Jämtland Härjedalen",
          "Jämtland Härjedalen",
          "Jämtland Härjedalen",
          "Jämtland Härjedalen",
          "Jämtland Härjedalen",
          "Jämtland Härjedalen",
          "Jämtland Härjedalen",
          "Jämtland Härjedalen",
          "Jämtland Härjedalen",
          "Jämtland Härjedalen",
          "Jämtland Härjedalen",
          "Jämtland Härjedalen",
          "Jämtland Härjedalen",
          "Jämtland Härjedalen",
          "Jämtland Härjedalen",
          "Jämtland Härjedalen",
          "Jämtland Härjedalen",
          "Jämtland Härjedalen",
          "Jämtland Härjedalen",
          "Jämtland Härjedalen",
          "Jämtland Härjedalen",
          "Jämtland Härjedalen",
          "Jämtland Härjedalen",
          "Jämtland Härjedalen",
          "Jämtland Härjedalen",
          "Jämtland Härjedalen",
          "Jämtland Härjedalen",
          "Jämtland Härjedalen",
          "Jämtland Härjedalen",
          "Jämtland Härjedalen",
          "Jämtland Härjedalen",
          "Jämtland Härjedalen",
          "Jämtland Härjedalen",
          "Jämtland Härjedalen",
          "Jämtland Härjedalen",
          "Jämtland Härjedalen",
          "Jämtland Härjedalen",
          "Jämtland Härjedalen",
          "Jönköping",
          "Jönköping",
          "Jönköping",
          "Jönköping",
          "Jönköping",
          "Jönköping",
          "Jönköping",
          "Jönköping",
          "Jönköping",
          "Jönköping",
          "Jönköping",
          "Jönköping",
          "Jönköping",
          "Jönköping",
          "Jönköping",
          "Jönköping",
          "Jönköping",
          "Jönköping",
          "Jönköping",
          "Jönköping",
          "Jönköping",
          "Jönköping",
          "Jönköping",
          "Jönköping",
          "Jönköping",
          "Jönköping",
          "Jönköping",
          "Jönköping",
          "Jönköping",
          "Jönköping",
          "Jönköping",
          "Jönköping",
          "Jönköping",
          "Jönköping",
          "Jönköping",
          "Jönköping",
          "Jönköping",
          "Jönköping",
          "Jönköping",
          "Jönköping",
          "Jönköping",
          "Jönköping",
          "Kalmar",
          "Kalmar",
          "Kalmar",
          "Kalmar",
          "Kalmar",
          "Kalmar",
          "Kalmar",
          "Kalmar",
          "Kalmar",
          "Kalmar",
          "Kalmar",
          "Kalmar",
          "Kalmar",
          "Kalmar",
          "Kalmar",
          "Kalmar",
          "Kalmar",
          "Kalmar",
          "Kalmar",
          "Kalmar",
          "Kalmar",
          "Kalmar",
          "Kalmar",
          "Kalmar",
          "Kalmar",
          "Kalmar",
          "Kalmar",
          "Kalmar",
          "Kalmar",
          "Kalmar",
          "Kalmar",
          "Kalmar",
          "Kalmar",
          "Kalmar",
          "Kalmar",
          "Kalmar",
          "Kalmar",
          "Kalmar",
          "Kalmar",
          "Kalmar",
          "Kalmar",
          "Kalmar",
          "Kronoberg",
          "Kronoberg",
          "Kronoberg",
          "Kronoberg",
          "Kronoberg",
          "Kronoberg",
          "Kronoberg",
          "Kronoberg",
          "Kronoberg",
          "Kronoberg",
          "Kronoberg",
          "Kronoberg",
          "Kronoberg",
          "Kronoberg",
          "Kronoberg",
          "Kronoberg",
          "Kronoberg",
          "Kronoberg",
          "Kronoberg",
          "Kronoberg",
          "Kronoberg",
          "Kronoberg",
          "Kronoberg",
          "Kronoberg",
          "Kronoberg",
          "Kronoberg",
          "Kronoberg",
          "Kronoberg",
          "Kronoberg",
          "Kronoberg",
          "Kronoberg",
          "Kronoberg",
          "Kronoberg",
          "Kronoberg",
          "Kronoberg",
          "Kronoberg",
          "Kronoberg",
          "Kronoberg",
          "Kronoberg",
          "Kronoberg",
          "Kronoberg",
          "Kronoberg",
          "Norrbotten",
          "Norrbotten",
          "Norrbotten",
          "Norrbotten",
          "Norrbotten",
          "Norrbotten",
          "Norrbotten",
          "Norrbotten",
          "Norrbotten",
          "Norrbotten",
          "Norrbotten",
          "Norrbotten",
          "Norrbotten",
          "Norrbotten",
          "Norrbotten",
          "Norrbotten",
          "Norrbotten",
          "Norrbotten",
          "Norrbotten",
          "Norrbotten",
          "Norrbotten",
          "Norrbotten",
          "Norrbotten",
          "Norrbotten",
          "Norrbotten",
          "Norrbotten",
          "Norrbotten",
          "Norrbotten",
          "Norrbotten",
          "Norrbotten",
          "Norrbotten",
          "Norrbotten",
          "Norrbotten",
          "Norrbotten",
          "Norrbotten",
          "Norrbotten",
          "Norrbotten",
          "Norrbotten",
          "Norrbotten",
          "Norrbotten",
          "Norrbotten",
          "Norrbotten",
          "Skåne",
          "Skåne",
          "Skåne",
          "Skåne",
          "Skåne",
          "Skåne",
          "Skåne",
          "Skåne",
          "Skåne",
          "Skåne",
          "Skåne",
          "Skåne",
          "Skåne",
          "Skåne",
          "Skåne",
          "Skåne",
          "Skåne",
          "Skåne",
          "Skåne",
          "Skåne",
          "Skåne",
          "Skåne",
          "Skåne",
          "Skåne",
          "Skåne",
          "Skåne",
          "Skåne",
          "Skåne",
          "Skåne",
          "Skåne",
          "Skåne",
          "Skåne",
          "Skåne",
          "Skåne",
          "Skåne",
          "Skåne",
          "Skåne",
          "Skåne",
          "Skåne",
          "Skåne",
          "Skåne",
          "Skåne",
          "Stockholm",
          "Stockholm",
          "Stockholm",
          "Stockholm",
          "Stockholm",
          "Stockholm",
          "Stockholm",
          "Stockholm",
          "Stockholm",
          "Stockholm",
          "Stockholm",
          "Stockholm",
          "Stockholm",
          "Stockholm",
          "Stockholm",
          "Stockholm",
          "Stockholm",
          "Stockholm",
          "Stockholm",
          "Stockholm",
          "Stockholm",
          "Stockholm",
          "Stockholm",
          "Stockholm",
          "Stockholm",
          "Stockholm",
          "Stockholm",
          "Stockholm",
          "Stockholm",
          "Stockholm",
          "Stockholm",
          "Stockholm",
          "Stockholm",
          "Stockholm",
          "Stockholm",
          "Stockholm",
          "Stockholm",
          "Stockholm",
          "Stockholm",
          "Stockholm",
          "Stockholm",
          "Stockholm",
          "Sörmland",
          "Sörmland",
          "Sörmland",
          "Sörmland",
          "Sörmland",
          "Sörmland",
          "Sörmland",
          "Sörmland",
          "Sörmland",
          "Sörmland",
          "Sörmland",
          "Sörmland",
          "Sörmland",
          "Sörmland",
          "Sörmland",
          "Sörmland",
          "Sörmland",
          "Sörmland",
          "Sörmland",
          "Sörmland",
          "Sörmland",
          "Sörmland",
          "Sörmland",
          "Sörmland",
          "Sörmland",
          "Sörmland",
          "Sörmland",
          "Sörmland",
          "Sörmland",
          "Sörmland",
          "Sörmland",
          "Sörmland",
          "Sörmland",
          "Sörmland",
          "Sörmland",
          "Sörmland",
          "Sörmland",
          "Sörmland",
          "Sörmland",
          "Sörmland",
          "Sörmland",
          "Sörmland",
          "Uppsala",
          "Uppsala",
          "Uppsala",
          "Uppsala",
          "Uppsala",
          "Uppsala",
          "Uppsala",
          "Uppsala",
          "Uppsala",
          "Uppsala",
          "Uppsala",
          "Uppsala",
          "Uppsala",
          "Uppsala",
          "Uppsala",
          "Uppsala",
          "Uppsala",
          "Uppsala",
          "Uppsala",
          "Uppsala",
          "Uppsala",
          "Uppsala",
          "Uppsala",
          "Uppsala",
          "Uppsala",
          "Uppsala",
          "Uppsala",
          "Uppsala",
          "Uppsala",
          "Uppsala",
          "Uppsala",
          "Uppsala",
          "Uppsala",
          "Uppsala",
          "Uppsala",
          "Uppsala",
          "Uppsala",
          "Uppsala",
          "Uppsala",
          "Uppsala",
          "Uppsala",
          "Uppsala",
          "Värmland",
          "Värmland",
          "Värmland",
          "Värmland",
          "Värmland",
          "Värmland",
          "Värmland",
          "Värmland",
          "Värmland",
          "Värmland",
          "Värmland",
          "Värmland",
          "Värmland",
          "Värmland",
          "Värmland",
          "Värmland",
          "Värmland",
          "Värmland",
          "Värmland",
          "Värmland",
          "Värmland",
          "Värmland",
          "Värmland",
          "Värmland",
          "Värmland",
          "Värmland",
          "Värmland",
          "Värmland",
          "Värmland",
          "Värmland",
          "Värmland",
          "Värmland",
          "Värmland",
          "Värmland",
          "Värmland",
          "Värmland",
          "Värmland",
          "Värmland",
          "Värmland",
          "Värmland",
          "Värmland",
          "Värmland",
          "Västerbotten",
          "Västerbotten",
          "Västerbotten",
          "Västerbotten",
          "Västerbotten",
          "Västerbotten",
          "Västerbotten",
          "Västerbotten",
          "Västerbotten",
          "Västerbotten",
          "Västerbotten",
          "Västerbotten",
          "Västerbotten",
          "Västerbotten",
          "Västerbotten",
          "Västerbotten",
          "Västerbotten",
          "Västerbotten",
          "Västerbotten",
          "Västerbotten",
          "Västerbotten",
          "Västerbotten",
          "Västerbotten",
          "Västerbotten",
          "Västerbotten",
          "Västerbotten",
          "Västerbotten",
          "Västerbotten",
          "Västerbotten",
          "Västerbotten",
          "Västerbotten",
          "Västerbotten",
          "Västerbotten",
          "Västerbotten",
          "Västerbotten",
          "Västerbotten",
          "Västerbotten",
          "Västerbotten",
          "Västerbotten",
          "Västerbotten",
          "Västerbotten",
          "Västerbotten",
          "Västernorrland",
          "Västernorrland",
          "Västernorrland",
          "Västernorrland",
          "Västernorrland",
          "Västernorrland",
          "Västernorrland",
          "Västernorrland",
          "Västernorrland",
          "Västernorrland",
          "Västernorrland",
          "Västernorrland",
          "Västernorrland",
          "Västernorrland",
          "Västernorrland",
          "Västernorrland",
          "Västernorrland",
          "Västernorrland",
          "Västernorrland",
          "Västernorrland",
          "Västernorrland",
          "Västernorrland",
          "Västernorrland",
          "Västernorrland",
          "Västernorrland",
          "Västernorrland",
          "Västernorrland",
          "Västernorrland",
          "Västernorrland",
          "Västernorrland",
          "Västernorrland",
          "Västernorrland",
          "Västernorrland",
          "Västernorrland",
          "Västernorrland",
          "Västernorrland",
          "Västernorrland",
          "Västernorrland",
          "Västernorrland",
          "Västernorrland",
          "Västernorrland",
          "Västernorrland",
          "Västmanland",
          "Västmanland",
          "Västmanland",
          "Västmanland",
          "Västmanland",
          "Västmanland",
          "Västmanland",
          "Västmanland",
          "Västmanland",
          "Västmanland",
          "Västmanland",
          "Västmanland",
          "Västmanland",
          "Västmanland",
          "Västmanland",
          "Västmanland",
          "Västmanland",
          "Västmanland",
          "Västmanland",
          "Västmanland",
          "Västmanland",
          "Västmanland",
          "Västmanland",
          "Västmanland",
          "Västmanland",
          "Västmanland",
          "Västmanland",
          "Västmanland",
          "Västmanland",
          "Västmanland",
          "Västmanland",
          "Västmanland",
          "Västmanland",
          "Västmanland",
          "Västmanland",
          "Västmanland",
          "Västmanland",
          "Västmanland",
          "Västmanland",
          "Västmanland",
          "Västmanland",
          "Västmanland",
          "Västra Götaland",
          "Västra Götaland",
          "Västra Götaland",
          "Västra Götaland",
          "Västra Götaland",
          "Västra Götaland",
          "Västra Götaland",
          "Västra Götaland",
          "Västra Götaland",
          "Västra Götaland",
          "Västra Götaland",
          "Västra Götaland",
          "Västra Götaland",
          "Västra Götaland",
          "Västra Götaland",
          "Västra Götaland",
          "Västra Götaland",
          "Västra Götaland",
          "Västra Götaland",
          "Västra Götaland",
          "Västra Götaland",
          "Västra Götaland",
          "Västra Götaland",
          "Västra Götaland",
          "Västra Götaland",
          "Västra Götaland",
          "Västra Götaland",
          "Västra Götaland",
          "Västra Götaland",
          "Västra Götaland",
          "Västra Götaland",
          "Västra Götaland",
          "Västra Götaland",
          "Västra Götaland",
          "Västra Götaland",
          "Västra Götaland",
          "Västra Götaland",
          "Västra Götaland",
          "Västra Götaland",
          "Västra Götaland",
          "Västra Götaland",
          "Västra Götaland",
          "Örebro",
          "Örebro",
          "Örebro",
          "Örebro",
          "Örebro",
          "Örebro",
          "Örebro",
          "Örebro",
          "Örebro",
          "Örebro",
          "Örebro",
          "Örebro",
          "Örebro",
          "Örebro",
          "Örebro",
          "Örebro",
          "Örebro",
          "Örebro",
          "Örebro",
          "Örebro",
          "Örebro",
          "Örebro",
          "Örebro",
          "Örebro",
          "Örebro",
          "Örebro",
          "Örebro",
          "Örebro",
          "Örebro",
          "Örebro",
          "Örebro",
          "Örebro",
          "Örebro",
          "Örebro",
          "Örebro",
          "Örebro",
          "Örebro",
          "Örebro",
          "Örebro",
          "Örebro",
          "Örebro",
          "Örebro",
          "Östergötland",
          "Östergötland",
          "Östergötland",
          "Östergötland",
          "Östergötland",
          "Östergötland",
          "Östergötland",
          "Östergötland",
          "Östergötland",
          "Östergötland",
          "Östergötland",
          "Östergötland",
          "Östergötland",
          "Östergötland",
          "Östergötland",
          "Östergötland",
          "Östergötland",
          "Östergötland",
          "Östergötland",
          "Östergötland",
          "Östergötland",
          "Östergötland",
          "Östergötland",
          "Östergötland",
          "Östergötland",
          "Östergötland",
          "Östergötland",
          "Östergötland",
          "Östergötland",
          "Östergötland",
          "Östergötland",
          "Östergötland",
          "Östergötland",
          "Östergötland",
          "Östergötland",
          "Östergötland",
          "Östergötland",
          "Östergötland",
          "Östergötland",
          "Östergötland",
          "Östergötland",
          "Östergötland"
         ],
         "x0": " ",
         "xaxis": "x",
         "y": [
          10462,
          11488,
          13076,
          15505,
          17147,
          17786,
          17996,
          18160,
          18285,
          18372,
          18460,
          18517,
          18542,
          18566,
          18584,
          18610,
          18624,
          18629,
          18643,
          18655,
          18661,
          18667,
          18675,
          18695,
          18753,
          18793,
          18815,
          18836,
          18886,
          18930,
          18990,
          19037,
          19074,
          19103,
          19123,
          19174,
          19215,
          19254,
          19279,
          19309,
          19350,
          19368,
          13010,
          14435,
          16767,
          19757,
          21900,
          22730,
          23056,
          23297,
          23501,
          23690,
          23822,
          23926,
          24003,
          24077,
          24135,
          24179,
          24218,
          24246,
          24281,
          24305,
          24336,
          24367,
          24429,
          24465,
          24513,
          24573,
          24652,
          24739,
          24854,
          24958,
          25081,
          25213,
          25347,
          25443,
          25549,
          25676,
          25763,
          25863,
          25917,
          25977,
          26025,
          26076,
          9668,
          11342,
          13645,
          15761,
          17535,
          18194,
          18402,
          18563,
          18705,
          18788,
          18824,
          18869,
          18903,
          18923,
          18957,
          18979,
          19001,
          19021,
          19032,
          19034,
          19042,
          19049,
          19054,
          19061,
          19089,
          19132,
          19172,
          19237,
          19290,
          19333,
          19415,
          19471,
          19508,
          19520,
          19541,
          19573,
          19628,
          19666,
          19699,
          19721,
          19734,
          19743,
          15522,
          16832,
          19257,
          21979,
          23764,
          24502,
          24786,
          24993,
          25178,
          25322,
          25431,
          25516,
          25574,
          25597,
          25613,
          25628,
          25644,
          25654,
          25665,
          25670,
          25672,
          25678,
          25682,
          25686,
          25692,
          25701,
          25710,
          25725,
          25748,
          25774,
          25798,
          25830,
          25853,
          25868,
          25883,
          25902,
          25925,
          25949,
          25970,
          25987,
          25999,
          26009,
          16561,
          18995,
          23374,
          26982,
          29227,
          29981,
          30234,
          30437,
          30579,
          30689,
          30789,
          30861,
          30925,
          30975,
          31015,
          31048,
          31083,
          31108,
          31124,
          31139,
          31153,
          31171,
          31196,
          31224,
          31279,
          31331,
          31385,
          31451,
          31535,
          31613,
          31705,
          31792,
          31865,
          31921,
          31972,
          32011,
          32056,
          32105,
          32131,
          32196,
          32237,
          32288,
          13831,
          17074,
          19275,
          21811,
          23150,
          23872,
          24118,
          24329,
          24514,
          24640,
          24731,
          24804,
          24848,
          24887,
          24914,
          24935,
          24970,
          24998,
          25020,
          25036,
          25055,
          25069,
          25080,
          25097,
          25142,
          25183,
          25219,
          25272,
          25338,
          25442,
          25643,
          25760,
          25839,
          25889,
          25917,
          25952,
          25985,
          26017,
          26035,
          26078,
          26111,
          26161,
          14545,
          16266,
          18502,
          21087,
          22485,
          22934,
          23106,
          23226,
          23320,
          23399,
          23457,
          23509,
          23551,
          23592,
          23610,
          23631,
          23649,
          23660,
          23668,
          23678,
          23684,
          23696,
          23707,
          23718,
          23747,
          23782,
          23822,
          23863,
          23911,
          23959,
          24014,
          24077,
          24130,
          24172,
          24217,
          24277,
          24339,
          24388,
          24435,
          24471,
          24512,
          24546,
          12786,
          13902,
          16146,
          18995,
          21751,
          23076,
          23422,
          23677,
          23874,
          24051,
          24167,
          24242,
          24305,
          24338,
          24362,
          24386,
          24407,
          24431,
          24447,
          24456,
          24476,
          24490,
          24496,
          24510,
          24525,
          24556,
          24595,
          24662,
          24723,
          24779,
          24832,
          24878,
          24922,
          24964,
          25007,
          25051,
          25127,
          25195,
          25306,
          25378,
          25440,
          25497,
          13838,
          15287,
          18075,
          20878,
          22626,
          23250,
          23518,
          23698,
          23869,
          24015,
          24157,
          24254,
          24314,
          24363,
          24397,
          24421,
          24439,
          24448,
          24460,
          24477,
          24485,
          24496,
          24508,
          24528,
          24549,
          24573,
          24615,
          24658,
          24708,
          24770,
          24840,
          24896,
          24964,
          25013,
          25072,
          25124,
          25164,
          25223,
          25284,
          25330,
          25376,
          25415,
          12878,
          13802,
          15128,
          16708,
          17896,
          18465,
          18687,
          18912,
          19063,
          19179,
          19273,
          19354,
          19419,
          19463,
          19494,
          19519,
          19546,
          19559,
          19574,
          19592,
          19611,
          19626,
          19638,
          19667,
          19686,
          19712,
          19742,
          19792,
          19829,
          19872,
          19925,
          19983,
          20039,
          20069,
          20098,
          20130,
          20159,
          20192,
          20222,
          20252,
          20275,
          20317,
          15475,
          17075,
          19131,
          21365,
          23049,
          23667,
          23832,
          23955,
          24034,
          24101,
          24161,
          24204,
          24234,
          24260,
          24280,
          24295,
          24308,
          24320,
          24330,
          24339,
          24346,
          24352,
          24361,
          24375,
          24399,
          24429,
          24464,
          24498,
          24537,
          24571,
          24613,
          24656,
          24693,
          24725,
          24755,
          24785,
          24811,
          24836,
          24863,
          24891,
          24917,
          24941,
          15287,
          17105,
          19739,
          21784,
          22891,
          23226,
          23374,
          23493,
          23574,
          23633,
          23702,
          23773,
          23816,
          23850,
          23873,
          23896,
          23922,
          23942,
          23962,
          23993,
          24009,
          24022,
          24053,
          24080,
          24118,
          24168,
          24212,
          24276,
          24339,
          24394,
          24445,
          24513,
          24588,
          24656,
          24709,
          24752,
          24804,
          24856,
          25280,
          25307,
          25329,
          25349,
          11405,
          13217,
          16202,
          18397,
          19541,
          20073,
          20362,
          20548,
          20690,
          20821,
          20937,
          21023,
          21100,
          21161,
          21200,
          21239,
          21272,
          21300,
          21322,
          21337,
          21351,
          21374,
          21401,
          21424,
          21460,
          21520,
          21572,
          21641,
          21724,
          21821,
          21923,
          22034,
          22129,
          22184,
          22232,
          22316,
          22397,
          22458,
          22517,
          22574,
          22621,
          22656,
          13506,
          15080,
          17103,
          20186,
          21463,
          22179,
          22369,
          22505,
          22602,
          22697,
          22771,
          22836,
          22904,
          22959,
          22999,
          23024,
          23051,
          23072,
          23089,
          23109,
          23128,
          23144,
          23170,
          23216,
          23256,
          23318,
          23373,
          23427,
          23483,
          23534,
          23591,
          23667,
          23718,
          23764,
          23814,
          23867,
          23921,
          23972,
          24010,
          24050,
          24086,
          24118,
          10407,
          11855,
          14730,
          18213,
          20412,
          21395,
          21839,
          22146,
          22325,
          22530,
          22669,
          22799,
          22887,
          22952,
          23009,
          23060,
          23094,
          23123,
          23145,
          23168,
          23184,
          23203,
          23220,
          23240,
          23277,
          23327,
          23382,
          23446,
          23517,
          23601,
          23693,
          23790,
          23866,
          23926,
          23996,
          24068,
          24158,
          24223,
          24287,
          24360,
          24417,
          24468,
          11534,
          12727,
          14535,
          16325,
          18022,
          18798,
          19260,
          19677,
          20026,
          20271,
          20405,
          20490,
          20543,
          20602,
          20643,
          20665,
          20687,
          20706,
          20725,
          20751,
          20762,
          20778,
          20798,
          20818,
          20844,
          20886,
          20919,
          20975,
          21050,
          21151,
          21262,
          21353,
          21435,
          21479,
          21529,
          21595,
          21680,
          21747,
          21822,
          21885,
          21947,
          21994,
          13219,
          14598,
          16244,
          18766,
          20061,
          20669,
          20901,
          21093,
          21267,
          21401,
          21517,
          21634,
          21703,
          21746,
          21782,
          21829,
          21868,
          21893,
          21910,
          21928,
          21943,
          21953,
          21964,
          21990,
          22008,
          22049,
          22086,
          22165,
          22238,
          22333,
          22420,
          22497,
          22552,
          22584,
          22610,
          22651,
          22697,
          22744,
          22808,
          22867,
          22899,
          22959,
          14742,
          16876,
          19757,
          23328,
          25257,
          26071,
          26392,
          26628,
          26804,
          26930,
          27048,
          27120,
          27177,
          27233,
          27279,
          27303,
          27327,
          27340,
          27353,
          27364,
          27376,
          27385,
          27398,
          27416,
          27449,
          27498,
          27553,
          27627,
          27682,
          27741,
          27806,
          27881,
          27932,
          27974,
          28027,
          28072,
          28107,
          28138,
          28178,
          28207,
          28242,
          28277,
          14598,
          15893,
          18474,
          21244,
          23917,
          24372,
          24510,
          24659,
          24738,
          24808,
          24857,
          24899,
          24933,
          24957,
          24981,
          24998,
          25011,
          25027,
          25037,
          25048,
          25055,
          25064,
          25072,
          25082,
          25096,
          25122,
          25153,
          25192,
          25233,
          25267,
          25302,
          25339,
          25379,
          25406,
          25429,
          25454,
          25480,
          25502,
          25530,
          25559,
          25583,
          25604,
          14376,
          16404,
          20038,
          24041,
          27178,
          28463,
          28952,
          29285,
          29546,
          29709,
          29853,
          29980,
          30039,
          30151,
          30224,
          30277,
          30319,
          30363,
          30390,
          30417,
          30449,
          30469,
          30499,
          30543,
          30601,
          30665,
          30734,
          30834,
          30959,
          31080,
          31218,
          31346,
          31459,
          31537,
          31624,
          31730,
          31834,
          31940,
          32029,
          32122,
          32226,
          32325,
          10966,
          12021,
          13980,
          16628,
          18651,
          19491,
          19683,
          19832,
          19945,
          20028,
          20110,
          20168,
          20212,
          20248,
          20274,
          20296,
          20315,
          20331,
          20344,
          20353,
          20360,
          20370,
          20380,
          20395,
          20419,
          20444,
          20473,
          20504,
          20545,
          20578,
          20612,
          20657,
          20729,
          20769,
          20814,
          20863,
          20920,
          20973,
          21024,
          21067,
          21098,
          21131
         ],
         "y0": " ",
         "yaxis": "y"
        }
       ],
       "layout": {
        "boxmode": "group",
        "legend": {
         "title": {
          "text": "Year"
         },
         "tracegroupgap": 0
        },
        "template": {
         "data": {
          "bar": [
           {
            "error_x": {
             "color": "#2a3f5f"
            },
            "error_y": {
             "color": "#2a3f5f"
            },
            "marker": {
             "line": {
              "color": "#E5ECF6",
              "width": 0.5
             },
             "pattern": {
              "fillmode": "overlay",
              "size": 10,
              "solidity": 0.2
             }
            },
            "type": "bar"
           }
          ],
          "barpolar": [
           {
            "marker": {
             "line": {
              "color": "#E5ECF6",
              "width": 0.5
             },
             "pattern": {
              "fillmode": "overlay",
              "size": 10,
              "solidity": 0.2
             }
            },
            "type": "barpolar"
           }
          ],
          "carpet": [
           {
            "aaxis": {
             "endlinecolor": "#2a3f5f",
             "gridcolor": "white",
             "linecolor": "white",
             "minorgridcolor": "white",
             "startlinecolor": "#2a3f5f"
            },
            "baxis": {
             "endlinecolor": "#2a3f5f",
             "gridcolor": "white",
             "linecolor": "white",
             "minorgridcolor": "white",
             "startlinecolor": "#2a3f5f"
            },
            "type": "carpet"
           }
          ],
          "choropleth": [
           {
            "colorbar": {
             "outlinewidth": 0,
             "ticks": ""
            },
            "type": "choropleth"
           }
          ],
          "contour": [
           {
            "colorbar": {
             "outlinewidth": 0,
             "ticks": ""
            },
            "colorscale": [
             [
              0,
              "#0d0887"
             ],
             [
              0.1111111111111111,
              "#46039f"
             ],
             [
              0.2222222222222222,
              "#7201a8"
             ],
             [
              0.3333333333333333,
              "#9c179e"
             ],
             [
              0.4444444444444444,
              "#bd3786"
             ],
             [
              0.5555555555555556,
              "#d8576b"
             ],
             [
              0.6666666666666666,
              "#ed7953"
             ],
             [
              0.7777777777777778,
              "#fb9f3a"
             ],
             [
              0.8888888888888888,
              "#fdca26"
             ],
             [
              1,
              "#f0f921"
             ]
            ],
            "type": "contour"
           }
          ],
          "contourcarpet": [
           {
            "colorbar": {
             "outlinewidth": 0,
             "ticks": ""
            },
            "type": "contourcarpet"
           }
          ],
          "heatmap": [
           {
            "colorbar": {
             "outlinewidth": 0,
             "ticks": ""
            },
            "colorscale": [
             [
              0,
              "#0d0887"
             ],
             [
              0.1111111111111111,
              "#46039f"
             ],
             [
              0.2222222222222222,
              "#7201a8"
             ],
             [
              0.3333333333333333,
              "#9c179e"
             ],
             [
              0.4444444444444444,
              "#bd3786"
             ],
             [
              0.5555555555555556,
              "#d8576b"
             ],
             [
              0.6666666666666666,
              "#ed7953"
             ],
             [
              0.7777777777777778,
              "#fb9f3a"
             ],
             [
              0.8888888888888888,
              "#fdca26"
             ],
             [
              1,
              "#f0f921"
             ]
            ],
            "type": "heatmap"
           }
          ],
          "heatmapgl": [
           {
            "colorbar": {
             "outlinewidth": 0,
             "ticks": ""
            },
            "colorscale": [
             [
              0,
              "#0d0887"
             ],
             [
              0.1111111111111111,
              "#46039f"
             ],
             [
              0.2222222222222222,
              "#7201a8"
             ],
             [
              0.3333333333333333,
              "#9c179e"
             ],
             [
              0.4444444444444444,
              "#bd3786"
             ],
             [
              0.5555555555555556,
              "#d8576b"
             ],
             [
              0.6666666666666666,
              "#ed7953"
             ],
             [
              0.7777777777777778,
              "#fb9f3a"
             ],
             [
              0.8888888888888888,
              "#fdca26"
             ],
             [
              1,
              "#f0f921"
             ]
            ],
            "type": "heatmapgl"
           }
          ],
          "histogram": [
           {
            "marker": {
             "pattern": {
              "fillmode": "overlay",
              "size": 10,
              "solidity": 0.2
             }
            },
            "type": "histogram"
           }
          ],
          "histogram2d": [
           {
            "colorbar": {
             "outlinewidth": 0,
             "ticks": ""
            },
            "colorscale": [
             [
              0,
              "#0d0887"
             ],
             [
              0.1111111111111111,
              "#46039f"
             ],
             [
              0.2222222222222222,
              "#7201a8"
             ],
             [
              0.3333333333333333,
              "#9c179e"
             ],
             [
              0.4444444444444444,
              "#bd3786"
             ],
             [
              0.5555555555555556,
              "#d8576b"
             ],
             [
              0.6666666666666666,
              "#ed7953"
             ],
             [
              0.7777777777777778,
              "#fb9f3a"
             ],
             [
              0.8888888888888888,
              "#fdca26"
             ],
             [
              1,
              "#f0f921"
             ]
            ],
            "type": "histogram2d"
           }
          ],
          "histogram2dcontour": [
           {
            "colorbar": {
             "outlinewidth": 0,
             "ticks": ""
            },
            "colorscale": [
             [
              0,
              "#0d0887"
             ],
             [
              0.1111111111111111,
              "#46039f"
             ],
             [
              0.2222222222222222,
              "#7201a8"
             ],
             [
              0.3333333333333333,
              "#9c179e"
             ],
             [
              0.4444444444444444,
              "#bd3786"
             ],
             [
              0.5555555555555556,
              "#d8576b"
             ],
             [
              0.6666666666666666,
              "#ed7953"
             ],
             [
              0.7777777777777778,
              "#fb9f3a"
             ],
             [
              0.8888888888888888,
              "#fdca26"
             ],
             [
              1,
              "#f0f921"
             ]
            ],
            "type": "histogram2dcontour"
           }
          ],
          "mesh3d": [
           {
            "colorbar": {
             "outlinewidth": 0,
             "ticks": ""
            },
            "type": "mesh3d"
           }
          ],
          "parcoords": [
           {
            "line": {
             "colorbar": {
              "outlinewidth": 0,
              "ticks": ""
             }
            },
            "type": "parcoords"
           }
          ],
          "pie": [
           {
            "automargin": true,
            "type": "pie"
           }
          ],
          "scatter": [
           {
            "fillpattern": {
             "fillmode": "overlay",
             "size": 10,
             "solidity": 0.2
            },
            "type": "scatter"
           }
          ],
          "scatter3d": [
           {
            "line": {
             "colorbar": {
              "outlinewidth": 0,
              "ticks": ""
             }
            },
            "marker": {
             "colorbar": {
              "outlinewidth": 0,
              "ticks": ""
             }
            },
            "type": "scatter3d"
           }
          ],
          "scattercarpet": [
           {
            "marker": {
             "colorbar": {
              "outlinewidth": 0,
              "ticks": ""
             }
            },
            "type": "scattercarpet"
           }
          ],
          "scattergeo": [
           {
            "marker": {
             "colorbar": {
              "outlinewidth": 0,
              "ticks": ""
             }
            },
            "type": "scattergeo"
           }
          ],
          "scattergl": [
           {
            "marker": {
             "colorbar": {
              "outlinewidth": 0,
              "ticks": ""
             }
            },
            "type": "scattergl"
           }
          ],
          "scattermapbox": [
           {
            "marker": {
             "colorbar": {
              "outlinewidth": 0,
              "ticks": ""
             }
            },
            "type": "scattermapbox"
           }
          ],
          "scatterpolar": [
           {
            "marker": {
             "colorbar": {
              "outlinewidth": 0,
              "ticks": ""
             }
            },
            "type": "scatterpolar"
           }
          ],
          "scatterpolargl": [
           {
            "marker": {
             "colorbar": {
              "outlinewidth": 0,
              "ticks": ""
             }
            },
            "type": "scatterpolargl"
           }
          ],
          "scatterternary": [
           {
            "marker": {
             "colorbar": {
              "outlinewidth": 0,
              "ticks": ""
             }
            },
            "type": "scatterternary"
           }
          ],
          "surface": [
           {
            "colorbar": {
             "outlinewidth": 0,
             "ticks": ""
            },
            "colorscale": [
             [
              0,
              "#0d0887"
             ],
             [
              0.1111111111111111,
              "#46039f"
             ],
             [
              0.2222222222222222,
              "#7201a8"
             ],
             [
              0.3333333333333333,
              "#9c179e"
             ],
             [
              0.4444444444444444,
              "#bd3786"
             ],
             [
              0.5555555555555556,
              "#d8576b"
             ],
             [
              0.6666666666666666,
              "#ed7953"
             ],
             [
              0.7777777777777778,
              "#fb9f3a"
             ],
             [
              0.8888888888888888,
              "#fdca26"
             ],
             [
              1,
              "#f0f921"
             ]
            ],
            "type": "surface"
           }
          ],
          "table": [
           {
            "cells": {
             "fill": {
              "color": "#EBF0F8"
             },
             "line": {
              "color": "white"
             }
            },
            "header": {
             "fill": {
              "color": "#C8D4E3"
             },
             "line": {
              "color": "white"
             }
            },
            "type": "table"
           }
          ]
         },
         "layout": {
          "annotationdefaults": {
           "arrowcolor": "#2a3f5f",
           "arrowhead": 0,
           "arrowwidth": 1
          },
          "autotypenumbers": "strict",
          "coloraxis": {
           "colorbar": {
            "outlinewidth": 0,
            "ticks": ""
           }
          },
          "colorscale": {
           "diverging": [
            [
             0,
             "#8e0152"
            ],
            [
             0.1,
             "#c51b7d"
            ],
            [
             0.2,
             "#de77ae"
            ],
            [
             0.3,
             "#f1b6da"
            ],
            [
             0.4,
             "#fde0ef"
            ],
            [
             0.5,
             "#f7f7f7"
            ],
            [
             0.6,
             "#e6f5d0"
            ],
            [
             0.7,
             "#b8e186"
            ],
            [
             0.8,
             "#7fbc41"
            ],
            [
             0.9,
             "#4d9221"
            ],
            [
             1,
             "#276419"
            ]
           ],
           "sequential": [
            [
             0,
             "#0d0887"
            ],
            [
             0.1111111111111111,
             "#46039f"
            ],
            [
             0.2222222222222222,
             "#7201a8"
            ],
            [
             0.3333333333333333,
             "#9c179e"
            ],
            [
             0.4444444444444444,
             "#bd3786"
            ],
            [
             0.5555555555555556,
             "#d8576b"
            ],
            [
             0.6666666666666666,
             "#ed7953"
            ],
            [
             0.7777777777777778,
             "#fb9f3a"
            ],
            [
             0.8888888888888888,
             "#fdca26"
            ],
            [
             1,
             "#f0f921"
            ]
           ],
           "sequentialminus": [
            [
             0,
             "#0d0887"
            ],
            [
             0.1111111111111111,
             "#46039f"
            ],
            [
             0.2222222222222222,
             "#7201a8"
            ],
            [
             0.3333333333333333,
             "#9c179e"
            ],
            [
             0.4444444444444444,
             "#bd3786"
            ],
            [
             0.5555555555555556,
             "#d8576b"
            ],
            [
             0.6666666666666666,
             "#ed7953"
            ],
            [
             0.7777777777777778,
             "#fb9f3a"
            ],
            [
             0.8888888888888888,
             "#fdca26"
            ],
            [
             1,
             "#f0f921"
            ]
           ]
          },
          "colorway": [
           "#636efa",
           "#EF553B",
           "#00cc96",
           "#ab63fa",
           "#FFA15A",
           "#19d3f3",
           "#FF6692",
           "#B6E880",
           "#FF97FF",
           "#FECB52"
          ],
          "font": {
           "color": "#2a3f5f"
          },
          "geo": {
           "bgcolor": "white",
           "lakecolor": "white",
           "landcolor": "#E5ECF6",
           "showlakes": true,
           "showland": true,
           "subunitcolor": "white"
          },
          "hoverlabel": {
           "align": "left"
          },
          "hovermode": "closest",
          "mapbox": {
           "style": "light"
          },
          "paper_bgcolor": "white",
          "plot_bgcolor": "#E5ECF6",
          "polar": {
           "angularaxis": {
            "gridcolor": "white",
            "linecolor": "white",
            "ticks": ""
           },
           "bgcolor": "#E5ECF6",
           "radialaxis": {
            "gridcolor": "white",
            "linecolor": "white",
            "ticks": ""
           }
          },
          "scene": {
           "xaxis": {
            "backgroundcolor": "#E5ECF6",
            "gridcolor": "white",
            "gridwidth": 2,
            "linecolor": "white",
            "showbackground": true,
            "ticks": "",
            "zerolinecolor": "white"
           },
           "yaxis": {
            "backgroundcolor": "#E5ECF6",
            "gridcolor": "white",
            "gridwidth": 2,
            "linecolor": "white",
            "showbackground": true,
            "ticks": "",
            "zerolinecolor": "white"
           },
           "zaxis": {
            "backgroundcolor": "#E5ECF6",
            "gridcolor": "white",
            "gridwidth": 2,
            "linecolor": "white",
            "showbackground": true,
            "ticks": "",
            "zerolinecolor": "white"
           }
          },
          "shapedefaults": {
           "line": {
            "color": "#2a3f5f"
           }
          },
          "ternary": {
           "aaxis": {
            "gridcolor": "white",
            "linecolor": "white",
            "ticks": ""
           },
           "baxis": {
            "gridcolor": "white",
            "linecolor": "white",
            "ticks": ""
           },
           "bgcolor": "#E5ECF6",
           "caxis": {
            "gridcolor": "white",
            "linecolor": "white",
            "ticks": ""
           }
          },
          "title": {
           "x": 0.05
          },
          "xaxis": {
           "automargin": true,
           "gridcolor": "white",
           "linecolor": "white",
           "ticks": "",
           "title": {
            "standoff": 15
           },
           "zerolinecolor": "white",
           "zerolinewidth": 2
          },
          "yaxis": {
           "automargin": true,
           "gridcolor": "white",
           "linecolor": "white",
           "ticks": "",
           "title": {
            "standoff": 15
           },
           "zerolinecolor": "white",
           "zerolinewidth": 2
          }
         }
        },
        "title": {
         "text": "Cumulative Number of Cases per 100,000 Citizens 2020-2022"
        },
        "xaxis": {
         "anchor": "y",
         "categoryorder": "total ascending",
         "domain": [
          0,
          1
         ],
         "title": {
          "text": "County"
         }
        },
        "yaxis": {
         "anchor": "x",
         "domain": [
          0,
          1
         ],
         "title": {
          "text": "Cumulative number of cases"
         }
        }
       }
      }
     },
     "metadata": {},
     "output_type": "display_data"
    }
   ],
   "source": [
    "weekly_data_county = pd.read_excel(\"Data/Folkhalsomyndigheten_Covid19.xlsx\", sheet_name=\"Veckodata Region\")\n",
    "\n",
    "\n",
    "px.strip(\n",
    "    data_frame=weekly_data_county,\n",
    "    y='Kum_fall_100000inv', \n",
    "    x='Region', \n",
    "    hover_data=['år','veckonummer'], \n",
    "    color=\"år\", \n",
    "    title='Cumulative Number of Cases per 100,000 Citizens 2020-2022',\n",
    "    labels={\n",
    "        'Kum_fall_100000inv': 'Cumulative number of cases',\n",
    "        'Region': 'County',\n",
    "        'år': 'Year',\n",
    "        'veckonummer': 'Week'\n",
    "\n",
    "    }\n",
    ").update_xaxes(categoryorder='total ascending').show()"
   ]
  },
  {
   "cell_type": "markdown",
   "metadata": {},
   "source": [
    "From the code above we can see how many people that got infected by covid-19 per week and year split on counties. For exmple we learn here that the county with least number of cases were in Blekinge and Gotland and the highest number of cases where in Örebro and Halland. This would maybe give us a hint that Blekinge and Gotland would have the lowest mortality rate as well, we'll take a look at this later on. In Halland and Örebro we find a higher number of cases then the rest of the country. This result contradicts our hypothesis that the higher values would be found in the 'big city' counties. \n",
    "\n",
    "Why this result of number of cases is hard to tell. One reason could be that the two counties in top did more test on their citizens then the rest of the counties. During this period the testing was very different in different counties, especially in the larger regions were the capacity to take test on their citizens were limited. Another reason possible is of course that the number of cases actually were higher as what the data tells us."
   ]
  },
  {
   "cell_type": "markdown",
   "metadata": {},
   "source": [
    "#### 2.2 **Hospitalization Rate:** The percentage of COVID-19 cases that required intensive care. Formula: (Number of hospitalized cases / Total number of COVID-19 cases) * 100."
   ]
  },
  {
   "cell_type": "markdown",
   "metadata": {},
   "source": [
    "To answer the above question we first group the data by 'region' (county), then we take the max value in the column with cumulative number of cases for each county, and the same for number of cases required hospitalization. If we then divide number of hospitalized cases with total number of cases per region we'll get an answer on which county had the highest percentage of hospitalization cases.\n",
    "\n",
    "In our previous question we examined what counties had the highest number of cases and here we instead examine what counties has the highest number of severe cases. One could guess this also is interrelated with the vaccination rate in the counties. So we'll start examine the vaccination rate (similar to what we did in exercise 2 but with only dose 1 this time). Here we group the values for dose one in our data by county and calculate the mean values (hence they are split on age groups). "
   ]
  },
  {
   "cell_type": "code",
   "execution_count": 257,
   "metadata": {},
   "outputs": [
    {
     "data": {
      "application/vnd.plotly.v1+json": {
       "config": {
        "plotlyServerURL": "https://plot.ly"
       },
       "data": [
        {
         "alignmentgroup": "True",
         "hovertemplate": "Counties=%{x}<br>Mean % 1 Dose=%{marker.color}<extra></extra>",
         "legendgroup": "",
         "marker": {
          "color": [
           85.64556208437777,
           85.55543405783187,
           89.0340084510786,
           85.16844384648172,
           85.92381513010524,
           86.0929907205495,
           86.0044523807034,
           85.12926088968922,
           82.49822825558188,
           87.03389465139483,
           83.58673305565308,
           83.58682831084586,
           85.79137976820294,
           88.24212515250439,
           88.08393931378062,
           88.77727610504377,
           87.22669023266013,
           83.64894610815031,
           85.94207297419256,
           85.72148530962767,
           87.93085042959842
          ],
          "coloraxis": "coloraxis",
          "pattern": {
           "shape": ""
          }
         },
         "name": "",
         "offsetgroup": "",
         "orientation": "v",
         "showlegend": false,
         "textposition": "auto",
         "type": "bar",
         "x": [
          "Blekinge län",
          "Dalarnas län",
          "Gotlands län",
          "Gävleborgs län",
          "Hallands län",
          "Jämtlands län",
          "Jönköpings län",
          "Kalmar län",
          "Kronobergs län",
          "Norrbottens län",
          "Skåne län",
          "Stockholms län",
          "Södermanlands län",
          "Uppsala län",
          "Värmlands län",
          "Västerbottens län",
          "Västernorrlands län",
          "Västmanlands län",
          "Västra Götalands län",
          "Örebro län",
          "Östergötlands län"
         ],
         "xaxis": "x",
         "y": [
          85.64556208437777,
          85.55543405783187,
          89.0340084510786,
          85.16844384648172,
          85.92381513010524,
          86.0929907205495,
          86.0044523807034,
          85.12926088968922,
          82.49822825558188,
          87.03389465139483,
          83.58673305565308,
          83.58682831084586,
          85.79137976820294,
          88.24212515250439,
          88.08393931378062,
          88.77727610504377,
          87.22669023266013,
          83.64894610815031,
          85.94207297419256,
          85.72148530962767,
          87.93085042959842
         ],
         "yaxis": "y"
        }
       ],
       "layout": {
        "barmode": "group",
        "coloraxis": {
         "colorbar": {
          "title": {
           "text": "Mean % 1 Dose"
          }
         },
         "colorscale": [
          [
           0,
           "#0d0887"
          ],
          [
           0.1111111111111111,
           "#46039f"
          ],
          [
           0.2222222222222222,
           "#7201a8"
          ],
          [
           0.3333333333333333,
           "#9c179e"
          ],
          [
           0.4444444444444444,
           "#bd3786"
          ],
          [
           0.5555555555555556,
           "#d8576b"
          ],
          [
           0.6666666666666666,
           "#ed7953"
          ],
          [
           0.7777777777777778,
           "#fb9f3a"
          ],
          [
           0.8888888888888888,
           "#fdca26"
          ],
          [
           1,
           "#f0f921"
          ]
         ]
        },
        "legend": {
         "tracegroupgap": 0
        },
        "template": {
         "data": {
          "bar": [
           {
            "error_x": {
             "color": "#2a3f5f"
            },
            "error_y": {
             "color": "#2a3f5f"
            },
            "marker": {
             "line": {
              "color": "#E5ECF6",
              "width": 0.5
             },
             "pattern": {
              "fillmode": "overlay",
              "size": 10,
              "solidity": 0.2
             }
            },
            "type": "bar"
           }
          ],
          "barpolar": [
           {
            "marker": {
             "line": {
              "color": "#E5ECF6",
              "width": 0.5
             },
             "pattern": {
              "fillmode": "overlay",
              "size": 10,
              "solidity": 0.2
             }
            },
            "type": "barpolar"
           }
          ],
          "carpet": [
           {
            "aaxis": {
             "endlinecolor": "#2a3f5f",
             "gridcolor": "white",
             "linecolor": "white",
             "minorgridcolor": "white",
             "startlinecolor": "#2a3f5f"
            },
            "baxis": {
             "endlinecolor": "#2a3f5f",
             "gridcolor": "white",
             "linecolor": "white",
             "minorgridcolor": "white",
             "startlinecolor": "#2a3f5f"
            },
            "type": "carpet"
           }
          ],
          "choropleth": [
           {
            "colorbar": {
             "outlinewidth": 0,
             "ticks": ""
            },
            "type": "choropleth"
           }
          ],
          "contour": [
           {
            "colorbar": {
             "outlinewidth": 0,
             "ticks": ""
            },
            "colorscale": [
             [
              0,
              "#0d0887"
             ],
             [
              0.1111111111111111,
              "#46039f"
             ],
             [
              0.2222222222222222,
              "#7201a8"
             ],
             [
              0.3333333333333333,
              "#9c179e"
             ],
             [
              0.4444444444444444,
              "#bd3786"
             ],
             [
              0.5555555555555556,
              "#d8576b"
             ],
             [
              0.6666666666666666,
              "#ed7953"
             ],
             [
              0.7777777777777778,
              "#fb9f3a"
             ],
             [
              0.8888888888888888,
              "#fdca26"
             ],
             [
              1,
              "#f0f921"
             ]
            ],
            "type": "contour"
           }
          ],
          "contourcarpet": [
           {
            "colorbar": {
             "outlinewidth": 0,
             "ticks": ""
            },
            "type": "contourcarpet"
           }
          ],
          "heatmap": [
           {
            "colorbar": {
             "outlinewidth": 0,
             "ticks": ""
            },
            "colorscale": [
             [
              0,
              "#0d0887"
             ],
             [
              0.1111111111111111,
              "#46039f"
             ],
             [
              0.2222222222222222,
              "#7201a8"
             ],
             [
              0.3333333333333333,
              "#9c179e"
             ],
             [
              0.4444444444444444,
              "#bd3786"
             ],
             [
              0.5555555555555556,
              "#d8576b"
             ],
             [
              0.6666666666666666,
              "#ed7953"
             ],
             [
              0.7777777777777778,
              "#fb9f3a"
             ],
             [
              0.8888888888888888,
              "#fdca26"
             ],
             [
              1,
              "#f0f921"
             ]
            ],
            "type": "heatmap"
           }
          ],
          "heatmapgl": [
           {
            "colorbar": {
             "outlinewidth": 0,
             "ticks": ""
            },
            "colorscale": [
             [
              0,
              "#0d0887"
             ],
             [
              0.1111111111111111,
              "#46039f"
             ],
             [
              0.2222222222222222,
              "#7201a8"
             ],
             [
              0.3333333333333333,
              "#9c179e"
             ],
             [
              0.4444444444444444,
              "#bd3786"
             ],
             [
              0.5555555555555556,
              "#d8576b"
             ],
             [
              0.6666666666666666,
              "#ed7953"
             ],
             [
              0.7777777777777778,
              "#fb9f3a"
             ],
             [
              0.8888888888888888,
              "#fdca26"
             ],
             [
              1,
              "#f0f921"
             ]
            ],
            "type": "heatmapgl"
           }
          ],
          "histogram": [
           {
            "marker": {
             "pattern": {
              "fillmode": "overlay",
              "size": 10,
              "solidity": 0.2
             }
            },
            "type": "histogram"
           }
          ],
          "histogram2d": [
           {
            "colorbar": {
             "outlinewidth": 0,
             "ticks": ""
            },
            "colorscale": [
             [
              0,
              "#0d0887"
             ],
             [
              0.1111111111111111,
              "#46039f"
             ],
             [
              0.2222222222222222,
              "#7201a8"
             ],
             [
              0.3333333333333333,
              "#9c179e"
             ],
             [
              0.4444444444444444,
              "#bd3786"
             ],
             [
              0.5555555555555556,
              "#d8576b"
             ],
             [
              0.6666666666666666,
              "#ed7953"
             ],
             [
              0.7777777777777778,
              "#fb9f3a"
             ],
             [
              0.8888888888888888,
              "#fdca26"
             ],
             [
              1,
              "#f0f921"
             ]
            ],
            "type": "histogram2d"
           }
          ],
          "histogram2dcontour": [
           {
            "colorbar": {
             "outlinewidth": 0,
             "ticks": ""
            },
            "colorscale": [
             [
              0,
              "#0d0887"
             ],
             [
              0.1111111111111111,
              "#46039f"
             ],
             [
              0.2222222222222222,
              "#7201a8"
             ],
             [
              0.3333333333333333,
              "#9c179e"
             ],
             [
              0.4444444444444444,
              "#bd3786"
             ],
             [
              0.5555555555555556,
              "#d8576b"
             ],
             [
              0.6666666666666666,
              "#ed7953"
             ],
             [
              0.7777777777777778,
              "#fb9f3a"
             ],
             [
              0.8888888888888888,
              "#fdca26"
             ],
             [
              1,
              "#f0f921"
             ]
            ],
            "type": "histogram2dcontour"
           }
          ],
          "mesh3d": [
           {
            "colorbar": {
             "outlinewidth": 0,
             "ticks": ""
            },
            "type": "mesh3d"
           }
          ],
          "parcoords": [
           {
            "line": {
             "colorbar": {
              "outlinewidth": 0,
              "ticks": ""
             }
            },
            "type": "parcoords"
           }
          ],
          "pie": [
           {
            "automargin": true,
            "type": "pie"
           }
          ],
          "scatter": [
           {
            "fillpattern": {
             "fillmode": "overlay",
             "size": 10,
             "solidity": 0.2
            },
            "type": "scatter"
           }
          ],
          "scatter3d": [
           {
            "line": {
             "colorbar": {
              "outlinewidth": 0,
              "ticks": ""
             }
            },
            "marker": {
             "colorbar": {
              "outlinewidth": 0,
              "ticks": ""
             }
            },
            "type": "scatter3d"
           }
          ],
          "scattercarpet": [
           {
            "marker": {
             "colorbar": {
              "outlinewidth": 0,
              "ticks": ""
             }
            },
            "type": "scattercarpet"
           }
          ],
          "scattergeo": [
           {
            "marker": {
             "colorbar": {
              "outlinewidth": 0,
              "ticks": ""
             }
            },
            "type": "scattergeo"
           }
          ],
          "scattergl": [
           {
            "marker": {
             "colorbar": {
              "outlinewidth": 0,
              "ticks": ""
             }
            },
            "type": "scattergl"
           }
          ],
          "scattermapbox": [
           {
            "marker": {
             "colorbar": {
              "outlinewidth": 0,
              "ticks": ""
             }
            },
            "type": "scattermapbox"
           }
          ],
          "scatterpolar": [
           {
            "marker": {
             "colorbar": {
              "outlinewidth": 0,
              "ticks": ""
             }
            },
            "type": "scatterpolar"
           }
          ],
          "scatterpolargl": [
           {
            "marker": {
             "colorbar": {
              "outlinewidth": 0,
              "ticks": ""
             }
            },
            "type": "scatterpolargl"
           }
          ],
          "scatterternary": [
           {
            "marker": {
             "colorbar": {
              "outlinewidth": 0,
              "ticks": ""
             }
            },
            "type": "scatterternary"
           }
          ],
          "surface": [
           {
            "colorbar": {
             "outlinewidth": 0,
             "ticks": ""
            },
            "colorscale": [
             [
              0,
              "#0d0887"
             ],
             [
              0.1111111111111111,
              "#46039f"
             ],
             [
              0.2222222222222222,
              "#7201a8"
             ],
             [
              0.3333333333333333,
              "#9c179e"
             ],
             [
              0.4444444444444444,
              "#bd3786"
             ],
             [
              0.5555555555555556,
              "#d8576b"
             ],
             [
              0.6666666666666666,
              "#ed7953"
             ],
             [
              0.7777777777777778,
              "#fb9f3a"
             ],
             [
              0.8888888888888888,
              "#fdca26"
             ],
             [
              1,
              "#f0f921"
             ]
            ],
            "type": "surface"
           }
          ],
          "table": [
           {
            "cells": {
             "fill": {
              "color": "#EBF0F8"
             },
             "line": {
              "color": "white"
             }
            },
            "header": {
             "fill": {
              "color": "#C8D4E3"
             },
             "line": {
              "color": "white"
             }
            },
            "type": "table"
           }
          ]
         },
         "layout": {
          "annotationdefaults": {
           "arrowcolor": "#2a3f5f",
           "arrowhead": 0,
           "arrowwidth": 1
          },
          "autotypenumbers": "strict",
          "coloraxis": {
           "colorbar": {
            "outlinewidth": 0,
            "ticks": ""
           }
          },
          "colorscale": {
           "diverging": [
            [
             0,
             "#8e0152"
            ],
            [
             0.1,
             "#c51b7d"
            ],
            [
             0.2,
             "#de77ae"
            ],
            [
             0.3,
             "#f1b6da"
            ],
            [
             0.4,
             "#fde0ef"
            ],
            [
             0.5,
             "#f7f7f7"
            ],
            [
             0.6,
             "#e6f5d0"
            ],
            [
             0.7,
             "#b8e186"
            ],
            [
             0.8,
             "#7fbc41"
            ],
            [
             0.9,
             "#4d9221"
            ],
            [
             1,
             "#276419"
            ]
           ],
           "sequential": [
            [
             0,
             "#0d0887"
            ],
            [
             0.1111111111111111,
             "#46039f"
            ],
            [
             0.2222222222222222,
             "#7201a8"
            ],
            [
             0.3333333333333333,
             "#9c179e"
            ],
            [
             0.4444444444444444,
             "#bd3786"
            ],
            [
             0.5555555555555556,
             "#d8576b"
            ],
            [
             0.6666666666666666,
             "#ed7953"
            ],
            [
             0.7777777777777778,
             "#fb9f3a"
            ],
            [
             0.8888888888888888,
             "#fdca26"
            ],
            [
             1,
             "#f0f921"
            ]
           ],
           "sequentialminus": [
            [
             0,
             "#0d0887"
            ],
            [
             0.1111111111111111,
             "#46039f"
            ],
            [
             0.2222222222222222,
             "#7201a8"
            ],
            [
             0.3333333333333333,
             "#9c179e"
            ],
            [
             0.4444444444444444,
             "#bd3786"
            ],
            [
             0.5555555555555556,
             "#d8576b"
            ],
            [
             0.6666666666666666,
             "#ed7953"
            ],
            [
             0.7777777777777778,
             "#fb9f3a"
            ],
            [
             0.8888888888888888,
             "#fdca26"
            ],
            [
             1,
             "#f0f921"
            ]
           ]
          },
          "colorway": [
           "#636efa",
           "#EF553B",
           "#00cc96",
           "#ab63fa",
           "#FFA15A",
           "#19d3f3",
           "#FF6692",
           "#B6E880",
           "#FF97FF",
           "#FECB52"
          ],
          "font": {
           "color": "#2a3f5f"
          },
          "geo": {
           "bgcolor": "white",
           "lakecolor": "white",
           "landcolor": "#E5ECF6",
           "showlakes": true,
           "showland": true,
           "subunitcolor": "white"
          },
          "hoverlabel": {
           "align": "left"
          },
          "hovermode": "closest",
          "mapbox": {
           "style": "light"
          },
          "paper_bgcolor": "white",
          "plot_bgcolor": "#E5ECF6",
          "polar": {
           "angularaxis": {
            "gridcolor": "white",
            "linecolor": "white",
            "ticks": ""
           },
           "bgcolor": "#E5ECF6",
           "radialaxis": {
            "gridcolor": "white",
            "linecolor": "white",
            "ticks": ""
           }
          },
          "scene": {
           "xaxis": {
            "backgroundcolor": "#E5ECF6",
            "gridcolor": "white",
            "gridwidth": 2,
            "linecolor": "white",
            "showbackground": true,
            "ticks": "",
            "zerolinecolor": "white"
           },
           "yaxis": {
            "backgroundcolor": "#E5ECF6",
            "gridcolor": "white",
            "gridwidth": 2,
            "linecolor": "white",
            "showbackground": true,
            "ticks": "",
            "zerolinecolor": "white"
           },
           "zaxis": {
            "backgroundcolor": "#E5ECF6",
            "gridcolor": "white",
            "gridwidth": 2,
            "linecolor": "white",
            "showbackground": true,
            "ticks": "",
            "zerolinecolor": "white"
           }
          },
          "shapedefaults": {
           "line": {
            "color": "#2a3f5f"
           }
          },
          "ternary": {
           "aaxis": {
            "gridcolor": "white",
            "linecolor": "white",
            "ticks": ""
           },
           "baxis": {
            "gridcolor": "white",
            "linecolor": "white",
            "ticks": ""
           },
           "bgcolor": "#E5ECF6",
           "caxis": {
            "gridcolor": "white",
            "linecolor": "white",
            "ticks": ""
           }
          },
          "title": {
           "x": 0.05
          },
          "xaxis": {
           "automargin": true,
           "gridcolor": "white",
           "linecolor": "white",
           "ticks": "",
           "title": {
            "standoff": 15
           },
           "zerolinecolor": "white",
           "zerolinewidth": 2
          },
          "yaxis": {
           "automargin": true,
           "gridcolor": "white",
           "linecolor": "white",
           "ticks": "",
           "title": {
            "standoff": 15
           },
           "zerolinecolor": "white",
           "zerolinewidth": 2
          }
         }
        },
        "title": {
         "text": "Mean Vaccination percent for 1 dose by County"
        },
        "xaxis": {
         "anchor": "y",
         "categoryorder": "total ascending",
         "domain": [
          0,
          1
         ],
         "tickangle": 45,
         "title": {
          "text": "Counties"
         }
        },
        "yaxis": {
         "anchor": "x",
         "domain": [
          0,
          1
         ],
         "title": {
          "text": "Mean % 1 Dose"
         }
        }
       }
      }
     },
     "metadata": {},
     "output_type": "display_data"
    }
   ],
   "source": [
    "vaccinated_municipallity_and_age = pd.read_excel(\"Data/Folkhalsomyndigheten_Covid19_Vaccine.xlsx\", sheet_name=\"Vaccinerade kommun och ålder\")\n",
    "df = pd.DataFrame(vaccinated_municipallity_and_age)\n",
    "\n",
    "county_1_dose_means = df.groupby('Län_namn')['Andel minst 1 dos'].mean()\n",
    "\n",
    "data = {\n",
    "    'Counties': county_1_dose_means.index,\n",
    "    'Mean % 1 Dose': county_1_dose_means.values * 100,\n",
    "}\n",
    "\n",
    "fig = px.bar(\n",
    "    data, \n",
    "    x='Counties', \n",
    "    y='Mean % 1 Dose',\n",
    "    labels={'value': 'Mean % Vaccination Rate', 'variable': 'Number of doses'},\n",
    "    title='Mean Vaccination percent for 1 dose by County',\n",
    "    barmode='group',\n",
    "    color='Mean % 1 Dose'\n",
    ").update_xaxes(tickangle=45, categoryorder='total ascending').show()\n"
   ]
  },
  {
   "cell_type": "markdown",
   "metadata": {},
   "source": [
    "Above we see that the vaccination rate for dose one are quite similar in each county, but in top we find Gotland (who also had the lowest number of cases) and in the bottom we'll find Kronoberg. Kronoberg was in our previous question in the middle of number of cases per 100000 citizens."
   ]
  },
  {
   "cell_type": "code",
   "execution_count": 258,
   "metadata": {},
   "outputs": [
    {
     "data": {
      "application/vnd.plotly.v1+json": {
       "config": {
        "plotlyServerURL": "https://plot.ly"
       },
       "data": [
        {
         "alignmentgroup": "True",
         "hovertemplate": "County=%{x}<br>Percentage of Hospitalizations=%{y}<extra></extra>",
         "legendgroup": "",
         "marker": {
          "color": "#636efa",
          "pattern": {
           "shape": ""
          }
         },
         "name": "",
         "offsetgroup": "",
         "orientation": "v",
         "showlegend": false,
         "textposition": "auto",
         "type": "bar",
         "x": [
          "Blekinge",
          "Dalarna",
          "Gotland",
          "Gävleborg",
          "Halland",
          "Jämtland Härjedalen",
          "Jönköping",
          "Kalmar",
          "Kronoberg",
          "Norrbotten",
          "Skåne",
          "Stockholm",
          "Sörmland",
          "Uppsala",
          "Värmland",
          "Västerbotten",
          "Västernorrland",
          "Västmanland",
          "Västra Götaland",
          "Örebro",
          "Östergötland"
         ],
         "xaxis": "x",
         "y": [
          0.27592027527105106,
          0.34659734719722723,
          0.3875315922493682,
          0.4439867873811466,
          0.20969759399602678,
          0.27687106551643736,
          0.4620690424902619,
          0.21522518931845358,
          0.3151383107030308,
          0.5264922209295447,
          0.23635408670356753,
          0.4362174259378675,
          0.6545583205566694,
          0.49319982065461065,
          0.27883726306056406,
          0.3245294323231315,
          0.38649235920635483,
          0.19906592144552485,
          0.37560884437228514,
          0.27935788173849674,
          0.4457275996555742
         ],
         "yaxis": "y"
        }
       ],
       "layout": {
        "barmode": "relative",
        "legend": {
         "tracegroupgap": 0
        },
        "template": {
         "data": {
          "bar": [
           {
            "error_x": {
             "color": "#2a3f5f"
            },
            "error_y": {
             "color": "#2a3f5f"
            },
            "marker": {
             "line": {
              "color": "#E5ECF6",
              "width": 0.5
             },
             "pattern": {
              "fillmode": "overlay",
              "size": 10,
              "solidity": 0.2
             }
            },
            "type": "bar"
           }
          ],
          "barpolar": [
           {
            "marker": {
             "line": {
              "color": "#E5ECF6",
              "width": 0.5
             },
             "pattern": {
              "fillmode": "overlay",
              "size": 10,
              "solidity": 0.2
             }
            },
            "type": "barpolar"
           }
          ],
          "carpet": [
           {
            "aaxis": {
             "endlinecolor": "#2a3f5f",
             "gridcolor": "white",
             "linecolor": "white",
             "minorgridcolor": "white",
             "startlinecolor": "#2a3f5f"
            },
            "baxis": {
             "endlinecolor": "#2a3f5f",
             "gridcolor": "white",
             "linecolor": "white",
             "minorgridcolor": "white",
             "startlinecolor": "#2a3f5f"
            },
            "type": "carpet"
           }
          ],
          "choropleth": [
           {
            "colorbar": {
             "outlinewidth": 0,
             "ticks": ""
            },
            "type": "choropleth"
           }
          ],
          "contour": [
           {
            "colorbar": {
             "outlinewidth": 0,
             "ticks": ""
            },
            "colorscale": [
             [
              0,
              "#0d0887"
             ],
             [
              0.1111111111111111,
              "#46039f"
             ],
             [
              0.2222222222222222,
              "#7201a8"
             ],
             [
              0.3333333333333333,
              "#9c179e"
             ],
             [
              0.4444444444444444,
              "#bd3786"
             ],
             [
              0.5555555555555556,
              "#d8576b"
             ],
             [
              0.6666666666666666,
              "#ed7953"
             ],
             [
              0.7777777777777778,
              "#fb9f3a"
             ],
             [
              0.8888888888888888,
              "#fdca26"
             ],
             [
              1,
              "#f0f921"
             ]
            ],
            "type": "contour"
           }
          ],
          "contourcarpet": [
           {
            "colorbar": {
             "outlinewidth": 0,
             "ticks": ""
            },
            "type": "contourcarpet"
           }
          ],
          "heatmap": [
           {
            "colorbar": {
             "outlinewidth": 0,
             "ticks": ""
            },
            "colorscale": [
             [
              0,
              "#0d0887"
             ],
             [
              0.1111111111111111,
              "#46039f"
             ],
             [
              0.2222222222222222,
              "#7201a8"
             ],
             [
              0.3333333333333333,
              "#9c179e"
             ],
             [
              0.4444444444444444,
              "#bd3786"
             ],
             [
              0.5555555555555556,
              "#d8576b"
             ],
             [
              0.6666666666666666,
              "#ed7953"
             ],
             [
              0.7777777777777778,
              "#fb9f3a"
             ],
             [
              0.8888888888888888,
              "#fdca26"
             ],
             [
              1,
              "#f0f921"
             ]
            ],
            "type": "heatmap"
           }
          ],
          "heatmapgl": [
           {
            "colorbar": {
             "outlinewidth": 0,
             "ticks": ""
            },
            "colorscale": [
             [
              0,
              "#0d0887"
             ],
             [
              0.1111111111111111,
              "#46039f"
             ],
             [
              0.2222222222222222,
              "#7201a8"
             ],
             [
              0.3333333333333333,
              "#9c179e"
             ],
             [
              0.4444444444444444,
              "#bd3786"
             ],
             [
              0.5555555555555556,
              "#d8576b"
             ],
             [
              0.6666666666666666,
              "#ed7953"
             ],
             [
              0.7777777777777778,
              "#fb9f3a"
             ],
             [
              0.8888888888888888,
              "#fdca26"
             ],
             [
              1,
              "#f0f921"
             ]
            ],
            "type": "heatmapgl"
           }
          ],
          "histogram": [
           {
            "marker": {
             "pattern": {
              "fillmode": "overlay",
              "size": 10,
              "solidity": 0.2
             }
            },
            "type": "histogram"
           }
          ],
          "histogram2d": [
           {
            "colorbar": {
             "outlinewidth": 0,
             "ticks": ""
            },
            "colorscale": [
             [
              0,
              "#0d0887"
             ],
             [
              0.1111111111111111,
              "#46039f"
             ],
             [
              0.2222222222222222,
              "#7201a8"
             ],
             [
              0.3333333333333333,
              "#9c179e"
             ],
             [
              0.4444444444444444,
              "#bd3786"
             ],
             [
              0.5555555555555556,
              "#d8576b"
             ],
             [
              0.6666666666666666,
              "#ed7953"
             ],
             [
              0.7777777777777778,
              "#fb9f3a"
             ],
             [
              0.8888888888888888,
              "#fdca26"
             ],
             [
              1,
              "#f0f921"
             ]
            ],
            "type": "histogram2d"
           }
          ],
          "histogram2dcontour": [
           {
            "colorbar": {
             "outlinewidth": 0,
             "ticks": ""
            },
            "colorscale": [
             [
              0,
              "#0d0887"
             ],
             [
              0.1111111111111111,
              "#46039f"
             ],
             [
              0.2222222222222222,
              "#7201a8"
             ],
             [
              0.3333333333333333,
              "#9c179e"
             ],
             [
              0.4444444444444444,
              "#bd3786"
             ],
             [
              0.5555555555555556,
              "#d8576b"
             ],
             [
              0.6666666666666666,
              "#ed7953"
             ],
             [
              0.7777777777777778,
              "#fb9f3a"
             ],
             [
              0.8888888888888888,
              "#fdca26"
             ],
             [
              1,
              "#f0f921"
             ]
            ],
            "type": "histogram2dcontour"
           }
          ],
          "mesh3d": [
           {
            "colorbar": {
             "outlinewidth": 0,
             "ticks": ""
            },
            "type": "mesh3d"
           }
          ],
          "parcoords": [
           {
            "line": {
             "colorbar": {
              "outlinewidth": 0,
              "ticks": ""
             }
            },
            "type": "parcoords"
           }
          ],
          "pie": [
           {
            "automargin": true,
            "type": "pie"
           }
          ],
          "scatter": [
           {
            "fillpattern": {
             "fillmode": "overlay",
             "size": 10,
             "solidity": 0.2
            },
            "type": "scatter"
           }
          ],
          "scatter3d": [
           {
            "line": {
             "colorbar": {
              "outlinewidth": 0,
              "ticks": ""
             }
            },
            "marker": {
             "colorbar": {
              "outlinewidth": 0,
              "ticks": ""
             }
            },
            "type": "scatter3d"
           }
          ],
          "scattercarpet": [
           {
            "marker": {
             "colorbar": {
              "outlinewidth": 0,
              "ticks": ""
             }
            },
            "type": "scattercarpet"
           }
          ],
          "scattergeo": [
           {
            "marker": {
             "colorbar": {
              "outlinewidth": 0,
              "ticks": ""
             }
            },
            "type": "scattergeo"
           }
          ],
          "scattergl": [
           {
            "marker": {
             "colorbar": {
              "outlinewidth": 0,
              "ticks": ""
             }
            },
            "type": "scattergl"
           }
          ],
          "scattermapbox": [
           {
            "marker": {
             "colorbar": {
              "outlinewidth": 0,
              "ticks": ""
             }
            },
            "type": "scattermapbox"
           }
          ],
          "scatterpolar": [
           {
            "marker": {
             "colorbar": {
              "outlinewidth": 0,
              "ticks": ""
             }
            },
            "type": "scatterpolar"
           }
          ],
          "scatterpolargl": [
           {
            "marker": {
             "colorbar": {
              "outlinewidth": 0,
              "ticks": ""
             }
            },
            "type": "scatterpolargl"
           }
          ],
          "scatterternary": [
           {
            "marker": {
             "colorbar": {
              "outlinewidth": 0,
              "ticks": ""
             }
            },
            "type": "scatterternary"
           }
          ],
          "surface": [
           {
            "colorbar": {
             "outlinewidth": 0,
             "ticks": ""
            },
            "colorscale": [
             [
              0,
              "#0d0887"
             ],
             [
              0.1111111111111111,
              "#46039f"
             ],
             [
              0.2222222222222222,
              "#7201a8"
             ],
             [
              0.3333333333333333,
              "#9c179e"
             ],
             [
              0.4444444444444444,
              "#bd3786"
             ],
             [
              0.5555555555555556,
              "#d8576b"
             ],
             [
              0.6666666666666666,
              "#ed7953"
             ],
             [
              0.7777777777777778,
              "#fb9f3a"
             ],
             [
              0.8888888888888888,
              "#fdca26"
             ],
             [
              1,
              "#f0f921"
             ]
            ],
            "type": "surface"
           }
          ],
          "table": [
           {
            "cells": {
             "fill": {
              "color": "#EBF0F8"
             },
             "line": {
              "color": "white"
             }
            },
            "header": {
             "fill": {
              "color": "#C8D4E3"
             },
             "line": {
              "color": "white"
             }
            },
            "type": "table"
           }
          ]
         },
         "layout": {
          "annotationdefaults": {
           "arrowcolor": "#2a3f5f",
           "arrowhead": 0,
           "arrowwidth": 1
          },
          "autotypenumbers": "strict",
          "coloraxis": {
           "colorbar": {
            "outlinewidth": 0,
            "ticks": ""
           }
          },
          "colorscale": {
           "diverging": [
            [
             0,
             "#8e0152"
            ],
            [
             0.1,
             "#c51b7d"
            ],
            [
             0.2,
             "#de77ae"
            ],
            [
             0.3,
             "#f1b6da"
            ],
            [
             0.4,
             "#fde0ef"
            ],
            [
             0.5,
             "#f7f7f7"
            ],
            [
             0.6,
             "#e6f5d0"
            ],
            [
             0.7,
             "#b8e186"
            ],
            [
             0.8,
             "#7fbc41"
            ],
            [
             0.9,
             "#4d9221"
            ],
            [
             1,
             "#276419"
            ]
           ],
           "sequential": [
            [
             0,
             "#0d0887"
            ],
            [
             0.1111111111111111,
             "#46039f"
            ],
            [
             0.2222222222222222,
             "#7201a8"
            ],
            [
             0.3333333333333333,
             "#9c179e"
            ],
            [
             0.4444444444444444,
             "#bd3786"
            ],
            [
             0.5555555555555556,
             "#d8576b"
            ],
            [
             0.6666666666666666,
             "#ed7953"
            ],
            [
             0.7777777777777778,
             "#fb9f3a"
            ],
            [
             0.8888888888888888,
             "#fdca26"
            ],
            [
             1,
             "#f0f921"
            ]
           ],
           "sequentialminus": [
            [
             0,
             "#0d0887"
            ],
            [
             0.1111111111111111,
             "#46039f"
            ],
            [
             0.2222222222222222,
             "#7201a8"
            ],
            [
             0.3333333333333333,
             "#9c179e"
            ],
            [
             0.4444444444444444,
             "#bd3786"
            ],
            [
             0.5555555555555556,
             "#d8576b"
            ],
            [
             0.6666666666666666,
             "#ed7953"
            ],
            [
             0.7777777777777778,
             "#fb9f3a"
            ],
            [
             0.8888888888888888,
             "#fdca26"
            ],
            [
             1,
             "#f0f921"
            ]
           ]
          },
          "colorway": [
           "#636efa",
           "#EF553B",
           "#00cc96",
           "#ab63fa",
           "#FFA15A",
           "#19d3f3",
           "#FF6692",
           "#B6E880",
           "#FF97FF",
           "#FECB52"
          ],
          "font": {
           "color": "#2a3f5f"
          },
          "geo": {
           "bgcolor": "white",
           "lakecolor": "white",
           "landcolor": "#E5ECF6",
           "showlakes": true,
           "showland": true,
           "subunitcolor": "white"
          },
          "hoverlabel": {
           "align": "left"
          },
          "hovermode": "closest",
          "mapbox": {
           "style": "light"
          },
          "paper_bgcolor": "white",
          "plot_bgcolor": "#E5ECF6",
          "polar": {
           "angularaxis": {
            "gridcolor": "white",
            "linecolor": "white",
            "ticks": ""
           },
           "bgcolor": "#E5ECF6",
           "radialaxis": {
            "gridcolor": "white",
            "linecolor": "white",
            "ticks": ""
           }
          },
          "scene": {
           "xaxis": {
            "backgroundcolor": "#E5ECF6",
            "gridcolor": "white",
            "gridwidth": 2,
            "linecolor": "white",
            "showbackground": true,
            "ticks": "",
            "zerolinecolor": "white"
           },
           "yaxis": {
            "backgroundcolor": "#E5ECF6",
            "gridcolor": "white",
            "gridwidth": 2,
            "linecolor": "white",
            "showbackground": true,
            "ticks": "",
            "zerolinecolor": "white"
           },
           "zaxis": {
            "backgroundcolor": "#E5ECF6",
            "gridcolor": "white",
            "gridwidth": 2,
            "linecolor": "white",
            "showbackground": true,
            "ticks": "",
            "zerolinecolor": "white"
           }
          },
          "shapedefaults": {
           "line": {
            "color": "#2a3f5f"
           }
          },
          "ternary": {
           "aaxis": {
            "gridcolor": "white",
            "linecolor": "white",
            "ticks": ""
           },
           "baxis": {
            "gridcolor": "white",
            "linecolor": "white",
            "ticks": ""
           },
           "bgcolor": "#E5ECF6",
           "caxis": {
            "gridcolor": "white",
            "linecolor": "white",
            "ticks": ""
           }
          },
          "title": {
           "x": 0.05
          },
          "xaxis": {
           "automargin": true,
           "gridcolor": "white",
           "linecolor": "white",
           "ticks": "",
           "title": {
            "standoff": 15
           },
           "zerolinecolor": "white",
           "zerolinewidth": 2
          },
          "yaxis": {
           "automargin": true,
           "gridcolor": "white",
           "linecolor": "white",
           "ticks": "",
           "title": {
            "standoff": 15
           },
           "zerolinecolor": "white",
           "zerolinewidth": 2
          }
         }
        },
        "title": {
         "text": "Percentage of Hospitalizations by County"
        },
        "xaxis": {
         "anchor": "y",
         "categoryorder": "total ascending",
         "domain": [
          0,
          1
         ],
         "title": {
          "text": "County"
         }
        },
        "yaxis": {
         "anchor": "x",
         "domain": [
          0,
          1
         ],
         "title": {
          "text": "Percentage of Hospitalizations"
         }
        }
       }
      }
     },
     "metadata": {},
     "output_type": "display_data"
    }
   ],
   "source": [
    "total_number_of_cases_county = weekly_data_county.groupby('Region')['Kum_antal_fall'].max()\n",
    "total_number_of_hospitalized_county = weekly_data_county.groupby('Region')['Kum_antal_intensivvårdade'].max()\n",
    "percentage_hospitalization_cases = total_number_of_hospitalized_county / total_number_of_cases_county * 100\n",
    "\n",
    "data = {\n",
    "    'County': percentage_hospitalization_cases.index,\n",
    "    'Percentage Hospitalization': percentage_hospitalization_cases.values\n",
    "}\n",
    "\n",
    "fig = px.bar(\n",
    "    data, \n",
    "    x='County', \n",
    "    y='Percentage Hospitalization', \n",
    "    labels={'Percentage Hospitalization': 'Percentage of Hospitalizations'},\n",
    "    title='Percentage of Hospitalizations by County'\n",
    ").update_xaxes(categoryorder='total ascending').show()"
   ]
  },
  {
   "cell_type": "markdown",
   "metadata": {},
   "source": [
    "The lowest percentage of hospitallization we find in Västmanland. They are found in the bottom of vaccination rate for dose one and in the top we have Sörmland (or Södermanland), found in the middle. So it seems like it hard to prove a realation between dose number on a the minimazation of hospitalizations. But quite clear is that number of hospitalizations in Sörmland in relation to number of cases where a lot more then the rest of the country. "
   ]
  },
  {
   "cell_type": "markdown",
   "metadata": {},
   "source": [
    "#### 2.3 **Case Fatality Rate (CFR):** The percentage of confirmed COVID-19 cases that resulted in death. Formula: (Number of deaths due to COVID-19 / Total number of confirmed COVID-19 cases) * 100."
   ]
  },
  {
   "cell_type": "markdown",
   "metadata": {},
   "source": [
    "To answer this question we'll use the sheet with total number per county. Down below we can see the whole content in our sheet."
   ]
  },
  {
   "cell_type": "code",
   "execution_count": 259,
   "metadata": {},
   "outputs": [
    {
     "data": {
      "text/html": [
       "<div>\n",
       "<style scoped>\n",
       "    .dataframe tbody tr th:only-of-type {\n",
       "        vertical-align: middle;\n",
       "    }\n",
       "\n",
       "    .dataframe tbody tr th {\n",
       "        vertical-align: top;\n",
       "    }\n",
       "\n",
       "    .dataframe thead th {\n",
       "        text-align: right;\n",
       "    }\n",
       "</style>\n",
       "<table border=\"1\" class=\"dataframe\">\n",
       "  <thead>\n",
       "    <tr style=\"text-align: right;\">\n",
       "      <th></th>\n",
       "      <th>Region</th>\n",
       "      <th>Totalt_antal_fall</th>\n",
       "      <th>Fall_per_100000_inv</th>\n",
       "      <th>Totalt_antal_intensivvårdade</th>\n",
       "      <th>Totalt_antal_avlidna</th>\n",
       "    </tr>\n",
       "  </thead>\n",
       "  <tbody>\n",
       "    <tr>\n",
       "      <th>0</th>\n",
       "      <td>Blekinge</td>\n",
       "      <td>30829</td>\n",
       "      <td>19371.449951</td>\n",
       "      <td>85</td>\n",
       "      <td>184</td>\n",
       "    </tr>\n",
       "    <tr>\n",
       "      <th>1</th>\n",
       "      <td>Dalarna</td>\n",
       "      <td>75091</td>\n",
       "      <td>26098.780273</td>\n",
       "      <td>260</td>\n",
       "      <td>544</td>\n",
       "    </tr>\n",
       "    <tr>\n",
       "      <th>2</th>\n",
       "      <td>Gotland</td>\n",
       "      <td>11874</td>\n",
       "      <td>19776.671875</td>\n",
       "      <td>46</td>\n",
       "      <td>82</td>\n",
       "    </tr>\n",
       "    <tr>\n",
       "      <th>3</th>\n",
       "      <td>Gävleborg</td>\n",
       "      <td>74803</td>\n",
       "      <td>26020.503418</td>\n",
       "      <td>332</td>\n",
       "      <td>754</td>\n",
       "    </tr>\n",
       "    <tr>\n",
       "      <th>4</th>\n",
       "      <td>Halland</td>\n",
       "      <td>108822</td>\n",
       "      <td>32349.047119</td>\n",
       "      <td>229</td>\n",
       "      <td>518</td>\n",
       "    </tr>\n",
       "    <tr>\n",
       "      <th>5</th>\n",
       "      <td>Jämtland Härjedalen</td>\n",
       "      <td>34347</td>\n",
       "      <td>26197.373535</td>\n",
       "      <td>95</td>\n",
       "      <td>197</td>\n",
       "    </tr>\n",
       "    <tr>\n",
       "      <th>6</th>\n",
       "      <td>Jönköping</td>\n",
       "      <td>89662</td>\n",
       "      <td>24583.161133</td>\n",
       "      <td>414</td>\n",
       "      <td>756</td>\n",
       "    </tr>\n",
       "    <tr>\n",
       "      <th>7</th>\n",
       "      <td>Kalmar</td>\n",
       "      <td>62810</td>\n",
       "      <td>25537.878418</td>\n",
       "      <td>135</td>\n",
       "      <td>385</td>\n",
       "    </tr>\n",
       "    <tr>\n",
       "      <th>8</th>\n",
       "      <td>Kronoberg</td>\n",
       "      <td>51460</td>\n",
       "      <td>25460.141602</td>\n",
       "      <td>162</td>\n",
       "      <td>410</td>\n",
       "    </tr>\n",
       "    <tr>\n",
       "      <th>9</th>\n",
       "      <td>Norrbotten</td>\n",
       "      <td>50755</td>\n",
       "      <td>20327.326904</td>\n",
       "      <td>267</td>\n",
       "      <td>459</td>\n",
       "    </tr>\n",
       "    <tr>\n",
       "      <th>10</th>\n",
       "      <td>Skåne</td>\n",
       "      <td>346727</td>\n",
       "      <td>24998.670410</td>\n",
       "      <td>819</td>\n",
       "      <td>2587</td>\n",
       "    </tr>\n",
       "    <tr>\n",
       "      <th>11</th>\n",
       "      <td>Stockholm</td>\n",
       "      <td>606611</td>\n",
       "      <td>25391.749023</td>\n",
       "      <td>2645</td>\n",
       "      <td>5626</td>\n",
       "    </tr>\n",
       "    <tr>\n",
       "      <th>12</th>\n",
       "      <td>Sörmland</td>\n",
       "      <td>67918</td>\n",
       "      <td>22704.283447</td>\n",
       "      <td>446</td>\n",
       "      <td>662</td>\n",
       "    </tr>\n",
       "    <tr>\n",
       "      <th>13</th>\n",
       "      <td>Uppsala</td>\n",
       "      <td>93746</td>\n",
       "      <td>24194.380859</td>\n",
       "      <td>462</td>\n",
       "      <td>722</td>\n",
       "    </tr>\n",
       "    <tr>\n",
       "      <th>14</th>\n",
       "      <td>Värmland</td>\n",
       "      <td>69277</td>\n",
       "      <td>24493.155029</td>\n",
       "      <td>193</td>\n",
       "      <td>411</td>\n",
       "    </tr>\n",
       "    <tr>\n",
       "      <th>15</th>\n",
       "      <td>Västerbotten</td>\n",
       "      <td>60186</td>\n",
       "      <td>22047.432129</td>\n",
       "      <td>195</td>\n",
       "      <td>393</td>\n",
       "    </tr>\n",
       "    <tr>\n",
       "      <th>16</th>\n",
       "      <td>Västernorrland</td>\n",
       "      <td>56224</td>\n",
       "      <td>22976.456543</td>\n",
       "      <td>217</td>\n",
       "      <td>678</td>\n",
       "    </tr>\n",
       "    <tr>\n",
       "      <th>17</th>\n",
       "      <td>Västmanland</td>\n",
       "      <td>78438</td>\n",
       "      <td>28326.636230</td>\n",
       "      <td>156</td>\n",
       "      <td>534</td>\n",
       "    </tr>\n",
       "    <tr>\n",
       "      <th>18</th>\n",
       "      <td>Västra Götaland</td>\n",
       "      <td>444278</td>\n",
       "      <td>25636.465332</td>\n",
       "      <td>1670</td>\n",
       "      <td>3342</td>\n",
       "    </tr>\n",
       "    <tr>\n",
       "      <th>19</th>\n",
       "      <td>Örebro</td>\n",
       "      <td>98929</td>\n",
       "      <td>32379.776855</td>\n",
       "      <td>276</td>\n",
       "      <td>525</td>\n",
       "    </tr>\n",
       "    <tr>\n",
       "      <th>20</th>\n",
       "      <td>Östergötland</td>\n",
       "      <td>98793</td>\n",
       "      <td>21158.707031</td>\n",
       "      <td>440</td>\n",
       "      <td>890</td>\n",
       "    </tr>\n",
       "  </tbody>\n",
       "</table>\n",
       "</div>"
      ],
      "text/plain": [
       "                 Region  Totalt_antal_fall  Fall_per_100000_inv  \\\n",
       "0              Blekinge              30829         19371.449951   \n",
       "1               Dalarna              75091         26098.780273   \n",
       "2               Gotland              11874         19776.671875   \n",
       "3             Gävleborg              74803         26020.503418   \n",
       "4               Halland             108822         32349.047119   \n",
       "5   Jämtland Härjedalen              34347         26197.373535   \n",
       "6             Jönköping              89662         24583.161133   \n",
       "7                Kalmar              62810         25537.878418   \n",
       "8             Kronoberg              51460         25460.141602   \n",
       "9            Norrbotten              50755         20327.326904   \n",
       "10                Skåne             346727         24998.670410   \n",
       "11            Stockholm             606611         25391.749023   \n",
       "12             Sörmland              67918         22704.283447   \n",
       "13              Uppsala              93746         24194.380859   \n",
       "14             Värmland              69277         24493.155029   \n",
       "15         Västerbotten              60186         22047.432129   \n",
       "16       Västernorrland              56224         22976.456543   \n",
       "17          Västmanland              78438         28326.636230   \n",
       "18      Västra Götaland             444278         25636.465332   \n",
       "19               Örebro              98929         32379.776855   \n",
       "20         Östergötland              98793         21158.707031   \n",
       "\n",
       "    Totalt_antal_intensivvårdade  Totalt_antal_avlidna  \n",
       "0                             85                   184  \n",
       "1                            260                   544  \n",
       "2                             46                    82  \n",
       "3                            332                   754  \n",
       "4                            229                   518  \n",
       "5                             95                   197  \n",
       "6                            414                   756  \n",
       "7                            135                   385  \n",
       "8                            162                   410  \n",
       "9                            267                   459  \n",
       "10                           819                  2587  \n",
       "11                          2645                  5626  \n",
       "12                           446                   662  \n",
       "13                           462                   722  \n",
       "14                           193                   411  \n",
       "15                           195                   393  \n",
       "16                           217                   678  \n",
       "17                           156                   534  \n",
       "18                          1670                  3342  \n",
       "19                           276                   525  \n",
       "20                           440                   890  "
      ]
     },
     "execution_count": 259,
     "metadata": {},
     "output_type": "execute_result"
    }
   ],
   "source": [
    "total_by_region = pd.read_excel(\"Data/Folkhalsomyndigheten_Covid19.xlsx\", sheet_name=\"Totalt antal per region\")\n",
    "totals_per_region = pd.DataFrame(total_by_region)\n",
    "totals_per_region.head(22)"
   ]
  },
  {
   "cell_type": "markdown",
   "metadata": {},
   "source": [
    "If we divide the total number of deseaced with total number of cases (per county), we'll find the case facility rate (CFR) per county. Below we find that the county with the highest CFR where Västernorrland. Quite surprisingly, the county was in the middle of our previous explorations. They where way below the highest number of cases as well as hospitalisations rate. Why more people died from the desease in Västernorrland is hard to tell from our data. One reason could be distance to emergency careand another coluld be higher mean age ([SCB](https://www.statistikdatabasen.scb.se/pxweb/sv/ssd/START__BE__BE0101__BE0101B/BefolkningMedelAlder/sortedtable/tableViewSorted/)). The conclusion to draw from below is that it were in Halland or Örebro (whom also had the highest number of citizens infected) fewer people died from the disease. As mentioned previous all conties had different approch to who they tested and not, hence the number of total cases might not be a valid data to use."
   ]
  },
  {
   "cell_type": "code",
   "execution_count": 260,
   "metadata": {},
   "outputs": [
    {
     "data": {
      "application/vnd.plotly.v1+json": {
       "config": {
        "plotlyServerURL": "https://plot.ly"
       },
       "data": [
        {
         "alignmentgroup": "True",
         "hovertemplate": "County=%{x}<br>Case Facility Rate (CFR) %=%{y}<br>color=%{marker.color}<extra></extra>",
         "legendgroup": "",
         "marker": {
          "color": [
           0.5968406370625061,
           0.724454328747786,
           0.6905844702711808,
           1.0079809633303478,
           0.4760066898237489,
           0.5735580982327423,
           0.8431665588543642,
           0.6129597197898424,
           0.7967353284104158,
           0.9043443995665451,
           0.746120146397598,
           0.9274477383364298,
           0.9747047910715864,
           0.7701661937576003,
           0.593270493814686,
           0.6529757750971986,
           1.2058907228229938,
           0.6807924730360284,
           0.7522317107756855,
           0.530683621587199,
           0.9008735436721226
          ],
          "coloraxis": "coloraxis",
          "pattern": {
           "shape": ""
          }
         },
         "name": "",
         "offsetgroup": "",
         "orientation": "v",
         "showlegend": false,
         "textposition": "auto",
         "type": "bar",
         "x": [
          "Blekinge",
          "Dalarna",
          "Gotland",
          "Gävleborg",
          "Halland",
          "Jämtland Härjedalen",
          "Jönköping",
          "Kalmar",
          "Kronoberg",
          "Norrbotten",
          "Skåne",
          "Stockholm",
          "Sörmland",
          "Uppsala",
          "Värmland",
          "Västerbotten",
          "Västernorrland",
          "Västmanland",
          "Västra Götaland",
          "Örebro",
          "Östergötland"
         ],
         "xaxis": "x",
         "y": [
          0.5968406370625061,
          0.724454328747786,
          0.6905844702711808,
          1.0079809633303478,
          0.4760066898237489,
          0.5735580982327423,
          0.8431665588543642,
          0.6129597197898424,
          0.7967353284104158,
          0.9043443995665451,
          0.746120146397598,
          0.9274477383364298,
          0.9747047910715864,
          0.7701661937576003,
          0.593270493814686,
          0.6529757750971986,
          1.2058907228229938,
          0.6807924730360284,
          0.7522317107756855,
          0.530683621587199,
          0.9008735436721226
         ],
         "yaxis": "y"
        }
       ],
       "layout": {
        "barmode": "relative",
        "coloraxis": {
         "colorbar": {
          "title": {
           "text": "color"
          }
         },
         "colorscale": [
          [
           0,
           "#0d0887"
          ],
          [
           0.1111111111111111,
           "#46039f"
          ],
          [
           0.2222222222222222,
           "#7201a8"
          ],
          [
           0.3333333333333333,
           "#9c179e"
          ],
          [
           0.4444444444444444,
           "#bd3786"
          ],
          [
           0.5555555555555556,
           "#d8576b"
          ],
          [
           0.6666666666666666,
           "#ed7953"
          ],
          [
           0.7777777777777778,
           "#fb9f3a"
          ],
          [
           0.8888888888888888,
           "#fdca26"
          ],
          [
           1,
           "#f0f921"
          ]
         ]
        },
        "legend": {
         "tracegroupgap": 0
        },
        "template": {
         "data": {
          "bar": [
           {
            "error_x": {
             "color": "#2a3f5f"
            },
            "error_y": {
             "color": "#2a3f5f"
            },
            "marker": {
             "line": {
              "color": "#E5ECF6",
              "width": 0.5
             },
             "pattern": {
              "fillmode": "overlay",
              "size": 10,
              "solidity": 0.2
             }
            },
            "type": "bar"
           }
          ],
          "barpolar": [
           {
            "marker": {
             "line": {
              "color": "#E5ECF6",
              "width": 0.5
             },
             "pattern": {
              "fillmode": "overlay",
              "size": 10,
              "solidity": 0.2
             }
            },
            "type": "barpolar"
           }
          ],
          "carpet": [
           {
            "aaxis": {
             "endlinecolor": "#2a3f5f",
             "gridcolor": "white",
             "linecolor": "white",
             "minorgridcolor": "white",
             "startlinecolor": "#2a3f5f"
            },
            "baxis": {
             "endlinecolor": "#2a3f5f",
             "gridcolor": "white",
             "linecolor": "white",
             "minorgridcolor": "white",
             "startlinecolor": "#2a3f5f"
            },
            "type": "carpet"
           }
          ],
          "choropleth": [
           {
            "colorbar": {
             "outlinewidth": 0,
             "ticks": ""
            },
            "type": "choropleth"
           }
          ],
          "contour": [
           {
            "colorbar": {
             "outlinewidth": 0,
             "ticks": ""
            },
            "colorscale": [
             [
              0,
              "#0d0887"
             ],
             [
              0.1111111111111111,
              "#46039f"
             ],
             [
              0.2222222222222222,
              "#7201a8"
             ],
             [
              0.3333333333333333,
              "#9c179e"
             ],
             [
              0.4444444444444444,
              "#bd3786"
             ],
             [
              0.5555555555555556,
              "#d8576b"
             ],
             [
              0.6666666666666666,
              "#ed7953"
             ],
             [
              0.7777777777777778,
              "#fb9f3a"
             ],
             [
              0.8888888888888888,
              "#fdca26"
             ],
             [
              1,
              "#f0f921"
             ]
            ],
            "type": "contour"
           }
          ],
          "contourcarpet": [
           {
            "colorbar": {
             "outlinewidth": 0,
             "ticks": ""
            },
            "type": "contourcarpet"
           }
          ],
          "heatmap": [
           {
            "colorbar": {
             "outlinewidth": 0,
             "ticks": ""
            },
            "colorscale": [
             [
              0,
              "#0d0887"
             ],
             [
              0.1111111111111111,
              "#46039f"
             ],
             [
              0.2222222222222222,
              "#7201a8"
             ],
             [
              0.3333333333333333,
              "#9c179e"
             ],
             [
              0.4444444444444444,
              "#bd3786"
             ],
             [
              0.5555555555555556,
              "#d8576b"
             ],
             [
              0.6666666666666666,
              "#ed7953"
             ],
             [
              0.7777777777777778,
              "#fb9f3a"
             ],
             [
              0.8888888888888888,
              "#fdca26"
             ],
             [
              1,
              "#f0f921"
             ]
            ],
            "type": "heatmap"
           }
          ],
          "heatmapgl": [
           {
            "colorbar": {
             "outlinewidth": 0,
             "ticks": ""
            },
            "colorscale": [
             [
              0,
              "#0d0887"
             ],
             [
              0.1111111111111111,
              "#46039f"
             ],
             [
              0.2222222222222222,
              "#7201a8"
             ],
             [
              0.3333333333333333,
              "#9c179e"
             ],
             [
              0.4444444444444444,
              "#bd3786"
             ],
             [
              0.5555555555555556,
              "#d8576b"
             ],
             [
              0.6666666666666666,
              "#ed7953"
             ],
             [
              0.7777777777777778,
              "#fb9f3a"
             ],
             [
              0.8888888888888888,
              "#fdca26"
             ],
             [
              1,
              "#f0f921"
             ]
            ],
            "type": "heatmapgl"
           }
          ],
          "histogram": [
           {
            "marker": {
             "pattern": {
              "fillmode": "overlay",
              "size": 10,
              "solidity": 0.2
             }
            },
            "type": "histogram"
           }
          ],
          "histogram2d": [
           {
            "colorbar": {
             "outlinewidth": 0,
             "ticks": ""
            },
            "colorscale": [
             [
              0,
              "#0d0887"
             ],
             [
              0.1111111111111111,
              "#46039f"
             ],
             [
              0.2222222222222222,
              "#7201a8"
             ],
             [
              0.3333333333333333,
              "#9c179e"
             ],
             [
              0.4444444444444444,
              "#bd3786"
             ],
             [
              0.5555555555555556,
              "#d8576b"
             ],
             [
              0.6666666666666666,
              "#ed7953"
             ],
             [
              0.7777777777777778,
              "#fb9f3a"
             ],
             [
              0.8888888888888888,
              "#fdca26"
             ],
             [
              1,
              "#f0f921"
             ]
            ],
            "type": "histogram2d"
           }
          ],
          "histogram2dcontour": [
           {
            "colorbar": {
             "outlinewidth": 0,
             "ticks": ""
            },
            "colorscale": [
             [
              0,
              "#0d0887"
             ],
             [
              0.1111111111111111,
              "#46039f"
             ],
             [
              0.2222222222222222,
              "#7201a8"
             ],
             [
              0.3333333333333333,
              "#9c179e"
             ],
             [
              0.4444444444444444,
              "#bd3786"
             ],
             [
              0.5555555555555556,
              "#d8576b"
             ],
             [
              0.6666666666666666,
              "#ed7953"
             ],
             [
              0.7777777777777778,
              "#fb9f3a"
             ],
             [
              0.8888888888888888,
              "#fdca26"
             ],
             [
              1,
              "#f0f921"
             ]
            ],
            "type": "histogram2dcontour"
           }
          ],
          "mesh3d": [
           {
            "colorbar": {
             "outlinewidth": 0,
             "ticks": ""
            },
            "type": "mesh3d"
           }
          ],
          "parcoords": [
           {
            "line": {
             "colorbar": {
              "outlinewidth": 0,
              "ticks": ""
             }
            },
            "type": "parcoords"
           }
          ],
          "pie": [
           {
            "automargin": true,
            "type": "pie"
           }
          ],
          "scatter": [
           {
            "fillpattern": {
             "fillmode": "overlay",
             "size": 10,
             "solidity": 0.2
            },
            "type": "scatter"
           }
          ],
          "scatter3d": [
           {
            "line": {
             "colorbar": {
              "outlinewidth": 0,
              "ticks": ""
             }
            },
            "marker": {
             "colorbar": {
              "outlinewidth": 0,
              "ticks": ""
             }
            },
            "type": "scatter3d"
           }
          ],
          "scattercarpet": [
           {
            "marker": {
             "colorbar": {
              "outlinewidth": 0,
              "ticks": ""
             }
            },
            "type": "scattercarpet"
           }
          ],
          "scattergeo": [
           {
            "marker": {
             "colorbar": {
              "outlinewidth": 0,
              "ticks": ""
             }
            },
            "type": "scattergeo"
           }
          ],
          "scattergl": [
           {
            "marker": {
             "colorbar": {
              "outlinewidth": 0,
              "ticks": ""
             }
            },
            "type": "scattergl"
           }
          ],
          "scattermapbox": [
           {
            "marker": {
             "colorbar": {
              "outlinewidth": 0,
              "ticks": ""
             }
            },
            "type": "scattermapbox"
           }
          ],
          "scatterpolar": [
           {
            "marker": {
             "colorbar": {
              "outlinewidth": 0,
              "ticks": ""
             }
            },
            "type": "scatterpolar"
           }
          ],
          "scatterpolargl": [
           {
            "marker": {
             "colorbar": {
              "outlinewidth": 0,
              "ticks": ""
             }
            },
            "type": "scatterpolargl"
           }
          ],
          "scatterternary": [
           {
            "marker": {
             "colorbar": {
              "outlinewidth": 0,
              "ticks": ""
             }
            },
            "type": "scatterternary"
           }
          ],
          "surface": [
           {
            "colorbar": {
             "outlinewidth": 0,
             "ticks": ""
            },
            "colorscale": [
             [
              0,
              "#0d0887"
             ],
             [
              0.1111111111111111,
              "#46039f"
             ],
             [
              0.2222222222222222,
              "#7201a8"
             ],
             [
              0.3333333333333333,
              "#9c179e"
             ],
             [
              0.4444444444444444,
              "#bd3786"
             ],
             [
              0.5555555555555556,
              "#d8576b"
             ],
             [
              0.6666666666666666,
              "#ed7953"
             ],
             [
              0.7777777777777778,
              "#fb9f3a"
             ],
             [
              0.8888888888888888,
              "#fdca26"
             ],
             [
              1,
              "#f0f921"
             ]
            ],
            "type": "surface"
           }
          ],
          "table": [
           {
            "cells": {
             "fill": {
              "color": "#EBF0F8"
             },
             "line": {
              "color": "white"
             }
            },
            "header": {
             "fill": {
              "color": "#C8D4E3"
             },
             "line": {
              "color": "white"
             }
            },
            "type": "table"
           }
          ]
         },
         "layout": {
          "annotationdefaults": {
           "arrowcolor": "#2a3f5f",
           "arrowhead": 0,
           "arrowwidth": 1
          },
          "autotypenumbers": "strict",
          "coloraxis": {
           "colorbar": {
            "outlinewidth": 0,
            "ticks": ""
           }
          },
          "colorscale": {
           "diverging": [
            [
             0,
             "#8e0152"
            ],
            [
             0.1,
             "#c51b7d"
            ],
            [
             0.2,
             "#de77ae"
            ],
            [
             0.3,
             "#f1b6da"
            ],
            [
             0.4,
             "#fde0ef"
            ],
            [
             0.5,
             "#f7f7f7"
            ],
            [
             0.6,
             "#e6f5d0"
            ],
            [
             0.7,
             "#b8e186"
            ],
            [
             0.8,
             "#7fbc41"
            ],
            [
             0.9,
             "#4d9221"
            ],
            [
             1,
             "#276419"
            ]
           ],
           "sequential": [
            [
             0,
             "#0d0887"
            ],
            [
             0.1111111111111111,
             "#46039f"
            ],
            [
             0.2222222222222222,
             "#7201a8"
            ],
            [
             0.3333333333333333,
             "#9c179e"
            ],
            [
             0.4444444444444444,
             "#bd3786"
            ],
            [
             0.5555555555555556,
             "#d8576b"
            ],
            [
             0.6666666666666666,
             "#ed7953"
            ],
            [
             0.7777777777777778,
             "#fb9f3a"
            ],
            [
             0.8888888888888888,
             "#fdca26"
            ],
            [
             1,
             "#f0f921"
            ]
           ],
           "sequentialminus": [
            [
             0,
             "#0d0887"
            ],
            [
             0.1111111111111111,
             "#46039f"
            ],
            [
             0.2222222222222222,
             "#7201a8"
            ],
            [
             0.3333333333333333,
             "#9c179e"
            ],
            [
             0.4444444444444444,
             "#bd3786"
            ],
            [
             0.5555555555555556,
             "#d8576b"
            ],
            [
             0.6666666666666666,
             "#ed7953"
            ],
            [
             0.7777777777777778,
             "#fb9f3a"
            ],
            [
             0.8888888888888888,
             "#fdca26"
            ],
            [
             1,
             "#f0f921"
            ]
           ]
          },
          "colorway": [
           "#636efa",
           "#EF553B",
           "#00cc96",
           "#ab63fa",
           "#FFA15A",
           "#19d3f3",
           "#FF6692",
           "#B6E880",
           "#FF97FF",
           "#FECB52"
          ],
          "font": {
           "color": "#2a3f5f"
          },
          "geo": {
           "bgcolor": "white",
           "lakecolor": "white",
           "landcolor": "#E5ECF6",
           "showlakes": true,
           "showland": true,
           "subunitcolor": "white"
          },
          "hoverlabel": {
           "align": "left"
          },
          "hovermode": "closest",
          "mapbox": {
           "style": "light"
          },
          "paper_bgcolor": "white",
          "plot_bgcolor": "#E5ECF6",
          "polar": {
           "angularaxis": {
            "gridcolor": "white",
            "linecolor": "white",
            "ticks": ""
           },
           "bgcolor": "#E5ECF6",
           "radialaxis": {
            "gridcolor": "white",
            "linecolor": "white",
            "ticks": ""
           }
          },
          "scene": {
           "xaxis": {
            "backgroundcolor": "#E5ECF6",
            "gridcolor": "white",
            "gridwidth": 2,
            "linecolor": "white",
            "showbackground": true,
            "ticks": "",
            "zerolinecolor": "white"
           },
           "yaxis": {
            "backgroundcolor": "#E5ECF6",
            "gridcolor": "white",
            "gridwidth": 2,
            "linecolor": "white",
            "showbackground": true,
            "ticks": "",
            "zerolinecolor": "white"
           },
           "zaxis": {
            "backgroundcolor": "#E5ECF6",
            "gridcolor": "white",
            "gridwidth": 2,
            "linecolor": "white",
            "showbackground": true,
            "ticks": "",
            "zerolinecolor": "white"
           }
          },
          "shapedefaults": {
           "line": {
            "color": "#2a3f5f"
           }
          },
          "ternary": {
           "aaxis": {
            "gridcolor": "white",
            "linecolor": "white",
            "ticks": ""
           },
           "baxis": {
            "gridcolor": "white",
            "linecolor": "white",
            "ticks": ""
           },
           "bgcolor": "#E5ECF6",
           "caxis": {
            "gridcolor": "white",
            "linecolor": "white",
            "ticks": ""
           }
          },
          "title": {
           "x": 0.05
          },
          "xaxis": {
           "automargin": true,
           "gridcolor": "white",
           "linecolor": "white",
           "ticks": "",
           "title": {
            "standoff": 15
           },
           "zerolinecolor": "white",
           "zerolinewidth": 2
          },
          "yaxis": {
           "automargin": true,
           "gridcolor": "white",
           "linecolor": "white",
           "ticks": "",
           "title": {
            "standoff": 15
           },
           "zerolinecolor": "white",
           "zerolinewidth": 2
          }
         }
        },
        "title": {
         "text": "Case Facility Rate by County"
        },
        "xaxis": {
         "anchor": "y",
         "categoryorder": "total ascending",
         "domain": [
          0,
          1
         ],
         "title": {
          "text": "County"
         }
        },
        "yaxis": {
         "anchor": "x",
         "domain": [
          0,
          1
         ],
         "title": {
          "text": "Case Facility Rate (CFR) %"
         }
        }
       }
      }
     },
     "metadata": {},
     "output_type": "display_data"
    }
   ],
   "source": [
    "CFR = (totals_per_region['Totalt_antal_avlidna'] / totals_per_region['Totalt_antal_fall'])*100\n",
    "\n",
    "data = {\n",
    "    'County': totals_per_region['Region'],\n",
    "    'Case Facility Rate (CFR) %': CFR\n",
    "}\n",
    "\n",
    "fig = px.bar(\n",
    "    data, \n",
    "    x='County', \n",
    "    y='Case Facility Rate (CFR) %', \n",
    "    title='Case Facility Rate by County',\n",
    "    color=CFR\n",
    ").update_xaxes(categoryorder='total ascending').show()"
   ]
  },
  {
   "cell_type": "markdown",
   "metadata": {},
   "source": [
    "If we instead look at the number of deceased and divide this with number of citizens, we can at least tell what county got strike the hardes during the pandemic considering deaths.\n",
    "\n",
    "Below I'm using our data from 2.2 to aggregate the sum of the population in each county, and the data from above to aggregate the sum och total number of deceased by county. I calculate the death rate by dividing total deceased (county) by population (county)."
   ]
  },
  {
   "cell_type": "code",
   "execution_count": 261,
   "metadata": {},
   "outputs": [
    {
     "data": {
      "application/vnd.plotly.v1+json": {
       "config": {
        "plotlyServerURL": "https://plot.ly"
       },
       "data": [
        {
         "alignmentgroup": "True",
         "hovertemplate": "County=%{x}<br>Death Facility Rate %=%{y}<br>color=%{marker.color}<extra></extra>",
         "legendgroup": "",
         "marker": {
          "color": [
           0.13206341915063124,
           0.21580878706734105,
           0.15206587048438544,
           0.29895010625812796,
           0.17519946696069513,
           0.17071353056378794,
           0.23821902916292478,
           0.17761333806968901,
           0.233614240212418,
           0.20844781311450097,
           0.21291357453662288,
           0.26857992066723924,
           0.25306197342467013,
           0.21020269129318325,
           0.16551624153289787,
           0.16402063404617617,
           0.3163538123433979,
           0.22008820014013109,
           0.2199432306909653,
           0.19696560417792183,
           0.2177993456230897
          ],
          "coloraxis": "coloraxis",
          "pattern": {
           "shape": ""
          }
         },
         "name": "",
         "offsetgroup": "",
         "orientation": "v",
         "showlegend": false,
         "textposition": "auto",
         "type": "bar",
         "x": [
          "Blekinge",
          "Dalarna",
          "Gotland",
          "Gävleborg",
          "Halland",
          "Jämtland Härjedalen",
          "Jönköping",
          "Kalmar",
          "Kronoberg",
          "Norrbotten",
          "Skåne",
          "Stockholm",
          "Sörmland",
          "Uppsala",
          "Värmland",
          "Västerbotten",
          "Västernorrland",
          "Västmanland",
          "Västra Götaland",
          "Örebro",
          "Östergötland"
         ],
         "xaxis": "x",
         "y": [
          0.13206341915063124,
          0.21580878706734105,
          0.15206587048438544,
          0.29895010625812796,
          0.17519946696069513,
          0.17071353056378794,
          0.23821902916292478,
          0.17761333806968901,
          0.233614240212418,
          0.20844781311450097,
          0.21291357453662288,
          0.26857992066723924,
          0.25306197342467013,
          0.21020269129318325,
          0.16551624153289787,
          0.16402063404617617,
          0.3163538123433979,
          0.22008820014013109,
          0.2199432306909653,
          0.19696560417792183,
          0.2177993456230897
         ],
         "yaxis": "y"
        }
       ],
       "layout": {
        "barmode": "relative",
        "coloraxis": {
         "colorbar": {
          "title": {
           "text": "color"
          }
         },
         "colorscale": [
          [
           0,
           "#0d0887"
          ],
          [
           0.1111111111111111,
           "#46039f"
          ],
          [
           0.2222222222222222,
           "#7201a8"
          ],
          [
           0.3333333333333333,
           "#9c179e"
          ],
          [
           0.4444444444444444,
           "#bd3786"
          ],
          [
           0.5555555555555556,
           "#d8576b"
          ],
          [
           0.6666666666666666,
           "#ed7953"
          ],
          [
           0.7777777777777778,
           "#fb9f3a"
          ],
          [
           0.8888888888888888,
           "#fdca26"
          ],
          [
           1,
           "#f0f921"
          ]
         ]
        },
        "legend": {
         "tracegroupgap": 0
        },
        "template": {
         "data": {
          "bar": [
           {
            "error_x": {
             "color": "#2a3f5f"
            },
            "error_y": {
             "color": "#2a3f5f"
            },
            "marker": {
             "line": {
              "color": "#E5ECF6",
              "width": 0.5
             },
             "pattern": {
              "fillmode": "overlay",
              "size": 10,
              "solidity": 0.2
             }
            },
            "type": "bar"
           }
          ],
          "barpolar": [
           {
            "marker": {
             "line": {
              "color": "#E5ECF6",
              "width": 0.5
             },
             "pattern": {
              "fillmode": "overlay",
              "size": 10,
              "solidity": 0.2
             }
            },
            "type": "barpolar"
           }
          ],
          "carpet": [
           {
            "aaxis": {
             "endlinecolor": "#2a3f5f",
             "gridcolor": "white",
             "linecolor": "white",
             "minorgridcolor": "white",
             "startlinecolor": "#2a3f5f"
            },
            "baxis": {
             "endlinecolor": "#2a3f5f",
             "gridcolor": "white",
             "linecolor": "white",
             "minorgridcolor": "white",
             "startlinecolor": "#2a3f5f"
            },
            "type": "carpet"
           }
          ],
          "choropleth": [
           {
            "colorbar": {
             "outlinewidth": 0,
             "ticks": ""
            },
            "type": "choropleth"
           }
          ],
          "contour": [
           {
            "colorbar": {
             "outlinewidth": 0,
             "ticks": ""
            },
            "colorscale": [
             [
              0,
              "#0d0887"
             ],
             [
              0.1111111111111111,
              "#46039f"
             ],
             [
              0.2222222222222222,
              "#7201a8"
             ],
             [
              0.3333333333333333,
              "#9c179e"
             ],
             [
              0.4444444444444444,
              "#bd3786"
             ],
             [
              0.5555555555555556,
              "#d8576b"
             ],
             [
              0.6666666666666666,
              "#ed7953"
             ],
             [
              0.7777777777777778,
              "#fb9f3a"
             ],
             [
              0.8888888888888888,
              "#fdca26"
             ],
             [
              1,
              "#f0f921"
             ]
            ],
            "type": "contour"
           }
          ],
          "contourcarpet": [
           {
            "colorbar": {
             "outlinewidth": 0,
             "ticks": ""
            },
            "type": "contourcarpet"
           }
          ],
          "heatmap": [
           {
            "colorbar": {
             "outlinewidth": 0,
             "ticks": ""
            },
            "colorscale": [
             [
              0,
              "#0d0887"
             ],
             [
              0.1111111111111111,
              "#46039f"
             ],
             [
              0.2222222222222222,
              "#7201a8"
             ],
             [
              0.3333333333333333,
              "#9c179e"
             ],
             [
              0.4444444444444444,
              "#bd3786"
             ],
             [
              0.5555555555555556,
              "#d8576b"
             ],
             [
              0.6666666666666666,
              "#ed7953"
             ],
             [
              0.7777777777777778,
              "#fb9f3a"
             ],
             [
              0.8888888888888888,
              "#fdca26"
             ],
             [
              1,
              "#f0f921"
             ]
            ],
            "type": "heatmap"
           }
          ],
          "heatmapgl": [
           {
            "colorbar": {
             "outlinewidth": 0,
             "ticks": ""
            },
            "colorscale": [
             [
              0,
              "#0d0887"
             ],
             [
              0.1111111111111111,
              "#46039f"
             ],
             [
              0.2222222222222222,
              "#7201a8"
             ],
             [
              0.3333333333333333,
              "#9c179e"
             ],
             [
              0.4444444444444444,
              "#bd3786"
             ],
             [
              0.5555555555555556,
              "#d8576b"
             ],
             [
              0.6666666666666666,
              "#ed7953"
             ],
             [
              0.7777777777777778,
              "#fb9f3a"
             ],
             [
              0.8888888888888888,
              "#fdca26"
             ],
             [
              1,
              "#f0f921"
             ]
            ],
            "type": "heatmapgl"
           }
          ],
          "histogram": [
           {
            "marker": {
             "pattern": {
              "fillmode": "overlay",
              "size": 10,
              "solidity": 0.2
             }
            },
            "type": "histogram"
           }
          ],
          "histogram2d": [
           {
            "colorbar": {
             "outlinewidth": 0,
             "ticks": ""
            },
            "colorscale": [
             [
              0,
              "#0d0887"
             ],
             [
              0.1111111111111111,
              "#46039f"
             ],
             [
              0.2222222222222222,
              "#7201a8"
             ],
             [
              0.3333333333333333,
              "#9c179e"
             ],
             [
              0.4444444444444444,
              "#bd3786"
             ],
             [
              0.5555555555555556,
              "#d8576b"
             ],
             [
              0.6666666666666666,
              "#ed7953"
             ],
             [
              0.7777777777777778,
              "#fb9f3a"
             ],
             [
              0.8888888888888888,
              "#fdca26"
             ],
             [
              1,
              "#f0f921"
             ]
            ],
            "type": "histogram2d"
           }
          ],
          "histogram2dcontour": [
           {
            "colorbar": {
             "outlinewidth": 0,
             "ticks": ""
            },
            "colorscale": [
             [
              0,
              "#0d0887"
             ],
             [
              0.1111111111111111,
              "#46039f"
             ],
             [
              0.2222222222222222,
              "#7201a8"
             ],
             [
              0.3333333333333333,
              "#9c179e"
             ],
             [
              0.4444444444444444,
              "#bd3786"
             ],
             [
              0.5555555555555556,
              "#d8576b"
             ],
             [
              0.6666666666666666,
              "#ed7953"
             ],
             [
              0.7777777777777778,
              "#fb9f3a"
             ],
             [
              0.8888888888888888,
              "#fdca26"
             ],
             [
              1,
              "#f0f921"
             ]
            ],
            "type": "histogram2dcontour"
           }
          ],
          "mesh3d": [
           {
            "colorbar": {
             "outlinewidth": 0,
             "ticks": ""
            },
            "type": "mesh3d"
           }
          ],
          "parcoords": [
           {
            "line": {
             "colorbar": {
              "outlinewidth": 0,
              "ticks": ""
             }
            },
            "type": "parcoords"
           }
          ],
          "pie": [
           {
            "automargin": true,
            "type": "pie"
           }
          ],
          "scatter": [
           {
            "fillpattern": {
             "fillmode": "overlay",
             "size": 10,
             "solidity": 0.2
            },
            "type": "scatter"
           }
          ],
          "scatter3d": [
           {
            "line": {
             "colorbar": {
              "outlinewidth": 0,
              "ticks": ""
             }
            },
            "marker": {
             "colorbar": {
              "outlinewidth": 0,
              "ticks": ""
             }
            },
            "type": "scatter3d"
           }
          ],
          "scattercarpet": [
           {
            "marker": {
             "colorbar": {
              "outlinewidth": 0,
              "ticks": ""
             }
            },
            "type": "scattercarpet"
           }
          ],
          "scattergeo": [
           {
            "marker": {
             "colorbar": {
              "outlinewidth": 0,
              "ticks": ""
             }
            },
            "type": "scattergeo"
           }
          ],
          "scattergl": [
           {
            "marker": {
             "colorbar": {
              "outlinewidth": 0,
              "ticks": ""
             }
            },
            "type": "scattergl"
           }
          ],
          "scattermapbox": [
           {
            "marker": {
             "colorbar": {
              "outlinewidth": 0,
              "ticks": ""
             }
            },
            "type": "scattermapbox"
           }
          ],
          "scatterpolar": [
           {
            "marker": {
             "colorbar": {
              "outlinewidth": 0,
              "ticks": ""
             }
            },
            "type": "scatterpolar"
           }
          ],
          "scatterpolargl": [
           {
            "marker": {
             "colorbar": {
              "outlinewidth": 0,
              "ticks": ""
             }
            },
            "type": "scatterpolargl"
           }
          ],
          "scatterternary": [
           {
            "marker": {
             "colorbar": {
              "outlinewidth": 0,
              "ticks": ""
             }
            },
            "type": "scatterternary"
           }
          ],
          "surface": [
           {
            "colorbar": {
             "outlinewidth": 0,
             "ticks": ""
            },
            "colorscale": [
             [
              0,
              "#0d0887"
             ],
             [
              0.1111111111111111,
              "#46039f"
             ],
             [
              0.2222222222222222,
              "#7201a8"
             ],
             [
              0.3333333333333333,
              "#9c179e"
             ],
             [
              0.4444444444444444,
              "#bd3786"
             ],
             [
              0.5555555555555556,
              "#d8576b"
             ],
             [
              0.6666666666666666,
              "#ed7953"
             ],
             [
              0.7777777777777778,
              "#fb9f3a"
             ],
             [
              0.8888888888888888,
              "#fdca26"
             ],
             [
              1,
              "#f0f921"
             ]
            ],
            "type": "surface"
           }
          ],
          "table": [
           {
            "cells": {
             "fill": {
              "color": "#EBF0F8"
             },
             "line": {
              "color": "white"
             }
            },
            "header": {
             "fill": {
              "color": "#C8D4E3"
             },
             "line": {
              "color": "white"
             }
            },
            "type": "table"
           }
          ]
         },
         "layout": {
          "annotationdefaults": {
           "arrowcolor": "#2a3f5f",
           "arrowhead": 0,
           "arrowwidth": 1
          },
          "autotypenumbers": "strict",
          "coloraxis": {
           "colorbar": {
            "outlinewidth": 0,
            "ticks": ""
           }
          },
          "colorscale": {
           "diverging": [
            [
             0,
             "#8e0152"
            ],
            [
             0.1,
             "#c51b7d"
            ],
            [
             0.2,
             "#de77ae"
            ],
            [
             0.3,
             "#f1b6da"
            ],
            [
             0.4,
             "#fde0ef"
            ],
            [
             0.5,
             "#f7f7f7"
            ],
            [
             0.6,
             "#e6f5d0"
            ],
            [
             0.7,
             "#b8e186"
            ],
            [
             0.8,
             "#7fbc41"
            ],
            [
             0.9,
             "#4d9221"
            ],
            [
             1,
             "#276419"
            ]
           ],
           "sequential": [
            [
             0,
             "#0d0887"
            ],
            [
             0.1111111111111111,
             "#46039f"
            ],
            [
             0.2222222222222222,
             "#7201a8"
            ],
            [
             0.3333333333333333,
             "#9c179e"
            ],
            [
             0.4444444444444444,
             "#bd3786"
            ],
            [
             0.5555555555555556,
             "#d8576b"
            ],
            [
             0.6666666666666666,
             "#ed7953"
            ],
            [
             0.7777777777777778,
             "#fb9f3a"
            ],
            [
             0.8888888888888888,
             "#fdca26"
            ],
            [
             1,
             "#f0f921"
            ]
           ],
           "sequentialminus": [
            [
             0,
             "#0d0887"
            ],
            [
             0.1111111111111111,
             "#46039f"
            ],
            [
             0.2222222222222222,
             "#7201a8"
            ],
            [
             0.3333333333333333,
             "#9c179e"
            ],
            [
             0.4444444444444444,
             "#bd3786"
            ],
            [
             0.5555555555555556,
             "#d8576b"
            ],
            [
             0.6666666666666666,
             "#ed7953"
            ],
            [
             0.7777777777777778,
             "#fb9f3a"
            ],
            [
             0.8888888888888888,
             "#fdca26"
            ],
            [
             1,
             "#f0f921"
            ]
           ]
          },
          "colorway": [
           "#636efa",
           "#EF553B",
           "#00cc96",
           "#ab63fa",
           "#FFA15A",
           "#19d3f3",
           "#FF6692",
           "#B6E880",
           "#FF97FF",
           "#FECB52"
          ],
          "font": {
           "color": "#2a3f5f"
          },
          "geo": {
           "bgcolor": "white",
           "lakecolor": "white",
           "landcolor": "#E5ECF6",
           "showlakes": true,
           "showland": true,
           "subunitcolor": "white"
          },
          "hoverlabel": {
           "align": "left"
          },
          "hovermode": "closest",
          "mapbox": {
           "style": "light"
          },
          "paper_bgcolor": "white",
          "plot_bgcolor": "#E5ECF6",
          "polar": {
           "angularaxis": {
            "gridcolor": "white",
            "linecolor": "white",
            "ticks": ""
           },
           "bgcolor": "#E5ECF6",
           "radialaxis": {
            "gridcolor": "white",
            "linecolor": "white",
            "ticks": ""
           }
          },
          "scene": {
           "xaxis": {
            "backgroundcolor": "#E5ECF6",
            "gridcolor": "white",
            "gridwidth": 2,
            "linecolor": "white",
            "showbackground": true,
            "ticks": "",
            "zerolinecolor": "white"
           },
           "yaxis": {
            "backgroundcolor": "#E5ECF6",
            "gridcolor": "white",
            "gridwidth": 2,
            "linecolor": "white",
            "showbackground": true,
            "ticks": "",
            "zerolinecolor": "white"
           },
           "zaxis": {
            "backgroundcolor": "#E5ECF6",
            "gridcolor": "white",
            "gridwidth": 2,
            "linecolor": "white",
            "showbackground": true,
            "ticks": "",
            "zerolinecolor": "white"
           }
          },
          "shapedefaults": {
           "line": {
            "color": "#2a3f5f"
           }
          },
          "ternary": {
           "aaxis": {
            "gridcolor": "white",
            "linecolor": "white",
            "ticks": ""
           },
           "baxis": {
            "gridcolor": "white",
            "linecolor": "white",
            "ticks": ""
           },
           "bgcolor": "#E5ECF6",
           "caxis": {
            "gridcolor": "white",
            "linecolor": "white",
            "ticks": ""
           }
          },
          "title": {
           "x": 0.05
          },
          "xaxis": {
           "automargin": true,
           "gridcolor": "white",
           "linecolor": "white",
           "ticks": "",
           "title": {
            "standoff": 15
           },
           "zerolinecolor": "white",
           "zerolinewidth": 2
          },
          "yaxis": {
           "automargin": true,
           "gridcolor": "white",
           "linecolor": "white",
           "ticks": "",
           "title": {
            "standoff": 15
           },
           "zerolinecolor": "white",
           "zerolinewidth": 2
          }
         }
        },
        "title": {
         "text": "Death Facility Rate by County"
        },
        "xaxis": {
         "anchor": "y",
         "categoryorder": "total ascending",
         "domain": [
          0,
          1
         ],
         "title": {
          "text": "County"
         }
        },
        "yaxis": {
         "anchor": "x",
         "domain": [
          0,
          1
         ],
         "title": {
          "text": "Death Facility Rate %"
         }
        }
       }
      }
     },
     "metadata": {},
     "output_type": "display_data"
    }
   ],
   "source": [
    "import pandas as pd\n",
    "\n",
    "# Data from 2.2 containing county, municipality, population a.s.o., and the data used for above graph.\n",
    "population_per_county = vaccinated_municipallity_and_age.groupby('Län_namn')['Befolkning'].sum()\n",
    "deceased_total_county = totals_per_region.groupby('Region')['Totalt_antal_avlidna'].sum()\n",
    "death_rate_percent = (deceased_total_county.values / population_county.values) * 100\n",
    "\n",
    "data={\n",
    "    'County': totals_per_region['Region'],\n",
    "    'Death Facility Rate %': death_rate_percent\n",
    "    \n",
    "}\n",
    "px.bar(\n",
    "    data,\n",
    "    x='County', \n",
    "    y='Death Facility Rate %',\n",
    "    title='Death Facility Rate by County',\n",
    "    color=death_rate_percent\n",
    ").update_xaxes(categoryorder='total ascending')"
   ]
  },
  {
   "cell_type": "markdown",
   "metadata": {},
   "source": [
    "The above paint almost the same picture as previous graph, Västernorrland not only had the highest number of deaths if we compare it to number of cases but also the highest number of deaths compared to population. "
   ]
  }
 ],
 "metadata": {
  "kernelspec": {
   "display_name": "Data-Processing-Julia-Sjoholm-gqItj4S_",
   "language": "python",
   "name": "python3"
  },
  "language_info": {
   "codemirror_mode": {
    "name": "ipython",
    "version": 3
   },
   "file_extension": ".py",
   "mimetype": "text/x-python",
   "name": "python",
   "nbconvert_exporter": "python",
   "pygments_lexer": "ipython3",
   "version": "3.11.5"
  },
  "orig_nbformat": 4
 },
 "nbformat": 4,
 "nbformat_minor": 2
}
