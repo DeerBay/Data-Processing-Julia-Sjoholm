{
 "cells": [
  {
   "cell_type": "markdown",
   "metadata": {},
   "source": [
    "# Task 4 - Covide-19 Globally\n",
    "\n",
    "Go to the ECDC and WHO websites and research Covid-19 globally. Document what you investigate and what you come up with. Note that you have to navigate and read your way through their websites to find relevant data."
   ]
  },
  {
   "cell_type": "markdown",
   "metadata": {},
   "source": [
    "This presentation examines Covide-19 globally from the start in 2020 to now (november 2023).\n",
    "\n",
    "1. **Temporal Analysis:**\n",
    "   - What is the overall trend of new cases and new deaths over time?\n",
    "   - Are there any noticeable patterns or spikes in new cases or deaths during specific periods?\n",
    "   - How has the number of cumulative cases and cumulative deaths changed over time in different countries or regions?\n",
    "\n",
    "2. **Geographical Analysis:**\n",
    "   - Which countries or regions have reported the highest and lowest number of new cases and new deaths?\n",
    "   - How does the distribution of new cases and new deaths vary across different WHO regions?\n",
    "   - Are there specific countries or regions that experienced significant changes in cumulative cases or cumulative deaths during certain periods?\n",
    "\n",
    "3. **Rate of Spread and Mortality:**\n",
    "   - What is the average daily increase in new cases and new deaths globally or within specific regions?\n",
    "   - How does the mortality rate (number of deaths divided by the number of cases) vary across different countries or regions?\n",
    "\n",
    "4. **Regional Comparison:**\n",
    "   - How do different WHO regions compare in terms of new cases, new deaths, and cumulative cases?\n",
    "   - Is there a significant difference in the mortality rate between countries in different WHO regions?\n",
    "\n",
    "5. **Outliers and Anomalies:**\n",
    "   - Are there any outliers in the data, indicating unusually high or low values for new cases, new deaths, or cumulative numbers?\n",
    "   - Can you identify any specific events or factors that might have influenced a sudden spike or drop in new cases or deaths?\n",
    "\n",
    "6. **Correlations and Relationships:**\n",
    "   - Is there a correlation between the number of new cases and new deaths reported daily?\n",
    "   - How does the number of new cases or deaths correlate with population density or healthcare infrastructure in different countries?\n",
    "\n",
    "7. **Comparative Analysis:**\n",
    "   - How does the COVID-19 situation in different countries compare to their healthcare system's capacity or governmental response measures?\n",
    "   - Can you identify any correlation between the effectiveness of public health measures and the rate of new cases or deaths?"
   ]
  },
  {
   "cell_type": "code",
   "execution_count": 4,
   "metadata": {},
   "outputs": [],
   "source": [
    "import pandas as pd\n",
    "import plotly.express as px"
   ]
  },
  {
   "cell_type": "markdown",
   "metadata": {},
   "source": [
    "#### Data Download\n",
    "\n",
    "The url origins from [WHO:s](https://covid19.who.int/data) webiste and contains daily cases and deaths by date reported to WHO. You'll find a copy of the data in the Data folder, it's this data the examnation is perfomed on (the data on the website is updated day by day)"
   ]
  },
  {
   "cell_type": "code",
   "execution_count": 5,
   "metadata": {},
   "outputs": [],
   "source": [
    "url = \"https://covid19.who.int/WHO-COVID-19-global-data.csv\"\n",
    "# Read the data into a Pandas DataFrame\n",
    "covid_global_data_nov_2023 = pd.read_csv(url)"
   ]
  },
  {
   "cell_type": "markdown",
   "metadata": {},
   "source": [
    "The code below gives us a inital understanding of what kind of data we can expect using .head(). The data set contains data from the third of january 2020 and the number of new cases and deaths as well as total number of cases and deceased by day.  "
   ]
  },
  {
   "cell_type": "code",
   "execution_count": 6,
   "metadata": {},
   "outputs": [
    {
     "data": {
      "text/html": [
       "<div>\n",
       "<style scoped>\n",
       "    .dataframe tbody tr th:only-of-type {\n",
       "        vertical-align: middle;\n",
       "    }\n",
       "\n",
       "    .dataframe tbody tr th {\n",
       "        vertical-align: top;\n",
       "    }\n",
       "\n",
       "    .dataframe thead th {\n",
       "        text-align: right;\n",
       "    }\n",
       "</style>\n",
       "<table border=\"1\" class=\"dataframe\">\n",
       "  <thead>\n",
       "    <tr style=\"text-align: right;\">\n",
       "      <th></th>\n",
       "      <th>Date_reported</th>\n",
       "      <th>Country_code</th>\n",
       "      <th>Country</th>\n",
       "      <th>WHO_region</th>\n",
       "      <th>New_cases</th>\n",
       "      <th>Cumulative_cases</th>\n",
       "      <th>New_deaths</th>\n",
       "      <th>Cumulative_deaths</th>\n",
       "    </tr>\n",
       "  </thead>\n",
       "  <tbody>\n",
       "    <tr>\n",
       "      <th>0</th>\n",
       "      <td>2020-01-03</td>\n",
       "      <td>AF</td>\n",
       "      <td>Afghanistan</td>\n",
       "      <td>EMRO</td>\n",
       "      <td>0</td>\n",
       "      <td>0</td>\n",
       "      <td>0</td>\n",
       "      <td>0</td>\n",
       "    </tr>\n",
       "    <tr>\n",
       "      <th>1</th>\n",
       "      <td>2020-01-04</td>\n",
       "      <td>AF</td>\n",
       "      <td>Afghanistan</td>\n",
       "      <td>EMRO</td>\n",
       "      <td>0</td>\n",
       "      <td>0</td>\n",
       "      <td>0</td>\n",
       "      <td>0</td>\n",
       "    </tr>\n",
       "    <tr>\n",
       "      <th>2</th>\n",
       "      <td>2020-01-05</td>\n",
       "      <td>AF</td>\n",
       "      <td>Afghanistan</td>\n",
       "      <td>EMRO</td>\n",
       "      <td>0</td>\n",
       "      <td>0</td>\n",
       "      <td>0</td>\n",
       "      <td>0</td>\n",
       "    </tr>\n",
       "    <tr>\n",
       "      <th>3</th>\n",
       "      <td>2020-01-06</td>\n",
       "      <td>AF</td>\n",
       "      <td>Afghanistan</td>\n",
       "      <td>EMRO</td>\n",
       "      <td>0</td>\n",
       "      <td>0</td>\n",
       "      <td>0</td>\n",
       "      <td>0</td>\n",
       "    </tr>\n",
       "    <tr>\n",
       "      <th>4</th>\n",
       "      <td>2020-01-07</td>\n",
       "      <td>AF</td>\n",
       "      <td>Afghanistan</td>\n",
       "      <td>EMRO</td>\n",
       "      <td>0</td>\n",
       "      <td>0</td>\n",
       "      <td>0</td>\n",
       "      <td>0</td>\n",
       "    </tr>\n",
       "  </tbody>\n",
       "</table>\n",
       "</div>"
      ],
      "text/plain": [
       "  Date_reported Country_code      Country WHO_region  New_cases  \\\n",
       "0    2020-01-03           AF  Afghanistan       EMRO          0   \n",
       "1    2020-01-04           AF  Afghanistan       EMRO          0   \n",
       "2    2020-01-05           AF  Afghanistan       EMRO          0   \n",
       "3    2020-01-06           AF  Afghanistan       EMRO          0   \n",
       "4    2020-01-07           AF  Afghanistan       EMRO          0   \n",
       "\n",
       "   Cumulative_cases  New_deaths  Cumulative_deaths  \n",
       "0                 0           0                  0  \n",
       "1                 0           0                  0  \n",
       "2                 0           0                  0  \n",
       "3                 0           0                  0  \n",
       "4                 0           0                  0  "
      ]
     },
     "execution_count": 6,
     "metadata": {},
     "output_type": "execute_result"
    }
   ],
   "source": [
    "covid_global_data.head()"
   ]
  },
  {
   "cell_type": "markdown",
   "metadata": {},
   "source": [
    "The code provides us with the perception of the number of rows in our dataset, and the columns is a representaion of all columns in our dataset."
   ]
  },
  {
   "cell_type": "code",
   "execution_count": 18,
   "metadata": {},
   "outputs": [
    {
     "name": "stdout",
     "output_type": "stream",
     "text": [
      "RangeIndex(start=0, stop=331800, step=1)\n",
      "Index(['Date_reported', 'Country_code', 'Country', 'WHO_region', 'New_cases',\n",
      "       'Cumulative_cases', 'New_deaths', 'Cumulative_deaths'],\n",
      "      dtype='object')\n"
     ]
    }
   ],
   "source": [
    "print(covid_global_data.index)\n",
    "print(covid_global_data.columns)"
   ]
  },
  {
   "cell_type": "code",
   "execution_count": 12,
   "metadata": {},
   "outputs": [
    {
     "data": {
      "text/plain": [
       "Index(['Name', 'WHO Region', 'Cases - cumulative total',\n",
       "       'Cases - cumulative total per 100000 population',\n",
       "       'Cases - newly reported in last 7 days',\n",
       "       'Cases - newly reported in last 7 days per 100000 population',\n",
       "       'Cases - newly reported in last 24 hours', 'Deaths - cumulative total',\n",
       "       'Deaths - cumulative total per 100000 population',\n",
       "       'Deaths - newly reported in last 7 days',\n",
       "       'Deaths - newly reported in last 7 days per 100000 population',\n",
       "       'Deaths - newly reported in last 24 hours'],\n",
       "      dtype='object')"
      ]
     },
     "execution_count": 12,
     "metadata": {},
     "output_type": "execute_result"
    }
   ],
   "source": [
    "url=\"https://covid19.who.int/WHO-COVID-19-global-table-data.csv\"\n",
    "other = pd.read_csv(url)\n",
    "other.columns"
   ]
  }
 ],
 "metadata": {
  "kernelspec": {
   "display_name": "Data-Processing-Julia-Sjoholm-gqItj4S_",
   "language": "python",
   "name": "python3"
  },
  "language_info": {
   "codemirror_mode": {
    "name": "ipython",
    "version": 3
   },
   "file_extension": ".py",
   "mimetype": "text/x-python",
   "name": "python",
   "nbconvert_exporter": "python",
   "pygments_lexer": "ipython3",
   "version": "3.11.5"
  },
  "orig_nbformat": 4
 },
 "nbformat": 4,
 "nbformat_minor": 2
}
